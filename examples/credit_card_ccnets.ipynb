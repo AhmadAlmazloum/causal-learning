{
 "cells": [
  {
   "cell_type": "markdown",
   "metadata": {},
   "source": [
    "Author:\n",
    "        \n",
    "        PARK, JunHo, junho@ccnets.org\n",
    "\n",
    "        \n",
    "        KIM, JeongYoong, jeongyoong@ccnets.org\n",
    "        \n",
    "    COPYRIGHT (c) 2024. CCNets. All Rights reserved."
   ]
  },
  {
   "cell_type": "code",
   "execution_count": null,
   "metadata": {},
   "outputs": [],
   "source": [
    "import sys\n",
    "path_append = \"../\"\n",
    "sys.path.append(path_append)  # Go up one directory from where you are.\n",
    "\n",
    "import torch\n",
    "import pandas as pd\n",
    "from sklearn.model_selection import train_test_split \n",
    "from sklearn.preprocessing import StandardScaler, RobustScaler, MinMaxScaler"
   ]
  },
  {
   "cell_type": "code",
   "execution_count": null,
   "metadata": {},
   "outputs": [],
   "source": [
    "dataroot = path_append + \"../data/credit_card_fraud_detection/creditcard.csv\"\n",
    "df = pd.read_csv(dataroot)\n",
    "df"
   ]
  },
  {
   "cell_type": "code",
   "execution_count": null,
   "metadata": {},
   "outputs": [],
   "source": [
    "print('No Frauds', round(df['Class'].value_counts()[0] / len(df) *100,2), '%of the dataset')\n",
    "print('Frauds', round(df['Class'].value_counts()[1] / len(df) *100,2), '%of the dataset')"
   ]
  },
  {
   "cell_type": "code",
   "execution_count": null,
   "metadata": {},
   "outputs": [],
   "source": [
    "# https://fraud-detection-handbook.github.io/fraud-detection-handbook/Chapter_7_DeepLearning/FeedForwardNeuralNetworks.html\n",
    "class Dataset(torch.utils.data.Dataset):\n",
    "    def __init__(self, x, y):\n",
    "        self.x = x\n",
    "        self.y = y\n",
    "        \n",
    "    def __len__(self):\n",
    "        return len(self.x)\n",
    "\n",
    "    def __getitem__(self, index):\n",
    "        vals = torch.tensor(self.x[index], dtype = torch.float32)\n",
    "        label = torch.tensor(self.y[index], dtype = torch.float32).unsqueeze(-1)\n",
    "        return vals, label\n",
    "\n",
    "y = df[['Class']]\n",
    "X = df.drop(['Class'],axis=1)\n",
    "\n",
    "sc = RobustScaler()\n",
    "X['scaled_amount'] = sc.fit_transform(X['Amount'].values.reshape(-1,1))\n",
    "X['scaled_time'] = sc.fit_transform(X['Time'].values.reshape(-1,1))\n",
    "X.drop(['Time','Amount'], axis=1, inplace=True)\n",
    "X = X[:]"
   ]
  },
  {
   "cell_type": "code",
   "execution_count": null,
   "metadata": {},
   "outputs": [],
   "source": [
    "# number of features\n",
    "n_features = X.shape[1]\n",
    "# number of label classes\n",
    "n_classes = y.shape[1]"
   ]
  },
  {
   "cell_type": "code",
   "execution_count": null,
   "metadata": {},
   "outputs": [],
   "source": [
    "from tools.setting.ml_params import MLParameters\n",
    "from tools.setting.data_config import DataConfig\n",
    "from nn.utils.init import set_random_seed\n",
    "set_random_seed(0)\n",
    "\n",
    "from trainer_hub import TrainerHub\n"
   ]
  },
  {
   "cell_type": "code",
   "execution_count": null,
   "metadata": {},
   "outputs": [],
   "source": [
    "X_train, X_test, y_train, y_test = train_test_split(X, y, test_size = 0.5, shuffle= True)\n",
    "\n",
    "X_train = X_train.iloc[:, :].values \n",
    "X_test = X_test.iloc[:, :].values \n",
    "y_train = y_train.iloc[:, -1].values\n",
    "y_test = y_test.iloc[:, -1].values\n",
    "\n",
    "trainset = Dataset(X_train, y_train)\n",
    "testset = Dataset(X_test, y_test)"
   ]
  },
  {
   "cell_type": "code",
   "execution_count": null,
   "metadata": {},
   "outputs": [],
   "source": [
    "from tools.setting.ml_params import ModelConfig\n",
    "data_config = DataConfig(dataset_name = 'CreditCardFraudDetection', task_type='binary_classification', obs_shape=[n_features], label_size=n_classes)\n",
    "\n",
    "#  Set training configuration from the AlgorithmConfig class, returning them as a Namespace object.\n",
    "ml_params = MLParameters(core_model = 'deepfm', encoder_model = 'none')\n",
    "ml_params.core_config = ModelConfig()\n",
    "ml_params.training.num_epoch = 2\n",
    "\n",
    "# Set the device to GPU if available, else CPU\n",
    "device = torch.device(\"cuda\" if torch.cuda.is_available() else \"cpu\") \n",
    "\n",
    "trainer_hub = TrainerHub(ml_params, data_config, device, use_print=True, use_wandb=False, use_full_eval=False) "
   ]
  },
  {
   "cell_type": "code",
   "execution_count": null,
   "metadata": {},
   "outputs": [],
   "source": [
    "trainer_hub.train(trainset, testset)"
   ]
  },
  {
   "cell_type": "markdown",
   "metadata": {},
   "source": [
    "### Data Preparation and Synthetic Data Generation\n",
    "\n",
    "In this section of the notebook, we are performing a series of operations to prepare our training data and utilize a causal cooperative network (CCNet) to generate synthetic data based on the explanations derived from the original training data. Each step is described as follows:\n",
    "\n",
    "1. **Data Loading**:\n",
    "   - `training_data, training_labels = trainset[:]`\n",
    "   This line extracts all the features and labels from `trainset`, which is presumably a pre-loaded dataset formatted for training. Here, slicing `[:]` is used to retrieve all data and labels without any modifications.\n",
    "\n",
    "2. **Device Assignment**:\n",
    "   - `training_data = training_data.to(device)`\n",
    "   - `training_labels = training_labels.to(device)`\n",
    "   These lines transfer the training data and labels to a designated computing device (`device`). This device could be a CPU or a GPU and is typically specified to optimize computational efficiency. Moving data to the device ensures that all subsequent operations that require computation can leverage hardware acceleration.\n",
    "\n",
    "3. **Data Explanation**:\n",
    "   - `explanation = trainer_hub.core_ccnet.explain(training_data)`\n",
    "   Here, the `explain` method of the `core_ccnet` module within `trainer_hub` is called with the training data. This function is expected to analyze the data and provide an \"explanation\" for each instance, which could be feature importances or another form of interpretable output that explains why certain predictions might be made from the data.\n",
    "\n",
    "4. **Synthetic Data Generation**:\n",
    "   - `recreated_data, recreated_label = trainer_hub.core_ccnet.generate(explanation)`\n",
    "   This line generates synthetic data and labels by feeding the explanations obtained from the original data into the `generate` method of `core_ccnet`. The generate method uses the explanations to create new data instances that mimic or expand upon the patterns found in the original dataset. This is particularly useful for enhancing dataset diversity, balancing classes, or improving model robustness by providing additional training samples.\n",
    "\n",
    "By the end of this process, `recreated_data` and `recreated_label` contain newly generated data and labels that can be used for further training, testing, or analysis to enhance the model's performance or robustness against various types of data inputs.\n"
   ]
  },
  {
   "cell_type": "code",
   "execution_count": null,
   "metadata": {},
   "outputs": [],
   "source": [
    "# Example: Reduce batch size\n",
    "batch_size = 64  # Lower than the original batch size\n",
    "training_data, training_labels = trainset[:]\n",
    "# Use DataLoader to handle smaller batches\n",
    "train_loader = torch.utils.data.DataLoader(dataset=trainset, batch_size=batch_size, shuffle=False)\n",
    "recreated_data = None\n",
    "recreated_label = None\n",
    "for data, labels in train_loader:\n",
    "    data = data.to(device)\n",
    "    labels = labels.to(device)\n",
    "    explanation = trainer_hub.core_ccnet.explain(data)\n",
    "    batch_recreated_data, batch_recreated_label = trainer_hub.core_ccnet.generate(explanation)\n",
    "    recreated_data = torch.cat([recreated_data, batch_recreated_data]) if recreated_data is not None else batch_recreated_data\n",
    "    recreated_label = torch.cat([recreated_label, batch_recreated_label]) if recreated_label is not None else batch_recreated_label\n",
    "    # Continue processing\n"
   ]
  },
  {
   "cell_type": "code",
   "execution_count": null,
   "metadata": {},
   "outputs": [],
   "source": [
    "# Assuming recreated_data is a PyTorch tensor and y is the labels associated with the data\n",
    "recreated_data.squeeze_(dim=1)\n",
    "recreated_label.squeeze_()\n",
    "\n",
    "# Convert recreated_data to a NumPy array\n",
    "recreated_data_data_np = recreated_data.cpu().detach().numpy()\n",
    "recreated_label_data_np = recreated_label.cpu().detach().numpy()\n",
    "\n",
    "# Create the dataset using the converted data and labels\n",
    "ccnet_balanced_dataset = Dataset(recreated_data_data_np, recreated_label_data_np)\n"
   ]
  },
  {
   "cell_type": "code",
   "execution_count": null,
   "metadata": {},
   "outputs": [],
   "source": [
    "class DNN(torch.nn.Module):\n",
    "    def __init__(self, input_size, output_size, num_layers=3, hidden_size=128):\n",
    "        super(DNN, self).__init__()\n",
    "        self.input_size = input_size\n",
    "        self.output_size = output_size\n",
    "        self.hidden_size = hidden_size\n",
    "        \n",
    "        # Create a list to hold all layers\n",
    "        layers = []\n",
    "        \n",
    "        # Input layer\n",
    "        layers.append(torch.nn.Linear(input_size, hidden_size))\n",
    "        layers.append(torch.nn.ReLU())\n",
    "        \n",
    "        # Hidden layers\n",
    "        for _ in range(num_layers - 2):\n",
    "            layers.append(torch.nn.Linear(hidden_size, hidden_size))\n",
    "            layers.append(torch.nn.ReLU())\n",
    "        \n",
    "        # Output layer\n",
    "        layers.append(torch.nn.Linear(hidden_size, output_size))\n",
    "        layers.append(torch.nn.Sigmoid())\n",
    "        \n",
    "        # Register all layers\n",
    "        self.layers = torch.nn.ModuleList(layers)\n",
    "\n",
    "    def forward(self, x):\n",
    "        for layer in self.layers:\n",
    "            x = layer(x)\n",
    "        return x\n"
   ]
  },
  {
   "cell_type": "code",
   "execution_count": null,
   "metadata": {},
   "outputs": [],
   "source": [
    "def train_supervised_model(model, trainset):\n",
    "    optimizer = torch.optim.Adam(model.parameters(), lr=0.001)\n",
    "    set_random_seed(0)\n",
    "    trainloader = torch.utils.data.DataLoader(trainset, batch_size=64, shuffle=True)\n",
    "    for epoch in range(1):\n",
    "        for i, (data, label) in enumerate(trainloader):\n",
    "            data = data.to(device)\n",
    "            label = label.to(device)\n",
    "            output = model(data)\n",
    "            loss = torch.nn.functional.binary_cross_entropy(output, label)\n",
    "            loss.backward()\n",
    "            optimizer.step()\n",
    "            optimizer.zero_grad()"
   ]
  },
  {
   "cell_type": "code",
   "execution_count": null,
   "metadata": {},
   "outputs": [],
   "source": [
    "model_trained_on_original = DNN(input_size= n_features, output_size=n_classes).to(device)\n",
    "\n",
    "train_supervised_model(model_trained_on_original, trainset)"
   ]
  },
  {
   "cell_type": "code",
   "execution_count": null,
   "metadata": {},
   "outputs": [],
   "source": [
    "model_trained_on_recreated = DNN(input_size= n_features, output_size=n_classes).to(device)\n",
    "\n",
    "train_supervised_model(model_trained_on_recreated, ccnet_balanced_dataset)"
   ]
  },
  {
   "cell_type": "code",
   "execution_count": null,
   "metadata": {},
   "outputs": [],
   "source": [
    "from sklearn.metrics import f1_score\n",
    "import torch\n",
    "\n",
    "def get_f1_score(model, testset):\n",
    "    model.eval()  # Set the model to evaluation mode\n",
    "    y_true = []\n",
    "    y_pred = []\n",
    "    # use data loader to handle batch size\n",
    "    with torch.no_grad():  # No need to track gradients for inference\n",
    "        data_loader = torch.utils.data.DataLoader(testset, batch_size=64, shuffle=False)\n",
    "        for data, label in data_loader:\n",
    "            data = data.to(device)\n",
    "            label = label.to(device)\n",
    "            output = model(data)\n",
    "            predicted = (output.squeeze() > 0.5).long()\n",
    "            y_true.extend(label.cpu().numpy())\n",
    "            y_pred.extend(predicted.cpu().numpy())\n",
    "    # Compute F1 score, using 'binary' because this is a binary classification task\n",
    "    score = f1_score(y_true, y_pred, average='binary')\n",
    "    return score\n",
    "\n",
    "# Usage example with two models:\n",
    "f1_score_original = get_f1_score(model_trained_on_original, testset)\n",
    "f1_score_recreated = get_f1_score(model_trained_on_recreated, testset)\n",
    "\n",
    "print(\"F1 score of the supervised learning model trained on the original data: \", f1_score_original)\n",
    "print(\"F1 score of the supervised learning model trained on the recreated data: \", f1_score_recreated)"
   ]
  }
 ],
 "metadata": {
  "kernelspec": {
   "display_name": "ccnets",
   "language": "python",
   "name": "python3"
  },
  "language_info": {
   "codemirror_mode": {
    "name": "ipython",
    "version": 3
   },
   "file_extension": ".py",
   "mimetype": "text/x-python",
   "name": "python",
   "nbconvert_exporter": "python",
   "pygments_lexer": "ipython3",
   "version": "3.9.16"
  }
 },
 "nbformat": 4,
 "nbformat_minor": 2
}
