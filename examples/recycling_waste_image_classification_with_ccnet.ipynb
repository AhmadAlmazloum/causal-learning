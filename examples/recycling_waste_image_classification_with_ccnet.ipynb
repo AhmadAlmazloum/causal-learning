{
 "cells": [
  {
   "cell_type": "markdown",
   "metadata": {},
   "source": [
    "'''\n",
    "Author:\n",
    "        \n",
    "        PARK, JunHo, junho@ccnets.org\n",
    "\n",
    "        \n",
    "        KIM, JoengYoong, jeongyoong@ccnets.org\n",
    "        \n",
    "    COPYRIGHT (c) 2024. CCNets. All Rights reserved.\n",
    "'''"
   ]
  },
  {
   "cell_type": "markdown",
   "metadata": {},
   "source": [
    "# Recyclable and Household Waste Classification \n",
    "\n",
    "\n",
    "https://www.kaggle.com/datasets/alistairking/recyclable-and-household-waste-classification"
   ]
  },
  {
   "cell_type": "code",
   "execution_count": 1,
   "metadata": {},
   "outputs": [],
   "source": [
    "import sys\n",
    "\n",
    "path_append = \"../\" # Go up one directory from where you are.\n",
    "sys.path.append(path_append) \n",
    "\n",
    "from tools.setting.ml_params import MLParameters\n",
    "from tools.setting.data_config import DataConfig\n",
    "from nn.utils.init import set_random_seed\n",
    "set_random_seed(0)"
   ]
  },
  {
   "cell_type": "code",
   "execution_count": 2,
   "metadata": {},
   "outputs": [],
   "source": [
    "dataset_path = '../data/Recyclable and Household Waste Classification/images/images'"
   ]
  },
  {
   "cell_type": "code",
   "execution_count": 3,
   "metadata": {},
   "outputs": [],
   "source": [
    "import os\n",
    "import torch\n",
    "import torch.nn.functional as F\n",
    "import random\n",
    "from PIL import Image\n",
    "from torch.utils.data import Dataset\n",
    "\n",
    "\n",
    "class WasteDataset(Dataset):\n",
    "    def __init__(self, root_dir, split, transform=None):\n",
    "        self.root_dir = root_dir\n",
    "        self.transform = transform\n",
    "        self.classes = sorted(os.listdir(root_dir))\n",
    "        self.image_paths = []\n",
    "        self.labels = []\n",
    "        \n",
    "        for i, class_name in enumerate(self.classes):\n",
    "            class_dir = os.path.join(root_dir, class_name)\n",
    "            for subfolder in ['default', 'real_world']:\n",
    "                subfolder_dir = os.path.join(class_dir, subfolder)\n",
    "                image_names = os.listdir(subfolder_dir)\n",
    "                random.shuffle(image_names)\n",
    "                \n",
    "                if split == 'train':\n",
    "                    image_names = image_names[:int(0.6 * len(image_names))]\n",
    "                elif split == 'val':\n",
    "                    image_names = image_names[int(0.6 * len(image_names)):int(0.8 * len(image_names))]\n",
    "                else:  # split == 'test'\n",
    "                    image_names = image_names[int(0.8 * len(image_names)):]\n",
    "                \n",
    "                for image_name in image_names:\n",
    "                    self.image_paths.append(os.path.join(subfolder_dir, image_name))\n",
    "                    self.labels.append(i)\n",
    "    \n",
    "    def __len__(self):\n",
    "        return len(self.image_paths)\n",
    "    \n",
    "    def __getitem__(self, index):\n",
    "        image_path = self.image_paths[index]\n",
    "        label = self.labels[index]\n",
    "        image = Image.open(image_path).convert('RGB')\n",
    "        \n",
    "        if self.transform:\n",
    "            image = self.transform(image)\n",
    "        \n",
    "        label = torch.tensor(label, dtype=torch.long)\n",
    "        label = F.one_hot(label, num_classes=30)\n",
    "           \n",
    "        return image, label"
   ]
  },
  {
   "cell_type": "code",
   "execution_count": 4,
   "metadata": {},
   "outputs": [
    {
     "name": "stdout",
     "output_type": "stream",
     "text": [
      "torch.Size([3, 224, 224])\n",
      "torch.Size([30])\n"
     ]
    }
   ],
   "source": [
    "from torchvision import transforms\n",
    "\n",
    "# Create the datasets and data loaders\n",
    "transform = transforms.Compose([\n",
    "    transforms.Resize((224, 224)),\n",
    "    transforms.ToTensor(),\n",
    "    transforms.Normalize(mean=[0.485, 0.456, 0.406], std=[0.229, 0.224, 0.225])\n",
    "])\n",
    "train_dataset = WasteDataset(path_append + dataset_path, split='train', transform=transform)\n",
    "val_dataset = WasteDataset(path_append + dataset_path, split='val', transform=transform)\n",
    "test_dataset = WasteDataset(path_append + dataset_path, split='test', transform=transform)\n",
    "\n",
    "X, y = train_dataset[0]\n",
    "print(X.shape)\n",
    "print(y.shape)"
   ]
  },
  {
   "cell_type": "code",
   "execution_count": 5,
   "metadata": {},
   "outputs": [],
   "source": [
    "\n",
    "data_config = DataConfig(dataset_name = 'recycle_image', task_type='multi_label_classification', obs_shape=[3, 224, 224], label_size=30)\n",
    "\n",
    "#  Set training configuration from the AlgorithmConfig class, returning them as a Namespace object.\n",
    "ml_params = MLParameters(core_model = 'resnet', encoder_model = 'none')\n",
    "ml_params.model.core_config.d_model = 256"
   ]
  },
  {
   "cell_type": "code",
   "execution_count": 6,
   "metadata": {},
   "outputs": [],
   "source": [
    "from trainer_hub import TrainerHub\n",
    "\n",
    "# Set the device to GPU if available, else CPU\n",
    "device = torch.device(\"cuda\" if torch.cuda.is_available() else \"cpu\") \n",
    "\n",
    "# Initialize the TrainerHub class with the training configuration, data configuration, device, and use_print and use_wandb flags\n",
    "trainer_hub = TrainerHub(ml_params, data_config, device, use_print=True, use_wandb=False)"
   ]
  },
  {
   "cell_type": "code",
   "execution_count": 7,
   "metadata": {},
   "outputs": [
    {
     "data": {
      "application/vnd.jupyter.widget-view+json": {
       "model_id": "bb9378ffcc64401998fda7165bcf8fd9",
       "version_major": 2,
       "version_minor": 0
      },
      "text/plain": [
       "Epochs:   0%|          | 0/100 [00:00<?, ?it/s]"
      ]
     },
     "metadata": {},
     "output_type": "display_data"
    },
    {
     "data": {
      "application/vnd.jupyter.widget-view+json": {
       "model_id": "7ff1f498b2cc4fa29efe9849b916045e",
       "version_major": 2,
       "version_minor": 0
      },
      "text/plain": [
       "Iterations:   0%|          | 0/140 [00:00<?, ?it/s]"
      ]
     },
     "metadata": {},
     "output_type": "display_data"
    },
    {
     "name": "stderr",
     "output_type": "stream",
     "text": [
      "c:\\Users\\ccnets-team\\anaconda3\\envs\\torch\\lib\\site-packages\\torch\\nn\\modules\\conv.py:456: UserWarning: Plan failed with a cudnnException: CUDNN_BACKEND_EXECUTION_PLAN_DESCRIPTOR: cudnnFinalize Descriptor Failed cudnn_status: CUDNN_STATUS_NOT_SUPPORTED (Triggered internally at C:\\cb\\pytorch_1000000000000\\work\\aten\\src\\ATen\\native\\cudnn\\Conv_v8.cpp:919.)\n",
      "  return F.conv2d(input, weight, bias, self.stride,\n"
     ]
    },
    {
     "name": "stdout",
     "output_type": "stream",
     "text": [
      "[0/100][50/140][Time 54.76]\n",
      "Unified LR across all optimizers: 0.0001995308238189185\n",
      "--------------------Training Metrics--------------------\n",
      "Trainer:  resnet\n",
      "Inf: 0.0883\tGen: 1.7432\tRec: 1.7350\tE: 0.0965\tR: 0.0800\tP: 3.3900\n",
      "--------------------Test Metrics------------------------\n",
      "accuracy: 0.3323\n",
      "\n",
      "[0/100][100/140][Time 52.91]\n",
      "Unified LR across all optimizers: 0.00019907191565870155\n",
      "--------------------Training Metrics--------------------\n",
      "Trainer:  resnet\n",
      "Inf: 0.1228\tGen: 1.6427\tRec: 1.6092\tE: 0.1563\tR: 0.0892\tP: 3.1291\n",
      "--------------------Test Metrics------------------------\n",
      "accuracy: 0.4137\n",
      "\n"
     ]
    },
    {
     "data": {
      "application/vnd.jupyter.widget-view+json": {
       "model_id": "426e7430ba7a4342a486adfdd826f0ad",
       "version_major": 2,
       "version_minor": 0
      },
      "text/plain": [
       "Iterations:   0%|          | 0/140 [00:00<?, ?it/s]"
      ]
     },
     "metadata": {},
     "output_type": "display_data"
    },
    {
     "name": "stdout",
     "output_type": "stream",
     "text": [
      "[1/100][10/140][Time 48.92]\n",
      "Unified LR across all optimizers: 0.00019861406295796434\n",
      "--------------------Training Metrics--------------------\n",
      "Trainer:  resnet\n",
      "Inf: 0.2207\tGen: 1.5714\tRec: 1.5133\tE: 0.2787\tR: 0.1626\tP: 2.8640\n",
      "--------------------Test Metrics------------------------\n",
      "accuracy: 0.4419\n",
      "\n",
      "[1/100][60/140][Time 37.45]\n",
      "Unified LR across all optimizers: 0.00019815726328921765\n",
      "--------------------Training Metrics--------------------\n",
      "Trainer:  resnet\n",
      "Inf: 0.2304\tGen: 1.4893\tRec: 1.4406\tE: 0.2792\tR: 0.1817\tP: 2.6994\n",
      "--------------------Test Metrics------------------------\n",
      "accuracy: 0.4957\n",
      "\n",
      "[1/100][110/140][Time 37.41]\n",
      "Unified LR across all optimizers: 0.00019770151423055492\n",
      "--------------------Training Metrics--------------------\n",
      "Trainer:  resnet\n",
      "Inf: 0.1665\tGen: 1.3961\tRec: 1.3725\tE: 0.1901\tR: 0.1428\tP: 2.6022\n",
      "--------------------Test Metrics------------------------\n",
      "accuracy: 0.6307\n",
      "\n"
     ]
    },
    {
     "data": {
      "application/vnd.jupyter.widget-view+json": {
       "model_id": "5c41ce588b714a209601f8fea9dfaf8d",
       "version_major": 2,
       "version_minor": 0
      },
      "text/plain": [
       "Iterations:   0%|          | 0/140 [00:00<?, ?it/s]"
      ]
     },
     "metadata": {},
     "output_type": "display_data"
    },
    {
     "name": "stdout",
     "output_type": "stream",
     "text": [
      "[2/100][20/140][Time 36.85]\n",
      "Unified LR across all optimizers: 0.00019724681336564005\n",
      "--------------------Training Metrics--------------------\n",
      "Trainer:  resnet\n",
      "Inf: 0.1389\tGen: 1.3477\tRec: 1.3295\tE: 0.1571\tR: 0.1207\tP: 2.5383\n",
      "--------------------Test Metrics------------------------\n",
      "accuracy: 0.6237\n",
      "\n",
      "[2/100][70/140][Time 36.75]\n",
      "Unified LR across all optimizers: 0.00019679315828369438\n",
      "--------------------Training Metrics--------------------\n",
      "Trainer:  resnet\n",
      "Inf: 0.1144\tGen: 1.3042\tRec: 1.2905\tE: 0.1280\tR: 0.1008\tP: 2.4803\n",
      "--------------------Test Metrics------------------------\n",
      "accuracy: 0.6596\n",
      "\n",
      "[2/100][120/140][Time 36.69]\n",
      "Unified LR across all optimizers: 0.00019634054657948372\n",
      "--------------------Training Metrics--------------------\n",
      "Trainer:  resnet\n",
      "Inf: 0.1067\tGen: 1.2654\tRec: 1.2505\tE: 0.1217\tR: 0.0918\tP: 2.4092\n",
      "--------------------Test Metrics------------------------\n",
      "accuracy: 0.6493\n",
      "\n"
     ]
    },
    {
     "data": {
      "application/vnd.jupyter.widget-view+json": {
       "model_id": "73b7914d07c74b6b93d2bba81336fd7a",
       "version_major": 2,
       "version_minor": 0
      },
      "text/plain": [
       "Iterations:   0%|          | 0/140 [00:00<?, ?it/s]"
      ]
     },
     "metadata": {},
     "output_type": "display_data"
    },
    {
     "name": "stdout",
     "output_type": "stream",
     "text": [
      "[3/100][30/140][Time 37.38]\n",
      "Unified LR across all optimizers: 0.00019588897585330582\n",
      "--------------------Training Metrics--------------------\n",
      "Trainer:  resnet\n",
      "Inf: 0.0957\tGen: 1.2369\tRec: 1.2251\tE: 0.1074\tR: 0.0839\tP: 2.3663\n",
      "--------------------Test Metrics------------------------\n",
      "accuracy: 0.6725\n",
      "\n",
      "[3/100][80/140][Time 37.30]\n",
      "Unified LR across all optimizers: 0.00019543844371097777\n",
      "--------------------Training Metrics--------------------\n",
      "Trainer:  resnet\n",
      "Inf: 0.0882\tGen: 1.2172\tRec: 1.2081\tE: 0.0973\tR: 0.0792\tP: 2.3371\n",
      "--------------------Test Metrics------------------------\n",
      "accuracy: 0.6680\n",
      "\n",
      "[3/100][130/140][Time 37.73]\n",
      "Unified LR across all optimizers: 0.00019498894776382288\n",
      "--------------------Training Metrics--------------------\n",
      "Trainer:  resnet\n",
      "Inf: 0.0874\tGen: 1.2064\tRec: 1.1977\tE: 0.0961\tR: 0.0786\tP: 2.3167\n",
      "--------------------Test Metrics------------------------\n",
      "accuracy: 0.6996\n",
      "\n"
     ]
    },
    {
     "data": {
      "application/vnd.jupyter.widget-view+json": {
       "model_id": "79216c9389614dfcb7877a485c204671",
       "version_major": 2,
       "version_minor": 0
      },
      "text/plain": [
       "Iterations:   0%|          | 0/140 [00:00<?, ?it/s]"
      ]
     },
     "metadata": {},
     "output_type": "display_data"
    },
    {
     "name": "stdout",
     "output_type": "stream",
     "text": [
      "[4/100][40/140][Time 38.05]\n",
      "Unified LR across all optimizers: 0.00019454048562865856\n",
      "--------------------Training Metrics--------------------\n",
      "Trainer:  resnet\n",
      "Inf: 0.0839\tGen: 1.1862\tRec: 1.1789\tE: 0.0912\tR: 0.0766\tP: 2.2812\n",
      "--------------------Test Metrics------------------------\n",
      "accuracy: 0.6590\n",
      "\n",
      "[4/100][90/140][Time 36.91]\n",
      "Unified LR across all optimizers: 0.00019409305492778308\n",
      "--------------------Training Metrics--------------------\n",
      "Trainer:  resnet\n",
      "Inf: 0.0876\tGen: 1.1683\tRec: 1.1605\tE: 0.0954\tR: 0.0797\tP: 2.2412\n",
      "--------------------Test Metrics------------------------\n",
      "accuracy: 0.6513\n",
      "\n"
     ]
    },
    {
     "data": {
      "application/vnd.jupyter.widget-view+json": {
       "model_id": "e50b835159354ef19a032b9125dcf6dc",
       "version_major": 2,
       "version_minor": 0
      },
      "text/plain": [
       "Iterations:   0%|          | 0/140 [00:00<?, ?it/s]"
      ]
     },
     "metadata": {},
     "output_type": "display_data"
    },
    {
     "name": "stdout",
     "output_type": "stream",
     "text": [
      "[5/100][0/140][Time 37.95]\n",
      "Unified LR across all optimizers: 0.00019364665328896346\n",
      "--------------------Training Metrics--------------------\n",
      "Trainer:  resnet\n",
      "Inf: 0.0820\tGen: 1.1613\tRec: 1.1543\tE: 0.0890\tR: 0.0750\tP: 2.2336\n",
      "--------------------Test Metrics------------------------\n",
      "accuracy: 0.7257\n",
      "\n",
      "[5/100][50/140][Time 37.82]\n",
      "Unified LR across all optimizers: 0.00019320127834542263\n",
      "--------------------Training Metrics--------------------\n",
      "Trainer:  resnet\n",
      "Inf: 0.0740\tGen: 1.1489\tRec: 1.1441\tE: 0.0787\tR: 0.0693\tP: 2.2190\n",
      "--------------------Test Metrics------------------------\n",
      "accuracy: 0.6723\n",
      "\n",
      "[5/100][100/140][Time 37.77]\n",
      "Unified LR across all optimizers: 0.00019275692773582703\n",
      "--------------------Training Metrics--------------------\n",
      "Trainer:  resnet\n",
      "Inf: 0.0730\tGen: 1.1355\tRec: 1.1320\tE: 0.0765\tR: 0.0695\tP: 2.1946\n",
      "--------------------Test Metrics------------------------\n",
      "accuracy: 0.7212\n",
      "\n"
     ]
    },
    {
     "data": {
      "application/vnd.jupyter.widget-view+json": {
       "model_id": "5d05dc6d40984a46805e81e541aa47e0",
       "version_major": 2,
       "version_minor": 0
      },
      "text/plain": [
       "Iterations:   0%|          | 0/140 [00:00<?, ?it/s]"
      ]
     },
     "metadata": {},
     "output_type": "display_data"
    },
    {
     "name": "stdout",
     "output_type": "stream",
     "text": [
      "[6/100][10/140][Time 37.52]\n",
      "Unified LR across all optimizers: 0.0001923135991042739\n",
      "--------------------Training Metrics--------------------\n",
      "Trainer:  resnet\n",
      "Inf: 0.0721\tGen: 1.1364\tRec: 1.1324\tE: 0.0760\tR: 0.0682\tP: 2.1967\n",
      "--------------------Test Metrics------------------------\n",
      "accuracy: 0.7036\n",
      "\n",
      "[6/100][60/140][Time 36.63]\n",
      "Unified LR across all optimizers: 0.0001918712901002789\n",
      "--------------------Training Metrics--------------------\n",
      "Trainer:  resnet\n",
      "Inf: 0.0699\tGen: 1.1265\tRec: 1.1234\tE: 0.0730\tR: 0.0667\tP: 2.1800\n",
      "--------------------Test Metrics------------------------\n",
      "accuracy: 0.7151\n",
      "\n",
      "[6/100][110/140][Time 37.35]\n",
      "Unified LR across all optimizers: 0.00019142999837876384\n",
      "--------------------Training Metrics--------------------\n",
      "Trainer:  resnet\n",
      "Inf: 0.0707\tGen: 1.1199\tRec: 1.1160\tE: 0.0746\tR: 0.0668\tP: 2.1653\n",
      "--------------------Test Metrics------------------------\n",
      "accuracy: 0.7109\n",
      "\n"
     ]
    },
    {
     "data": {
      "application/vnd.jupyter.widget-view+json": {
       "model_id": "c60dbb87192b4292b31e968c25ea0687",
       "version_major": 2,
       "version_minor": 0
      },
      "text/plain": [
       "Iterations:   0%|          | 0/140 [00:00<?, ?it/s]"
      ]
     },
     "metadata": {},
     "output_type": "display_data"
    },
    {
     "name": "stdout",
     "output_type": "stream",
     "text": [
      "[7/100][20/140][Time 36.75]\n",
      "Unified LR across all optimizers: 0.00019098972160004388\n",
      "--------------------Training Metrics--------------------\n",
      "Trainer:  resnet\n",
      "Inf: 0.0708\tGen: 1.1140\tRec: 1.1104\tE: 0.0744\tR: 0.0672\tP: 2.1535\n",
      "--------------------Test Metrics------------------------\n",
      "accuracy: 0.7512\n",
      "\n",
      "[7/100][70/140][Time 36.61]\n",
      "Unified LR across all optimizers: 0.00019055045742981543\n",
      "--------------------Training Metrics--------------------\n",
      "Trainer:  resnet\n",
      "Inf: 0.0710\tGen: 1.1107\tRec: 1.1075\tE: 0.0742\tR: 0.0678\tP: 2.1472\n",
      "--------------------Test Metrics------------------------\n",
      "accuracy: 0.7594\n",
      "\n",
      "[7/100][120/140][Time 37.25]\n",
      "Unified LR across all optimizers: 0.00019011220353914353\n",
      "--------------------Training Metrics--------------------\n",
      "Trainer:  resnet\n",
      "Inf: 0.0678\tGen: 1.1028\tRec: 1.1000\tE: 0.0706\tR: 0.0650\tP: 2.1350\n",
      "--------------------Test Metrics------------------------\n",
      "accuracy: 0.7633\n",
      "\n"
     ]
    },
    {
     "data": {
      "application/vnd.jupyter.widget-view+json": {
       "model_id": "e3c90f08ff684c14892593a8c5cb0a1f",
       "version_major": 2,
       "version_minor": 0
      },
      "text/plain": [
       "Iterations:   0%|          | 0/140 [00:00<?, ?it/s]"
      ]
     },
     "metadata": {},
     "output_type": "display_data"
    },
    {
     "name": "stdout",
     "output_type": "stream",
     "text": [
      "[8/100][30/140][Time 36.76]\n",
      "Unified LR across all optimizers: 0.00018967495760444968\n",
      "--------------------Training Metrics--------------------\n",
      "Trainer:  resnet\n",
      "Inf: 0.0670\tGen: 1.1000\tRec: 1.0982\tE: 0.0688\tR: 0.0652\tP: 2.1312\n",
      "--------------------Test Metrics------------------------\n",
      "accuracy: 0.7704\n",
      "\n",
      "[8/100][80/140][Time 36.81]\n",
      "Unified LR across all optimizers: 0.00018923871730749947\n",
      "--------------------Training Metrics--------------------\n",
      "Trainer:  resnet\n",
      "Inf: 0.0643\tGen: 1.1000\tRec: 1.0982\tE: 0.0661\tR: 0.0624\tP: 2.1339\n",
      "--------------------Test Metrics------------------------\n",
      "accuracy: 0.7579\n",
      "\n",
      "[8/100][130/140][Time 36.78]\n",
      "Unified LR across all optimizers: 0.00018880348033539028\n",
      "--------------------Training Metrics--------------------\n",
      "Trainer:  resnet\n",
      "Inf: 0.0656\tGen: 1.0912\tRec: 1.0899\tE: 0.0669\tR: 0.0643\tP: 2.1155\n",
      "--------------------Test Metrics------------------------\n",
      "accuracy: 0.7990\n",
      "\n"
     ]
    },
    {
     "data": {
      "application/vnd.jupyter.widget-view+json": {
       "model_id": "17b72066f49146dcabafe5a1582abb7e",
       "version_major": 2,
       "version_minor": 0
      },
      "text/plain": [
       "Iterations:   0%|          | 0/140 [00:00<?, ?it/s]"
      ]
     },
     "metadata": {},
     "output_type": "display_data"
    },
    {
     "name": "stdout",
     "output_type": "stream",
     "text": [
      "[9/100][40/140][Time 36.75]\n",
      "Unified LR across all optimizers: 0.00018836924438053897\n",
      "--------------------Training Metrics--------------------\n",
      "Trainer:  resnet\n",
      "Inf: 0.0638\tGen: 1.0908\tRec: 1.0899\tE: 0.0647\tR: 0.0629\tP: 2.1169\n",
      "--------------------Test Metrics------------------------\n",
      "accuracy: 0.8154\n",
      "\n",
      "[9/100][90/140][Time 36.82]\n",
      "Unified LR across all optimizers: 0.0001879360071406698\n",
      "--------------------Training Metrics--------------------\n",
      "Trainer:  resnet\n",
      "Inf: 0.0628\tGen: 1.0885\tRec: 1.0872\tE: 0.0641\tR: 0.0616\tP: 2.1129\n",
      "--------------------Test Metrics------------------------\n",
      "accuracy: 0.7772\n",
      "\n"
     ]
    },
    {
     "data": {
      "application/vnd.jupyter.widget-view+json": {
       "model_id": "651c8b5b27034c4aaaac2bb7cfd0563a",
       "version_major": 2,
       "version_minor": 0
      },
      "text/plain": [
       "Iterations:   0%|          | 0/140 [00:00<?, ?it/s]"
      ]
     },
     "metadata": {},
     "output_type": "display_data"
    },
    {
     "name": "stdout",
     "output_type": "stream",
     "text": [
      "[10/100][0/140][Time 36.59]\n",
      "Unified LR across all optimizers: 0.000187503766318802\n",
      "--------------------Training Metrics--------------------\n",
      "Trainer:  resnet\n",
      "Inf: 0.0620\tGen: 1.0890\tRec: 1.0882\tE: 0.0629\tR: 0.0612\tP: 2.1152\n",
      "--------------------Test Metrics------------------------\n",
      "accuracy: 0.8190\n",
      "\n",
      "[10/100][50/140][Time 36.68]\n",
      "Unified LR across all optimizers: 0.00018707251962323787\n",
      "--------------------Training Metrics--------------------\n",
      "Trainer:  resnet\n",
      "Inf: 0.0620\tGen: 1.0819\tRec: 1.0818\tE: 0.0620\tR: 0.0619\tP: 2.1017\n",
      "--------------------Test Metrics------------------------\n",
      "accuracy: 0.8171\n",
      "\n",
      "[10/100][100/140][Time 36.57]\n",
      "Unified LR across all optimizers: 0.0001866422647675502\n",
      "--------------------Training Metrics--------------------\n",
      "Trainer:  resnet\n",
      "Inf: 0.0623\tGen: 1.0859\tRec: 1.0853\tE: 0.0628\tR: 0.0617\tP: 2.1090\n",
      "--------------------Test Metrics------------------------\n",
      "accuracy: 0.8040\n",
      "\n"
     ]
    },
    {
     "data": {
      "application/vnd.jupyter.widget-view+json": {
       "model_id": "da03ba326e38421ba7e84c6cace233fb",
       "version_major": 2,
       "version_minor": 0
      },
      "text/plain": [
       "Iterations:   0%|          | 0/140 [00:00<?, ?it/s]"
      ]
     },
     "metadata": {},
     "output_type": "display_data"
    },
    {
     "name": "stdout",
     "output_type": "stream",
     "text": [
      "[11/100][10/140][Time 37.57]\n",
      "Unified LR across all optimizers: 0.00018621299947057073\n",
      "--------------------Training Metrics--------------------\n",
      "Trainer:  resnet\n",
      "Inf: 0.0607\tGen: 1.0795\tRec: 1.0793\tE: 0.0608\tR: 0.0605\tP: 2.0982\n",
      "--------------------Test Metrics------------------------\n",
      "accuracy: 0.8026\n",
      "\n",
      "[11/100][60/140][Time 37.41]\n",
      "Unified LR across all optimizers: 0.00018578472145637737\n",
      "--------------------Training Metrics--------------------\n",
      "Trainer:  resnet\n",
      "Inf: 0.0590\tGen: 1.0760\tRec: 1.0765\tE: 0.0585\tR: 0.0595\tP: 2.0936\n",
      "--------------------Test Metrics------------------------\n",
      "accuracy: 0.8220\n",
      "\n",
      "[11/100][110/140][Time 37.82]\n",
      "Unified LR across all optimizers: 0.00018535742845428288\n",
      "--------------------Training Metrics--------------------\n",
      "Trainer:  resnet\n",
      "Inf: 0.0606\tGen: 1.0780\tRec: 1.0786\tE: 0.0601\tR: 0.0612\tP: 2.0960\n",
      "--------------------Test Metrics------------------------\n",
      "accuracy: 0.8096\n",
      "\n"
     ]
    },
    {
     "data": {
      "application/vnd.jupyter.widget-view+json": {
       "model_id": "98414bd753bd46fcb96209cd2ce04833",
       "version_major": 2,
       "version_minor": 0
      },
      "text/plain": [
       "Iterations:   0%|          | 0/140 [00:00<?, ?it/s]"
      ]
     },
     "metadata": {},
     "output_type": "display_data"
    },
    {
     "name": "stdout",
     "output_type": "stream",
     "text": [
      "[12/100][20/140][Time 37.14]\n",
      "Unified LR across all optimizers: 0.00018493111819882223\n",
      "--------------------Training Metrics--------------------\n",
      "Trainer:  resnet\n",
      "Inf: 0.0607\tGen: 1.0703\tRec: 1.0708\tE: 0.0603\tR: 0.0611\tP: 2.0804\n",
      "--------------------Test Metrics------------------------\n",
      "accuracy: 0.8507\n",
      "\n",
      "[12/100][70/140][Time 36.65]\n",
      "Unified LR across all optimizers: 0.00018450578842974107\n",
      "--------------------Training Metrics--------------------\n",
      "Trainer:  resnet\n",
      "Inf: 0.0599\tGen: 1.0735\tRec: 1.0749\tE: 0.0585\tR: 0.0613\tP: 2.0885\n",
      "--------------------Test Metrics------------------------\n",
      "accuracy: 0.8454\n",
      "\n",
      "[12/100][120/140][Time 36.94]\n",
      "Unified LR across all optimizers: 0.00018408143689198318\n",
      "--------------------Training Metrics--------------------\n",
      "Trainer:  resnet\n",
      "Inf: 0.0621\tGen: 1.0682\tRec: 1.0691\tE: 0.0613\tR: 0.0630\tP: 2.0751\n",
      "--------------------Test Metrics------------------------\n",
      "accuracy: 0.8602\n",
      "\n"
     ]
    },
    {
     "data": {
      "application/vnd.jupyter.widget-view+json": {
       "model_id": "3167a64c13e743af91769d4569fbf38b",
       "version_major": 2,
       "version_minor": 0
      },
      "text/plain": [
       "Iterations:   0%|          | 0/140 [00:00<?, ?it/s]"
      ]
     },
     "metadata": {},
     "output_type": "display_data"
    },
    {
     "name": "stdout",
     "output_type": "stream",
     "text": [
      "[13/100][30/140][Time 36.73]\n",
      "Unified LR across all optimizers: 0.0001836580613356789\n",
      "--------------------Training Metrics--------------------\n",
      "Trainer:  resnet\n",
      "Inf: 0.0590\tGen: 1.0687\tRec: 1.0696\tE: 0.0581\tR: 0.0599\tP: 2.0793\n",
      "--------------------Test Metrics------------------------\n",
      "accuracy: 0.8707\n",
      "\n",
      "[13/100][80/140][Time 36.70]\n",
      "Unified LR across all optimizers: 0.0001832356595161332\n",
      "--------------------Training Metrics--------------------\n",
      "Trainer:  resnet\n",
      "Inf: 0.0603\tGen: 1.0732\tRec: 1.0739\tE: 0.0596\tR: 0.0610\tP: 2.0869\n",
      "--------------------Test Metrics------------------------\n",
      "accuracy: 0.8633\n",
      "\n",
      "[13/100][130/140][Time 36.70]\n",
      "Unified LR across all optimizers: 0.00018281422919381367\n",
      "--------------------Training Metrics--------------------\n",
      "Trainer:  resnet\n",
      "Inf: 0.0615\tGen: 1.0683\tRec: 1.0689\tE: 0.0609\tR: 0.0620\tP: 2.0757\n",
      "--------------------Test Metrics------------------------\n",
      "accuracy: 0.9023\n",
      "\n"
     ]
    },
    {
     "data": {
      "application/vnd.jupyter.widget-view+json": {
       "model_id": "dff7911b14f54dea827ecb74798d7b08",
       "version_major": 2,
       "version_minor": 0
      },
      "text/plain": [
       "Iterations:   0%|          | 0/140 [00:00<?, ?it/s]"
      ]
     },
     "metadata": {},
     "output_type": "display_data"
    },
    {
     "name": "stdout",
     "output_type": "stream",
     "text": [
      "[14/100][40/140][Time 36.62]\n",
      "Unified LR across all optimizers: 0.00018239376813433867\n",
      "--------------------Training Metrics--------------------\n",
      "Trainer:  resnet\n",
      "Inf: 0.0617\tGen: 1.0707\tRec: 1.0717\tE: 0.0607\tR: 0.0627\tP: 2.0807\n",
      "--------------------Test Metrics------------------------\n",
      "accuracy: 0.9137\n",
      "\n",
      "[14/100][90/140][Time 36.76]\n",
      "Unified LR across all optimizers: 0.00018197427410846564\n",
      "--------------------Training Metrics--------------------\n",
      "Trainer:  resnet\n",
      "Inf: 0.0601\tGen: 1.0643\tRec: 1.0649\tE: 0.0595\tR: 0.0607\tP: 2.0691\n",
      "--------------------Test Metrics------------------------\n",
      "accuracy: 0.8513\n",
      "\n"
     ]
    },
    {
     "data": {
      "application/vnd.jupyter.widget-view+json": {
       "model_id": "45b670371c77431d87ce698579f1539c",
       "version_major": 2,
       "version_minor": 0
      },
      "text/plain": [
       "Iterations:   0%|          | 0/140 [00:00<?, ?it/s]"
      ]
     },
     "metadata": {},
     "output_type": "display_data"
    },
    {
     "name": "stdout",
     "output_type": "stream",
     "text": [
      "[15/100][0/140][Time 36.68]\n",
      "Unified LR across all optimizers: 0.00018155574489207887\n",
      "--------------------Training Metrics--------------------\n",
      "Trainer:  resnet\n",
      "Inf: 0.0604\tGen: 1.0626\tRec: 1.0628\tE: 0.0602\tR: 0.0606\tP: 2.0649\n",
      "--------------------Test Metrics------------------------\n",
      "accuracy: 0.9095\n",
      "\n",
      "[15/100][50/140][Time 36.99]\n",
      "Unified LR across all optimizers: 0.00018113817826617823\n",
      "--------------------Training Metrics--------------------\n",
      "Trainer:  resnet\n",
      "Inf: 0.0609\tGen: 1.0642\tRec: 1.0653\tE: 0.0598\tR: 0.0621\tP: 2.0686\n",
      "--------------------Test Metrics------------------------\n",
      "accuracy: 0.9150\n",
      "\n",
      "[15/100][100/140][Time 36.73]\n",
      "Unified LR across all optimizers: 0.00018072157201686696\n",
      "--------------------Training Metrics--------------------\n",
      "Trainer:  resnet\n",
      "Inf: 0.0607\tGen: 1.0577\tRec: 1.0584\tE: 0.0601\tR: 0.0614\tP: 2.0554\n",
      "--------------------Test Metrics------------------------\n",
      "accuracy: 0.9208\n",
      "\n"
     ]
    },
    {
     "data": {
      "application/vnd.jupyter.widget-view+json": {
       "model_id": "c43b655d173249baba3934607416eed5",
       "version_major": 2,
       "version_minor": 0
      },
      "text/plain": [
       "Iterations:   0%|          | 0/140 [00:00<?, ?it/s]"
      ]
     },
     "metadata": {},
     "output_type": "display_data"
    },
    {
     "name": "stdout",
     "output_type": "stream",
     "text": [
      "[16/100][10/140][Time 37.64]\n",
      "Unified LR across all optimizers: 0.00018030592393534033\n",
      "--------------------Training Metrics--------------------\n",
      "Trainer:  resnet\n",
      "Inf: 0.0606\tGen: 1.0635\tRec: 1.0642\tE: 0.0599\tR: 0.0613\tP: 2.0671\n",
      "--------------------Test Metrics------------------------\n",
      "accuracy: 0.8885\n",
      "\n",
      "[16/100][60/140][Time 37.82]\n",
      "Unified LR across all optimizers: 0.0001798912318178735\n",
      "--------------------Training Metrics--------------------\n",
      "Trainer:  resnet\n",
      "Inf: 0.0617\tGen: 1.0578\tRec: 1.0595\tE: 0.0600\tR: 0.0634\tP: 2.0556\n",
      "--------------------Test Metrics------------------------\n",
      "accuracy: 0.9211\n",
      "\n",
      "[16/100][110/140][Time 37.08]\n",
      "Unified LR across all optimizers: 0.00017947749346581006\n",
      "--------------------Training Metrics--------------------\n",
      "Trainer:  resnet\n",
      "Inf: 0.0609\tGen: 1.0588\tRec: 1.0595\tE: 0.0602\tR: 0.0616\tP: 2.0574\n",
      "--------------------Test Metrics------------------------\n",
      "accuracy: 0.9323\n",
      "\n"
     ]
    },
    {
     "data": {
      "application/vnd.jupyter.widget-view+json": {
       "model_id": "9aac8cca976b41d2b8ec54b701f6da2a",
       "version_major": 2,
       "version_minor": 0
      },
      "text/plain": [
       "Iterations:   0%|          | 0/140 [00:00<?, ?it/s]"
      ]
     },
     "metadata": {},
     "output_type": "display_data"
    },
    {
     "name": "stdout",
     "output_type": "stream",
     "text": [
      "[17/100][20/140][Time 37.27]\n",
      "Unified LR across all optimizers: 0.0001790647066855505\n",
      "--------------------Training Metrics--------------------\n",
      "Trainer:  resnet\n",
      "Inf: 0.0614\tGen: 1.0620\tRec: 1.0629\tE: 0.0606\tR: 0.0622\tP: 2.0635\n",
      "--------------------Test Metrics------------------------\n",
      "accuracy: 0.9318\n",
      "\n",
      "[17/100][70/140][Time 37.09]\n",
      "Unified LR across all optimizers: 0.00017865286928854052\n",
      "--------------------Training Metrics--------------------\n",
      "Trainer:  resnet\n",
      "Inf: 0.0598\tGen: 1.0555\tRec: 1.0569\tE: 0.0584\tR: 0.0611\tP: 2.0526\n",
      "--------------------Test Metrics------------------------\n",
      "accuracy: 0.8990\n",
      "\n",
      "[17/100][120/140][Time 37.80]\n",
      "Unified LR across all optimizers: 0.00017824197909125899\n",
      "--------------------Training Metrics--------------------\n",
      "Trainer:  resnet\n",
      "Inf: 0.0620\tGen: 1.0583\tRec: 1.0584\tE: 0.0619\tR: 0.0621\tP: 2.0547\n",
      "--------------------Test Metrics------------------------\n",
      "accuracy: 0.9556\n",
      "\n"
     ]
    },
    {
     "data": {
      "application/vnd.jupyter.widget-view+json": {
       "model_id": "d6848ba57d3a438cb217fcb48aa31b4a",
       "version_major": 2,
       "version_minor": 0
      },
      "text/plain": [
       "Iterations:   0%|          | 0/140 [00:00<?, ?it/s]"
      ]
     },
     "metadata": {},
     "output_type": "display_data"
    },
    {
     "name": "stdout",
     "output_type": "stream",
     "text": [
      "[18/100][30/140][Time 37.86]\n",
      "Unified LR across all optimizers: 0.00017783203391520723\n",
      "--------------------Training Metrics--------------------\n",
      "Trainer:  resnet\n",
      "Inf: 0.0597\tGen: 1.0574\tRec: 1.0587\tE: 0.0584\tR: 0.0610\tP: 2.0564\n",
      "--------------------Test Metrics------------------------\n",
      "accuracy: 0.9488\n",
      "\n",
      "[18/100][80/140][Time 37.88]\n",
      "Unified LR across all optimizers: 0.00017742303158689668\n",
      "--------------------Training Metrics--------------------\n",
      "Trainer:  resnet\n",
      "Inf: 0.0610\tGen: 1.0577\tRec: 1.0584\tE: 0.0603\tR: 0.0617\tP: 2.0551\n",
      "--------------------Test Metrics------------------------\n",
      "accuracy: 0.9491\n",
      "\n",
      "[18/100][130/140][Time 37.02]\n",
      "Unified LR across all optimizers: 0.00017701496993783762\n",
      "--------------------Training Metrics--------------------\n",
      "Trainer:  resnet\n",
      "Inf: 0.0594\tGen: 1.0537\tRec: 1.0543\tE: 0.0588\tR: 0.0600\tP: 2.0487\n",
      "--------------------Test Metrics------------------------\n",
      "accuracy: 0.9492\n",
      "\n"
     ]
    },
    {
     "data": {
      "application/vnd.jupyter.widget-view+json": {
       "model_id": "0b4dc4ba70a64c24948cb89abd4e04b2",
       "version_major": 2,
       "version_minor": 0
      },
      "text/plain": [
       "Iterations:   0%|          | 0/140 [00:00<?, ?it/s]"
      ]
     },
     "metadata": {},
     "output_type": "display_data"
    },
    {
     "name": "stdout",
     "output_type": "stream",
     "text": [
      "[19/100][40/140][Time 37.66]\n",
      "Unified LR across all optimizers: 0.00017660784680452796\n",
      "--------------------Training Metrics--------------------\n",
      "Trainer:  resnet\n",
      "Inf: 0.0589\tGen: 1.0504\tRec: 1.0510\tE: 0.0582\tR: 0.0596\tP: 2.0425\n",
      "--------------------Test Metrics------------------------\n",
      "accuracy: 0.9482\n",
      "\n",
      "[19/100][90/140][Time 37.02]\n",
      "Unified LR across all optimizers: 0.0001762016600284412\n",
      "--------------------Training Metrics--------------------\n",
      "Trainer:  resnet\n",
      "Inf: 0.0579\tGen: 1.0525\tRec: 1.0540\tE: 0.0564\tR: 0.0594\tP: 2.0485\n",
      "--------------------Test Metrics------------------------\n",
      "accuracy: 0.9594\n",
      "\n"
     ]
    },
    {
     "data": {
      "application/vnd.jupyter.widget-view+json": {
       "model_id": "a117c4c4c9224d6f890c12e0f037b888",
       "version_major": 2,
       "version_minor": 0
      },
      "text/plain": [
       "Iterations:   0%|          | 0/140 [00:00<?, ?it/s]"
      ]
     },
     "metadata": {},
     "output_type": "display_data"
    },
    {
     "name": "stdout",
     "output_type": "stream",
     "text": [
      "[20/100][0/140][Time 36.76]\n",
      "Unified LR across all optimizers: 0.00017579640745601563\n",
      "--------------------Training Metrics--------------------\n",
      "Trainer:  resnet\n",
      "Inf: 0.0590\tGen: 1.0528\tRec: 1.0532\tE: 0.0587\tR: 0.0594\tP: 2.0470\n",
      "--------------------Test Metrics------------------------\n",
      "accuracy: 0.9421\n",
      "\n",
      "[20/100][50/140][Time 36.73]\n",
      "Unified LR across all optimizers: 0.0001753920869386423\n",
      "--------------------Training Metrics--------------------\n",
      "Trainer:  resnet\n",
      "Inf: 0.0591\tGen: 1.0515\tRec: 1.0520\tE: 0.0586\tR: 0.0596\tP: 2.0444\n",
      "--------------------Test Metrics------------------------\n",
      "accuracy: 0.9613\n",
      "\n",
      "[20/100][100/140][Time 36.68]\n",
      "Unified LR across all optimizers: 0.0001749886963326542\n",
      "--------------------Training Metrics--------------------\n",
      "Trainer:  resnet\n",
      "Inf: 0.0582\tGen: 1.0499\tRec: 1.0506\tE: 0.0575\tR: 0.0590\tP: 2.0423\n",
      "--------------------Test Metrics------------------------\n",
      "accuracy: 0.9620\n",
      "\n"
     ]
    },
    {
     "data": {
      "application/vnd.jupyter.widget-view+json": {
       "model_id": "52887083dd0c42da925058e847c89c2f",
       "version_major": 2,
       "version_minor": 0
      },
      "text/plain": [
       "Iterations:   0%|          | 0/140 [00:00<?, ?it/s]"
      ]
     },
     "metadata": {},
     "output_type": "display_data"
    },
    {
     "name": "stdout",
     "output_type": "stream",
     "text": [
      "[21/100][10/140][Time 36.89]\n",
      "Unified LR across all optimizers: 0.0001745862334993144\n",
      "--------------------Training Metrics--------------------\n",
      "Trainer:  resnet\n",
      "Inf: 0.0579\tGen: 1.0510\tRec: 1.0521\tE: 0.0569\tR: 0.0590\tP: 2.0452\n",
      "--------------------Test Metrics------------------------\n",
      "accuracy: 0.9514\n",
      "\n",
      "[21/100][60/140][Time 37.16]\n",
      "Unified LR across all optimizers: 0.00017418469630480507\n",
      "--------------------Training Metrics--------------------\n",
      "Trainer:  resnet\n",
      "Inf: 0.0551\tGen: 1.0470\tRec: 1.0481\tE: 0.0540\tR: 0.0561\tP: 2.0401\n",
      "--------------------Test Metrics------------------------\n",
      "accuracy: 0.9529\n",
      "\n",
      "[21/100][110/140][Time 36.83]\n",
      "Unified LR across all optimizers: 0.00017378408262021616\n",
      "--------------------Training Metrics--------------------\n",
      "Trainer:  resnet\n",
      "Inf: 0.0571\tGen: 1.0486\tRec: 1.0499\tE: 0.0558\tR: 0.0584\tP: 2.0414\n",
      "--------------------Test Metrics------------------------\n",
      "accuracy: 0.9592\n",
      "\n"
     ]
    },
    {
     "data": {
      "application/vnd.jupyter.widget-view+json": {
       "model_id": "0b40b76807b543218ce1dd8ba786f60c",
       "version_major": 2,
       "version_minor": 0
      },
      "text/plain": [
       "Iterations:   0%|          | 0/140 [00:00<?, ?it/s]"
      ]
     },
     "metadata": {},
     "output_type": "display_data"
    },
    {
     "name": "stdout",
     "output_type": "stream",
     "text": [
      "[22/100][20/140][Time 37.20]\n",
      "Unified LR across all optimizers: 0.00017338439032153356\n",
      "--------------------Training Metrics--------------------\n",
      "Trainer:  resnet\n",
      "Inf: 0.0582\tGen: 1.0446\tRec: 1.0457\tE: 0.0571\tR: 0.0593\tP: 2.0322\n",
      "--------------------Test Metrics------------------------\n",
      "accuracy: 0.9556\n",
      "\n",
      "[22/100][70/140][Time 37.61]\n",
      "Unified LR across all optimizers: 0.00017298561728962847\n",
      "--------------------Training Metrics--------------------\n",
      "Trainer:  resnet\n",
      "Inf: 0.0570\tGen: 1.0427\tRec: 1.0445\tE: 0.0551\tR: 0.0588\tP: 2.0303\n",
      "--------------------Test Metrics------------------------\n",
      "accuracy: 0.9589\n",
      "\n",
      "[22/100][120/140][Time 37.77]\n",
      "Unified LR across all optimizers: 0.00017258776141024598\n",
      "--------------------Training Metrics--------------------\n",
      "Trainer:  resnet\n",
      "Inf: 0.0574\tGen: 1.0497\tRec: 1.0511\tE: 0.0561\tR: 0.0587\tP: 2.0434\n",
      "--------------------Test Metrics------------------------\n",
      "accuracy: 0.9682\n",
      "\n"
     ]
    },
    {
     "data": {
      "application/vnd.jupyter.widget-view+json": {
       "model_id": "2dbc2739077e4565ae1c2c664f258d77",
       "version_major": 2,
       "version_minor": 0
      },
      "text/plain": [
       "Iterations:   0%|          | 0/140 [00:00<?, ?it/s]"
      ]
     },
     "metadata": {},
     "output_type": "display_data"
    },
    {
     "name": "stdout",
     "output_type": "stream",
     "text": [
      "[23/100][30/140][Time 38.04]\n",
      "Unified LR across all optimizers: 0.00017219082057399394\n",
      "--------------------Training Metrics--------------------\n",
      "Trainer:  resnet\n",
      "Inf: 0.0592\tGen: 1.0443\tRec: 1.0461\tE: 0.0574\tR: 0.0610\tP: 2.0311\n",
      "--------------------Test Metrics------------------------\n",
      "accuracy: 0.9572\n",
      "\n",
      "[23/100][80/140][Time 37.97]\n",
      "Unified LR across all optimizers: 0.00017179479267633146\n",
      "--------------------Training Metrics--------------------\n",
      "Trainer:  resnet\n",
      "Inf: 0.0590\tGen: 1.0413\tRec: 1.0425\tE: 0.0578\tR: 0.0601\tP: 2.0249\n",
      "--------------------Test Metrics------------------------\n",
      "accuracy: 0.9664\n",
      "\n",
      "[23/100][130/140][Time 37.92]\n",
      "Unified LR across all optimizers: 0.00017139967561755819\n",
      "--------------------Training Metrics--------------------\n",
      "Trainer:  resnet\n",
      "Inf: 0.0578\tGen: 1.0462\tRec: 1.0467\tE: 0.0573\tR: 0.0583\tP: 2.0351\n",
      "--------------------Test Metrics------------------------\n",
      "accuracy: 0.9586\n",
      "\n"
     ]
    },
    {
     "data": {
      "application/vnd.jupyter.widget-view+json": {
       "model_id": "f22c1ba1d1ab4b25ab7e5f3925639bd1",
       "version_major": 2,
       "version_minor": 0
      },
      "text/plain": [
       "Iterations:   0%|          | 0/140 [00:00<?, ?it/s]"
      ]
     },
     "metadata": {},
     "output_type": "display_data"
    },
    {
     "name": "stdout",
     "output_type": "stream",
     "text": [
      "[24/100][40/140][Time 37.99]\n",
      "Unified LR across all optimizers: 0.00017100546730280274\n",
      "--------------------Training Metrics--------------------\n",
      "Trainer:  resnet\n",
      "Inf: 0.0582\tGen: 1.0485\tRec: 1.0496\tE: 0.0571\tR: 0.0593\tP: 2.0399\n",
      "--------------------Test Metrics------------------------\n",
      "accuracy: 0.9586\n",
      "\n",
      "[24/100][90/140][Time 37.84]\n",
      "Unified LR across all optimizers: 0.00017061216564201177\n",
      "--------------------Training Metrics--------------------\n",
      "Trainer:  resnet\n",
      "Inf: 0.0580\tGen: 1.0404\tRec: 1.0415\tE: 0.0569\tR: 0.0591\tP: 2.0238\n",
      "--------------------Test Metrics------------------------\n",
      "accuracy: 0.9608\n",
      "\n"
     ]
    },
    {
     "data": {
      "application/vnd.jupyter.widget-view+json": {
       "model_id": "8ffc501376cb491dbeabce97335c484b",
       "version_major": 2,
       "version_minor": 0
      },
      "text/plain": [
       "Iterations:   0%|          | 0/140 [00:00<?, ?it/s]"
      ]
     },
     "metadata": {},
     "output_type": "display_data"
    },
    {
     "name": "stdout",
     "output_type": "stream",
     "text": [
      "[25/100][0/140][Time 38.04]\n",
      "Unified LR across all optimizers: 0.0001702197685499392\n",
      "--------------------Training Metrics--------------------\n",
      "Trainer:  resnet\n",
      "Inf: 0.0564\tGen: 1.0398\tRec: 1.0410\tE: 0.0553\tR: 0.0576\tP: 2.0243\n",
      "--------------------Test Metrics------------------------\n",
      "accuracy: 0.9647\n",
      "\n",
      "[25/100][50/140][Time 37.91]\n",
      "Unified LR across all optimizers: 0.0001698282739461345\n",
      "--------------------Training Metrics--------------------\n",
      "Trainer:  resnet\n",
      "Inf: 0.0551\tGen: 1.0350\tRec: 1.0366\tE: 0.0536\tR: 0.0567\tP: 2.0164\n",
      "--------------------Test Metrics------------------------\n",
      "accuracy: 0.9560\n",
      "\n",
      "[25/100][100/140][Time 37.44]\n",
      "Unified LR across all optimizers: 0.00016943767975493242\n",
      "--------------------Training Metrics--------------------\n",
      "Trainer:  resnet\n",
      "Inf: 0.0585\tGen: 1.0409\tRec: 1.0420\tE: 0.0575\tR: 0.0595\tP: 2.0244\n",
      "--------------------Test Metrics------------------------\n",
      "accuracy: 0.9674\n",
      "\n"
     ]
    },
    {
     "data": {
      "application/vnd.jupyter.widget-view+json": {
       "model_id": "f98497c66fd448d094419ad3a7e6fb3d",
       "version_major": 2,
       "version_minor": 0
      },
      "text/plain": [
       "Iterations:   0%|          | 0/140 [00:00<?, ?it/s]"
      ]
     },
     "metadata": {},
     "output_type": "display_data"
    },
    {
     "name": "stdout",
     "output_type": "stream",
     "text": [
      "[26/100][10/140][Time 36.84]\n",
      "Unified LR across all optimizers: 0.0001690479839054414\n",
      "--------------------Training Metrics--------------------\n",
      "Trainer:  resnet\n",
      "Inf: 0.0557\tGen: 1.0425\tRec: 1.0432\tE: 0.0550\tR: 0.0565\tP: 2.0300\n",
      "--------------------Test Metrics------------------------\n",
      "accuracy: 0.9652\n",
      "\n",
      "[26/100][60/140][Time 37.80]\n",
      "Unified LR across all optimizers: 0.00016865918433153277\n",
      "--------------------Training Metrics--------------------\n",
      "Trainer:  resnet\n",
      "Inf: 0.0561\tGen: 1.0408\tRec: 1.0422\tE: 0.0546\tR: 0.0575\tP: 2.0269\n",
      "--------------------Test Metrics------------------------\n",
      "accuracy: 0.9661\n",
      "\n",
      "[26/100][110/140][Time 37.82]\n",
      "Unified LR across all optimizers: 0.00016827127897182985\n",
      "--------------------Training Metrics--------------------\n",
      "Trainer:  resnet\n",
      "Inf: 0.0579\tGen: 1.0367\tRec: 1.0375\tE: 0.0571\tR: 0.0587\tP: 2.0162\n",
      "--------------------Test Metrics------------------------\n",
      "accuracy: 0.9760\n",
      "\n"
     ]
    },
    {
     "data": {
      "application/vnd.jupyter.widget-view+json": {
       "model_id": "1079ce7e4e6d461e99bbde83b6c96843",
       "version_major": 2,
       "version_minor": 0
      },
      "text/plain": [
       "Iterations:   0%|          | 0/140 [00:00<?, ?it/s]"
      ]
     },
     "metadata": {},
     "output_type": "display_data"
    },
    {
     "name": "stdout",
     "output_type": "stream",
     "text": [
      "[27/100][20/140][Time 37.52]\n",
      "Unified LR across all optimizers: 0.0001678842657696972\n",
      "--------------------Training Metrics--------------------\n",
      "Trainer:  resnet\n",
      "Inf: 0.0570\tGen: 1.0406\tRec: 1.0416\tE: 0.0560\tR: 0.0580\tP: 2.0253\n",
      "--------------------Test Metrics------------------------\n",
      "accuracy: 0.9695\n",
      "\n",
      "[27/100][70/140][Time 37.90]\n",
      "Unified LR across all optimizers: 0.00016749814267322938\n",
      "--------------------Training Metrics--------------------\n",
      "Trainer:  resnet\n",
      "Inf: 0.0585\tGen: 1.0353\tRec: 1.0369\tE: 0.0569\tR: 0.0601\tP: 2.0137\n",
      "--------------------Test Metrics------------------------\n",
      "accuracy: 0.9729\n",
      "\n",
      "[27/100][120/140][Time 37.84]\n",
      "Unified LR across all optimizers: 0.00016711290763524007\n",
      "--------------------Training Metrics--------------------\n",
      "Trainer:  resnet\n",
      "Inf: 0.0547\tGen: 1.0377\tRec: 1.0391\tE: 0.0533\tR: 0.0562\tP: 2.0221\n",
      "--------------------Test Metrics------------------------\n",
      "accuracy: 0.9695\n",
      "\n"
     ]
    },
    {
     "data": {
      "application/vnd.jupyter.widget-view+json": {
       "model_id": "31b34cc4dcfa4a9f858d189e9d031712",
       "version_major": 2,
       "version_minor": 0
      },
      "text/plain": [
       "Iterations:   0%|          | 0/140 [00:00<?, ?it/s]"
      ]
     },
     "metadata": {},
     "output_type": "display_data"
    },
    {
     "name": "stdout",
     "output_type": "stream",
     "text": [
      "[28/100][30/140][Time 37.21]\n",
      "Unified LR across all optimizers: 0.00016672855861325146\n",
      "--------------------Training Metrics--------------------\n",
      "Trainer:  resnet\n",
      "Inf: 0.0548\tGen: 1.0284\tRec: 1.0298\tE: 0.0534\tR: 0.0562\tP: 2.0033\n",
      "--------------------Test Metrics------------------------\n",
      "accuracy: 0.9678\n",
      "\n",
      "[28/100][80/140][Time 37.07]\n",
      "Unified LR across all optimizers: 0.00016634509356948314\n",
      "--------------------Training Metrics--------------------\n",
      "Trainer:  resnet\n",
      "Inf: 0.0533\tGen: 1.0384\tRec: 1.0397\tE: 0.0520\tR: 0.0545\tP: 2.0248\n",
      "--------------------Test Metrics------------------------\n",
      "accuracy: 0.9658\n",
      "\n",
      "[28/100][130/140][Time 38.01]\n",
      "Unified LR across all optimizers: 0.00016596251047084197\n",
      "--------------------Training Metrics--------------------\n",
      "Trainer:  resnet\n",
      "Inf: 0.0549\tGen: 1.0347\tRec: 1.0362\tE: 0.0535\tR: 0.0563\tP: 2.0160\n",
      "--------------------Test Metrics------------------------\n",
      "accuracy: 0.9698\n",
      "\n"
     ]
    },
    {
     "data": {
      "application/vnd.jupyter.widget-view+json": {
       "model_id": "6c091e7a6fd0423fa45a6cc4dde82e9e",
       "version_major": 2,
       "version_minor": 0
      },
      "text/plain": [
       "Iterations:   0%|          | 0/140 [00:00<?, ?it/s]"
      ]
     },
     "metadata": {},
     "output_type": "display_data"
    },
    {
     "name": "stdout",
     "output_type": "stream",
     "text": [
      "[29/100][40/140][Time 37.85]\n",
      "Unified LR across all optimizers: 0.00016558080728890993\n",
      "--------------------Training Metrics--------------------\n",
      "Trainer:  resnet\n",
      "Inf: 0.0538\tGen: 1.0282\tRec: 1.0304\tE: 0.0517\tR: 0.0560\tP: 2.0048\n",
      "--------------------Test Metrics------------------------\n",
      "accuracy: 0.9672\n",
      "\n",
      "[29/100][90/140][Time 37.82]\n",
      "Unified LR across all optimizers: 0.00016519998199993532\n",
      "--------------------Training Metrics--------------------\n",
      "Trainer:  resnet\n",
      "Inf: 0.0555\tGen: 1.0316\tRec: 1.0334\tE: 0.0537\tR: 0.0573\tP: 2.0095\n",
      "--------------------Test Metrics------------------------\n",
      "accuracy: 0.9708\n",
      "\n"
     ]
    },
    {
     "data": {
      "application/vnd.jupyter.widget-view+json": {
       "model_id": "b675333a1a3b4681adcef3c28bddada7",
       "version_major": 2,
       "version_minor": 0
      },
      "text/plain": [
       "Iterations:   0%|          | 0/140 [00:00<?, ?it/s]"
      ]
     },
     "metadata": {},
     "output_type": "display_data"
    },
    {
     "name": "stdout",
     "output_type": "stream",
     "text": [
      "[30/100][0/140][Time 37.83]\n",
      "Unified LR across all optimizers: 0.0001648200325848201\n",
      "--------------------Training Metrics--------------------\n",
      "Trainer:  resnet\n",
      "Inf: 0.0545\tGen: 1.0321\tRec: 1.0332\tE: 0.0533\tR: 0.0556\tP: 2.0108\n",
      "--------------------Test Metrics------------------------\n",
      "accuracy: 0.9629\n",
      "\n",
      "[30/100][50/140][Time 37.79]\n",
      "Unified LR across all optimizers: 0.00016444095702911038\n",
      "--------------------Training Metrics--------------------\n",
      "Trainer:  resnet\n",
      "Inf: 0.0540\tGen: 1.0298\tRec: 1.0317\tE: 0.0522\tR: 0.0559\tP: 2.0075\n",
      "--------------------Test Metrics------------------------\n",
      "accuracy: 0.9743\n",
      "\n",
      "[30/100][100/140][Time 37.78]\n",
      "Unified LR across all optimizers: 0.00016406275332298505\n",
      "--------------------Training Metrics--------------------\n",
      "Trainer:  resnet\n",
      "Inf: 0.0537\tGen: 1.0268\tRec: 1.0284\tE: 0.0521\tR: 0.0553\tP: 2.0015\n",
      "--------------------Test Metrics------------------------\n",
      "accuracy: 0.9784\n",
      "\n"
     ]
    },
    {
     "data": {
      "application/vnd.jupyter.widget-view+json": {
       "model_id": "f95b2db6b696408ebbc1c508a7db302c",
       "version_major": 2,
       "version_minor": 0
      },
      "text/plain": [
       "Iterations:   0%|          | 0/140 [00:00<?, ?it/s]"
      ]
     },
     "metadata": {},
     "output_type": "display_data"
    },
    {
     "name": "stdout",
     "output_type": "stream",
     "text": [
      "[31/100][10/140][Time 37.90]\n",
      "Unified LR across all optimizers: 0.00016368541946124596\n",
      "--------------------Training Metrics--------------------\n",
      "Trainer:  resnet\n",
      "Inf: 0.0535\tGen: 1.0297\tRec: 1.0321\tE: 0.0510\tR: 0.0559\tP: 2.0083\n",
      "--------------------Test Metrics------------------------\n",
      "accuracy: 0.9733\n",
      "\n",
      "[31/100][60/140][Time 37.79]\n",
      "Unified LR across all optimizers: 0.00016330895344330638\n",
      "--------------------Training Metrics--------------------\n",
      "Trainer:  resnet\n",
      "Inf: 0.0528\tGen: 1.0251\tRec: 1.0271\tE: 0.0508\tR: 0.0548\tP: 1.9994\n",
      "--------------------Test Metrics------------------------\n",
      "accuracy: 0.9620\n",
      "\n",
      "[31/100][110/140][Time 37.84]\n",
      "Unified LR across all optimizers: 0.00016293335327318117\n",
      "--------------------Training Metrics--------------------\n",
      "Trainer:  resnet\n",
      "Inf: 0.0531\tGen: 1.0285\tRec: 1.0306\tE: 0.0510\tR: 0.0552\tP: 2.0060\n",
      "--------------------Test Metrics------------------------\n",
      "accuracy: 0.9706\n",
      "\n"
     ]
    },
    {
     "data": {
      "application/vnd.jupyter.widget-view+json": {
       "model_id": "7a955440d32842609e04059032f0443d",
       "version_major": 2,
       "version_minor": 0
      },
      "text/plain": [
       "Iterations:   0%|          | 0/140 [00:00<?, ?it/s]"
      ]
     },
     "metadata": {},
     "output_type": "display_data"
    },
    {
     "name": "stdout",
     "output_type": "stream",
     "text": [
      "[32/100][20/140][Time 37.91]\n",
      "Unified LR across all optimizers: 0.00016255861695947546\n",
      "--------------------Training Metrics--------------------\n",
      "Trainer:  resnet\n",
      "Inf: 0.0516\tGen: 1.0289\tRec: 1.0312\tE: 0.0493\tR: 0.0539\tP: 2.0084\n",
      "--------------------Test Metrics------------------------\n",
      "accuracy: 0.9634\n",
      "\n",
      "[32/100][70/140][Time 37.75]\n",
      "Unified LR across all optimizers: 0.00016218474251537463\n",
      "--------------------Training Metrics--------------------\n",
      "Trainer:  resnet\n",
      "Inf: 0.0533\tGen: 1.0272\tRec: 1.0298\tE: 0.0507\tR: 0.0560\tP: 2.0036\n",
      "--------------------Test Metrics------------------------\n",
      "accuracy: 0.9793\n",
      "\n",
      "[32/100][120/140][Time 37.84]\n",
      "Unified LR across all optimizers: 0.00016181172795863357\n",
      "--------------------Training Metrics--------------------\n",
      "Trainer:  resnet\n",
      "Inf: 0.0535\tGen: 1.0196\tRec: 1.0213\tE: 0.0518\tR: 0.0551\tP: 1.9874\n",
      "--------------------Test Metrics------------------------\n",
      "accuracy: 0.9786\n",
      "\n"
     ]
    },
    {
     "data": {
      "application/vnd.jupyter.widget-view+json": {
       "model_id": "aeaa3e79a79140f5a6e69fecf031eaf9",
       "version_major": 2,
       "version_minor": 0
      },
      "text/plain": [
       "Iterations:   0%|          | 0/140 [00:00<?, ?it/s]"
      ]
     },
     "metadata": {},
     "output_type": "display_data"
    },
    {
     "name": "stdout",
     "output_type": "stream",
     "text": [
      "[33/100][30/140][Time 38.05]\n",
      "Unified LR across all optimizers: 0.0001614395713115662\n",
      "--------------------Training Metrics--------------------\n",
      "Trainer:  resnet\n",
      "Inf: 0.0505\tGen: 1.0194\tRec: 1.0219\tE: 0.0479\tR: 0.0530\tP: 1.9909\n",
      "--------------------Test Metrics------------------------\n",
      "accuracy: 0.9703\n",
      "\n",
      "[33/100][80/140][Time 37.89]\n",
      "Unified LR across all optimizers: 0.00016106827060103523\n",
      "--------------------Training Metrics--------------------\n",
      "Trainer:  resnet\n",
      "Inf: 0.0529\tGen: 1.0237\tRec: 1.0262\tE: 0.0504\tR: 0.0554\tP: 1.9970\n",
      "--------------------Test Metrics------------------------\n",
      "accuracy: 0.9706\n",
      "\n",
      "[33/100][130/140][Time 37.89]\n",
      "Unified LR across all optimizers: 0.00016069782385844109\n",
      "--------------------Training Metrics--------------------\n",
      "Trainer:  resnet\n",
      "Inf: 0.0520\tGen: 1.0169\tRec: 1.0192\tE: 0.0497\tR: 0.0542\tP: 1.9841\n",
      "--------------------Test Metrics------------------------\n",
      "accuracy: 0.9669\n",
      "\n"
     ]
    },
    {
     "data": {
      "application/vnd.jupyter.widget-view+json": {
       "model_id": "9d6b11c0a78740a39edf5027d7931656",
       "version_major": 2,
       "version_minor": 0
      },
      "text/plain": [
       "Iterations:   0%|          | 0/140 [00:00<?, ?it/s]"
      ]
     },
     "metadata": {},
     "output_type": "display_data"
    },
    {
     "name": "stdout",
     "output_type": "stream",
     "text": [
      "[34/100][40/140][Time 37.86]\n",
      "Unified LR across all optimizers: 0.00016032822911971208\n",
      "--------------------Training Metrics--------------------\n",
      "Trainer:  resnet\n",
      "Inf: 0.0512\tGen: 1.0221\tRec: 1.0254\tE: 0.0480\tR: 0.0545\tP: 1.9963\n",
      "--------------------Test Metrics------------------------\n",
      "accuracy: 0.9591\n",
      "\n",
      "[34/100][90/140][Time 37.98]\n",
      "Unified LR across all optimizers: 0.0001599594844252937\n",
      "--------------------Training Metrics--------------------\n",
      "Trainer:  resnet\n",
      "Inf: 0.0506\tGen: 1.0147\tRec: 1.0172\tE: 0.0481\tR: 0.0531\tP: 1.9813\n",
      "--------------------Test Metrics------------------------\n",
      "accuracy: 0.9699\n",
      "\n"
     ]
    },
    {
     "data": {
      "application/vnd.jupyter.widget-view+json": {
       "model_id": "1e4eceddff1d4991a72df0408132ccd0",
       "version_major": 2,
       "version_minor": 0
      },
      "text/plain": [
       "Iterations:   0%|          | 0/140 [00:00<?, ?it/s]"
      ]
     },
     "metadata": {},
     "output_type": "display_data"
    },
    {
     "name": "stdout",
     "output_type": "stream",
     "text": [
      "[35/100][0/140][Time 37.94]\n",
      "Unified LR across all optimizers: 0.00015959158782013816\n",
      "--------------------Training Metrics--------------------\n",
      "Trainer:  resnet\n",
      "Inf: 0.0524\tGen: 1.0215\tRec: 1.0242\tE: 0.0496\tR: 0.0551\tP: 1.9934\n",
      "--------------------Test Metrics------------------------\n",
      "accuracy: 0.9677\n",
      "\n",
      "[35/100][50/140][Time 37.45]\n",
      "Unified LR across all optimizers: 0.00015922453735369438\n",
      "--------------------Training Metrics--------------------\n",
      "Trainer:  resnet\n",
      "Inf: 0.0512\tGen: 1.0160\tRec: 1.0195\tE: 0.0477\tR: 0.0547\tP: 1.9843\n",
      "--------------------Test Metrics------------------------\n",
      "accuracy: 0.9711\n",
      "\n",
      "[35/100][100/140][Time 37.15]\n",
      "Unified LR across all optimizers: 0.00015885833107989733\n",
      "--------------------Training Metrics--------------------\n",
      "Trainer:  resnet\n",
      "Inf: 0.0524\tGen: 1.0204\tRec: 1.0233\tE: 0.0495\tR: 0.0553\tP: 1.9913\n",
      "--------------------Test Metrics------------------------\n",
      "accuracy: 0.9742\n",
      "\n"
     ]
    },
    {
     "data": {
      "application/vnd.jupyter.widget-view+json": {
       "model_id": "47d5799c88284122a11750bbec081646",
       "version_major": 2,
       "version_minor": 0
      },
      "text/plain": [
       "Iterations:   0%|          | 0/140 [00:00<?, ?it/s]"
      ]
     },
     "metadata": {},
     "output_type": "display_data"
    },
    {
     "name": "stdout",
     "output_type": "stream",
     "text": [
      "[36/100][10/140][Time 36.81]\n",
      "Unified LR across all optimizers: 0.00015849296705715778\n",
      "--------------------Training Metrics--------------------\n",
      "Trainer:  resnet\n",
      "Inf: 0.0494\tGen: 1.0144\tRec: 1.0169\tE: 0.0468\tR: 0.0519\tP: 1.9819\n",
      "--------------------Test Metrics------------------------\n",
      "accuracy: 0.9737\n",
      "\n",
      "[36/100][60/140][Time 36.80]\n",
      "Unified LR across all optimizers: 0.0001581284433483521\n",
      "--------------------Training Metrics--------------------\n",
      "Trainer:  resnet\n",
      "Inf: 0.0506\tGen: 1.0153\tRec: 1.0192\tE: 0.0467\tR: 0.0546\tP: 1.9839\n",
      "--------------------Test Metrics------------------------\n",
      "accuracy: 0.9693\n",
      "\n",
      "[36/100][110/140][Time 36.80]\n",
      "Unified LR across all optimizers: 0.00015776475802081183\n",
      "--------------------Training Metrics--------------------\n",
      "Trainer:  resnet\n",
      "Inf: 0.0509\tGen: 1.0158\tRec: 1.0187\tE: 0.0480\tR: 0.0538\tP: 1.9836\n",
      "--------------------Test Metrics------------------------\n",
      "accuracy: 0.9725\n",
      "\n"
     ]
    },
    {
     "data": {
      "application/vnd.jupyter.widget-view+json": {
       "model_id": "f2ad96268a5b460c86a07590b10dcc2b",
       "version_major": 2,
       "version_minor": 0
      },
      "text/plain": [
       "Iterations:   0%|          | 0/140 [00:00<?, ?it/s]"
      ]
     },
     "metadata": {},
     "output_type": "display_data"
    },
    {
     "name": "stdout",
     "output_type": "stream",
     "text": [
      "[37/100][20/140][Time 38.03]\n",
      "Unified LR across all optimizers: 0.00015740190914631356\n",
      "--------------------Training Metrics--------------------\n",
      "Trainer:  resnet\n",
      "Inf: 0.0502\tGen: 1.0087\tRec: 1.0123\tE: 0.0466\tR: 0.0538\tP: 1.9708\n",
      "--------------------Test Metrics------------------------\n",
      "accuracy: 0.9632\n",
      "\n",
      "[37/100][70/140][Time 37.90]\n",
      "Unified LR across all optimizers: 0.0001570398948010687\n",
      "--------------------Training Metrics--------------------\n",
      "Trainer:  resnet\n",
      "Inf: 0.0496\tGen: 1.0063\tRec: 1.0099\tE: 0.0460\tR: 0.0532\tP: 1.9667\n",
      "--------------------Test Metrics------------------------\n",
      "accuracy: 0.9729\n",
      "\n",
      "[37/100][120/140][Time 37.91]\n",
      "Unified LR across all optimizers: 0.00015667871306571324\n",
      "--------------------Training Metrics--------------------\n",
      "Trainer:  resnet\n",
      "Inf: 0.0476\tGen: 1.0106\tRec: 1.0139\tE: 0.0443\tR: 0.0509\tP: 1.9770\n",
      "--------------------Test Metrics------------------------\n",
      "accuracy: 0.9632\n",
      "\n"
     ]
    },
    {
     "data": {
      "application/vnd.jupyter.widget-view+json": {
       "model_id": "2e512c10489d4beb95f3c7515cd14bea",
       "version_major": 2,
       "version_minor": 0
      },
      "text/plain": [
       "Iterations:   0%|          | 0/140 [00:00<?, ?it/s]"
      ]
     },
     "metadata": {},
     "output_type": "display_data"
    },
    {
     "name": "stdout",
     "output_type": "stream",
     "text": [
      "[38/100][30/140][Time 38.08]\n",
      "Unified LR across all optimizers: 0.00015631836202529756\n",
      "--------------------Training Metrics--------------------\n",
      "Trainer:  resnet\n",
      "Inf: 0.0476\tGen: 1.0160\tRec: 1.0198\tE: 0.0439\tR: 0.0513\tP: 1.9882\n",
      "--------------------Test Metrics------------------------\n",
      "accuracy: 0.9715\n",
      "\n",
      "[38/100][80/140][Time 37.73]\n",
      "Unified LR across all optimizers: 0.00015595883976927632\n",
      "--------------------Training Metrics--------------------\n",
      "Trainer:  resnet\n",
      "Inf: 0.0486\tGen: 1.0092\tRec: 1.0132\tE: 0.0447\tR: 0.0525\tP: 1.9738\n",
      "--------------------Test Metrics------------------------\n",
      "accuracy: 0.9753\n",
      "\n",
      "[38/100][130/140][Time 38.21]\n",
      "Unified LR across all optimizers: 0.0001556001443914984\n",
      "--------------------Training Metrics--------------------\n",
      "Trainer:  resnet\n",
      "Inf: 0.0470\tGen: 1.0074\tRec: 1.0111\tE: 0.0433\tR: 0.0506\tP: 1.9716\n",
      "--------------------Test Metrics------------------------\n",
      "accuracy: 0.9642\n",
      "\n"
     ]
    },
    {
     "data": {
      "application/vnd.jupyter.widget-view+json": {
       "model_id": "04f58356501c47d2b9e3c0dfdc1f521d",
       "version_major": 2,
       "version_minor": 0
      },
      "text/plain": [
       "Iterations:   0%|          | 0/140 [00:00<?, ?it/s]"
      ]
     },
     "metadata": {},
     "output_type": "display_data"
    },
    {
     "name": "stdout",
     "output_type": "stream",
     "text": [
      "[39/100][40/140][Time 37.62]\n",
      "Unified LR across all optimizers: 0.0001552422739901963\n",
      "--------------------Training Metrics--------------------\n",
      "Trainer:  resnet\n",
      "Inf: 0.0481\tGen: 1.0033\tRec: 1.0069\tE: 0.0445\tR: 0.0517\tP: 1.9622\n",
      "--------------------Test Metrics------------------------\n",
      "accuracy: 0.9711\n",
      "\n",
      "[39/100][90/140][Time 36.61]\n",
      "Unified LR across all optimizers: 0.00015488522666797712\n",
      "--------------------Training Metrics--------------------\n",
      "Trainer:  resnet\n",
      "Inf: 0.0475\tGen: 1.0069\tRec: 1.0104\tE: 0.0440\tR: 0.0510\tP: 1.9697\n",
      "--------------------Test Metrics------------------------\n",
      "accuracy: 0.9620\n",
      "\n"
     ]
    },
    {
     "data": {
      "application/vnd.jupyter.widget-view+json": {
       "model_id": "81e97f9074e04e84bb4ba1d2940840d1",
       "version_major": 2,
       "version_minor": 0
      },
      "text/plain": [
       "Iterations:   0%|          | 0/140 [00:00<?, ?it/s]"
      ]
     },
     "metadata": {},
     "output_type": "display_data"
    },
    {
     "name": "stdout",
     "output_type": "stream",
     "text": [
      "[40/100][0/140][Time 36.76]\n",
      "Unified LR across all optimizers: 0.00015452900053181137\n",
      "--------------------Training Metrics--------------------\n",
      "Trainer:  resnet\n",
      "Inf: 0.0459\tGen: 1.0104\tRec: 1.0143\tE: 0.0420\tR: 0.0497\tP: 1.9788\n",
      "--------------------Test Metrics------------------------\n",
      "accuracy: 0.9751\n",
      "\n",
      "[40/100][50/140][Time 36.99]\n",
      "Unified LR across all optimizers: 0.00015417359369302347\n",
      "--------------------Training Metrics--------------------\n",
      "Trainer:  resnet\n",
      "Inf: 0.0457\tGen: 1.0062\tRec: 1.0103\tE: 0.0416\tR: 0.0498\tP: 1.9707\n",
      "--------------------Test Metrics------------------------\n",
      "accuracy: 0.9711\n",
      "\n",
      "[40/100][100/140][Time 36.83]\n",
      "Unified LR across all optimizers: 0.00015381900426728195\n",
      "--------------------Training Metrics--------------------\n",
      "Trainer:  resnet\n",
      "Inf: 0.0480\tGen: 1.0056\tRec: 1.0098\tE: 0.0438\tR: 0.0522\tP: 1.9673\n",
      "--------------------Test Metrics------------------------\n",
      "accuracy: 0.9749\n",
      "\n"
     ]
    },
    {
     "data": {
      "application/vnd.jupyter.widget-view+json": {
       "model_id": "dea34885af0b42b2bef17a281d2841a7",
       "version_major": 2,
       "version_minor": 0
      },
      "text/plain": [
       "Iterations:   0%|          | 0/140 [00:00<?, ?it/s]"
      ]
     },
     "metadata": {},
     "output_type": "display_data"
    },
    {
     "name": "stdout",
     "output_type": "stream",
     "text": [
      "[41/100][10/140][Time 36.96]\n",
      "Unified LR across all optimizers: 0.00015346523037458877\n",
      "--------------------Training Metrics--------------------\n",
      "Trainer:  resnet\n",
      "Inf: 0.0469\tGen: 1.0021\tRec: 1.0061\tE: 0.0428\tR: 0.0510\tP: 1.9613\n",
      "--------------------Test Metrics------------------------\n",
      "accuracy: 0.9711\n",
      "\n",
      "[41/100][60/140][Time 36.84]\n",
      "Unified LR across all optimizers: 0.00015311227013926996\n",
      "--------------------Training Metrics--------------------\n",
      "Trainer:  resnet\n",
      "Inf: 0.0458\tGen: 1.0038\tRec: 1.0082\tE: 0.0414\tR: 0.0502\tP: 1.9662\n",
      "--------------------Test Metrics------------------------\n",
      "accuracy: 0.9740\n",
      "\n",
      "[41/100][110/140][Time 36.89]\n",
      "Unified LR across all optimizers: 0.00015276012168996563\n",
      "--------------------Training Metrics--------------------\n",
      "Trainer:  resnet\n",
      "Inf: 0.0464\tGen: 0.9976\tRec: 1.0015\tE: 0.0425\tR: 0.0502\tP: 1.9528\n",
      "--------------------Test Metrics------------------------\n",
      "accuracy: 0.9737\n",
      "\n"
     ]
    },
    {
     "data": {
      "application/vnd.jupyter.widget-view+json": {
       "model_id": "161a6965a8724e7cb5b19bd08f219ff4",
       "version_major": 2,
       "version_minor": 0
      },
      "text/plain": [
       "Iterations:   0%|          | 0/140 [00:00<?, ?it/s]"
      ]
     },
     "metadata": {},
     "output_type": "display_data"
    },
    {
     "name": "stdout",
     "output_type": "stream",
     "text": [
      "[42/100][20/140][Time 36.95]\n",
      "Unified LR across all optimizers: 0.00015240878315961963\n",
      "--------------------Training Metrics--------------------\n",
      "Trainer:  resnet\n",
      "Inf: 0.0457\tGen: 1.0048\tRec: 1.0092\tE: 0.0413\tR: 0.0501\tP: 1.9683\n",
      "--------------------Test Metrics------------------------\n",
      "accuracy: 0.9764\n",
      "\n",
      "[42/100][70/140][Time 36.97]\n",
      "Unified LR across all optimizers: 0.00015205825268547007\n",
      "--------------------Training Metrics--------------------\n",
      "Trainer:  resnet\n",
      "Inf: 0.0446\tGen: 0.9981\tRec: 1.0019\tE: 0.0408\tR: 0.0485\tP: 1.9553\n",
      "--------------------Test Metrics------------------------\n",
      "accuracy: 0.9785\n",
      "\n",
      "[42/100][120/140][Time 36.83]\n",
      "Unified LR across all optimizers: 0.0001517085284090394\n",
      "--------------------Training Metrics--------------------\n",
      "Trainer:  resnet\n",
      "Inf: 0.0460\tGen: 1.0042\tRec: 1.0082\tE: 0.0421\tR: 0.0500\tP: 1.9663\n",
      "--------------------Test Metrics------------------------\n",
      "accuracy: 0.9707\n",
      "\n"
     ]
    },
    {
     "data": {
      "application/vnd.jupyter.widget-view+json": {
       "model_id": "fde76e0a995649f28307918491356e68",
       "version_major": 2,
       "version_minor": 0
      },
      "text/plain": [
       "Iterations:   0%|          | 0/140 [00:00<?, ?it/s]"
      ]
     },
     "metadata": {},
     "output_type": "display_data"
    },
    {
     "name": "stdout",
     "output_type": "stream",
     "text": [
      "[43/100][30/140][Time 36.99]\n",
      "Unified LR across all optimizers: 0.00015135960847612417\n",
      "--------------------Training Metrics--------------------\n",
      "Trainer:  resnet\n",
      "Inf: 0.0454\tGen: 0.9955\tRec: 0.9993\tE: 0.0416\tR: 0.0492\tP: 1.9495\n",
      "--------------------Test Metrics------------------------\n",
      "accuracy: 0.9797\n",
      "\n",
      "[43/100][80/140][Time 36.85]\n",
      "Unified LR across all optimizers: 0.0001510114910367858\n",
      "--------------------Training Metrics--------------------\n",
      "Trainer:  resnet\n",
      "Inf: 0.0460\tGen: 0.9971\tRec: 1.0015\tE: 0.0415\tR: 0.0504\tP: 1.9527\n",
      "--------------------Test Metrics------------------------\n",
      "accuracy: 0.9740\n",
      "\n",
      "[43/100][130/140][Time 36.82]\n",
      "Unified LR across all optimizers: 0.00015066417424534014\n",
      "--------------------Training Metrics--------------------\n",
      "Trainer:  resnet\n",
      "Inf: 0.0443\tGen: 0.9978\tRec: 1.0020\tE: 0.0400\tR: 0.0485\tP: 1.9555\n",
      "--------------------Test Metrics------------------------\n",
      "accuracy: 0.9758\n",
      "\n"
     ]
    },
    {
     "data": {
      "application/vnd.jupyter.widget-view+json": {
       "model_id": "9ab21ca2f5044dccb79615d33ac3344a",
       "version_major": 2,
       "version_minor": 0
      },
      "text/plain": [
       "Iterations:   0%|          | 0/140 [00:00<?, ?it/s]"
      ]
     },
     "metadata": {},
     "output_type": "display_data"
    },
    {
     "name": "stdout",
     "output_type": "stream",
     "text": [
      "[44/100][40/140][Time 36.83]\n",
      "Unified LR across all optimizers: 0.00015031765626034814\n",
      "--------------------Training Metrics--------------------\n",
      "Trainer:  resnet\n",
      "Inf: 0.0433\tGen: 0.9973\tRec: 1.0014\tE: 0.0391\tR: 0.0474\tP: 1.9554\n",
      "--------------------Test Metrics------------------------\n",
      "accuracy: 0.9738\n",
      "\n",
      "[44/100][90/140][Time 37.22]\n",
      "Unified LR across all optimizers: 0.00014997193524460595\n",
      "--------------------Training Metrics--------------------\n",
      "Trainer:  resnet\n",
      "Inf: 0.0441\tGen: 0.9956\tRec: 1.0003\tE: 0.0394\tR: 0.0487\tP: 1.9518\n",
      "--------------------Test Metrics------------------------\n",
      "accuracy: 0.9738\n",
      "\n"
     ]
    },
    {
     "data": {
      "application/vnd.jupyter.widget-view+json": {
       "model_id": "80016b3d23b342b9b0b841a6e88c67be",
       "version_major": 2,
       "version_minor": 0
      },
      "text/plain": [
       "Iterations:   0%|          | 0/140 [00:00<?, ?it/s]"
      ]
     },
     "metadata": {},
     "output_type": "display_data"
    },
    {
     "name": "stdout",
     "output_type": "stream",
     "text": [
      "[45/100][0/140][Time 36.81]\n",
      "Unified LR across all optimizers: 0.00014962700936513516\n",
      "--------------------Training Metrics--------------------\n",
      "Trainer:  resnet\n",
      "Inf: 0.0447\tGen: 0.9996\tRec: 1.0035\tE: 0.0408\tR: 0.0487\tP: 1.9583\n",
      "--------------------Test Metrics------------------------\n",
      "accuracy: 0.9775\n",
      "\n",
      "[45/100][50/140][Time 36.25]\n",
      "Unified LR across all optimizers: 0.00014928287679317315\n",
      "--------------------Training Metrics--------------------\n",
      "Trainer:  resnet\n",
      "Inf: 0.0436\tGen: 0.9974\tRec: 1.0022\tE: 0.0388\tR: 0.0484\tP: 1.9559\n",
      "--------------------Test Metrics------------------------\n",
      "accuracy: 0.9620\n",
      "\n",
      "[45/100][100/140][Time 36.24]\n",
      "Unified LR across all optimizers: 0.0001489395357041632\n",
      "--------------------Training Metrics--------------------\n",
      "Trainer:  resnet\n",
      "Inf: 0.0446\tGen: 0.9977\tRec: 1.0024\tE: 0.0399\tR: 0.0493\tP: 1.9555\n",
      "--------------------Test Metrics------------------------\n",
      "accuracy: 0.9806\n",
      "\n"
     ]
    },
    {
     "data": {
      "application/vnd.jupyter.widget-view+json": {
       "model_id": "c3d6ca0feffe4d0fadfef27035c7fc86",
       "version_major": 2,
       "version_minor": 0
      },
      "text/plain": [
       "Iterations:   0%|          | 0/140 [00:00<?, ?it/s]"
      ]
     },
     "metadata": {},
     "output_type": "display_data"
    },
    {
     "name": "stdout",
     "output_type": "stream",
     "text": [
      "[46/100][10/140][Time 36.37]\n",
      "Unified LR across all optimizers: 0.000148596984277745\n",
      "--------------------Training Metrics--------------------\n",
      "Trainer:  resnet\n",
      "Inf: 0.0469\tGen: 0.9923\tRec: 0.9973\tE: 0.0419\tR: 0.0520\tP: 1.9427\n",
      "--------------------Test Metrics------------------------\n",
      "accuracy: 0.9681\n",
      "\n",
      "[46/100][60/140][Time 37.27]\n",
      "Unified LR across all optimizers: 0.0001482552206977451\n",
      "--------------------Training Metrics--------------------\n",
      "Trainer:  resnet\n",
      "Inf: 0.0438\tGen: 0.9949\tRec: 0.9996\tE: 0.0391\tR: 0.0485\tP: 1.9507\n",
      "--------------------Test Metrics------------------------\n",
      "accuracy: 0.9766\n",
      "\n",
      "[46/100][110/140][Time 37.13]\n",
      "Unified LR across all optimizers: 0.00014791424315216693\n",
      "--------------------Training Metrics--------------------\n",
      "Trainer:  resnet\n",
      "Inf: 0.0433\tGen: 0.9964\tRec: 1.0009\tE: 0.0388\tR: 0.0478\tP: 1.9539\n",
      "--------------------Test Metrics------------------------\n",
      "accuracy: 0.9716\n",
      "\n"
     ]
    },
    {
     "data": {
      "application/vnd.jupyter.widget-view+json": {
       "model_id": "93567891f0eb4eeaa364872cb4e23ad1",
       "version_major": 2,
       "version_minor": 0
      },
      "text/plain": [
       "Iterations:   0%|          | 0/140 [00:00<?, ?it/s]"
      ]
     },
     "metadata": {},
     "output_type": "display_data"
    },
    {
     "name": "stdout",
     "output_type": "stream",
     "text": [
      "[47/100][20/140][Time 36.86]\n",
      "Unified LR across all optimizers: 0.00014757404983318153\n",
      "--------------------Training Metrics--------------------\n",
      "Trainer:  resnet\n",
      "Inf: 0.0420\tGen: 0.9893\tRec: 0.9937\tE: 0.0377\tR: 0.0464\tP: 1.9410\n",
      "--------------------Test Metrics------------------------\n",
      "accuracy: 0.9618\n",
      "\n",
      "[47/100][70/140][Time 37.45]\n",
      "Unified LR across all optimizers: 0.00014723463893711783\n",
      "--------------------Training Metrics--------------------\n",
      "Trainer:  resnet\n",
      "Inf: 0.0413\tGen: 0.9940\tRec: 0.9985\tE: 0.0367\tR: 0.0458\tP: 1.9512\n",
      "--------------------Test Metrics------------------------\n",
      "accuracy: 0.9734\n",
      "\n",
      "[47/100][120/140][Time 36.85]\n",
      "Unified LR across all optimizers: 0.00014689600866445298\n",
      "--------------------Training Metrics--------------------\n",
      "Trainer:  resnet\n",
      "Inf: 0.0444\tGen: 0.9903\tRec: 0.9953\tE: 0.0394\tR: 0.0494\tP: 1.9411\n",
      "--------------------Test Metrics------------------------\n",
      "accuracy: 0.9717\n",
      "\n"
     ]
    },
    {
     "data": {
      "application/vnd.jupyter.widget-view+json": {
       "model_id": "2e25e2d0c33748bdb57fa17a9412d225",
       "version_major": 2,
       "version_minor": 0
      },
      "text/plain": [
       "Iterations:   0%|          | 0/140 [00:00<?, ?it/s]"
      ]
     },
     "metadata": {},
     "output_type": "display_data"
    },
    {
     "name": "stdout",
     "output_type": "stream",
     "text": [
      "[48/100][30/140][Time 37.24]\n",
      "Unified LR across all optimizers: 0.00014655815721980301\n",
      "--------------------Training Metrics--------------------\n",
      "Trainer:  resnet\n",
      "Inf: 0.0435\tGen: 0.9906\tRec: 0.9956\tE: 0.0385\tR: 0.0484\tP: 1.9428\n",
      "--------------------Test Metrics------------------------\n",
      "accuracy: 0.9711\n",
      "\n",
      "[48/100][80/140][Time 36.83]\n",
      "Unified LR across all optimizers: 0.00014622108281191326\n",
      "--------------------Training Metrics--------------------\n",
      "Trainer:  resnet\n",
      "Inf: 0.0424\tGen: 0.9913\tRec: 0.9957\tE: 0.0379\tR: 0.0468\tP: 1.9446\n",
      "--------------------Test Metrics------------------------\n",
      "accuracy: 0.9721\n",
      "\n",
      "[48/100][130/140][Time 36.86]\n",
      "Unified LR across all optimizers: 0.00014588478365364866\n",
      "--------------------Training Metrics--------------------\n",
      "Trainer:  resnet\n",
      "Inf: 0.0439\tGen: 0.9906\tRec: 0.9955\tE: 0.0390\tR: 0.0488\tP: 1.9422\n",
      "--------------------Test Metrics------------------------\n",
      "accuracy: 0.9728\n",
      "\n"
     ]
    },
    {
     "data": {
      "application/vnd.jupyter.widget-view+json": {
       "model_id": "8ba3091501ec428bb71abcd2c702727a",
       "version_major": 2,
       "version_minor": 0
      },
      "text/plain": [
       "Iterations:   0%|          | 0/140 [00:00<?, ?it/s]"
      ]
     },
     "metadata": {},
     "output_type": "display_data"
    },
    {
     "name": "stdout",
     "output_type": "stream",
     "text": [
      "[49/100][40/140][Time 36.86]\n",
      "Unified LR across all optimizers: 0.0001455492579619846\n",
      "--------------------Training Metrics--------------------\n",
      "Trainer:  resnet\n",
      "Inf: 0.0435\tGen: 0.9893\tRec: 0.9946\tE: 0.0383\tR: 0.0488\tP: 1.9404\n",
      "--------------------Test Metrics------------------------\n",
      "accuracy: 0.9792\n",
      "\n",
      "[49/100][90/140][Time 36.84]\n",
      "Unified LR across all optimizers: 0.00014521450395799725\n",
      "--------------------Training Metrics--------------------\n",
      "Trainer:  resnet\n",
      "Inf: 0.0403\tGen: 0.9863\tRec: 0.9909\tE: 0.0356\tR: 0.0450\tP: 1.9369\n",
      "--------------------Test Metrics------------------------\n",
      "accuracy: 0.9673\n",
      "\n"
     ]
    },
    {
     "data": {
      "application/vnd.jupyter.widget-view+json": {
       "model_id": "da4bd69557904b2a98d849e982bf8ce9",
       "version_major": 2,
       "version_minor": 0
      },
      "text/plain": [
       "Iterations:   0%|          | 0/140 [00:00<?, ?it/s]"
      ]
     },
     "metadata": {},
     "output_type": "display_data"
    },
    {
     "name": "stdout",
     "output_type": "stream",
     "text": [
      "[50/100][0/140][Time 36.87]\n",
      "Unified LR across all optimizers: 0.00014488051986685427\n",
      "--------------------Training Metrics--------------------\n",
      "Trainer:  resnet\n",
      "Inf: 0.0428\tGen: 0.9883\tRec: 0.9929\tE: 0.0383\tR: 0.0474\tP: 1.9383\n",
      "--------------------Test Metrics------------------------\n",
      "accuracy: 0.9757\n",
      "\n",
      "[50/100][50/140][Time 36.84]\n",
      "Unified LR across all optimizers: 0.00014454730391780514\n",
      "--------------------Training Metrics--------------------\n",
      "Trainer:  resnet\n",
      "Inf: 0.0393\tGen: 0.9870\tRec: 0.9913\tE: 0.0350\tR: 0.0436\tP: 1.9390\n",
      "--------------------Test Metrics------------------------\n",
      "accuracy: 0.9732\n",
      "\n",
      "[50/100][100/140][Time 36.84]\n",
      "Unified LR across all optimizers: 0.0001442148543441721\n",
      "--------------------Training Metrics--------------------\n",
      "Trainer:  resnet\n",
      "Inf: 0.0429\tGen: 0.9895\tRec: 0.9948\tE: 0.0376\tR: 0.0481\tP: 1.9414\n",
      "--------------------Test Metrics------------------------\n",
      "accuracy: 0.9607\n",
      "\n"
     ]
    },
    {
     "data": {
      "application/vnd.jupyter.widget-view+json": {
       "model_id": "84f2b488cc494a618afc06d82f8233a4",
       "version_major": 2,
       "version_minor": 0
      },
      "text/plain": [
       "Iterations:   0%|          | 0/140 [00:00<?, ?it/s]"
      ]
     },
     "metadata": {},
     "output_type": "display_data"
    },
    {
     "name": "stdout",
     "output_type": "stream",
     "text": [
      "[51/100][10/140][Time 36.88]\n",
      "Unified LR across all optimizers: 0.00014388316938334075\n",
      "--------------------Training Metrics--------------------\n",
      "Trainer:  resnet\n",
      "Inf: 0.0448\tGen: 0.9832\tRec: 0.9883\tE: 0.0397\tR: 0.0498\tP: 1.9267\n",
      "--------------------Test Metrics------------------------\n",
      "accuracy: 0.9803\n",
      "\n",
      "[51/100][60/140][Time 36.84]\n",
      "Unified LR across all optimizers: 0.0001435522472767503\n",
      "--------------------Training Metrics--------------------\n",
      "Trainer:  resnet\n",
      "Inf: 0.0414\tGen: 0.9909\tRec: 0.9957\tE: 0.0365\tR: 0.0462\tP: 1.9452\n",
      "--------------------Test Metrics------------------------\n",
      "accuracy: 0.9733\n",
      "\n",
      "[51/100][110/140][Time 36.83]\n",
      "Unified LR across all optimizers: 0.00014322208626988471\n",
      "--------------------Training Metrics--------------------\n",
      "Trainer:  resnet\n",
      "Inf: 0.0420\tGen: 0.9802\tRec: 0.9852\tE: 0.0371\tR: 0.0469\tP: 1.9234\n",
      "--------------------Test Metrics------------------------\n",
      "accuracy: 0.9655\n",
      "\n"
     ]
    },
    {
     "data": {
      "application/vnd.jupyter.widget-view+json": {
       "model_id": "8e9775d767f1427fbc52970d976835ab",
       "version_major": 2,
       "version_minor": 0
      },
      "text/plain": [
       "Iterations:   0%|          | 0/140 [00:00<?, ?it/s]"
      ]
     },
     "metadata": {},
     "output_type": "display_data"
    },
    {
     "name": "stdout",
     "output_type": "stream",
     "text": [
      "[52/100][20/140][Time 36.80]\n",
      "Unified LR across all optimizers: 0.00014289268461226322\n",
      "--------------------Training Metrics--------------------\n",
      "Trainer:  resnet\n",
      "Inf: 0.0405\tGen: 0.9874\tRec: 0.9922\tE: 0.0357\tR: 0.0452\tP: 1.9391\n",
      "--------------------Test Metrics------------------------\n",
      "accuracy: 0.9714\n",
      "\n",
      "[52/100][70/140][Time 36.84]\n",
      "Unified LR across all optimizers: 0.00014256404055743098\n",
      "--------------------Training Metrics--------------------\n",
      "Trainer:  resnet\n",
      "Inf: 0.0413\tGen: 0.9857\tRec: 0.9907\tE: 0.0363\tR: 0.0462\tP: 1.9351\n",
      "--------------------Test Metrics------------------------\n",
      "accuracy: 0.9734\n",
      "\n",
      "[52/100][120/140][Time 36.76]\n",
      "Unified LR across all optimizers: 0.00014223615236295\n",
      "--------------------Training Metrics--------------------\n",
      "Trainer:  resnet\n",
      "Inf: 0.0424\tGen: 0.9802\tRec: 0.9849\tE: 0.0377\tR: 0.0470\tP: 1.9228\n",
      "--------------------Test Metrics------------------------\n",
      "accuracy: 0.9591\n",
      "\n"
     ]
    },
    {
     "data": {
      "application/vnd.jupyter.widget-view+json": {
       "model_id": "47295caeb96e433e8fa29513899db01e",
       "version_major": 2,
       "version_minor": 0
      },
      "text/plain": [
       "Iterations:   0%|          | 0/140 [00:00<?, ?it/s]"
      ]
     },
     "metadata": {},
     "output_type": "display_data"
    },
    {
     "name": "stdout",
     "output_type": "stream",
     "text": [
      "[53/100][30/140][Time 36.84]\n",
      "Unified LR across all optimizers: 0.0001419090182903897\n",
      "--------------------Training Metrics--------------------\n",
      "Trainer:  resnet\n",
      "Inf: 0.0400\tGen: 0.9879\tRec: 0.9925\tE: 0.0354\tR: 0.0446\tP: 1.9403\n",
      "--------------------Test Metrics------------------------\n",
      "accuracy: 0.9645\n",
      "\n",
      "[53/100][80/140][Time 36.86]\n",
      "Unified LR across all optimizers: 0.00014158263660531755\n",
      "--------------------Training Metrics--------------------\n",
      "Trainer:  resnet\n",
      "Inf: 0.0412\tGen: 0.9859\tRec: 0.9906\tE: 0.0365\tR: 0.0458\tP: 1.9354\n",
      "--------------------Test Metrics------------------------\n",
      "accuracy: 0.9805\n",
      "\n",
      "[53/100][130/140][Time 36.78]\n",
      "Unified LR across all optimizers: 0.00014125700557729063\n",
      "--------------------Training Metrics--------------------\n",
      "Trainer:  resnet\n",
      "Inf: 0.0406\tGen: 0.9785\tRec: 0.9831\tE: 0.0360\tR: 0.0452\tP: 1.9210\n",
      "--------------------Test Metrics------------------------\n",
      "accuracy: 0.9729\n",
      "\n"
     ]
    },
    {
     "data": {
      "application/vnd.jupyter.widget-view+json": {
       "model_id": "eacb639d98ef4daea8dfc4e5991d3ef3",
       "version_major": 2,
       "version_minor": 0
      },
      "text/plain": [
       "Iterations:   0%|          | 0/140 [00:00<?, ?it/s]"
      ]
     },
     "metadata": {},
     "output_type": "display_data"
    },
    {
     "name": "stdout",
     "output_type": "stream",
     "text": [
      "[54/100][40/140][Time 36.79]\n",
      "Unified LR across all optimizers: 0.00014093212347984557\n",
      "--------------------Training Metrics--------------------\n",
      "Trainer:  resnet\n",
      "Inf: 0.0396\tGen: 0.9782\tRec: 0.9829\tE: 0.0349\tR: 0.0442\tP: 1.9215\n",
      "--------------------Test Metrics------------------------\n",
      "accuracy: 0.9794\n",
      "\n",
      "[54/100][90/140][Time 36.85]\n",
      "Unified LR across all optimizers: 0.00014060798859048983\n",
      "--------------------Training Metrics--------------------\n",
      "Trainer:  resnet\n",
      "Inf: 0.0399\tGen: 0.9832\tRec: 0.9877\tE: 0.0354\tR: 0.0444\tP: 1.9311\n",
      "--------------------Test Metrics------------------------\n",
      "accuracy: 0.9770\n",
      "\n"
     ]
    },
    {
     "data": {
      "application/vnd.jupyter.widget-view+json": {
       "model_id": "1efd0beaf3e34d0d9c7692263f991dcb",
       "version_major": 2,
       "version_minor": 0
      },
      "text/plain": [
       "Iterations:   0%|          | 0/140 [00:00<?, ?it/s]"
      ]
     },
     "metadata": {},
     "output_type": "display_data"
    },
    {
     "name": "stdout",
     "output_type": "stream",
     "text": [
      "[55/100][0/140][Time 36.79]\n",
      "Unified LR across all optimizers: 0.00014028459919069257\n",
      "--------------------Training Metrics--------------------\n",
      "Trainer:  resnet\n",
      "Inf: 0.0399\tGen: 0.9810\tRec: 0.9860\tE: 0.0349\tR: 0.0449\tP: 1.9270\n",
      "--------------------Test Metrics------------------------\n",
      "accuracy: 0.9727\n",
      "\n",
      "[55/100][50/140][Time 36.85]\n",
      "Unified LR across all optimizers: 0.00013996195356587524\n",
      "--------------------Training Metrics--------------------\n",
      "Trainer:  resnet\n",
      "Inf: 0.0396\tGen: 0.9794\tRec: 0.9841\tE: 0.0349\tR: 0.0443\tP: 1.9240\n",
      "--------------------Test Metrics------------------------\n",
      "accuracy: 0.9749\n",
      "\n",
      "[55/100][100/140][Time 36.89]\n",
      "Unified LR across all optimizers: 0.0001396400500054029\n",
      "--------------------Training Metrics--------------------\n",
      "Trainer:  resnet\n",
      "Inf: 0.0406\tGen: 0.9790\tRec: 0.9840\tE: 0.0357\tR: 0.0456\tP: 1.9223\n",
      "--------------------Test Metrics------------------------\n",
      "accuracy: 0.9773\n",
      "\n"
     ]
    },
    {
     "data": {
      "application/vnd.jupyter.widget-view+json": {
       "model_id": "45116e283f574759adc0445d2da1b51a",
       "version_major": 2,
       "version_minor": 0
      },
      "text/plain": [
       "Iterations:   0%|          | 0/140 [00:00<?, ?it/s]"
      ]
     },
     "metadata": {},
     "output_type": "display_data"
    },
    {
     "name": "stdout",
     "output_type": "stream",
     "text": [
      "[56/100][10/140][Time 37.33]\n",
      "Unified LR across all optimizers: 0.00013931888680257493\n",
      "--------------------Training Metrics--------------------\n",
      "Trainer:  resnet\n",
      "Inf: 0.0377\tGen: 0.9767\tRec: 0.9811\tE: 0.0333\tR: 0.0421\tP: 1.9200\n",
      "--------------------Test Metrics------------------------\n",
      "accuracy: 0.9672\n",
      "\n",
      "[56/100][60/140][Time 36.32]\n",
      "Unified LR across all optimizers: 0.000138998462254616\n",
      "--------------------Training Metrics--------------------\n",
      "Trainer:  resnet\n",
      "Inf: 0.0393\tGen: 0.9736\tRec: 0.9784\tE: 0.0344\tR: 0.0441\tP: 1.9127\n",
      "--------------------Test Metrics------------------------\n",
      "accuracy: 0.9648\n",
      "\n",
      "[56/100][110/140][Time 36.28]\n",
      "Unified LR across all optimizers: 0.00013867877466266706\n",
      "--------------------Training Metrics--------------------\n",
      "Trainer:  resnet\n",
      "Inf: 0.0383\tGen: 0.9875\tRec: 0.9918\tE: 0.0340\tR: 0.0426\tP: 1.9411\n",
      "--------------------Test Metrics------------------------\n",
      "accuracy: 0.9753\n",
      "\n"
     ]
    },
    {
     "data": {
      "application/vnd.jupyter.widget-view+json": {
       "model_id": "8241ee81bb3e4304b0c02bdab22164b4",
       "version_major": 2,
       "version_minor": 0
      },
      "text/plain": [
       "Iterations:   0%|          | 0/140 [00:00<?, ?it/s]"
      ]
     },
     "metadata": {},
     "output_type": "display_data"
    },
    {
     "name": "stdout",
     "output_type": "stream",
     "text": [
      "[57/100][20/140][Time 36.57]\n",
      "Unified LR across all optimizers: 0.00013835982233177638\n",
      "--------------------Training Metrics--------------------\n",
      "Trainer:  resnet\n",
      "Inf: 0.0397\tGen: 0.9786\tRec: 0.9830\tE: 0.0354\tR: 0.0441\tP: 1.9219\n",
      "--------------------Test Metrics------------------------\n",
      "accuracy: 0.9758\n",
      "\n",
      "[57/100][70/140][Time 36.48]\n",
      "Unified LR across all optimizers: 0.0001380416035708904\n",
      "--------------------Training Metrics--------------------\n",
      "Trainer:  resnet\n",
      "Inf: 0.0393\tGen: 0.9754\tRec: 0.9800\tE: 0.0347\tR: 0.0439\tP: 1.9162\n",
      "--------------------Test Metrics------------------------\n",
      "accuracy: 0.9741\n",
      "\n",
      "[57/100][120/140][Time 36.55]\n",
      "Unified LR across all optimizers: 0.00013772411669284496\n",
      "--------------------Training Metrics--------------------\n",
      "Trainer:  resnet\n",
      "Inf: 0.0390\tGen: 0.9775\tRec: 0.9819\tE: 0.0346\tR: 0.0434\tP: 1.9205\n",
      "--------------------Test Metrics------------------------\n",
      "accuracy: 0.9747\n",
      "\n"
     ]
    },
    {
     "data": {
      "application/vnd.jupyter.widget-view+json": {
       "model_id": "d1a369ea54a744aead7fc127dc0635a0",
       "version_major": 2,
       "version_minor": 0
      },
      "text/plain": [
       "Iterations:   0%|          | 0/140 [00:00<?, ?it/s]"
      ]
     },
     "metadata": {},
     "output_type": "display_data"
    },
    {
     "name": "stdout",
     "output_type": "stream",
     "text": [
      "[58/100][30/140][Time 36.51]\n",
      "Unified LR across all optimizers: 0.00013740736001435612\n",
      "--------------------Training Metrics--------------------\n",
      "Trainer:  resnet\n",
      "Inf: 0.0389\tGen: 0.9764\tRec: 0.9807\tE: 0.0345\tR: 0.0433\tP: 1.9182\n",
      "--------------------Test Metrics------------------------\n",
      "accuracy: 0.9749\n",
      "\n",
      "[58/100][80/140][Time 36.53]\n",
      "Unified LR across all optimizers: 0.0001370913318560116\n",
      "--------------------Training Metrics--------------------\n",
      "Trainer:  resnet\n",
      "Inf: 0.0380\tGen: 0.9739\tRec: 0.9783\tE: 0.0336\tR: 0.0424\tP: 1.9141\n",
      "--------------------Test Metrics------------------------\n",
      "accuracy: 0.9803\n",
      "\n",
      "[58/100][130/140][Time 36.48]\n",
      "Unified LR across all optimizers: 0.00013677603054226164\n",
      "--------------------Training Metrics--------------------\n",
      "Trainer:  resnet\n",
      "Inf: 0.0381\tGen: 0.9790\tRec: 0.9830\tE: 0.0341\tR: 0.0422\tP: 1.9239\n",
      "--------------------Test Metrics------------------------\n",
      "accuracy: 0.9798\n",
      "\n"
     ]
    },
    {
     "data": {
      "application/vnd.jupyter.widget-view+json": {
       "model_id": "cfae214b47e040a89bdff9e34263134d",
       "version_major": 2,
       "version_minor": 0
      },
      "text/plain": [
       "Iterations:   0%|          | 0/140 [00:00<?, ?it/s]"
      ]
     },
     "metadata": {},
     "output_type": "display_data"
    },
    {
     "name": "stdout",
     "output_type": "stream",
     "text": [
      "[59/100][40/140][Time 36.58]\n",
      "Unified LR across all optimizers: 0.00013646145440140986\n",
      "--------------------Training Metrics--------------------\n",
      "Trainer:  resnet\n",
      "Inf: 0.0360\tGen: 0.9728\tRec: 0.9769\tE: 0.0319\tR: 0.0401\tP: 1.9137\n",
      "--------------------Test Metrics------------------------\n",
      "accuracy: 0.9811\n",
      "\n",
      "[59/100][90/140][Time 36.22]\n",
      "Unified LR across all optimizers: 0.000136147601765605\n",
      "--------------------Training Metrics--------------------\n",
      "Trainer:  resnet\n",
      "Inf: 0.0385\tGen: 0.9819\tRec: 0.9864\tE: 0.0340\tR: 0.0430\tP: 1.9298\n",
      "--------------------Test Metrics------------------------\n",
      "accuracy: 0.9753\n",
      "\n"
     ]
    },
    {
     "data": {
      "application/vnd.jupyter.widget-view+json": {
       "model_id": "0afe4943efb4476abac89d3bbcbc5250",
       "version_major": 2,
       "version_minor": 0
      },
      "text/plain": [
       "Iterations:   0%|          | 0/140 [00:00<?, ?it/s]"
      ]
     },
     "metadata": {},
     "output_type": "display_data"
    },
    {
     "name": "stdout",
     "output_type": "stream",
     "text": [
      "[60/100][0/140][Time 36.39]\n",
      "Unified LR across all optimizers: 0.00013583447097083163\n",
      "--------------------Training Metrics--------------------\n",
      "Trainer:  resnet\n",
      "Inf: 0.0400\tGen: 0.9732\tRec: 0.9778\tE: 0.0355\tR: 0.0446\tP: 1.9109\n",
      "--------------------Test Metrics------------------------\n",
      "accuracy: 0.9773\n",
      "\n",
      "[60/100][50/140][Time 36.23]\n",
      "Unified LR across all optimizers: 0.00013552206035690145\n",
      "--------------------Training Metrics--------------------\n",
      "Trainer:  resnet\n",
      "Inf: 0.0373\tGen: 0.9746\tRec: 0.9787\tE: 0.0332\tR: 0.0414\tP: 1.9160\n",
      "--------------------Test Metrics------------------------\n",
      "accuracy: 0.9633\n",
      "\n",
      "[60/100][100/140][Time 36.39]\n",
      "Unified LR across all optimizers: 0.00013521036826744445\n",
      "--------------------Training Metrics--------------------\n",
      "Trainer:  resnet\n",
      "Inf: 0.0372\tGen: 0.9745\tRec: 0.9788\tE: 0.0329\tR: 0.0415\tP: 1.9162\n",
      "--------------------Test Metrics------------------------\n",
      "accuracy: 0.9818\n",
      "\n"
     ]
    },
    {
     "data": {
      "application/vnd.jupyter.widget-view+json": {
       "model_id": "61b316b7c6754171a337f9a5cbc54a31",
       "version_major": 2,
       "version_minor": 0
      },
      "text/plain": [
       "Iterations:   0%|          | 0/140 [00:00<?, ?it/s]"
      ]
     },
     "metadata": {},
     "output_type": "display_data"
    },
    {
     "name": "stdout",
     "output_type": "stream",
     "text": [
      "[61/100][10/140][Time 36.32]\n",
      "Unified LR across all optimizers: 0.00013489939304990025\n",
      "--------------------Training Metrics--------------------\n",
      "Trainer:  resnet\n",
      "Inf: 0.0377\tGen: 0.9789\tRec: 0.9831\tE: 0.0335\tR: 0.0419\tP: 1.9242\n",
      "--------------------Test Metrics------------------------\n",
      "accuracy: 0.9814\n",
      "\n",
      "[61/100][60/140][Time 36.20]\n",
      "Unified LR across all optimizers: 0.00013458913305550914\n",
      "--------------------Training Metrics--------------------\n",
      "Trainer:  resnet\n",
      "Inf: 0.0369\tGen: 0.9757\tRec: 0.9801\tE: 0.0324\tR: 0.0413\tP: 1.9189\n",
      "--------------------Test Metrics------------------------\n",
      "accuracy: 0.9773\n",
      "\n",
      "[61/100][110/140][Time 36.31]\n",
      "Unified LR across all optimizers: 0.00013427958663930363\n",
      "--------------------Training Metrics--------------------\n",
      "Trainer:  resnet\n",
      "Inf: 0.0364\tGen: 0.9678\tRec: 0.9719\tE: 0.0323\tR: 0.0405\tP: 1.9033\n",
      "--------------------Test Metrics------------------------\n",
      "accuracy: 0.9757\n",
      "\n"
     ]
    },
    {
     "data": {
      "application/vnd.jupyter.widget-view+json": {
       "model_id": "fa981f33876745528c3e0b8a0cc21abd",
       "version_major": 2,
       "version_minor": 0
      },
      "text/plain": [
       "Iterations:   0%|          | 0/140 [00:00<?, ?it/s]"
      ]
     },
     "metadata": {},
     "output_type": "display_data"
    },
    {
     "name": "stdout",
     "output_type": "stream",
     "text": [
      "[62/100][20/140][Time 36.31]\n",
      "Unified LR across all optimizers: 0.00013397075216009928\n",
      "--------------------Training Metrics--------------------\n",
      "Trainer:  resnet\n",
      "Inf: 0.0376\tGen: 0.9758\tRec: 0.9797\tE: 0.0337\tR: 0.0414\tP: 1.9180\n",
      "--------------------Test Metrics------------------------\n",
      "accuracy: 0.9816\n",
      "\n",
      "[62/100][70/140][Time 36.31]\n",
      "Unified LR across all optimizers: 0.00013366262798048648\n",
      "--------------------Training Metrics--------------------\n",
      "Trainer:  resnet\n",
      "Inf: 0.0372\tGen: 0.9640\tRec: 0.9686\tE: 0.0326\tR: 0.0418\tP: 1.8954\n",
      "--------------------Test Metrics------------------------\n",
      "accuracy: 0.9750\n",
      "\n",
      "[62/100][120/140][Time 36.32]\n",
      "Unified LR across all optimizers: 0.00013335521246682152\n",
      "--------------------Training Metrics--------------------\n",
      "Trainer:  resnet\n",
      "Inf: 0.0376\tGen: 0.9747\tRec: 0.9789\tE: 0.0334\tR: 0.0417\tP: 1.9161\n",
      "--------------------Test Metrics------------------------\n",
      "accuracy: 0.9792\n",
      "\n"
     ]
    },
    {
     "data": {
      "application/vnd.jupyter.widget-view+json": {
       "model_id": "70e83183617c48bc8bdb2ab41ce6e7bd",
       "version_major": 2,
       "version_minor": 0
      },
      "text/plain": [
       "Iterations:   0%|          | 0/140 [00:00<?, ?it/s]"
      ]
     },
     "metadata": {},
     "output_type": "display_data"
    },
    {
     "name": "stdout",
     "output_type": "stream",
     "text": [
      "[63/100][30/140][Time 36.20]\n",
      "Unified LR across all optimizers: 0.00013304850398921782\n",
      "--------------------Training Metrics--------------------\n",
      "Trainer:  resnet\n",
      "Inf: 0.0367\tGen: 0.9768\tRec: 0.9812\tE: 0.0324\tR: 0.0411\tP: 1.9213\n",
      "--------------------Test Metrics------------------------\n",
      "accuracy: 0.9638\n",
      "\n",
      "[63/100][80/140][Time 36.31]\n",
      "Unified LR across all optimizers: 0.00013274250092153782\n",
      "--------------------Training Metrics--------------------\n",
      "Trainer:  resnet\n",
      "Inf: 0.0394\tGen: 0.9757\tRec: 0.9804\tE: 0.0347\tR: 0.0441\tP: 1.9166\n",
      "--------------------Test Metrics------------------------\n",
      "accuracy: 0.9749\n",
      "\n",
      "[63/100][130/140][Time 36.22]\n",
      "Unified LR across all optimizers: 0.00013243720164138364\n",
      "--------------------Training Metrics--------------------\n",
      "Trainer:  resnet\n",
      "Inf: 0.0396\tGen: 0.9731\tRec: 0.9777\tE: 0.0350\tR: 0.0442\tP: 1.9112\n",
      "--------------------Test Metrics------------------------\n",
      "accuracy: 0.9652\n",
      "\n"
     ]
    },
    {
     "data": {
      "application/vnd.jupyter.widget-view+json": {
       "model_id": "f670d315ed274c8197c93e1366b9b334",
       "version_major": 2,
       "version_minor": 0
      },
      "text/plain": [
       "Iterations:   0%|          | 0/140 [00:00<?, ?it/s]"
      ]
     },
     "metadata": {},
     "output_type": "display_data"
    },
    {
     "name": "stdout",
     "output_type": "stream",
     "text": [
      "[64/100][40/140][Time 36.32]\n",
      "Unified LR across all optimizers: 0.00013213260453008872\n",
      "--------------------Training Metrics--------------------\n",
      "Trainer:  resnet\n",
      "Inf: 0.0392\tGen: 0.9703\tRec: 0.9750\tE: 0.0345\tR: 0.0438\tP: 1.9061\n",
      "--------------------Test Metrics------------------------\n",
      "accuracy: 0.9633\n",
      "\n",
      "[64/100][90/140][Time 36.31]\n",
      "Unified LR across all optimizers: 0.00013182870797270977\n",
      "--------------------Training Metrics--------------------\n",
      "Trainer:  resnet\n",
      "Inf: 0.0388\tGen: 0.9682\tRec: 0.9731\tE: 0.0340\tR: 0.0437\tP: 1.9024\n",
      "--------------------Test Metrics------------------------\n",
      "accuracy: 0.9767\n",
      "\n"
     ]
    },
    {
     "data": {
      "application/vnd.jupyter.widget-view+json": {
       "model_id": "9cb8a0d8a9724d1c89b6e66198552d9b",
       "version_major": 2,
       "version_minor": 0
      },
      "text/plain": [
       "Iterations:   0%|          | 0/140 [00:00<?, ?it/s]"
      ]
     },
     "metadata": {},
     "output_type": "display_data"
    },
    {
     "name": "stdout",
     "output_type": "stream",
     "text": [
      "[65/100][0/140][Time 36.18]\n",
      "Unified LR across all optimizers: 0.0001315255103580172\n",
      "--------------------Training Metrics--------------------\n",
      "Trainer:  resnet\n",
      "Inf: 0.0377\tGen: 0.9755\tRec: 0.9799\tE: 0.0333\tR: 0.0420\tP: 1.9177\n",
      "--------------------Test Metrics------------------------\n",
      "accuracy: 0.9658\n",
      "\n",
      "[65/100][50/140][Time 36.26]\n",
      "Unified LR across all optimizers: 0.00013122301007848758\n",
      "--------------------Training Metrics--------------------\n",
      "Trainer:  resnet\n",
      "Inf: 0.0382\tGen: 0.9689\tRec: 0.9736\tE: 0.0335\tR: 0.0428\tP: 1.9043\n",
      "--------------------Test Metrics------------------------\n",
      "accuracy: 0.9796\n",
      "\n",
      "[65/100][100/140][Time 36.15]\n",
      "Unified LR across all optimizers: 0.00013092120553029462\n",
      "--------------------Training Metrics--------------------\n",
      "Trainer:  resnet\n",
      "Inf: 0.0374\tGen: 0.9705\tRec: 0.9743\tE: 0.0335\tR: 0.0413\tP: 1.9074\n",
      "--------------------Test Metrics------------------------\n",
      "accuracy: 0.9599\n",
      "\n"
     ]
    },
    {
     "data": {
      "application/vnd.jupyter.widget-view+json": {
       "model_id": "ef02b7ca9dd3407ea0ed61d4b91e4e29",
       "version_major": 2,
       "version_minor": 0
      },
      "text/plain": [
       "Iterations:   0%|          | 0/140 [00:00<?, ?it/s]"
      ]
     },
     "metadata": {},
     "output_type": "display_data"
    },
    {
     "name": "stdout",
     "output_type": "stream",
     "text": [
      "[66/100][10/140][Time 36.24]\n",
      "Unified LR across all optimizers: 0.00013062009511330047\n",
      "--------------------Training Metrics--------------------\n",
      "Trainer:  resnet\n",
      "Inf: 0.0368\tGen: 0.9712\tRec: 0.9753\tE: 0.0327\tR: 0.0409\tP: 1.9097\n",
      "--------------------Test Metrics------------------------\n",
      "accuracy: 0.9788\n",
      "\n",
      "[66/100][60/140][Time 36.22]\n",
      "Unified LR across all optimizers: 0.0001303196772310477\n",
      "--------------------Training Metrics--------------------\n",
      "Trainer:  resnet\n",
      "Inf: 0.0355\tGen: 0.9766\tRec: 0.9806\tE: 0.0314\tR: 0.0395\tP: 1.9218\n",
      "--------------------Test Metrics------------------------\n",
      "accuracy: 0.9717\n",
      "\n",
      "[66/100][110/140][Time 36.30]\n",
      "Unified LR across all optimizers: 0.00013001995029075084\n",
      "--------------------Training Metrics--------------------\n",
      "Trainer:  resnet\n",
      "Inf: 0.0382\tGen: 0.9631\tRec: 0.9675\tE: 0.0339\tR: 0.0425\tP: 1.8924\n",
      "--------------------Test Metrics------------------------\n",
      "accuracy: 0.9664\n",
      "\n"
     ]
    },
    {
     "data": {
      "application/vnd.jupyter.widget-view+json": {
       "model_id": "6e3923b8a4114a359d5ec015e8ca67f8",
       "version_major": 2,
       "version_minor": 0
      },
      "text/plain": [
       "Iterations:   0%|          | 0/140 [00:00<?, ?it/s]"
      ]
     },
     "metadata": {},
     "output_type": "display_data"
    },
    {
     "name": "stdout",
     "output_type": "stream",
     "text": [
      "[67/100][20/140][Time 36.32]\n",
      "Unified LR across all optimizers: 0.00012972091270328727\n",
      "--------------------Training Metrics--------------------\n",
      "Trainer:  resnet\n",
      "Inf: 0.0387\tGen: 0.9685\tRec: 0.9728\tE: 0.0343\tR: 0.0430\tP: 1.9026\n",
      "--------------------Test Metrics------------------------\n",
      "accuracy: 0.9701\n",
      "\n",
      "[67/100][70/140][Time 36.39]\n",
      "Unified LR across all optimizers: 0.00012942256288318946\n",
      "--------------------Training Metrics--------------------\n",
      "Trainer:  resnet\n",
      "Inf: 0.0367\tGen: 0.9735\tRec: 0.9777\tE: 0.0325\tR: 0.0408\tP: 1.9145\n",
      "--------------------Test Metrics------------------------\n",
      "accuracy: 0.9793\n",
      "\n",
      "[67/100][120/140][Time 36.35]\n",
      "Unified LR across all optimizers: 0.00012912489924863657\n",
      "--------------------Training Metrics--------------------\n",
      "Trainer:  resnet\n",
      "Inf: 0.0356\tGen: 0.9666\tRec: 0.9706\tE: 0.0315\tR: 0.0396\tP: 1.9016\n",
      "--------------------Test Metrics------------------------\n",
      "accuracy: 0.9641\n",
      "\n"
     ]
    },
    {
     "data": {
      "application/vnd.jupyter.widget-view+json": {
       "model_id": "ebe363be6c114021a4eddf34dece4947",
       "version_major": 2,
       "version_minor": 0
      },
      "text/plain": [
       "Iterations:   0%|          | 0/140 [00:00<?, ?it/s]"
      ]
     },
     "metadata": {},
     "output_type": "display_data"
    },
    {
     "name": "stdout",
     "output_type": "stream",
     "text": [
      "[68/100][30/140][Time 36.23]\n",
      "Unified LR across all optimizers: 0.00012882792022144538\n",
      "--------------------Training Metrics--------------------\n",
      "Trainer:  resnet\n",
      "Inf: 0.0342\tGen: 0.9615\tRec: 0.9653\tE: 0.0304\tR: 0.0380\tP: 1.8926\n",
      "--------------------Test Metrics------------------------\n",
      "accuracy: 0.9728\n",
      "\n",
      "[68/100][80/140][Time 36.29]\n",
      "Unified LR across all optimizers: 0.0001285316242270628\n",
      "--------------------Training Metrics--------------------\n",
      "Trainer:  resnet\n",
      "Inf: 0.0355\tGen: 0.9664\tRec: 0.9703\tE: 0.0317\tR: 0.0394\tP: 1.9011\n",
      "--------------------Test Metrics------------------------\n",
      "accuracy: 0.9671\n",
      "\n",
      "[68/100][130/140][Time 36.18]\n",
      "Unified LR across all optimizers: 0.00012823600969455687\n",
      "--------------------Training Metrics--------------------\n",
      "Trainer:  resnet\n",
      "Inf: 0.0365\tGen: 0.9735\tRec: 0.9778\tE: 0.0322\tR: 0.0408\tP: 1.9148\n",
      "--------------------Test Metrics------------------------\n",
      "accuracy: 0.9786\n",
      "\n"
     ]
    },
    {
     "data": {
      "application/vnd.jupyter.widget-view+json": {
       "model_id": "322db74273ba4832a64d368aef297b99",
       "version_major": 2,
       "version_minor": 0
      },
      "text/plain": [
       "Iterations:   0%|          | 0/140 [00:00<?, ?it/s]"
      ]
     },
     "metadata": {},
     "output_type": "display_data"
    },
    {
     "name": "stdout",
     "output_type": "stream",
     "text": [
      "[69/100][40/140][Time 36.23]\n",
      "Unified LR across all optimizers: 0.00012794107505660892\n",
      "--------------------Training Metrics--------------------\n",
      "Trainer:  resnet\n",
      "Inf: 0.0348\tGen: 0.9660\tRec: 0.9696\tE: 0.0313\tR: 0.0384\tP: 1.9008\n",
      "--------------------Test Metrics------------------------\n",
      "accuracy: 0.9595\n",
      "\n",
      "[69/100][90/140][Time 36.21]\n",
      "Unified LR across all optimizers: 0.00012764681874950478\n",
      "--------------------Training Metrics--------------------\n",
      "Trainer:  resnet\n",
      "Inf: 0.0370\tGen: 0.9664\tRec: 0.9707\tE: 0.0327\tR: 0.0414\tP: 1.9000\n",
      "--------------------Test Metrics------------------------\n",
      "accuracy: 0.9785\n",
      "\n"
     ]
    },
    {
     "data": {
      "application/vnd.jupyter.widget-view+json": {
       "model_id": "d232cc3b9f504459b2e0d642b21875eb",
       "version_major": 2,
       "version_minor": 0
      },
      "text/plain": [
       "Iterations:   0%|          | 0/140 [00:00<?, ?it/s]"
      ]
     },
     "metadata": {},
     "output_type": "display_data"
    },
    {
     "name": "stdout",
     "output_type": "stream",
     "text": [
      "[70/100][0/140][Time 36.35]\n",
      "Unified LR across all optimizers: 0.00012735323921312684\n",
      "--------------------Training Metrics--------------------\n",
      "Trainer:  resnet\n",
      "Inf: 0.0354\tGen: 0.9661\tRec: 0.9702\tE: 0.0313\tR: 0.0395\tP: 1.9010\n",
      "--------------------Test Metrics------------------------\n",
      "accuracy: 0.9616\n",
      "\n",
      "[70/100][50/140][Time 36.21]\n",
      "Unified LR across all optimizers: 0.00012706033489094548\n",
      "--------------------Training Metrics--------------------\n",
      "Trainer:  resnet\n",
      "Inf: 0.0347\tGen: 0.9676\tRec: 0.9716\tE: 0.0308\tR: 0.0387\tP: 1.9044\n",
      "--------------------Test Metrics------------------------\n",
      "accuracy: 0.9793\n",
      "\n",
      "[70/100][100/140][Time 36.23]\n",
      "Unified LR across all optimizers: 0.0001267681042300112\n",
      "--------------------Training Metrics--------------------\n",
      "Trainer:  resnet\n",
      "Inf: 0.0350\tGen: 0.9622\tRec: 0.9661\tE: 0.0311\tR: 0.0388\tP: 1.8933\n",
      "--------------------Test Metrics------------------------\n",
      "accuracy: 0.9777\n",
      "\n"
     ]
    },
    {
     "data": {
      "application/vnd.jupyter.widget-view+json": {
       "model_id": "f60d6ef08c4c4f889724fb243fde3500",
       "version_major": 2,
       "version_minor": 0
      },
      "text/plain": [
       "Iterations:   0%|          | 0/140 [00:00<?, ?it/s]"
      ]
     },
     "metadata": {},
     "output_type": "display_data"
    },
    {
     "name": "stdout",
     "output_type": "stream",
     "text": [
      "[71/100][10/140][Time 36.40]\n",
      "Unified LR across all optimizers: 0.00012647654568094627\n",
      "--------------------Training Metrics--------------------\n",
      "Trainer:  resnet\n",
      "Inf: 0.0351\tGen: 0.9637\tRec: 0.9676\tE: 0.0312\tR: 0.0390\tP: 1.8962\n",
      "--------------------Test Metrics------------------------\n",
      "accuracy: 0.9751\n",
      "\n",
      "[71/100][60/140][Time 36.60]\n",
      "Unified LR across all optimizers: 0.0001261856576979362\n",
      "--------------------Training Metrics--------------------\n",
      "Trainer:  resnet\n",
      "Inf: 0.0351\tGen: 0.9622\tRec: 0.9662\tE: 0.0311\tR: 0.0391\tP: 1.8932\n",
      "--------------------Test Metrics------------------------\n",
      "accuracy: 0.9741\n",
      "\n",
      "[71/100][110/140][Time 36.36]\n",
      "Unified LR across all optimizers: 0.00012589543873872184\n",
      "--------------------Training Metrics--------------------\n",
      "Trainer:  resnet\n",
      "Inf: 0.0361\tGen: 0.9618\tRec: 0.9656\tE: 0.0323\tR: 0.0399\tP: 1.8913\n",
      "--------------------Test Metrics------------------------\n",
      "accuracy: 0.9721\n",
      "\n"
     ]
    },
    {
     "data": {
      "application/vnd.jupyter.widget-view+json": {
       "model_id": "8e733cbae4694d6797e8d622053d7664",
       "version_major": 2,
       "version_minor": 0
      },
      "text/plain": [
       "Iterations:   0%|          | 0/140 [00:00<?, ?it/s]"
      ]
     },
     "metadata": {},
     "output_type": "display_data"
    },
    {
     "name": "stdout",
     "output_type": "stream",
     "text": [
      "[72/100][20/140][Time 36.30]\n",
      "Unified LR across all optimizers: 0.0001256058872645911\n",
      "--------------------Training Metrics--------------------\n",
      "Trainer:  resnet\n",
      "Inf: 0.0339\tGen: 0.9619\tRec: 0.9655\tE: 0.0303\tR: 0.0374\tP: 1.8936\n",
      "--------------------Test Metrics------------------------\n",
      "accuracy: 0.9796\n",
      "\n",
      "[72/100][70/140][Time 36.18]\n",
      "Unified LR across all optimizers: 0.0001253170017403709\n",
      "--------------------Training Metrics--------------------\n",
      "Trainer:  resnet\n",
      "Inf: 0.0346\tGen: 0.9667\tRec: 0.9704\tE: 0.0309\tR: 0.0383\tP: 1.9025\n",
      "--------------------Test Metrics------------------------\n",
      "accuracy: 0.9788\n",
      "\n",
      "[72/100][120/140][Time 36.57]\n",
      "Unified LR across all optimizers: 0.00012502878063441907\n",
      "--------------------Training Metrics--------------------\n",
      "Trainer:  resnet\n",
      "Inf: 0.0345\tGen: 0.9644\tRec: 0.9685\tE: 0.0305\tR: 0.0385\tP: 1.8984\n",
      "--------------------Test Metrics------------------------\n",
      "accuracy: 0.9727\n",
      "\n"
     ]
    },
    {
     "data": {
      "application/vnd.jupyter.widget-view+json": {
       "model_id": "bc0926c0d4e2415b8f850c9bf218139c",
       "version_major": 2,
       "version_minor": 0
      },
      "text/plain": [
       "Iterations:   0%|          | 0/140 [00:00<?, ?it/s]"
      ]
     },
     "metadata": {},
     "output_type": "display_data"
    },
    {
     "name": "stdout",
     "output_type": "stream",
     "text": [
      "[73/100][30/140][Time 36.36]\n",
      "Unified LR across all optimizers: 0.00012474122241861593\n",
      "--------------------Training Metrics--------------------\n",
      "Trainer:  resnet\n",
      "Inf: 0.0358\tGen: 0.9645\tRec: 0.9684\tE: 0.0319\tR: 0.0398\tP: 1.8971\n",
      "--------------------Test Metrics------------------------\n",
      "accuracy: 0.9779\n",
      "\n",
      "[73/100][80/140][Time 36.25]\n",
      "Unified LR across all optimizers: 0.00012445432556835634\n",
      "--------------------Training Metrics--------------------\n",
      "Trainer:  resnet\n",
      "Inf: 0.0354\tGen: 0.9604\tRec: 0.9645\tE: 0.0313\tR: 0.0394\tP: 1.8896\n",
      "--------------------Test Metrics------------------------\n",
      "accuracy: 0.9759\n",
      "\n",
      "[73/100][130/140][Time 36.20]\n",
      "Unified LR across all optimizers: 0.00012416808856254195\n",
      "--------------------Training Metrics--------------------\n",
      "Trainer:  resnet\n",
      "Inf: 0.0347\tGen: 0.9652\tRec: 0.9691\tE: 0.0308\tR: 0.0386\tP: 1.8995\n",
      "--------------------Test Metrics------------------------\n",
      "accuracy: 0.9734\n",
      "\n"
     ]
    },
    {
     "data": {
      "application/vnd.jupyter.widget-view+json": {
       "model_id": "2ed161cd9dc7404ba692d213f7b451eb",
       "version_major": 2,
       "version_minor": 0
      },
      "text/plain": [
       "Iterations:   0%|          | 0/140 [00:00<?, ?it/s]"
      ]
     },
     "metadata": {},
     "output_type": "display_data"
    },
    {
     "name": "stdout",
     "output_type": "stream",
     "text": [
      "[74/100][40/140][Time 36.25]\n",
      "Unified LR across all optimizers: 0.00012388250988357253\n",
      "--------------------Training Metrics--------------------\n",
      "Trainer:  resnet\n",
      "Inf: 0.0330\tGen: 0.9646\tRec: 0.9682\tE: 0.0294\tR: 0.0366\tP: 1.8998\n",
      "--------------------Test Metrics------------------------\n",
      "accuracy: 0.9737\n",
      "\n",
      "[74/100][90/140][Time 36.32]\n",
      "Unified LR across all optimizers: 0.00012359758801733836\n",
      "--------------------Training Metrics--------------------\n",
      "Trainer:  resnet\n",
      "Inf: 0.0348\tGen: 0.9581\tRec: 0.9618\tE: 0.0311\tR: 0.0386\tP: 1.8851\n",
      "--------------------Test Metrics------------------------\n",
      "accuracy: 0.9792\n",
      "\n"
     ]
    },
    {
     "data": {
      "application/vnd.jupyter.widget-view+json": {
       "model_id": "d381ab7bc7be4548b3bfe0eac7bbb77c",
       "version_major": 2,
       "version_minor": 0
      },
      "text/plain": [
       "Iterations:   0%|          | 0/140 [00:00<?, ?it/s]"
      ]
     },
     "metadata": {},
     "output_type": "display_data"
    },
    {
     "name": "stdout",
     "output_type": "stream",
     "text": [
      "[75/100][0/140][Time 36.27]\n",
      "Unified LR across all optimizers: 0.00012331332145321206\n",
      "--------------------Training Metrics--------------------\n",
      "Trainer:  resnet\n",
      "Inf: 0.0364\tGen: 0.9639\tRec: 0.9682\tE: 0.0320\tR: 0.0407\tP: 1.8958\n",
      "--------------------Test Metrics------------------------\n",
      "accuracy: 0.9720\n",
      "\n",
      "[75/100][50/140][Time 36.20]\n",
      "Unified LR across all optimizers: 0.0001230297086840406\n",
      "--------------------Training Metrics--------------------\n",
      "Trainer:  resnet\n",
      "Inf: 0.0321\tGen: 0.9578\tRec: 0.9611\tE: 0.0288\tR: 0.0355\tP: 1.8867\n",
      "--------------------Test Metrics------------------------\n",
      "accuracy: 0.9738\n",
      "\n",
      "[75/100][100/140][Time 36.30]\n",
      "Unified LR across all optimizers: 0.0001227467482061374\n",
      "--------------------Training Metrics--------------------\n",
      "Trainer:  resnet\n",
      "Inf: 0.0358\tGen: 0.9669\tRec: 0.9710\tE: 0.0318\tR: 0.0398\tP: 1.9021\n",
      "--------------------Test Metrics------------------------\n",
      "accuracy: 0.9737\n",
      "\n"
     ]
    },
    {
     "data": {
      "application/vnd.jupyter.widget-view+json": {
       "model_id": "727070edfb26449ab35a359215fd1669",
       "version_major": 2,
       "version_minor": 0
      },
      "text/plain": [
       "Iterations:   0%|          | 0/140 [00:00<?, ?it/s]"
      ]
     },
     "metadata": {},
     "output_type": "display_data"
    },
    {
     "name": "stdout",
     "output_type": "stream",
     "text": [
      "[76/100][10/140][Time 36.29]\n",
      "Unified LR across all optimizers: 0.00012246443851927411\n",
      "--------------------Training Metrics--------------------\n",
      "Trainer:  resnet\n",
      "Inf: 0.0366\tGen: 0.9582\tRec: 0.9627\tE: 0.0321\tR: 0.0411\tP: 1.8842\n",
      "--------------------Test Metrics------------------------\n",
      "accuracy: 0.9777\n",
      "\n",
      "[76/100][60/140][Time 36.28]\n",
      "Unified LR across all optimizers: 0.0001221827781266729\n",
      "--------------------Training Metrics--------------------\n",
      "Trainer:  resnet\n",
      "Inf: 0.0357\tGen: 0.9648\tRec: 0.9688\tE: 0.0317\tR: 0.0397\tP: 1.8979\n",
      "--------------------Test Metrics------------------------\n",
      "accuracy: 0.9727\n",
      "\n",
      "[76/100][110/140][Time 36.28]\n",
      "Unified LR across all optimizers: 0.00012190176553499844\n",
      "--------------------Training Metrics--------------------\n",
      "Trainer:  resnet\n",
      "Inf: 0.0355\tGen: 0.9611\tRec: 0.9650\tE: 0.0316\tR: 0.0394\tP: 1.8905\n",
      "--------------------Test Metrics------------------------\n",
      "accuracy: 0.9784\n",
      "\n"
     ]
    },
    {
     "data": {
      "application/vnd.jupyter.widget-view+json": {
       "model_id": "9998a48ac92846dba2cc9ad9d206d84d",
       "version_major": 2,
       "version_minor": 0
      },
      "text/plain": [
       "Iterations:   0%|          | 0/140 [00:00<?, ?it/s]"
      ]
     },
     "metadata": {},
     "output_type": "display_data"
    },
    {
     "name": "stdout",
     "output_type": "stream",
     "text": [
      "[77/100][20/140][Time 36.17]\n",
      "Unified LR across all optimizers: 0.00012162139925434979\n",
      "--------------------Training Metrics--------------------\n",
      "Trainer:  resnet\n",
      "Inf: 0.0345\tGen: 0.9618\tRec: 0.9656\tE: 0.0306\tR: 0.0383\tP: 1.8930\n",
      "--------------------Test Metrics------------------------\n",
      "accuracy: 0.9803\n",
      "\n",
      "[77/100][70/140][Time 36.27]\n",
      "Unified LR across all optimizers: 0.00012134167779825302\n",
      "--------------------Training Metrics--------------------\n",
      "Trainer:  resnet\n",
      "Inf: 0.0350\tGen: 0.9595\tRec: 0.9635\tE: 0.0310\tR: 0.0390\tP: 1.8880\n",
      "--------------------Test Metrics------------------------\n",
      "accuracy: 0.9556\n",
      "\n",
      "[77/100][120/140][Time 36.33]\n",
      "Unified LR across all optimizers: 0.00012106259968365267\n",
      "--------------------Training Metrics--------------------\n",
      "Trainer:  resnet\n",
      "Inf: 0.0354\tGen: 0.9618\tRec: 0.9660\tE: 0.0312\tR: 0.0396\tP: 1.8924\n",
      "--------------------Test Metrics------------------------\n",
      "accuracy: 0.9814\n",
      "\n"
     ]
    },
    {
     "data": {
      "application/vnd.jupyter.widget-view+json": {
       "model_id": "b482f3fa68ff43c0a760104682cf079a",
       "version_major": 2,
       "version_minor": 0
      },
      "text/plain": [
       "Iterations:   0%|          | 0/140 [00:00<?, ?it/s]"
      ]
     },
     "metadata": {},
     "output_type": "display_data"
    },
    {
     "name": "stdout",
     "output_type": "stream",
     "text": [
      "[78/100][30/140][Time 36.34]\n",
      "Unified LR across all optimizers: 0.00012078416343090444\n",
      "--------------------Training Metrics--------------------\n",
      "Trainer:  resnet\n",
      "Inf: 0.0354\tGen: 0.9596\tRec: 0.9634\tE: 0.0316\tR: 0.0392\tP: 1.8876\n",
      "--------------------Test Metrics------------------------\n",
      "accuracy: 0.9815\n",
      "\n",
      "[78/100][80/140][Time 36.16]\n",
      "Unified LR across all optimizers: 0.00012050636756376704\n",
      "--------------------Training Metrics--------------------\n",
      "Trainer:  resnet\n",
      "Inf: 0.0342\tGen: 0.9583\tRec: 0.9621\tE: 0.0304\tR: 0.0379\tP: 1.8862\n",
      "--------------------Test Metrics------------------------\n",
      "accuracy: 0.9801\n",
      "\n",
      "[78/100][130/140][Time 36.20]\n",
      "Unified LR across all optimizers: 0.00012022921060939435\n",
      "--------------------Training Metrics--------------------\n",
      "Trainer:  resnet\n",
      "Inf: 0.0361\tGen: 0.9658\tRec: 0.9700\tE: 0.0319\tR: 0.0402\tP: 1.8998\n",
      "--------------------Test Metrics------------------------\n",
      "accuracy: 0.9650\n",
      "\n"
     ]
    },
    {
     "data": {
      "application/vnd.jupyter.widget-view+json": {
       "model_id": "f22f26f9b3324411b63f5093944dee9a",
       "version_major": 2,
       "version_minor": 0
      },
      "text/plain": [
       "Iterations:   0%|          | 0/140 [00:00<?, ?it/s]"
      ]
     },
     "metadata": {},
     "output_type": "display_data"
    },
    {
     "name": "stdout",
     "output_type": "stream",
     "text": [
      "[79/100][40/140][Time 36.35]\n",
      "Unified LR across all optimizers: 0.00011995269109832792\n",
      "--------------------Training Metrics--------------------\n",
      "Trainer:  resnet\n",
      "Inf: 0.0342\tGen: 0.9615\tRec: 0.9652\tE: 0.0306\tR: 0.0379\tP: 1.8925\n",
      "--------------------Test Metrics------------------------\n",
      "accuracy: 0.9796\n",
      "\n",
      "[79/100][90/140][Time 36.27]\n",
      "Unified LR across all optimizers: 0.00011967680756448871\n",
      "--------------------Training Metrics--------------------\n",
      "Trainer:  resnet\n",
      "Inf: 0.0364\tGen: 0.9605\tRec: 0.9646\tE: 0.0322\tR: 0.0406\tP: 1.8887\n",
      "--------------------Test Metrics------------------------\n",
      "accuracy: 0.9753\n",
      "\n"
     ]
    },
    {
     "data": {
      "application/vnd.jupyter.widget-view+json": {
       "model_id": "9399fc488f0e444287ec6cc7ffe31f0a",
       "version_major": 2,
       "version_minor": 0
      },
      "text/plain": [
       "Iterations:   0%|          | 0/140 [00:00<?, ?it/s]"
      ]
     },
     "metadata": {},
     "output_type": "display_data"
    },
    {
     "name": "stdout",
     "output_type": "stream",
     "text": [
      "[80/100][0/140][Time 36.31]\n",
      "Unified LR across all optimizers: 0.0001194015585451698\n",
      "--------------------Training Metrics--------------------\n",
      "Trainer:  resnet\n",
      "Inf: 0.0340\tGen: 0.9565\tRec: 0.9603\tE: 0.0302\tR: 0.0378\tP: 1.8828\n",
      "--------------------Test Metrics------------------------\n",
      "accuracy: 0.9818\n",
      "\n",
      "[80/100][50/140][Time 36.16]\n",
      "Unified LR across all optimizers: 0.0001191269425810282\n",
      "--------------------Training Metrics--------------------\n",
      "Trainer:  resnet\n",
      "Inf: 0.0337\tGen: 0.9593\tRec: 0.9632\tE: 0.0298\tR: 0.0377\tP: 1.8888\n",
      "--------------------Test Metrics------------------------\n",
      "accuracy: 0.9561\n",
      "\n",
      "[80/100][100/140][Time 36.25]\n",
      "Unified LR across all optimizers: 0.00011885295821607745\n",
      "--------------------Training Metrics--------------------\n",
      "Trainer:  resnet\n",
      "Inf: 0.0334\tGen: 0.9555\tRec: 0.9593\tE: 0.0295\tR: 0.0372\tP: 1.8814\n",
      "--------------------Test Metrics------------------------\n",
      "accuracy: 0.9822\n",
      "\n"
     ]
    },
    {
     "data": {
      "application/vnd.jupyter.widget-view+json": {
       "model_id": "1d0c42cae3254791978f44956899d5e5",
       "version_major": 2,
       "version_minor": 0
      },
      "text/plain": [
       "Iterations:   0%|          | 0/140 [00:00<?, ?it/s]"
      ]
     },
     "metadata": {},
     "output_type": "display_data"
    },
    {
     "name": "stdout",
     "output_type": "stream",
     "text": [
      "[81/100][10/140][Time 36.77]\n",
      "Unified LR across all optimizers: 0.0001185796039976797\n",
      "--------------------Training Metrics--------------------\n",
      "Trainer:  resnet\n",
      "Inf: 0.0347\tGen: 0.9572\tRec: 0.9612\tE: 0.0308\tR: 0.0387\tP: 1.8837\n",
      "--------------------Test Metrics------------------------\n",
      "accuracy: 0.9727\n",
      "\n",
      "[81/100][60/140][Time 36.52]\n",
      "Unified LR across all optimizers: 0.0001183068784765381\n",
      "--------------------Training Metrics--------------------\n",
      "Trainer:  resnet\n",
      "Inf: 0.0355\tGen: 0.9620\tRec: 0.9661\tE: 0.0314\tR: 0.0396\tP: 1.8927\n",
      "--------------------Test Metrics------------------------\n",
      "accuracy: 0.9819\n",
      "\n",
      "[81/100][110/140][Time 36.27]\n",
      "Unified LR across all optimizers: 0.00011803478020668904\n",
      "--------------------Training Metrics--------------------\n",
      "Trainer:  resnet\n",
      "Inf: 0.0334\tGen: 0.9558\tRec: 0.9594\tE: 0.0298\tR: 0.0370\tP: 1.8817\n",
      "--------------------Test Metrics------------------------\n",
      "accuracy: 0.9803\n",
      "\n"
     ]
    },
    {
     "data": {
      "application/vnd.jupyter.widget-view+json": {
       "model_id": "8b953a9831c843d69de2b2c09bdecff8",
       "version_major": 2,
       "version_minor": 0
      },
      "text/plain": [
       "Iterations:   0%|          | 0/140 [00:00<?, ?it/s]"
      ]
     },
     "metadata": {},
     "output_type": "display_data"
    },
    {
     "name": "stdout",
     "output_type": "stream",
     "text": [
      "[82/100][20/140][Time 36.25]\n",
      "Unified LR across all optimizers: 0.00011776330774549466\n",
      "--------------------Training Metrics--------------------\n",
      "Trainer:  resnet\n",
      "Inf: 0.0338\tGen: 0.9544\tRec: 0.9578\tE: 0.0304\tR: 0.0372\tP: 1.8785\n",
      "--------------------Test Metrics------------------------\n",
      "accuracy: 0.9734\n",
      "\n",
      "[82/100][70/140][Time 36.28]\n",
      "Unified LR across all optimizers: 0.00011749245965363501\n",
      "--------------------Training Metrics--------------------\n",
      "Trainer:  resnet\n",
      "Inf: 0.0342\tGen: 0.9549\tRec: 0.9584\tE: 0.0306\tR: 0.0377\tP: 1.8791\n",
      "--------------------Test Metrics------------------------\n",
      "accuracy: 0.9798\n",
      "\n",
      "[82/100][120/140][Time 36.18]\n",
      "Unified LR across all optimizers: 0.00011722223449510036\n",
      "--------------------Training Metrics--------------------\n",
      "Trainer:  resnet\n",
      "Inf: 0.0339\tGen: 0.9580\tRec: 0.9617\tE: 0.0303\tR: 0.0376\tP: 1.8857\n",
      "--------------------Test Metrics------------------------\n",
      "accuracy: 0.9767\n",
      "\n"
     ]
    },
    {
     "data": {
      "application/vnd.jupyter.widget-view+json": {
       "model_id": "10acb5d1444e417e926c663c3412db86",
       "version_major": 2,
       "version_minor": 0
      },
      "text/plain": [
       "Iterations:   0%|          | 0/140 [00:00<?, ?it/s]"
      ]
     },
     "metadata": {},
     "output_type": "display_data"
    },
    {
     "name": "stdout",
     "output_type": "stream",
     "text": [
      "[83/100][30/140][Time 36.35]\n",
      "Unified LR across all optimizers: 0.00011695263083718391\n",
      "--------------------Training Metrics--------------------\n",
      "Trainer:  resnet\n",
      "Inf: 0.0333\tGen: 0.9598\tRec: 0.9633\tE: 0.0297\tR: 0.0368\tP: 1.8898\n",
      "--------------------Test Metrics------------------------\n",
      "accuracy: 0.9796\n",
      "\n",
      "[83/100][80/140][Time 36.20]\n",
      "Unified LR across all optimizers: 0.00011668364725047385\n",
      "--------------------Training Metrics--------------------\n",
      "Trainer:  resnet\n",
      "Inf: 0.0335\tGen: 0.9581\tRec: 0.9617\tE: 0.0299\tR: 0.0371\tP: 1.8864\n",
      "--------------------Test Metrics------------------------\n",
      "accuracy: 0.9628\n",
      "\n",
      "[83/100][130/140][Time 36.15]\n",
      "Unified LR across all optimizers: 0.00011641528230884601\n",
      "--------------------Training Metrics--------------------\n",
      "Trainer:  resnet\n",
      "Inf: 0.0340\tGen: 0.9554\tRec: 0.9593\tE: 0.0301\tR: 0.0379\tP: 1.8807\n",
      "--------------------Test Metrics------------------------\n",
      "accuracy: 0.9750\n",
      "\n"
     ]
    },
    {
     "data": {
      "application/vnd.jupyter.widget-view+json": {
       "model_id": "177baccbc2524d55a36b77e47d3fdf61",
       "version_major": 2,
       "version_minor": 0
      },
      "text/plain": [
       "Iterations:   0%|          | 0/140 [00:00<?, ?it/s]"
      ]
     },
     "metadata": {},
     "output_type": "display_data"
    },
    {
     "name": "stdout",
     "output_type": "stream",
     "text": [
      "[84/100][40/140][Time 36.28]\n",
      "Unified LR across all optimizers: 0.00011614753458945617\n",
      "--------------------Training Metrics--------------------\n",
      "Trainer:  resnet\n",
      "Inf: 0.0343\tGen: 0.9565\tRec: 0.9608\tE: 0.0299\tR: 0.0386\tP: 1.8830\n",
      "--------------------Test Metrics------------------------\n",
      "accuracy: 0.9698\n",
      "\n",
      "[84/100][90/140][Time 36.23]\n",
      "Unified LR across all optimizers: 0.00011588040267273257\n",
      "--------------------Training Metrics--------------------\n",
      "Trainer:  resnet\n",
      "Inf: 0.0324\tGen: 0.9533\tRec: 0.9567\tE: 0.0290\tR: 0.0358\tP: 1.8775\n",
      "--------------------Test Metrics------------------------\n",
      "accuracy: 0.9622\n",
      "\n"
     ]
    },
    {
     "data": {
      "application/vnd.jupyter.widget-view+json": {
       "model_id": "dc6b2d96fdc1446ea10c9f548e1bea45",
       "version_major": 2,
       "version_minor": 0
      },
      "text/plain": [
       "Iterations:   0%|          | 0/140 [00:00<?, ?it/s]"
      ]
     },
     "metadata": {},
     "output_type": "display_data"
    },
    {
     "name": "stdout",
     "output_type": "stream",
     "text": [
      "[85/100][0/140][Time 36.24]\n",
      "Unified LR across all optimizers: 0.00011561388514236844\n",
      "--------------------Training Metrics--------------------\n",
      "Trainer:  resnet\n",
      "Inf: 0.0342\tGen: 0.9524\tRec: 0.9561\tE: 0.0305\tR: 0.0379\tP: 1.8743\n",
      "--------------------Test Metrics------------------------\n",
      "accuracy: 0.9741\n",
      "\n",
      "[85/100][50/140][Time 36.17]\n",
      "Unified LR across all optimizers: 0.00011534798058531429\n",
      "--------------------Training Metrics--------------------\n",
      "Trainer:  resnet\n",
      "Inf: 0.0341\tGen: 0.9620\tRec: 0.9656\tE: 0.0305\tR: 0.0377\tP: 1.8934\n",
      "--------------------Test Metrics------------------------\n",
      "accuracy: 0.9775\n",
      "\n",
      "[85/100][100/140][Time 36.27]\n",
      "Unified LR across all optimizers: 0.00011508268759177068\n",
      "--------------------Training Metrics--------------------\n",
      "Trainer:  resnet\n",
      "Inf: 0.0337\tGen: 0.9552\tRec: 0.9586\tE: 0.0303\tR: 0.0372\tP: 1.8801\n",
      "--------------------Test Metrics------------------------\n",
      "accuracy: 0.9738\n",
      "\n"
     ]
    },
    {
     "data": {
      "application/vnd.jupyter.widget-view+json": {
       "model_id": "5fdf85150f9c4755a8c6135b264029be",
       "version_major": 2,
       "version_minor": 0
      },
      "text/plain": [
       "Iterations:   0%|          | 0/140 [00:00<?, ?it/s]"
      ]
     },
     "metadata": {},
     "output_type": "display_data"
    },
    {
     "name": "stdout",
     "output_type": "stream",
     "text": [
      "[86/100][10/140][Time 36.17]\n",
      "Unified LR across all optimizers: 0.00011481800475518057\n",
      "--------------------Training Metrics--------------------\n",
      "Trainer:  resnet\n",
      "Inf: 0.0330\tGen: 0.9477\tRec: 0.9511\tE: 0.0295\tR: 0.0364\tP: 1.8658\n",
      "--------------------Test Metrics------------------------\n",
      "accuracy: 0.9790\n",
      "\n",
      "[86/100][60/140][Time 36.25]\n",
      "Unified LR across all optimizers: 0.00011455393067222186\n",
      "--------------------Training Metrics--------------------\n",
      "Trainer:  resnet\n",
      "Inf: 0.0328\tGen: 0.9511\tRec: 0.9546\tE: 0.0293\tR: 0.0363\tP: 1.8729\n",
      "--------------------Test Metrics------------------------\n",
      "accuracy: 0.9796\n",
      "\n",
      "[86/100][110/140][Time 36.18]\n",
      "Unified LR across all optimizers: 0.00011429046394280006\n",
      "--------------------Training Metrics--------------------\n",
      "Trainer:  resnet\n",
      "Inf: 0.0343\tGen: 0.9566\tRec: 0.9600\tE: 0.0309\tR: 0.0377\tP: 1.8822\n",
      "--------------------Test Metrics------------------------\n",
      "accuracy: 0.9730\n",
      "\n"
     ]
    },
    {
     "data": {
      "application/vnd.jupyter.widget-view+json": {
       "model_id": "1a79e70a1fe145ad9f142640090caaa5",
       "version_major": 2,
       "version_minor": 0
      },
      "text/plain": [
       "Iterations:   0%|          | 0/140 [00:00<?, ?it/s]"
      ]
     },
     "metadata": {},
     "output_type": "display_data"
    },
    {
     "name": "stdout",
     "output_type": "stream",
     "text": [
      "[87/100][20/140][Time 36.38]\n",
      "Unified LR across all optimizers: 0.00011402760317004082\n",
      "--------------------Training Metrics--------------------\n",
      "Trainer:  resnet\n",
      "Inf: 0.0330\tGen: 0.9594\tRec: 0.9624\tE: 0.0301\tR: 0.0359\tP: 1.8888\n",
      "--------------------Test Metrics------------------------\n",
      "accuracy: 0.9633\n",
      "\n",
      "[87/100][70/140][Time 36.25]\n",
      "Unified LR across all optimizers: 0.00011376534696028246\n",
      "--------------------Training Metrics--------------------\n",
      "Trainer:  resnet\n",
      "Inf: 0.0326\tGen: 0.9507\tRec: 0.9541\tE: 0.0293\tR: 0.0360\tP: 1.8721\n",
      "--------------------Test Metrics------------------------\n",
      "accuracy: 0.9572\n",
      "\n",
      "[87/100][120/140][Time 36.19]\n",
      "Unified LR across all optimizers: 0.00011350369392306872\n",
      "--------------------Training Metrics--------------------\n",
      "Trainer:  resnet\n",
      "Inf: 0.0343\tGen: 0.9538\tRec: 0.9575\tE: 0.0306\tR: 0.0381\tP: 1.8770\n",
      "--------------------Test Metrics------------------------\n",
      "accuracy: 0.9555\n",
      "\n"
     ]
    },
    {
     "data": {
      "application/vnd.jupyter.widget-view+json": {
       "model_id": "598a0f196c7c4e2cba1be8e988b26840",
       "version_major": 2,
       "version_minor": 0
      },
      "text/plain": [
       "Iterations:   0%|          | 0/140 [00:00<?, ?it/s]"
      ]
     },
     "metadata": {},
     "output_type": "display_data"
    },
    {
     "name": "stdout",
     "output_type": "stream",
     "text": [
      "[88/100][30/140][Time 36.34]\n",
      "Unified LR across all optimizers: 0.00011324264267114122\n",
      "--------------------Training Metrics--------------------\n",
      "Trainer:  resnet\n",
      "Inf: 0.0312\tGen: 0.9501\tRec: 0.9530\tE: 0.0282\tR: 0.0341\tP: 1.8719\n",
      "--------------------Test Metrics------------------------\n",
      "accuracy: 0.9691\n",
      "\n",
      "[88/100][80/140][Time 36.35]\n",
      "Unified LR across all optimizers: 0.00011298219182043217\n",
      "--------------------Training Metrics--------------------\n",
      "Trainer:  resnet\n",
      "Inf: 0.0333\tGen: 0.9550\tRec: 0.9584\tE: 0.0299\tR: 0.0367\tP: 1.8801\n",
      "--------------------Test Metrics------------------------\n",
      "accuracy: 0.9547\n",
      "\n",
      "[88/100][130/140][Time 36.25]\n",
      "Unified LR across all optimizers: 0.00011272233999005711\n",
      "--------------------Training Metrics--------------------\n",
      "Trainer:  resnet\n",
      "Inf: 0.0336\tGen: 0.9569\tRec: 0.9604\tE: 0.0301\tR: 0.0370\tP: 1.8837\n",
      "--------------------Test Metrics------------------------\n",
      "accuracy: 0.9751\n",
      "\n"
     ]
    },
    {
     "data": {
      "application/vnd.jupyter.widget-view+json": {
       "model_id": "a25750629665478f88bb7baf5af75e97",
       "version_major": 2,
       "version_minor": 0
      },
      "text/plain": [
       "Iterations:   0%|          | 0/140 [00:00<?, ?it/s]"
      ]
     },
     "metadata": {},
     "output_type": "display_data"
    },
    {
     "name": "stdout",
     "output_type": "stream",
     "text": [
      "[89/100][40/140][Time 36.35]\n",
      "Unified LR across all optimizers: 0.00011246308580230749\n",
      "--------------------Training Metrics--------------------\n",
      "Trainer:  resnet\n",
      "Inf: 0.0336\tGen: 0.9492\tRec: 0.9528\tE: 0.0301\tR: 0.0372\tP: 1.8684\n",
      "--------------------Test Metrics------------------------\n",
      "accuracy: 0.9738\n",
      "\n",
      "[89/100][90/140][Time 36.25]\n",
      "Unified LR across all optimizers: 0.00011220442788264345\n",
      "--------------------Training Metrics--------------------\n",
      "Trainer:  resnet\n",
      "Inf: 0.0331\tGen: 0.9542\tRec: 0.9574\tE: 0.0299\tR: 0.0362\tP: 1.8785\n",
      "--------------------Test Metrics------------------------\n",
      "accuracy: 0.9564\n",
      "\n"
     ]
    },
    {
     "data": {
      "application/vnd.jupyter.widget-view+json": {
       "model_id": "4d809d957b81485389e997fa1041c0b0",
       "version_major": 2,
       "version_minor": 0
      },
      "text/plain": [
       "Iterations:   0%|          | 0/140 [00:00<?, ?it/s]"
      ]
     },
     "metadata": {},
     "output_type": "display_data"
    },
    {
     "name": "stdout",
     "output_type": "stream",
     "text": [
      "[90/100][0/140][Time 36.20]\n",
      "Unified LR across all optimizers: 0.00011194636485968641\n",
      "--------------------Training Metrics--------------------\n",
      "Trainer:  resnet\n",
      "Inf: 0.0310\tGen: 0.9551\tRec: 0.9579\tE: 0.0282\tR: 0.0338\tP: 1.8821\n",
      "--------------------Test Metrics------------------------\n",
      "accuracy: 0.9602\n",
      "\n",
      "[90/100][50/140][Time 36.20]\n",
      "Unified LR across all optimizers: 0.00011168889536521196\n",
      "--------------------Training Metrics--------------------\n",
      "Trainer:  resnet\n",
      "Inf: 0.0316\tGen: 0.9531\tRec: 0.9562\tE: 0.0285\tR: 0.0347\tP: 1.8776\n",
      "--------------------Test Metrics------------------------\n",
      "accuracy: 0.9716\n",
      "\n",
      "[90/100][100/140][Time 36.22]\n",
      "Unified LR across all optimizers: 0.00011143201803414248\n",
      "--------------------Training Metrics--------------------\n",
      "Trainer:  resnet\n",
      "Inf: 0.0329\tGen: 0.9507\tRec: 0.9537\tE: 0.0298\tR: 0.0359\tP: 1.8715\n",
      "--------------------Test Metrics------------------------\n",
      "accuracy: 0.9544\n",
      "\n"
     ]
    },
    {
     "data": {
      "application/vnd.jupyter.widget-view+json": {
       "model_id": "487002507504493a9a824abc62ab179f",
       "version_major": 2,
       "version_minor": 0
      },
      "text/plain": [
       "Iterations:   0%|          | 0/140 [00:00<?, ?it/s]"
      ]
     },
     "metadata": {},
     "output_type": "display_data"
    },
    {
     "name": "stdout",
     "output_type": "stream",
     "text": [
      "[91/100][10/140][Time 36.29]\n",
      "Unified LR across all optimizers: 0.00011117573150453981\n",
      "--------------------Training Metrics--------------------\n",
      "Trainer:  resnet\n",
      "Inf: 0.0314\tGen: 0.9516\tRec: 0.9544\tE: 0.0286\tR: 0.0341\tP: 1.8746\n",
      "--------------------Test Metrics------------------------\n",
      "accuracy: 0.9763\n",
      "\n",
      "[91/100][60/140][Time 36.36]\n",
      "Unified LR across all optimizers: 0.00011092003441759838\n",
      "--------------------Training Metrics--------------------\n",
      "Trainer:  resnet\n",
      "Inf: 0.0311\tGen: 0.9516\tRec: 0.9549\tE: 0.0278\tR: 0.0343\tP: 1.8754\n",
      "--------------------Test Metrics------------------------\n",
      "accuracy: 0.9699\n",
      "\n",
      "[91/100][110/140][Time 36.27]\n",
      "Unified LR across all optimizers: 0.00011066492541763764\n",
      "--------------------Training Metrics--------------------\n",
      "Trainer:  resnet\n",
      "Inf: 0.0334\tGen: 0.9497\tRec: 0.9527\tE: 0.0303\tR: 0.0364\tP: 1.8690\n",
      "--------------------Test Metrics------------------------\n",
      "accuracy: 0.9737\n",
      "\n"
     ]
    },
    {
     "data": {
      "application/vnd.jupyter.widget-view+json": {
       "model_id": "2411d96b7de842b9b4c329f26919baea",
       "version_major": 2,
       "version_minor": 0
      },
      "text/plain": [
       "Iterations:   0%|          | 0/140 [00:00<?, ?it/s]"
      ]
     },
     "metadata": {},
     "output_type": "display_data"
    },
    {
     "name": "stdout",
     "output_type": "stream",
     "text": [
      "[92/100][20/140][Time 36.27]\n",
      "Unified LR across all optimizers: 0.00011041040315209514\n",
      "--------------------Training Metrics--------------------\n",
      "Trainer:  resnet\n",
      "Inf: 0.0319\tGen: 0.9514\tRec: 0.9544\tE: 0.0289\tR: 0.0349\tP: 1.8739\n",
      "--------------------Test Metrics------------------------\n",
      "accuracy: 0.9745\n",
      "\n",
      "[92/100][70/140][Time 36.22]\n",
      "Unified LR across all optimizers: 0.00011015646627151911\n",
      "--------------------Training Metrics--------------------\n",
      "Trainer:  resnet\n",
      "Inf: 0.0310\tGen: 0.9504\tRec: 0.9535\tE: 0.0279\tR: 0.0341\tP: 1.8728\n",
      "--------------------Test Metrics------------------------\n",
      "accuracy: 0.9814\n",
      "\n",
      "[92/100][120/140][Time 36.27]\n",
      "Unified LR across all optimizers: 0.0001099031134295615\n",
      "--------------------Training Metrics--------------------\n",
      "Trainer:  resnet\n",
      "Inf: 0.0322\tGen: 0.9516\tRec: 0.9546\tE: 0.0292\tR: 0.0352\tP: 1.8740\n",
      "--------------------Test Metrics------------------------\n",
      "accuracy: 0.9730\n",
      "\n"
     ]
    },
    {
     "data": {
      "application/vnd.jupyter.widget-view+json": {
       "model_id": "188fed34b25342ad817c3cb4be0533bd",
       "version_major": 2,
       "version_minor": 0
      },
      "text/plain": [
       "Iterations:   0%|          | 0/140 [00:00<?, ?it/s]"
      ]
     },
     "metadata": {},
     "output_type": "display_data"
    },
    {
     "name": "stdout",
     "output_type": "stream",
     "text": [
      "[93/100][30/140][Time 36.37]\n",
      "Unified LR across all optimizers: 0.00010965034328297077\n",
      "--------------------Training Metrics--------------------\n",
      "Trainer:  resnet\n",
      "Inf: 0.0332\tGen: 0.9508\tRec: 0.9539\tE: 0.0300\tR: 0.0363\tP: 1.8715\n",
      "--------------------Test Metrics------------------------\n",
      "accuracy: 0.9815\n",
      "\n",
      "[93/100][80/140][Time 37.88]\n",
      "Unified LR across all optimizers: 0.00010939815449158482\n",
      "--------------------Training Metrics--------------------\n",
      "Trainer:  resnet\n",
      "Inf: 0.0310\tGen: 0.9500\tRec: 0.9530\tE: 0.0280\tR: 0.0340\tP: 1.8720\n",
      "--------------------Test Metrics------------------------\n",
      "accuracy: 0.9730\n",
      "\n",
      "[93/100][130/140][Time 38.13]\n",
      "Unified LR across all optimizers: 0.00010914654571832365\n",
      "--------------------Training Metrics--------------------\n",
      "Trainer:  resnet\n",
      "Inf: 0.0327\tGen: 0.9495\tRec: 0.9530\tE: 0.0293\tR: 0.0361\tP: 1.8698\n",
      "--------------------Test Metrics------------------------\n",
      "accuracy: 0.9805\n",
      "\n"
     ]
    }
   ],
   "source": [
    "trainer_hub.train(train_dataset, val_dataset)"
   ]
  }
 ],
 "metadata": {
  "kernelspec": {
   "display_name": "ccnets",
   "language": "python",
   "name": "python3"
  },
  "language_info": {
   "codemirror_mode": {
    "name": "ipython",
    "version": 3
   },
   "file_extension": ".py",
   "mimetype": "text/x-python",
   "name": "python",
   "nbconvert_exporter": "python",
   "pygments_lexer": "ipython3",
   "version": "3.9.19"
  }
 },
 "nbformat": 4,
 "nbformat_minor": 2
}
