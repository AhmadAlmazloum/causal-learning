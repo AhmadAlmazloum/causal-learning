{
 "cells": [
  {
   "cell_type": "markdown",
   "metadata": {},
   "source": [
    "'''\n",
    "Author:\n",
    "        \n",
    "        PARK, JunHo, junho@ccnets.org\n",
    "\n",
    "        \n",
    "        KIM, JoengYoong, jeongyoong@ccnets.org\n",
    "        \n",
    "    COPYRIGHT (c) 2024. CCNets. All Rights reserved.\n",
    "'''"
   ]
  },
  {
   "cell_type": "markdown",
   "metadata": {},
   "source": [
    "# Recyclable and Household Waste Classification \n",
    "\n",
    "\n",
    "https://www.kaggle.com/datasets/alistairking/recyclable-and-household-waste-classification"
   ]
  },
  {
   "cell_type": "code",
   "execution_count": 1,
   "metadata": {},
   "outputs": [],
   "source": [
    "import sys\n",
    "\n",
    "path_append = \"../\" # Go up one directory from where you are.\n",
    "sys.path.append(path_append) \n",
    "\n",
    "from tools.setting.ml_params import MLParameters\n",
    "from tools.setting.data_config import DataConfig\n",
    "from nn.utils.init import set_random_seed\n",
    "set_random_seed(0)"
   ]
  },
  {
   "cell_type": "code",
   "execution_count": 2,
   "metadata": {},
   "outputs": [],
   "source": [
    "dataset_path = '../data/Recyclable and Household Waste Classification/images/images'"
   ]
  },
  {
   "cell_type": "code",
   "execution_count": 3,
   "metadata": {},
   "outputs": [],
   "source": [
    "import os\n",
    "import torch\n",
    "import torch.nn.functional as F\n",
    "import random\n",
    "from PIL import Image\n",
    "from torch.utils.data import Dataset\n",
    "\n",
    "\n",
    "class WasteDataset(Dataset):\n",
    "    def __init__(self, root_dir, split, transform=None):\n",
    "        self.root_dir = root_dir\n",
    "        self.transform = transform\n",
    "        self.classes = sorted(os.listdir(root_dir))\n",
    "        self.image_paths = []\n",
    "        self.labels = []\n",
    "        \n",
    "        for i, class_name in enumerate(self.classes):\n",
    "            class_dir = os.path.join(root_dir, class_name)\n",
    "            for subfolder in ['default', 'real_world']:\n",
    "                subfolder_dir = os.path.join(class_dir, subfolder)\n",
    "                image_names = os.listdir(subfolder_dir)\n",
    "                random.shuffle(image_names)\n",
    "                \n",
    "                if split == 'train':\n",
    "                    image_names = image_names[:int(0.6 * len(image_names))]\n",
    "                elif split == 'val':\n",
    "                    image_names = image_names[int(0.6 * len(image_names)):int(0.8 * len(image_names))]\n",
    "                else:  # split == 'test'\n",
    "                    image_names = image_names[int(0.8 * len(image_names)):]\n",
    "                \n",
    "                for image_name in image_names:\n",
    "                    self.image_paths.append(os.path.join(subfolder_dir, image_name))\n",
    "                    self.labels.append(i)\n",
    "    \n",
    "    def __len__(self):\n",
    "        return len(self.image_paths)\n",
    "    \n",
    "    def __getitem__(self, index):\n",
    "        image_path = self.image_paths[index]\n",
    "        label = self.labels[index]\n",
    "        image = Image.open(image_path).convert('RGB')\n",
    "        \n",
    "        if self.transform:\n",
    "            image = self.transform(image)\n",
    "        \n",
    "        label = torch.tensor(label, dtype=torch.long)\n",
    "        label = F.one_hot(label, num_classes=30)\n",
    "           \n",
    "        return image, label"
   ]
  },
  {
   "cell_type": "code",
   "execution_count": 4,
   "metadata": {},
   "outputs": [
    {
     "name": "stdout",
     "output_type": "stream",
     "text": [
      "torch.Size([3, 224, 224])\n",
      "torch.Size([30])\n"
     ]
    }
   ],
   "source": [
    "from torchvision import transforms\n",
    "\n",
    "# Create the datasets and data loaders\n",
    "transform = transforms.Compose([\n",
    "    transforms.Resize((224, 224)),\n",
    "    transforms.ToTensor(),\n",
    "    transforms.Normalize(mean=[0.485, 0.456, 0.406], std=[0.229, 0.224, 0.225])\n",
    "])\n",
    "train_dataset = WasteDataset(path_append + dataset_path, split='train', transform=transform)\n",
    "val_dataset = WasteDataset(path_append + dataset_path, split='val', transform=transform)\n",
    "test_dataset = WasteDataset(path_append + dataset_path, split='test', transform=transform)\n",
    "\n",
    "X, y = train_dataset[0]\n",
    "print(X.shape)\n",
    "print(y.shape)"
   ]
  },
  {
   "cell_type": "code",
   "execution_count": 5,
   "metadata": {},
   "outputs": [],
   "source": [
    "\n",
    "data_config = DataConfig(dataset_name = 'recycle_image', task_type='multi_label_classification', obs_shape=[3, 224, 224], label_size=30)\n",
    "\n",
    "#  Set training configuration from the AlgorithmConfig class, returning them as a Namespace object.\n",
    "ml_params = MLParameters(core_model = 'resnet', encoder_model = 'none')\n",
    "ml_params.model.core_config.d_model = 256"
   ]
  },
  {
   "cell_type": "code",
   "execution_count": 6,
   "metadata": {},
   "outputs": [],
   "source": [
    "from trainer_hub import TrainerHub\n",
    "\n",
    "# Set the device to GPU if available, else CPU\n",
    "device = torch.device(\"cuda\" if torch.cuda.is_available() else \"cpu\") \n",
    "\n",
    "# Initialize the TrainerHub class with the training configuration, data configuration, device, and use_print and use_wandb flags\n",
    "trainer_hub = TrainerHub(ml_params, data_config, device, use_print=True, use_wandb=False)"
   ]
  },
  {
   "cell_type": "code",
   "execution_count": 7,
   "metadata": {},
   "outputs": [
    {
     "data": {
      "application/vnd.jupyter.widget-view+json": {
       "model_id": "d0b61ebf31b248bcbe52a96105a2f14e",
       "version_major": 2,
       "version_minor": 0
      },
      "text/plain": [
       "Epochs:   0%|          | 0/100 [00:00<?, ?it/s]"
      ]
     },
     "metadata": {},
     "output_type": "display_data"
    },
    {
     "data": {
      "application/vnd.jupyter.widget-view+json": {
       "model_id": "f06b571a1f9c4c1e861b89080bef0a1f",
       "version_major": 2,
       "version_minor": 0
      },
      "text/plain": [
       "Iterations:   0%|          | 0/140 [00:00<?, ?it/s]"
      ]
     },
     "metadata": {},
     "output_type": "display_data"
    },
    {
     "name": "stdout",
     "output_type": "stream",
     "text": [
      "[0/100][50/140][Time 39.74]\n",
      "Unified LR across all optimizers: 0.0001995308238189185\n",
      "--------------------Training Metrics--------------------\n",
      "Trainer:  resnet\n",
      "Inf: 0.2223\tGen: 1.3845\tRec: 1.3507\tE: 0.2561\tR: 0.1885\tP: 2.5129\n",
      "--------------------Test Metrics------------------------\n",
      "accuracy: 0.5741\n",
      "\n",
      "[0/100][100/140][Time 38.63]\n",
      "Unified LR across all optimizers: 0.00019907191565870155\n",
      "--------------------Training Metrics--------------------\n",
      "Trainer:  resnet\n",
      "Inf: 0.1043\tGen: 1.2435\tRec: 1.2331\tE: 0.1147\tR: 0.0939\tP: 2.3722\n",
      "--------------------Test Metrics------------------------\n",
      "accuracy: 0.4954\n",
      "\n"
     ]
    },
    {
     "data": {
      "application/vnd.jupyter.widget-view+json": {
       "model_id": "e69e0997fa0744888419cc4ab80094a2",
       "version_major": 2,
       "version_minor": 0
      },
      "text/plain": [
       "Iterations:   0%|          | 0/140 [00:00<?, ?it/s]"
      ]
     },
     "metadata": {},
     "output_type": "display_data"
    },
    {
     "name": "stdout",
     "output_type": "stream",
     "text": [
      "[1/100][10/140][Time 38.67]\n",
      "Unified LR across all optimizers: 0.00019861406295796434\n",
      "--------------------Training Metrics--------------------\n",
      "Trainer:  resnet\n",
      "Inf: 0.0989\tGen: 1.2228\tRec: 1.2053\tE: 0.1164\tR: 0.0815\tP: 2.3291\n",
      "--------------------Test Metrics------------------------\n",
      "accuracy: 0.5780\n",
      "\n",
      "[1/100][60/140][Time 41.51]\n",
      "Unified LR across all optimizers: 0.00019815726328921765\n",
      "--------------------Training Metrics--------------------\n",
      "Trainer:  resnet\n",
      "Inf: 0.0878\tGen: 1.2059\tRec: 1.1929\tE: 0.1009\tR: 0.0747\tP: 2.3110\n",
      "--------------------Test Metrics------------------------\n",
      "accuracy: 0.6521\n",
      "\n",
      "[1/100][110/140][Time 43.13]\n",
      "Unified LR across all optimizers: 0.00019770151423055492\n",
      "--------------------Training Metrics--------------------\n",
      "Trainer:  resnet\n",
      "Inf: 0.0701\tGen: 1.1878\tRec: 1.1790\tE: 0.0790\tR: 0.0613\tP: 2.2967\n",
      "--------------------Test Metrics------------------------\n",
      "accuracy: 0.6195\n",
      "\n"
     ]
    },
    {
     "data": {
      "application/vnd.jupyter.widget-view+json": {
       "model_id": "feb622f17b3d454f8452e80b8c45a2fa",
       "version_major": 2,
       "version_minor": 0
      },
      "text/plain": [
       "Iterations:   0%|          | 0/140 [00:00<?, ?it/s]"
      ]
     },
     "metadata": {},
     "output_type": "display_data"
    },
    {
     "name": "stdout",
     "output_type": "stream",
     "text": [
      "[2/100][20/140][Time 38.49]\n",
      "Unified LR across all optimizers: 0.00019724681336564005\n",
      "--------------------Training Metrics--------------------\n",
      "Trainer:  resnet\n",
      "Inf: 0.0667\tGen: 1.1764\tRec: 1.1703\tE: 0.0728\tR: 0.0606\tP: 2.2799\n",
      "--------------------Test Metrics------------------------\n",
      "accuracy: 0.6547\n",
      "\n",
      "[2/100][70/140][Time 38.39]\n",
      "Unified LR across all optimizers: 0.00019679315828369438\n",
      "--------------------Training Metrics--------------------\n",
      "Trainer:  resnet\n",
      "Inf: 0.0627\tGen: 1.1690\tRec: 1.1638\tE: 0.0679\tR: 0.0575\tP: 2.2701\n",
      "--------------------Test Metrics------------------------\n",
      "accuracy: 0.7168\n",
      "\n",
      "[2/100][120/140][Time 49.44]\n",
      "Unified LR across all optimizers: 0.00019634054657948372\n",
      "--------------------Training Metrics--------------------\n",
      "Trainer:  resnet\n",
      "Inf: 0.0665\tGen: 1.1547\tRec: 1.1499\tE: 0.0713\tR: 0.0617\tP: 2.2380\n",
      "--------------------Test Metrics------------------------\n",
      "accuracy: 0.7135\n",
      "\n"
     ]
    },
    {
     "data": {
      "application/vnd.jupyter.widget-view+json": {
       "model_id": "1d7c2bbf785044c18cb09e18bb3d9e76",
       "version_major": 2,
       "version_minor": 0
      },
      "text/plain": [
       "Iterations:   0%|          | 0/140 [00:00<?, ?it/s]"
      ]
     },
     "metadata": {},
     "output_type": "display_data"
    },
    {
     "name": "stdout",
     "output_type": "stream",
     "text": [
      "[3/100][30/140][Time 39.34]\n",
      "Unified LR across all optimizers: 0.00019588897585330582\n",
      "--------------------Training Metrics--------------------\n",
      "Trainer:  resnet\n",
      "Inf: 0.0689\tGen: 1.1424\tRec: 1.1374\tE: 0.0739\tR: 0.0639\tP: 2.2108\n",
      "--------------------Test Metrics------------------------\n",
      "accuracy: 0.6909\n",
      "\n",
      "[3/100][80/140][Time 42.15]\n",
      "Unified LR across all optimizers: 0.00019543844371097777\n",
      "--------------------Training Metrics--------------------\n",
      "Trainer:  resnet\n",
      "Inf: 0.0676\tGen: 1.1368\tRec: 1.1324\tE: 0.0720\tR: 0.0631\tP: 2.2017\n",
      "--------------------Test Metrics------------------------\n",
      "accuracy: 0.7283\n",
      "\n",
      "[3/100][130/140][Time 39.05]\n",
      "Unified LR across all optimizers: 0.00019498894776382288\n",
      "--------------------Training Metrics--------------------\n",
      "Trainer:  resnet\n",
      "Inf: 0.0709\tGen: 1.1365\tRec: 1.1314\tE: 0.0760\tR: 0.0658\tP: 2.1969\n",
      "--------------------Test Metrics------------------------\n",
      "accuracy: 0.7680\n",
      "\n"
     ]
    },
    {
     "data": {
      "application/vnd.jupyter.widget-view+json": {
       "model_id": "3239b6ffd6b34ffcbeae0160296b2e05",
       "version_major": 2,
       "version_minor": 0
      },
      "text/plain": [
       "Iterations:   0%|          | 0/140 [00:00<?, ?it/s]"
      ]
     },
     "metadata": {},
     "output_type": "display_data"
    },
    {
     "name": "stdout",
     "output_type": "stream",
     "text": [
      "[4/100][40/140][Time 38.48]\n",
      "Unified LR across all optimizers: 0.00019454048562865856\n",
      "--------------------Training Metrics--------------------\n",
      "Trainer:  resnet\n",
      "Inf: 0.0685\tGen: 1.1268\tRec: 1.1220\tE: 0.0734\tR: 0.0637\tP: 2.1802\n",
      "--------------------Test Metrics------------------------\n",
      "accuracy: 0.7803\n",
      "\n",
      "[4/100][90/140][Time 38.35]\n",
      "Unified LR across all optimizers: 0.00019409305492778308\n",
      "--------------------Training Metrics--------------------\n",
      "Trainer:  resnet\n",
      "Inf: 0.0700\tGen: 1.1143\tRec: 1.1091\tE: 0.0752\tR: 0.0648\tP: 2.1534\n",
      "--------------------Test Metrics------------------------\n",
      "accuracy: 0.7719\n",
      "\n"
     ]
    },
    {
     "data": {
      "application/vnd.jupyter.widget-view+json": {
       "model_id": "26a961155c2941f590c78dcd77dd0a4a",
       "version_major": 2,
       "version_minor": 0
      },
      "text/plain": [
       "Iterations:   0%|          | 0/140 [00:00<?, ?it/s]"
      ]
     },
     "metadata": {},
     "output_type": "display_data"
    },
    {
     "name": "stdout",
     "output_type": "stream",
     "text": [
      "[5/100][0/140][Time 38.99]\n",
      "Unified LR across all optimizers: 0.00019364665328896346\n",
      "--------------------Training Metrics--------------------\n",
      "Trainer:  resnet\n",
      "Inf: 0.0702\tGen: 1.1122\tRec: 1.1067\tE: 0.0757\tR: 0.0646\tP: 2.1487\n",
      "--------------------Test Metrics------------------------\n",
      "accuracy: 0.8419\n",
      "\n",
      "[5/100][50/140][Time 38.48]\n",
      "Unified LR across all optimizers: 0.00019320127834542263\n",
      "--------------------Training Metrics--------------------\n",
      "Trainer:  resnet\n",
      "Inf: 0.0665\tGen: 1.1029\tRec: 1.0999\tE: 0.0695\tR: 0.0635\tP: 2.1363\n",
      "--------------------Test Metrics------------------------\n",
      "accuracy: 0.7671\n",
      "\n",
      "[5/100][100/140][Time 38.44]\n",
      "Unified LR across all optimizers: 0.00019275692773582703\n",
      "--------------------Training Metrics--------------------\n",
      "Trainer:  resnet\n",
      "Inf: 0.0662\tGen: 1.0960\tRec: 1.0923\tE: 0.0698\tR: 0.0625\tP: 2.1221\n",
      "--------------------Test Metrics------------------------\n",
      "accuracy: 0.7878\n",
      "\n"
     ]
    },
    {
     "data": {
      "application/vnd.jupyter.widget-view+json": {
       "model_id": "cf7c929a8b704eb19c8c451bf6b999cf",
       "version_major": 2,
       "version_minor": 0
      },
      "text/plain": [
       "Iterations:   0%|          | 0/140 [00:00<?, ?it/s]"
      ]
     },
     "metadata": {},
     "output_type": "display_data"
    },
    {
     "name": "stdout",
     "output_type": "stream",
     "text": [
      "[6/100][10/140][Time 38.40]\n",
      "Unified LR across all optimizers: 0.0001923135991042739\n",
      "--------------------Training Metrics--------------------\n",
      "Trainer:  resnet\n",
      "Inf: 0.0663\tGen: 1.0990\tRec: 1.0965\tE: 0.0688\tR: 0.0638\tP: 2.1293\n",
      "--------------------Test Metrics------------------------\n",
      "accuracy: 0.7789\n",
      "\n",
      "[6/100][60/140][Time 38.26]\n",
      "Unified LR across all optimizers: 0.0001918712901002789\n",
      "--------------------Training Metrics--------------------\n",
      "Trainer:  resnet\n",
      "Inf: 0.0630\tGen: 1.0902\tRec: 1.0881\tE: 0.0651\tR: 0.0609\tP: 2.1154\n",
      "--------------------Test Metrics------------------------\n",
      "accuracy: 0.7841\n",
      "\n",
      "[6/100][110/140][Time 38.92]\n",
      "Unified LR across all optimizers: 0.00019142999837876384\n",
      "--------------------Training Metrics--------------------\n",
      "Trainer:  resnet\n",
      "Inf: 0.0645\tGen: 1.0882\tRec: 1.0851\tE: 0.0677\tR: 0.0614\tP: 2.1088\n",
      "--------------------Test Metrics------------------------\n",
      "accuracy: 0.7596\n",
      "\n"
     ]
    },
    {
     "data": {
      "application/vnd.jupyter.widget-view+json": {
       "model_id": "45464be0d9aa43389bfb2e6574bc32bc",
       "version_major": 2,
       "version_minor": 0
      },
      "text/plain": [
       "Iterations:   0%|          | 0/140 [00:00<?, ?it/s]"
      ]
     },
     "metadata": {},
     "output_type": "display_data"
    },
    {
     "name": "stdout",
     "output_type": "stream",
     "text": [
      "[7/100][20/140][Time 38.37]\n",
      "Unified LR across all optimizers: 0.00019098972160004388\n",
      "--------------------Training Metrics--------------------\n",
      "Trainer:  resnet\n",
      "Inf: 0.0617\tGen: 1.0839\tRec: 1.0822\tE: 0.0633\tR: 0.0600\tP: 2.1045\n",
      "--------------------Test Metrics------------------------\n",
      "accuracy: 0.7620\n",
      "\n",
      "[7/100][70/140][Time 38.56]\n",
      "Unified LR across all optimizers: 0.00019055045742981543\n",
      "--------------------Training Metrics--------------------\n",
      "Trainer:  resnet\n",
      "Inf: 0.0616\tGen: 1.0845\tRec: 1.0839\tE: 0.0622\tR: 0.0611\tP: 2.1067\n",
      "--------------------Test Metrics------------------------\n",
      "accuracy: 0.7589\n",
      "\n",
      "[7/100][120/140][Time 38.97]\n",
      "Unified LR across all optimizers: 0.00019011220353914353\n",
      "--------------------Training Metrics--------------------\n",
      "Trainer:  resnet\n",
      "Inf: 0.0605\tGen: 1.0777\tRec: 1.0764\tE: 0.0619\tR: 0.0592\tP: 2.0936\n",
      "--------------------Test Metrics------------------------\n",
      "accuracy: 0.7536\n",
      "\n"
     ]
    },
    {
     "data": {
      "application/vnd.jupyter.widget-view+json": {
       "model_id": "dbe418f600fb4efd94dfef29fb8c0e79",
       "version_major": 2,
       "version_minor": 0
      },
      "text/plain": [
       "Iterations:   0%|          | 0/140 [00:00<?, ?it/s]"
      ]
     },
     "metadata": {},
     "output_type": "display_data"
    },
    {
     "name": "stdout",
     "output_type": "stream",
     "text": [
      "[8/100][30/140][Time 38.50]\n",
      "Unified LR across all optimizers: 0.00018967495760444968\n",
      "--------------------Training Metrics--------------------\n",
      "Trainer:  resnet\n",
      "Inf: 0.0602\tGen: 1.0782\tRec: 1.0771\tE: 0.0614\tR: 0.0591\tP: 2.0951\n",
      "--------------------Test Metrics------------------------\n",
      "accuracy: 0.7526\n",
      "\n",
      "[8/100][80/140][Time 38.42]\n",
      "Unified LR across all optimizers: 0.00018923871730749947\n",
      "--------------------Training Metrics--------------------\n",
      "Trainer:  resnet\n",
      "Inf: 0.0609\tGen: 1.0793\tRec: 1.0788\tE: 0.0615\tR: 0.0604\tP: 2.0972\n",
      "--------------------Test Metrics------------------------\n",
      "accuracy: 0.7749\n",
      "\n",
      "[8/100][130/140][Time 38.45]\n",
      "Unified LR across all optimizers: 0.00018880348033539028\n",
      "--------------------Training Metrics--------------------\n",
      "Trainer:  resnet\n",
      "Inf: 0.0604\tGen: 1.0717\tRec: 1.0722\tE: 0.0600\tR: 0.0608\tP: 2.0835\n",
      "--------------------Test Metrics------------------------\n",
      "accuracy: 0.7624\n",
      "\n"
     ]
    },
    {
     "data": {
      "application/vnd.jupyter.widget-view+json": {
       "model_id": "943db01bead14a8bb6c78fac5b23f465",
       "version_major": 2,
       "version_minor": 0
      },
      "text/plain": [
       "Iterations:   0%|          | 0/140 [00:00<?, ?it/s]"
      ]
     },
     "metadata": {},
     "output_type": "display_data"
    },
    {
     "name": "stdout",
     "output_type": "stream",
     "text": [
      "[9/100][40/140][Time 38.48]\n",
      "Unified LR across all optimizers: 0.00018836924438053897\n",
      "--------------------Training Metrics--------------------\n",
      "Trainer:  resnet\n",
      "Inf: 0.0596\tGen: 1.0721\tRec: 1.0729\tE: 0.0588\tR: 0.0604\tP: 2.0853\n",
      "--------------------Test Metrics------------------------\n",
      "accuracy: 0.8150\n",
      "\n",
      "[9/100][90/140][Time 38.21]\n",
      "Unified LR across all optimizers: 0.0001879360071406698\n",
      "--------------------Training Metrics--------------------\n",
      "Trainer:  resnet\n",
      "Inf: 0.0575\tGen: 1.0694\tRec: 1.0695\tE: 0.0574\tR: 0.0575\tP: 2.0814\n",
      "--------------------Test Metrics------------------------\n",
      "accuracy: 0.7773\n",
      "\n"
     ]
    },
    {
     "data": {
      "application/vnd.jupyter.widget-view+json": {
       "model_id": "2ec917e9af1f45ae949adbfc8aea13c6",
       "version_major": 2,
       "version_minor": 0
      },
      "text/plain": [
       "Iterations:   0%|          | 0/140 [00:00<?, ?it/s]"
      ]
     },
     "metadata": {},
     "output_type": "display_data"
    },
    {
     "name": "stdout",
     "output_type": "stream",
     "text": [
      "[10/100][0/140][Time 38.01]\n",
      "Unified LR across all optimizers: 0.000187503766318802\n",
      "--------------------Training Metrics--------------------\n",
      "Trainer:  resnet\n",
      "Inf: 0.0584\tGen: 1.0721\tRec: 1.0724\tE: 0.0581\tR: 0.0586\tP: 2.0861\n",
      "--------------------Test Metrics------------------------\n",
      "accuracy: 0.8221\n",
      "\n",
      "[10/100][50/140][Time 38.59]\n",
      "Unified LR across all optimizers: 0.00018707251962323787\n",
      "--------------------Training Metrics--------------------\n",
      "Trainer:  resnet\n",
      "Inf: 0.0588\tGen: 1.0668\tRec: 1.0683\tE: 0.0573\tR: 0.0603\tP: 2.0763\n",
      "--------------------Test Metrics------------------------\n",
      "accuracy: 0.7975\n",
      "\n",
      "[10/100][100/140][Time 38.50]\n",
      "Unified LR across all optimizers: 0.0001866422647675502\n",
      "--------------------Training Metrics--------------------\n",
      "Trainer:  resnet\n",
      "Inf: 0.0600\tGen: 1.0708\tRec: 1.0720\tE: 0.0588\tR: 0.0612\tP: 2.0828\n",
      "--------------------Test Metrics------------------------\n",
      "accuracy: 0.8234\n",
      "\n"
     ]
    },
    {
     "data": {
      "application/vnd.jupyter.widget-view+json": {
       "model_id": "0d367cd2522d4056a8dfc30a4949532c",
       "version_major": 2,
       "version_minor": 0
      },
      "text/plain": [
       "Iterations:   0%|          | 0/140 [00:00<?, ?it/s]"
      ]
     },
     "metadata": {},
     "output_type": "display_data"
    },
    {
     "name": "stdout",
     "output_type": "stream",
     "text": [
      "[11/100][10/140][Time 39.20]\n",
      "Unified LR across all optimizers: 0.00018621299947057073\n",
      "--------------------Training Metrics--------------------\n",
      "Trainer:  resnet\n",
      "Inf: 0.0579\tGen: 1.0659\tRec: 1.0664\tE: 0.0574\tR: 0.0583\tP: 2.0745\n",
      "--------------------Test Metrics------------------------\n",
      "accuracy: 0.7641\n",
      "\n",
      "[11/100][60/140][Time 38.89]\n",
      "Unified LR across all optimizers: 0.00018578472145637737\n",
      "--------------------Training Metrics--------------------\n",
      "Trainer:  resnet\n",
      "Inf: 0.0582\tGen: 1.0624\tRec: 1.0637\tE: 0.0569\tR: 0.0594\tP: 2.0679\n",
      "--------------------Test Metrics------------------------\n",
      "accuracy: 0.8406\n",
      "\n",
      "[11/100][110/140][Time 38.32]\n",
      "Unified LR across all optimizers: 0.00018535742845428288\n",
      "--------------------Training Metrics--------------------\n",
      "Trainer:  resnet\n",
      "Inf: 0.0603\tGen: 1.0649\tRec: 1.0662\tE: 0.0590\tR: 0.0616\tP: 2.0708\n",
      "--------------------Test Metrics------------------------\n",
      "accuracy: 0.7957\n",
      "\n"
     ]
    },
    {
     "data": {
      "application/vnd.jupyter.widget-view+json": {
       "model_id": "ec676794d9d049f8a8d47b80c40adc6f",
       "version_major": 2,
       "version_minor": 0
      },
      "text/plain": [
       "Iterations:   0%|          | 0/140 [00:00<?, ?it/s]"
      ]
     },
     "metadata": {},
     "output_type": "display_data"
    },
    {
     "name": "stdout",
     "output_type": "stream",
     "text": [
      "[12/100][20/140][Time 41.82]\n",
      "Unified LR across all optimizers: 0.00018493111819882223\n",
      "--------------------Training Metrics--------------------\n",
      "Trainer:  resnet\n",
      "Inf: 0.0598\tGen: 1.0583\tRec: 1.0594\tE: 0.0587\tR: 0.0608\tP: 2.0579\n",
      "--------------------Test Metrics------------------------\n",
      "accuracy: 0.8411\n",
      "\n",
      "[12/100][70/140][Time 44.10]\n",
      "Unified LR across all optimizers: 0.00018450578842974107\n",
      "--------------------Training Metrics--------------------\n",
      "Trainer:  resnet\n",
      "Inf: 0.0604\tGen: 1.0608\tRec: 1.0624\tE: 0.0588\tR: 0.0621\tP: 2.0628\n",
      "--------------------Test Metrics------------------------\n",
      "accuracy: 0.8207\n",
      "\n",
      "[12/100][120/140][Time 46.26]\n",
      "Unified LR across all optimizers: 0.00018408143689198318\n",
      "--------------------Training Metrics--------------------\n",
      "Trainer:  resnet\n",
      "Inf: 0.0608\tGen: 1.0561\tRec: 1.0574\tE: 0.0594\tR: 0.0621\tP: 2.0527\n",
      "--------------------Test Metrics------------------------\n",
      "accuracy: 0.8272\n",
      "\n"
     ]
    },
    {
     "data": {
      "application/vnd.jupyter.widget-view+json": {
       "model_id": "dea2b64e84c540779fa9c6d290d2a4f3",
       "version_major": 2,
       "version_minor": 0
      },
      "text/plain": [
       "Iterations:   0%|          | 0/140 [00:00<?, ?it/s]"
      ]
     },
     "metadata": {},
     "output_type": "display_data"
    },
    {
     "name": "stdout",
     "output_type": "stream",
     "text": [
      "[13/100][30/140][Time 50.37]\n",
      "Unified LR across all optimizers: 0.0001836580613356789\n",
      "--------------------Training Metrics--------------------\n",
      "Trainer:  resnet\n",
      "Inf: 0.0595\tGen: 1.0580\tRec: 1.0596\tE: 0.0579\tR: 0.0611\tP: 2.0581\n",
      "--------------------Test Metrics------------------------\n",
      "accuracy: 0.8555\n",
      "\n",
      "[13/100][80/140][Time 46.37]\n",
      "Unified LR across all optimizers: 0.0001832356595161332\n",
      "--------------------Training Metrics--------------------\n",
      "Trainer:  resnet\n",
      "Inf: 0.0609\tGen: 1.0623\tRec: 1.0638\tE: 0.0593\tR: 0.0624\tP: 2.0653\n",
      "--------------------Test Metrics------------------------\n",
      "accuracy: 0.8254\n",
      "\n",
      "[13/100][130/140][Time 40.43]\n",
      "Unified LR across all optimizers: 0.00018281422919381367\n",
      "--------------------Training Metrics--------------------\n",
      "Trainer:  resnet\n",
      "Inf: 0.0613\tGen: 1.0572\tRec: 1.0584\tE: 0.0600\tR: 0.0625\tP: 2.0543\n",
      "--------------------Test Metrics------------------------\n",
      "accuracy: 0.8538\n",
      "\n"
     ]
    },
    {
     "data": {
      "application/vnd.jupyter.widget-view+json": {
       "model_id": "f2eab2d86db1498eb4f7a701dfa51831",
       "version_major": 2,
       "version_minor": 0
      },
      "text/plain": [
       "Iterations:   0%|          | 0/140 [00:00<?, ?it/s]"
      ]
     },
     "metadata": {},
     "output_type": "display_data"
    },
    {
     "name": "stdout",
     "output_type": "stream",
     "text": [
      "[14/100][40/140][Time 43.61]\n",
      "Unified LR across all optimizers: 0.00018239376813433867\n",
      "--------------------Training Metrics--------------------\n",
      "Trainer:  resnet\n",
      "Inf: 0.0615\tGen: 1.0588\tRec: 1.0608\tE: 0.0594\tR: 0.0635\tP: 2.0582\n",
      "--------------------Test Metrics------------------------\n",
      "accuracy: 0.8815\n",
      "\n",
      "[14/100][90/140][Time 52.01]\n",
      "Unified LR across all optimizers: 0.00018197427410846564\n",
      "--------------------Training Metrics--------------------\n",
      "Trainer:  resnet\n",
      "Inf: 0.0601\tGen: 1.0535\tRec: 1.0549\tE: 0.0588\tR: 0.0615\tP: 2.0483\n",
      "--------------------Test Metrics------------------------\n",
      "accuracy: 0.8059\n",
      "\n"
     ]
    },
    {
     "data": {
      "application/vnd.jupyter.widget-view+json": {
       "model_id": "8057c64d42924b65ac65a3d1f58905d6",
       "version_major": 2,
       "version_minor": 0
      },
      "text/plain": [
       "Iterations:   0%|          | 0/140 [00:00<?, ?it/s]"
      ]
     },
     "metadata": {},
     "output_type": "display_data"
    },
    {
     "name": "stdout",
     "output_type": "stream",
     "text": [
      "[15/100][0/140][Time 51.62]\n",
      "Unified LR across all optimizers: 0.00018155574489207887\n",
      "--------------------Training Metrics--------------------\n",
      "Trainer:  resnet\n",
      "Inf: 0.0602\tGen: 1.0511\tRec: 1.0521\tE: 0.0592\tR: 0.0612\tP: 2.0430\n",
      "--------------------Test Metrics------------------------\n",
      "accuracy: 0.8798\n",
      "\n",
      "[15/100][50/140][Time 51.62]\n",
      "Unified LR across all optimizers: 0.00018113817826617823\n",
      "--------------------Training Metrics--------------------\n",
      "Trainer:  resnet\n",
      "Inf: 0.0615\tGen: 1.0533\tRec: 1.0552\tE: 0.0597\tR: 0.0634\tP: 2.0469\n",
      "--------------------Test Metrics------------------------\n",
      "accuracy: 0.9020\n",
      "\n",
      "[15/100][100/140][Time 52.43]\n",
      "Unified LR across all optimizers: 0.00018072157201686696\n",
      "--------------------Training Metrics--------------------\n",
      "Trainer:  resnet\n",
      "Inf: 0.0611\tGen: 1.0481\tRec: 1.0496\tE: 0.0596\tR: 0.0626\tP: 2.0366\n",
      "--------------------Test Metrics------------------------\n",
      "accuracy: 0.9014\n",
      "\n"
     ]
    },
    {
     "data": {
      "application/vnd.jupyter.widget-view+json": {
       "model_id": "cb6492fb213a46c3a8b79089d03811fd",
       "version_major": 2,
       "version_minor": 0
      },
      "text/plain": [
       "Iterations:   0%|          | 0/140 [00:00<?, ?it/s]"
      ]
     },
     "metadata": {},
     "output_type": "display_data"
    },
    {
     "name": "stdout",
     "output_type": "stream",
     "text": [
      "[16/100][10/140][Time 51.32]\n",
      "Unified LR across all optimizers: 0.00018030592393534033\n",
      "--------------------Training Metrics--------------------\n",
      "Trainer:  resnet\n",
      "Inf: 0.0604\tGen: 1.0528\tRec: 1.0542\tE: 0.0590\tR: 0.0618\tP: 2.0466\n",
      "--------------------Test Metrics------------------------\n",
      "accuracy: 0.8741\n",
      "\n",
      "[16/100][60/140][Time 47.57]\n",
      "Unified LR across all optimizers: 0.0001798912318178735\n",
      "--------------------Training Metrics--------------------\n",
      "Trainer:  resnet\n",
      "Inf: 0.0612\tGen: 1.0473\tRec: 1.0494\tE: 0.0591\tR: 0.0633\tP: 2.0356\n",
      "--------------------Test Metrics------------------------\n",
      "accuracy: 0.8967\n",
      "\n",
      "[16/100][110/140][Time 41.30]\n",
      "Unified LR across all optimizers: 0.00017947749346581006\n",
      "--------------------Training Metrics--------------------\n",
      "Trainer:  resnet\n",
      "Inf: 0.0607\tGen: 1.0472\tRec: 1.0487\tE: 0.0592\tR: 0.0621\tP: 2.0353\n",
      "--------------------Test Metrics------------------------\n",
      "accuracy: 0.9082\n",
      "\n"
     ]
    },
    {
     "data": {
      "application/vnd.jupyter.widget-view+json": {
       "model_id": "1aa0050bf0244674b179bacc2df2f8fd",
       "version_major": 2,
       "version_minor": 0
      },
      "text/plain": [
       "Iterations:   0%|          | 0/140 [00:00<?, ?it/s]"
      ]
     },
     "metadata": {},
     "output_type": "display_data"
    },
    {
     "name": "stdout",
     "output_type": "stream",
     "text": [
      "[17/100][20/140][Time 38.43]\n",
      "Unified LR across all optimizers: 0.0001790647066855505\n",
      "--------------------Training Metrics--------------------\n",
      "Trainer:  resnet\n",
      "Inf: 0.0607\tGen: 1.0499\tRec: 1.0514\tE: 0.0591\tR: 0.0622\tP: 2.0407\n",
      "--------------------Test Metrics------------------------\n",
      "accuracy: 0.9016\n",
      "\n",
      "[17/100][70/140][Time 38.78]\n",
      "Unified LR across all optimizers: 0.00017865286928854052\n",
      "--------------------Training Metrics--------------------\n",
      "Trainer:  resnet\n",
      "Inf: 0.0604\tGen: 1.0429\tRec: 1.0452\tE: 0.0582\tR: 0.0626\tP: 2.0277\n",
      "--------------------Test Metrics------------------------\n",
      "accuracy: 0.9104\n",
      "\n",
      "[17/100][120/140][Time 41.57]\n",
      "Unified LR across all optimizers: 0.00017824197909125899\n",
      "--------------------Training Metrics--------------------\n",
      "Trainer:  resnet\n",
      "Inf: 0.0617\tGen: 1.0464\tRec: 1.0473\tE: 0.0608\tR: 0.0626\tP: 2.0320\n",
      "--------------------Test Metrics------------------------\n",
      "accuracy: 0.9469\n",
      "\n"
     ]
    },
    {
     "data": {
      "application/vnd.jupyter.widget-view+json": {
       "model_id": "3483bd38385643399d78ffcf7603ff12",
       "version_major": 2,
       "version_minor": 0
      },
      "text/plain": [
       "Iterations:   0%|          | 0/140 [00:00<?, ?it/s]"
      ]
     },
     "metadata": {},
     "output_type": "display_data"
    },
    {
     "name": "stdout",
     "output_type": "stream",
     "text": [
      "[18/100][30/140][Time 39.56]\n",
      "Unified LR across all optimizers: 0.00017783203391520723\n",
      "--------------------Training Metrics--------------------\n",
      "Trainer:  resnet\n",
      "Inf: 0.0592\tGen: 1.0460\tRec: 1.0477\tE: 0.0575\tR: 0.0608\tP: 2.0345\n",
      "--------------------Test Metrics------------------------\n",
      "accuracy: 0.9505\n",
      "\n",
      "[18/100][80/140][Time 39.07]\n",
      "Unified LR across all optimizers: 0.00017742303158689668\n",
      "--------------------Training Metrics--------------------\n",
      "Trainer:  resnet\n",
      "Inf: 0.0627\tGen: 1.0457\tRec: 1.0464\tE: 0.0620\tR: 0.0634\tP: 2.0295\n",
      "--------------------Test Metrics------------------------\n",
      "accuracy: 0.9198\n",
      "\n",
      "[18/100][130/140][Time 38.81]\n",
      "Unified LR across all optimizers: 0.00017701496993783762\n",
      "--------------------Training Metrics--------------------\n",
      "Trainer:  resnet\n",
      "Inf: 0.0594\tGen: 1.0422\tRec: 1.0428\tE: 0.0588\tR: 0.0600\tP: 2.0256\n",
      "--------------------Test Metrics------------------------\n",
      "accuracy: 0.9418\n",
      "\n"
     ]
    },
    {
     "data": {
      "application/vnd.jupyter.widget-view+json": {
       "model_id": "6533d43ab2124d26a9d1e7ea9796ad95",
       "version_major": 2,
       "version_minor": 0
      },
      "text/plain": [
       "Iterations:   0%|          | 0/140 [00:00<?, ?it/s]"
      ]
     },
     "metadata": {},
     "output_type": "display_data"
    },
    {
     "name": "stdout",
     "output_type": "stream",
     "text": [
      "[19/100][40/140][Time 38.85]\n",
      "Unified LR across all optimizers: 0.00017660784680452796\n",
      "--------------------Training Metrics--------------------\n",
      "Trainer:  resnet\n",
      "Inf: 0.0594\tGen: 1.0380\tRec: 1.0395\tE: 0.0580\tR: 0.0609\tP: 2.0181\n",
      "--------------------Test Metrics------------------------\n",
      "accuracy: 0.9527\n",
      "\n",
      "[19/100][90/140][Time 38.76]\n",
      "Unified LR across all optimizers: 0.0001762016600284412\n",
      "--------------------Training Metrics--------------------\n",
      "Trainer:  resnet\n",
      "Inf: 0.0608\tGen: 1.0402\tRec: 1.0409\tE: 0.0601\tR: 0.0616\tP: 2.0203\n",
      "--------------------Test Metrics------------------------\n",
      "accuracy: 0.9522\n",
      "\n"
     ]
    },
    {
     "data": {
      "application/vnd.jupyter.widget-view+json": {
       "model_id": "61b2f92c91d74458a8f3ad5351f481ed",
       "version_major": 2,
       "version_minor": 0
      },
      "text/plain": [
       "Iterations:   0%|          | 0/140 [00:00<?, ?it/s]"
      ]
     },
     "metadata": {},
     "output_type": "display_data"
    },
    {
     "name": "stdout",
     "output_type": "stream",
     "text": [
      "[20/100][0/140][Time 39.81]\n",
      "Unified LR across all optimizers: 0.00017579640745601563\n",
      "--------------------Training Metrics--------------------\n",
      "Trainer:  resnet\n",
      "Inf: 0.0619\tGen: 1.0408\tRec: 1.0412\tE: 0.0615\tR: 0.0623\tP: 2.0202\n",
      "--------------------Test Metrics------------------------\n",
      "accuracy: 0.9531\n",
      "\n",
      "[20/100][50/140][Time 45.12]\n",
      "Unified LR across all optimizers: 0.0001753920869386423\n",
      "--------------------Training Metrics--------------------\n",
      "Trainer:  resnet\n",
      "Inf: 0.0599\tGen: 1.0378\tRec: 1.0394\tE: 0.0583\tR: 0.0616\tP: 2.0173\n",
      "--------------------Test Metrics------------------------\n",
      "accuracy: 0.9529\n",
      "\n",
      "[20/100][100/140][Time 41.62]\n",
      "Unified LR across all optimizers: 0.0001749886963326542\n",
      "--------------------Training Metrics--------------------\n",
      "Trainer:  resnet\n",
      "Inf: 0.0589\tGen: 1.0369\tRec: 1.0381\tE: 0.0576\tR: 0.0601\tP: 2.0161\n",
      "--------------------Test Metrics------------------------\n",
      "accuracy: 0.9624\n",
      "\n"
     ]
    },
    {
     "data": {
      "application/vnd.jupyter.widget-view+json": {
       "model_id": "1f35ad0cae264ce69f70c7e21f7deced",
       "version_major": 2,
       "version_minor": 0
      },
      "text/plain": [
       "Iterations:   0%|          | 0/140 [00:00<?, ?it/s]"
      ]
     },
     "metadata": {},
     "output_type": "display_data"
    },
    {
     "name": "stdout",
     "output_type": "stream",
     "text": [
      "[21/100][10/140][Time 39.54]\n",
      "Unified LR across all optimizers: 0.0001745862334993144\n",
      "--------------------Training Metrics--------------------\n",
      "Trainer:  resnet\n",
      "Inf: 0.0598\tGen: 1.0356\tRec: 1.0367\tE: 0.0587\tR: 0.0609\tP: 2.0126\n",
      "--------------------Test Metrics------------------------\n",
      "accuracy: 0.9540\n",
      "\n",
      "[21/100][60/140][Time 39.49]\n",
      "Unified LR across all optimizers: 0.00017418469630480507\n",
      "--------------------Training Metrics--------------------\n",
      "Trainer:  resnet\n",
      "Inf: 0.0579\tGen: 1.0337\tRec: 1.0355\tE: 0.0560\tR: 0.0597\tP: 2.0113\n",
      "--------------------Test Metrics------------------------\n",
      "accuracy: 0.9359\n",
      "\n",
      "[21/100][110/140][Time 39.50]\n",
      "Unified LR across all optimizers: 0.00017378408262021616\n",
      "--------------------Training Metrics--------------------\n",
      "Trainer:  resnet\n",
      "Inf: 0.0599\tGen: 1.0344\tRec: 1.0353\tE: 0.0590\tR: 0.0608\tP: 2.0097\n",
      "--------------------Test Metrics------------------------\n",
      "accuracy: 0.9520\n",
      "\n"
     ]
    },
    {
     "data": {
      "application/vnd.jupyter.widget-view+json": {
       "model_id": "bd0819ac48b44fb491d0e4836053135a",
       "version_major": 2,
       "version_minor": 0
      },
      "text/plain": [
       "Iterations:   0%|          | 0/140 [00:00<?, ?it/s]"
      ]
     },
     "metadata": {},
     "output_type": "display_data"
    },
    {
     "name": "stdout",
     "output_type": "stream",
     "text": [
      "[22/100][20/140][Time 39.54]\n",
      "Unified LR across all optimizers: 0.00017338439032153356\n",
      "--------------------Training Metrics--------------------\n",
      "Trainer:  resnet\n",
      "Inf: 0.0583\tGen: 1.0313\tRec: 1.0325\tE: 0.0570\tR: 0.0595\tP: 2.0056\n",
      "--------------------Test Metrics------------------------\n",
      "accuracy: 0.9510\n",
      "\n",
      "[22/100][70/140][Time 39.19]\n",
      "Unified LR across all optimizers: 0.00017298561728962847\n",
      "--------------------Training Metrics--------------------\n",
      "Trainer:  resnet\n",
      "Inf: 0.0586\tGen: 1.0289\tRec: 1.0304\tE: 0.0570\tR: 0.0602\tP: 2.0007\n",
      "--------------------Test Metrics------------------------\n",
      "accuracy: 0.9451\n",
      "\n",
      "[22/100][120/140][Time 39.47]\n",
      "Unified LR across all optimizers: 0.00017258776141024598\n",
      "--------------------Training Metrics--------------------\n",
      "Trainer:  resnet\n",
      "Inf: 0.0574\tGen: 1.0360\tRec: 1.0371\tE: 0.0564\tR: 0.0585\tP: 2.0157\n",
      "--------------------Test Metrics------------------------\n",
      "accuracy: 0.9698\n",
      "\n"
     ]
    },
    {
     "data": {
      "application/vnd.jupyter.widget-view+json": {
       "model_id": "bb4cf07f8581451c8dc44bf868dbc0fc",
       "version_major": 2,
       "version_minor": 0
      },
      "text/plain": [
       "Iterations:   0%|          | 0/140 [00:00<?, ?it/s]"
      ]
     },
     "metadata": {},
     "output_type": "display_data"
    }
   ],
   "source": [
    "trainer_hub.train(train_dataset, val_dataset)"
   ]
  }
 ],
 "metadata": {
  "kernelspec": {
   "display_name": "ccnets",
   "language": "python",
   "name": "python3"
  },
  "language_info": {
   "codemirror_mode": {
    "name": "ipython",
    "version": 3
   },
   "file_extension": ".py",
   "mimetype": "text/x-python",
   "name": "python",
   "nbconvert_exporter": "python",
   "pygments_lexer": "ipython3",
   "version": "3.9.18"
  }
 },
 "nbformat": 4,
 "nbformat_minor": 2
}
