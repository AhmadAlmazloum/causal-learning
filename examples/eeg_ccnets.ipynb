{
 "cells": [
  {
   "cell_type": "markdown",
   "metadata": {},
   "source": [
    "Author:\n",
    "        \n",
    "        PARK, JunHo, junho@ccnets.org\n",
    "\n",
    "        \n",
    "        KIM, JeongYoong, jeongyoong@ccnets.org\n",
    "        \n",
    "    COPYRIGHT (c) 2024. CCNets. All Rights reserved."
   ]
  },
  {
   "cell_type": "code",
   "execution_count": 1,
   "metadata": {},
   "outputs": [
    {
     "name": "stderr",
     "output_type": "stream",
     "text": [
      "c:\\Users\\ccn-team\\anaconda3\\lib\\site-packages\\scipy\\__init__.py:146: UserWarning: A NumPy version >=1.16.5 and <1.23.0 is required for this version of SciPy (detected version 1.24.3\n",
      "  warnings.warn(f\"A NumPy version >={np_minversion} and <{np_maxversion}\"\n"
     ]
    }
   ],
   "source": [
    "import sys\n",
    "path_append = \"../\"\n",
    "sys.path.append(path_append)  # Go up one directory from where you are.\n",
    "\n",
    "import torch\n",
    "import pandas as pd\n",
    "from sklearn.model_selection import train_test_split \n",
    "from sklearn.preprocessing import StandardScaler, RobustScaler, MinMaxScaler"
   ]
  },
  {
   "cell_type": "code",
   "execution_count": 2,
   "metadata": {},
   "outputs": [],
   "source": [
    "from tools.setting.ml_params import MLParameters\n",
    "from tools.setting.data_config import DataConfig\n",
    "from nn.utils.init import set_random_seed\n",
    "set_random_seed(0)\n",
    "\n",
    "from trainer_hub import TrainerHub"
   ]
  },
  {
   "cell_type": "code",
   "execution_count": 3,
   "metadata": {},
   "outputs": [
    {
     "data": {
      "text/html": [
       "<div>\n",
       "<style scoped>\n",
       "    .dataframe tbody tr th:only-of-type {\n",
       "        vertical-align: middle;\n",
       "    }\n",
       "\n",
       "    .dataframe tbody tr th {\n",
       "        vertical-align: top;\n",
       "    }\n",
       "\n",
       "    .dataframe thead th {\n",
       "        text-align: right;\n",
       "    }\n",
       "</style>\n",
       "<table border=\"1\" class=\"dataframe\">\n",
       "  <thead>\n",
       "    <tr style=\"text-align: right;\">\n",
       "      <th></th>\n",
       "      <th>A1</th>\n",
       "      <th>A2</th>\n",
       "      <th>A3</th>\n",
       "      <th>A4</th>\n",
       "      <th>A5</th>\n",
       "      <th>A6</th>\n",
       "      <th>A7</th>\n",
       "      <th>A8</th>\n",
       "      <th>A9</th>\n",
       "      <th>A10</th>\n",
       "      <th>...</th>\n",
       "      <th>D24</th>\n",
       "      <th>D25</th>\n",
       "      <th>D26</th>\n",
       "      <th>D27</th>\n",
       "      <th>D28</th>\n",
       "      <th>D29</th>\n",
       "      <th>D30</th>\n",
       "      <th>D31</th>\n",
       "      <th>D32</th>\n",
       "      <th>event</th>\n",
       "    </tr>\n",
       "  </thead>\n",
       "  <tbody>\n",
       "    <tr>\n",
       "      <th>0</th>\n",
       "      <td>3549.790315</td>\n",
       "      <td>4533.538497</td>\n",
       "      <td>3619.665186</td>\n",
       "      <td>3077.291188</td>\n",
       "      <td>-1380.325575</td>\n",
       "      <td>6120.066816</td>\n",
       "      <td>-4072.820600</td>\n",
       "      <td>-2256.511456</td>\n",
       "      <td>1820.012261</td>\n",
       "      <td>-2815.635423</td>\n",
       "      <td>...</td>\n",
       "      <td>-7240.845997</td>\n",
       "      <td>7034.252627</td>\n",
       "      <td>8458.062496</td>\n",
       "      <td>5905.223463</td>\n",
       "      <td>6147.660515</td>\n",
       "      <td>2458.073582</td>\n",
       "      <td>-7465.876831</td>\n",
       "      <td>-3604.133966</td>\n",
       "      <td>-5445.224315</td>\n",
       "      <td>5</td>\n",
       "    </tr>\n",
       "    <tr>\n",
       "      <th>1</th>\n",
       "      <td>3551.227812</td>\n",
       "      <td>4534.850995</td>\n",
       "      <td>3622.540181</td>\n",
       "      <td>3077.322438</td>\n",
       "      <td>-1377.575581</td>\n",
       "      <td>6123.066810</td>\n",
       "      <td>-4069.851856</td>\n",
       "      <td>-2252.167714</td>\n",
       "      <td>1825.168502</td>\n",
       "      <td>-2803.072947</td>\n",
       "      <td>...</td>\n",
       "      <td>-7227.283522</td>\n",
       "      <td>7039.627617</td>\n",
       "      <td>8463.874985</td>\n",
       "      <td>5911.598451</td>\n",
       "      <td>6153.504254</td>\n",
       "      <td>2463.354822</td>\n",
       "      <td>-7461.033090</td>\n",
       "      <td>-3594.258985</td>\n",
       "      <td>-5435.693082</td>\n",
       "      <td>5</td>\n",
       "    </tr>\n",
       "    <tr>\n",
       "      <th>2</th>\n",
       "      <td>3556.727802</td>\n",
       "      <td>4539.850986</td>\n",
       "      <td>3629.040169</td>\n",
       "      <td>3081.978679</td>\n",
       "      <td>-1370.419344</td>\n",
       "      <td>6130.348047</td>\n",
       "      <td>-4063.508118</td>\n",
       "      <td>-2249.292720</td>\n",
       "      <td>1828.074746</td>\n",
       "      <td>-2804.041695</td>\n",
       "      <td>...</td>\n",
       "      <td>-7227.158522</td>\n",
       "      <td>7048.502600</td>\n",
       "      <td>8473.562467</td>\n",
       "      <td>5921.348433</td>\n",
       "      <td>6163.004236</td>\n",
       "      <td>2469.854810</td>\n",
       "      <td>-7460.470591</td>\n",
       "      <td>-3591.540240</td>\n",
       "      <td>-5433.568086</td>\n",
       "      <td>5</td>\n",
       "    </tr>\n",
       "    <tr>\n",
       "      <th>3</th>\n",
       "      <td>3557.915300</td>\n",
       "      <td>4541.225983</td>\n",
       "      <td>3628.540169</td>\n",
       "      <td>3083.197427</td>\n",
       "      <td>-1372.263090</td>\n",
       "      <td>6130.410547</td>\n",
       "      <td>-4062.070620</td>\n",
       "      <td>-2251.667715</td>\n",
       "      <td>1825.856000</td>\n",
       "      <td>-2803.572946</td>\n",
       "      <td>...</td>\n",
       "      <td>-7224.189777</td>\n",
       "      <td>7042.346362</td>\n",
       "      <td>8464.593734</td>\n",
       "      <td>5917.660940</td>\n",
       "      <td>6160.972990</td>\n",
       "      <td>2467.011066</td>\n",
       "      <td>-7458.158095</td>\n",
       "      <td>-3597.008980</td>\n",
       "      <td>-5437.474329</td>\n",
       "      <td>5</td>\n",
       "    </tr>\n",
       "    <tr>\n",
       "      <th>4</th>\n",
       "      <td>3553.352808</td>\n",
       "      <td>4535.757243</td>\n",
       "      <td>3622.477681</td>\n",
       "      <td>3079.572434</td>\n",
       "      <td>-1377.763080</td>\n",
       "      <td>6125.598056</td>\n",
       "      <td>-4066.570612</td>\n",
       "      <td>-2255.136459</td>\n",
       "      <td>1821.981008</td>\n",
       "      <td>-2808.041687</td>\n",
       "      <td>...</td>\n",
       "      <td>-7219.971035</td>\n",
       "      <td>7044.658857</td>\n",
       "      <td>8466.843729</td>\n",
       "      <td>5914.848445</td>\n",
       "      <td>6156.785498</td>\n",
       "      <td>2466.948566</td>\n",
       "      <td>-7457.501846</td>\n",
       "      <td>-3585.821500</td>\n",
       "      <td>-5428.630595</td>\n",
       "      <td>5</td>\n",
       "    </tr>\n",
       "    <tr>\n",
       "      <th>...</th>\n",
       "      <td>...</td>\n",
       "      <td>...</td>\n",
       "      <td>...</td>\n",
       "      <td>...</td>\n",
       "      <td>...</td>\n",
       "      <td>...</td>\n",
       "      <td>...</td>\n",
       "      <td>...</td>\n",
       "      <td>...</td>\n",
       "      <td>...</td>\n",
       "      <td>...</td>\n",
       "      <td>...</td>\n",
       "      <td>...</td>\n",
       "      <td>...</td>\n",
       "      <td>...</td>\n",
       "      <td>...</td>\n",
       "      <td>...</td>\n",
       "      <td>...</td>\n",
       "      <td>...</td>\n",
       "      <td>...</td>\n",
       "      <td>...</td>\n",
       "    </tr>\n",
       "    <tr>\n",
       "      <th>234436</th>\n",
       "      <td>2357.917517</td>\n",
       "      <td>4456.663639</td>\n",
       "      <td>4075.414344</td>\n",
       "      <td>1823.043506</td>\n",
       "      <td>-766.732959</td>\n",
       "      <td>4533.569747</td>\n",
       "      <td>-2612.042050</td>\n",
       "      <td>184.640283</td>\n",
       "      <td>2023.293136</td>\n",
       "      <td>-1143.232264</td>\n",
       "      <td>...</td>\n",
       "      <td>-6307.816471</td>\n",
       "      <td>6492.316128</td>\n",
       "      <td>4752.756842</td>\n",
       "      <td>4841.569178</td>\n",
       "      <td>5098.693703</td>\n",
       "      <td>3744.352455</td>\n",
       "      <td>-12741.898332</td>\n",
       "      <td>-2260.261450</td>\n",
       "      <td>-4432.538686</td>\n",
       "      <td>11</td>\n",
       "    </tr>\n",
       "    <tr>\n",
       "      <th>234437</th>\n",
       "      <td>2352.636277</td>\n",
       "      <td>4451.976148</td>\n",
       "      <td>4071.008102</td>\n",
       "      <td>1817.887265</td>\n",
       "      <td>-769.482954</td>\n",
       "      <td>4530.913502</td>\n",
       "      <td>-2614.854544</td>\n",
       "      <td>183.546535</td>\n",
       "      <td>2021.199389</td>\n",
       "      <td>-1144.044762</td>\n",
       "      <td>...</td>\n",
       "      <td>-6303.441479</td>\n",
       "      <td>6490.691131</td>\n",
       "      <td>4749.506848</td>\n",
       "      <td>4839.506682</td>\n",
       "      <td>5096.131208</td>\n",
       "      <td>3742.602459</td>\n",
       "      <td>-12744.398327</td>\n",
       "      <td>-2258.417703</td>\n",
       "      <td>-4432.788685</td>\n",
       "      <td>11</td>\n",
       "    </tr>\n",
       "    <tr>\n",
       "      <th>234438</th>\n",
       "      <td>2359.573764</td>\n",
       "      <td>4459.976133</td>\n",
       "      <td>4077.320590</td>\n",
       "      <td>1823.699754</td>\n",
       "      <td>-761.951718</td>\n",
       "      <td>4538.132239</td>\n",
       "      <td>-2605.792061</td>\n",
       "      <td>191.702770</td>\n",
       "      <td>2028.980625</td>\n",
       "      <td>-1134.451030</td>\n",
       "      <td>...</td>\n",
       "      <td>-6292.753999</td>\n",
       "      <td>6499.097365</td>\n",
       "      <td>4758.819331</td>\n",
       "      <td>4846.725419</td>\n",
       "      <td>5105.256191</td>\n",
       "      <td>3752.164941</td>\n",
       "      <td>-12733.742097</td>\n",
       "      <td>-2251.948965</td>\n",
       "      <td>-4424.444951</td>\n",
       "      <td>11</td>\n",
       "    </tr>\n",
       "    <tr>\n",
       "      <th>234439</th>\n",
       "      <td>2365.261254</td>\n",
       "      <td>4466.038622</td>\n",
       "      <td>4083.258079</td>\n",
       "      <td>1831.824739</td>\n",
       "      <td>-754.389232</td>\n",
       "      <td>4542.850980</td>\n",
       "      <td>-2599.667072</td>\n",
       "      <td>198.015258</td>\n",
       "      <td>2036.261862</td>\n",
       "      <td>-1126.576044</td>\n",
       "      <td>...</td>\n",
       "      <td>-6286.066511</td>\n",
       "      <td>6509.972345</td>\n",
       "      <td>4768.381813</td>\n",
       "      <td>4852.506658</td>\n",
       "      <td>5111.506179</td>\n",
       "      <td>3758.696179</td>\n",
       "      <td>-12725.992112</td>\n",
       "      <td>-2243.886480</td>\n",
       "      <td>-4415.101218</td>\n",
       "      <td>11</td>\n",
       "    </tr>\n",
       "    <tr>\n",
       "      <th>234440</th>\n",
       "      <td>2364.730005</td>\n",
       "      <td>4464.632375</td>\n",
       "      <td>4082.289331</td>\n",
       "      <td>1831.262240</td>\n",
       "      <td>-753.701733</td>\n",
       "      <td>4541.257233</td>\n",
       "      <td>-2601.823318</td>\n",
       "      <td>198.046508</td>\n",
       "      <td>2037.230610</td>\n",
       "      <td>-1123.763549</td>\n",
       "      <td>...</td>\n",
       "      <td>-6284.222764</td>\n",
       "      <td>6510.409844</td>\n",
       "      <td>4768.819313</td>\n",
       "      <td>4851.662909</td>\n",
       "      <td>5110.849931</td>\n",
       "      <td>3758.477429</td>\n",
       "      <td>-12727.179609</td>\n",
       "      <td>-2241.823984</td>\n",
       "      <td>-4413.569971</td>\n",
       "      <td>11</td>\n",
       "    </tr>\n",
       "  </tbody>\n",
       "</table>\n",
       "<p>234441 rows × 129 columns</p>\n",
       "</div>"
      ],
      "text/plain": [
       "                 A1           A2           A3           A4           A5  \\\n",
       "0       3549.790315  4533.538497  3619.665186  3077.291188 -1380.325575   \n",
       "1       3551.227812  4534.850995  3622.540181  3077.322438 -1377.575581   \n",
       "2       3556.727802  4539.850986  3629.040169  3081.978679 -1370.419344   \n",
       "3       3557.915300  4541.225983  3628.540169  3083.197427 -1372.263090   \n",
       "4       3553.352808  4535.757243  3622.477681  3079.572434 -1377.763080   \n",
       "...             ...          ...          ...          ...          ...   \n",
       "234436  2357.917517  4456.663639  4075.414344  1823.043506  -766.732959   \n",
       "234437  2352.636277  4451.976148  4071.008102  1817.887265  -769.482954   \n",
       "234438  2359.573764  4459.976133  4077.320590  1823.699754  -761.951718   \n",
       "234439  2365.261254  4466.038622  4083.258079  1831.824739  -754.389232   \n",
       "234440  2364.730005  4464.632375  4082.289331  1831.262240  -753.701733   \n",
       "\n",
       "                 A6           A7           A8           A9          A10  ...  \\\n",
       "0       6120.066816 -4072.820600 -2256.511456  1820.012261 -2815.635423  ...   \n",
       "1       6123.066810 -4069.851856 -2252.167714  1825.168502 -2803.072947  ...   \n",
       "2       6130.348047 -4063.508118 -2249.292720  1828.074746 -2804.041695  ...   \n",
       "3       6130.410547 -4062.070620 -2251.667715  1825.856000 -2803.572946  ...   \n",
       "4       6125.598056 -4066.570612 -2255.136459  1821.981008 -2808.041687  ...   \n",
       "...             ...          ...          ...          ...          ...  ...   \n",
       "234436  4533.569747 -2612.042050   184.640283  2023.293136 -1143.232264  ...   \n",
       "234437  4530.913502 -2614.854544   183.546535  2021.199389 -1144.044762  ...   \n",
       "234438  4538.132239 -2605.792061   191.702770  2028.980625 -1134.451030  ...   \n",
       "234439  4542.850980 -2599.667072   198.015258  2036.261862 -1126.576044  ...   \n",
       "234440  4541.257233 -2601.823318   198.046508  2037.230610 -1123.763549  ...   \n",
       "\n",
       "                D24          D25          D26          D27          D28  \\\n",
       "0      -7240.845997  7034.252627  8458.062496  5905.223463  6147.660515   \n",
       "1      -7227.283522  7039.627617  8463.874985  5911.598451  6153.504254   \n",
       "2      -7227.158522  7048.502600  8473.562467  5921.348433  6163.004236   \n",
       "3      -7224.189777  7042.346362  8464.593734  5917.660940  6160.972990   \n",
       "4      -7219.971035  7044.658857  8466.843729  5914.848445  6156.785498   \n",
       "...             ...          ...          ...          ...          ...   \n",
       "234436 -6307.816471  6492.316128  4752.756842  4841.569178  5098.693703   \n",
       "234437 -6303.441479  6490.691131  4749.506848  4839.506682  5096.131208   \n",
       "234438 -6292.753999  6499.097365  4758.819331  4846.725419  5105.256191   \n",
       "234439 -6286.066511  6509.972345  4768.381813  4852.506658  5111.506179   \n",
       "234440 -6284.222764  6510.409844  4768.819313  4851.662909  5110.849931   \n",
       "\n",
       "                D29           D30          D31          D32  event  \n",
       "0       2458.073582  -7465.876831 -3604.133966 -5445.224315      5  \n",
       "1       2463.354822  -7461.033090 -3594.258985 -5435.693082      5  \n",
       "2       2469.854810  -7460.470591 -3591.540240 -5433.568086      5  \n",
       "3       2467.011066  -7458.158095 -3597.008980 -5437.474329      5  \n",
       "4       2466.948566  -7457.501846 -3585.821500 -5428.630595      5  \n",
       "...             ...           ...          ...          ...    ...  \n",
       "234436  3744.352455 -12741.898332 -2260.261450 -4432.538686     11  \n",
       "234437  3742.602459 -12744.398327 -2258.417703 -4432.788685     11  \n",
       "234438  3752.164941 -12733.742097 -2251.948965 -4424.444951     11  \n",
       "234439  3758.696179 -12725.992112 -2243.886480 -4415.101218     11  \n",
       "234440  3758.477429 -12727.179609 -2241.823984 -4413.569971     11  \n",
       "\n",
       "[234441 rows x 129 columns]"
      ]
     },
     "execution_count": 3,
     "metadata": {},
     "output_type": "execute_result"
    }
   ],
   "source": [
    "# https://github.com/N-Nieto/Inner_Speech_Dataset\n",
    "\n",
    "# Load the Inner Speech Dataset\n",
    "# =============================\n",
    "# This dataset comprises raw EEG data collected from subject 'sub-01' during session 'ses-01'.\n",
    "# Source: https://github.com/N-Nieto/Inner_Speech_Dataset\n",
    "#\n",
    "# Overview:\n",
    "# - The dataset is part of a study on inner speech, capturing brain activity via EEG.\n",
    "# - Each row in the dataset corresponds to a timestamp of EEG readings.\n",
    "# - Columns represent various EEG channels (electrodes placed on the scalp).\n",
    "#\n",
    "# Usage:\n",
    "# - The data is primarily used for cognitive neuroscience research, focusing on the neural correlates of inner speech.\n",
    "# - Users can analyze EEG signals to investigate brain activity patterns associated with the cognitive processes of inner speech.\n",
    "#\n",
    "# File Structure:\n",
    "# - Located at '../data/RAW_EEG/sub-01/sub-01_ses-01.csv' relative to this script.\n",
    "# - It is advisable to preprocess the data (filtering, normalization) before detailed analysis.\n",
    "#\n",
    "# Example:\n",
    "# - To load this data into a DataFrame for analysis and processing, use the following code snippet.\n",
    "\n",
    "# Define the path to the dataset\n",
    "dataroot = path_append + \"../data/RAW_EEG/sub-01/sub-01_ses-01.csv\"\n",
    "# Load the dataset into a DataFrame\n",
    "df = pd.read_csv(dataroot)\n",
    "# Display the DataFrame to verify it has loaded correctly\n",
    "df\n"
   ]
  },
  {
   "cell_type": "code",
   "execution_count": 4,
   "metadata": {},
   "outputs": [],
   "source": [
    "mm = StandardScaler()\n",
    "df.iloc[:,:-1] = mm.fit_transform(df.iloc[:,:-1])\n",
    "\n",
    "tmp = df[df.event==5]\n",
    "df = pd.concat([df, tmp, tmp])\n",
    "df.reset_index(drop=True, inplace=True)\n",
    "df.event = df.event.apply(lambda x: x if x<5 else x-1)"
   ]
  },
  {
   "cell_type": "code",
   "execution_count": 5,
   "metadata": {},
   "outputs": [],
   "source": [
    "from torch.utils.data import Dataset, DataLoader\n",
    "from random import shuffle\n",
    "\n",
    "class EEG_Dataset(Dataset):\n",
    "    def __init__(self, df, indices, **kwargs):\n",
    "        self.df = df\n",
    "        self.indices = indices\n",
    "\n",
    "    def __len__(self):\n",
    "        return len(self.indices)\n",
    "\n",
    "    def __getitem__(self, idx):\n",
    "        seq = self.df.loc[self.indices[idx]]\n",
    "        X, y = seq.values[:, :-1], seq.values[:, -1]\n",
    "        \n",
    "        # Identify where the label changes\n",
    "        label_changes = (y[1:] != y[:-1]).nonzero()[0] + 1  # Find where the label changes, shift by 1 for correct indexing\n",
    "        \n",
    "        # Convert to tensors\n",
    "        X = torch.from_numpy(X).float()\n",
    "        y = torch.from_numpy(y).long()\n",
    "        y = torch.nn.functional.one_hot(y, num_classes=13)\n",
    "\n",
    "        # Set X values to -inf at label change positions\n",
    "        if len(label_changes) > 0:\n",
    "            X[label_changes] = float('-inf')\n",
    "\n",
    "        return X, y"
   ]
  },
  {
   "cell_type": "code",
   "execution_count": 6,
   "metadata": {},
   "outputs": [],
   "source": [
    "window_size = 128\n",
    "indices = [list(df.index[i:i + window_size]) for i in range(0, len(df), window_size//2) if len(df.index[i:i + window_size]) == window_size and len(df['event'][i:i+window_size].unique()) == 1]\n",
    "shuffle(indices)\n",
    "train_indices, test_indices = train_test_split(indices, test_size=0.2, shuffle=False)\n",
    "\n",
    "trainset = EEG_Dataset(df, train_indices)\n",
    "testset = EEG_Dataset(df, test_indices)"
   ]
  },
  {
   "cell_type": "code",
   "execution_count": 7,
   "metadata": {},
   "outputs": [],
   "source": [
    "data_config = DataConfig(dataset_name = 'eeg-sub-01', task_type='multi_class_classification', obs_shape=[128], label_size=13, explain_size = 96)\n",
    "\n",
    "#  Set training configuration from the AlgorithmConfig class, returning them as a Namespace object.\n",
    "ml_params = MLParameters()"
   ]
  },
  {
   "cell_type": "code",
   "execution_count": 8,
   "metadata": {},
   "outputs": [],
   "source": [
    "ml_params.core_model_name = 'gpt' \n",
    "ml_params.encoder_model_name = 'none'\n",
    "ml_params.training.max_epoch = 200\n",
    "ml_params.training.batch_size = 64\n",
    "ml_params.decay_rate_100k = 0.01\n",
    "ml_params.seq_len = window_size\n",
    "\n",
    "# Set the device to GPU if available, else CPU\n",
    "device = torch.device(\"cuda\" if torch.cuda.is_available() else \"cpu\") \n",
    "\n",
    "# Initialize the TrainerHub class with the training configuration, data configuration, device, and use_print and use_wandb flags\n",
    "trainer_hub = TrainerHub(ml_params, data_config, device, use_print=True, use_wandb=False) "
   ]
  },
  {
   "cell_type": "code",
   "execution_count": 9,
   "metadata": {},
   "outputs": [
    {
     "data": {
      "application/vnd.jupyter.widget-view+json": {
       "model_id": "5ba6d013b0454750875266382d9625cf",
       "version_major": 2,
       "version_minor": 0
      },
      "text/plain": [
       "Epochs:   0%|          | 0/200 [00:00<?, ?it/s]"
      ]
     },
     "metadata": {},
     "output_type": "display_data"
    },
    {
     "data": {
      "application/vnd.jupyter.widget-view+json": {
       "model_id": "e66d1aa8e1af4e99b9ef27a28ab95876",
       "version_major": 2,
       "version_minor": 0
      },
      "text/plain": [
       "Iterations:   0%|          | 0/43 [00:00<?, ?it/s]"
      ]
     },
     "metadata": {},
     "output_type": "display_data"
    },
    {
     "data": {
      "application/vnd.jupyter.widget-view+json": {
       "model_id": "45ba8b0b30b64702b5f8dc32e55f87b1",
       "version_major": 2,
       "version_minor": 0
      },
      "text/plain": [
       "Iterations:   0%|          | 0/43 [00:00<?, ?it/s]"
      ]
     },
     "metadata": {},
     "output_type": "display_data"
    },
    {
     "name": "stdout",
     "output_type": "stream",
     "text": [
      "[1/200][7/43][Time 19.64]\n",
      "Unified LR across all optimizers: 0.0001995308238189185\n",
      "--------------------Training Metrics--------------------\n",
      "Trainer:  gpt\n",
      "Inf: 0.2333\tGen: 0.4583\tRec: 0.4081\tE: 0.2834\tR: 0.1831\tP: 0.6332\n",
      "--------------------Test Metrics------------------------\n",
      "accuracy: 0.3936\n",
      "precision: 0.3100\n",
      "recall: 0.4039\n",
      "f1_score: 0.3071\n",
      "\n"
     ]
    },
    {
     "data": {
      "application/vnd.jupyter.widget-view+json": {
       "model_id": "c7d48ce36761438fbfe7eab3d73a2fed",
       "version_major": 2,
       "version_minor": 0
      },
      "text/plain": [
       "Iterations:   0%|          | 0/43 [00:00<?, ?it/s]"
      ]
     },
     "metadata": {},
     "output_type": "display_data"
    },
    {
     "name": "stdout",
     "output_type": "stream",
     "text": [
      "[2/200][14/43][Time 18.79]\n",
      "Unified LR across all optimizers: 0.00019907191565870155\n",
      "--------------------Training Metrics--------------------\n",
      "Trainer:  gpt\n",
      "Inf: 0.0612\tGen: 0.1567\tRec: 0.1434\tE: 0.0746\tR: 0.0478\tP: 0.2389\n",
      "--------------------Test Metrics------------------------\n",
      "accuracy: 0.4650\n",
      "precision: 0.3269\n",
      "recall: 0.3623\n",
      "f1_score: 0.2923\n",
      "\n"
     ]
    },
    {
     "data": {
      "application/vnd.jupyter.widget-view+json": {
       "model_id": "02a2d9960c1d4665b034ff84499696e8",
       "version_major": 2,
       "version_minor": 0
      },
      "text/plain": [
       "Iterations:   0%|          | 0/43 [00:00<?, ?it/s]"
      ]
     },
     "metadata": {},
     "output_type": "display_data"
    },
    {
     "name": "stdout",
     "output_type": "stream",
     "text": [
      "[3/200][21/43][Time 18.80]\n",
      "Unified LR across all optimizers: 0.00019861406295796434\n",
      "--------------------Training Metrics--------------------\n",
      "Trainer:  gpt\n",
      "Inf: 0.0428\tGen: 0.1182\tRec: 0.1104\tE: 0.0506\tR: 0.0351\tP: 0.1857\n",
      "--------------------Test Metrics------------------------\n",
      "accuracy: 0.4364\n",
      "precision: 0.3427\n",
      "recall: 0.4302\n",
      "f1_score: 0.3487\n",
      "\n"
     ]
    },
    {
     "data": {
      "application/vnd.jupyter.widget-view+json": {
       "model_id": "5aabe6d2d92f4e4a9397dc3fc82768fe",
       "version_major": 2,
       "version_minor": 0
      },
      "text/plain": [
       "Iterations:   0%|          | 0/43 [00:00<?, ?it/s]"
      ]
     },
     "metadata": {},
     "output_type": "display_data"
    },
    {
     "name": "stdout",
     "output_type": "stream",
     "text": [
      "[4/200][28/43][Time 18.82]\n",
      "Unified LR across all optimizers: 0.00019815726328921765\n",
      "--------------------Training Metrics--------------------\n",
      "Trainer:  gpt\n",
      "Inf: 0.0372\tGen: 0.1038\tRec: 0.0982\tE: 0.0428\tR: 0.0316\tP: 0.1648\n",
      "--------------------Test Metrics------------------------\n",
      "accuracy: 0.4302\n",
      "precision: 0.3552\n",
      "recall: 0.4297\n",
      "f1_score: 0.3676\n",
      "\n"
     ]
    },
    {
     "data": {
      "application/vnd.jupyter.widget-view+json": {
       "model_id": "81f5696891f740de9e6dc4bfd34d3f64",
       "version_major": 2,
       "version_minor": 0
      },
      "text/plain": [
       "Iterations:   0%|          | 0/43 [00:00<?, ?it/s]"
      ]
     },
     "metadata": {},
     "output_type": "display_data"
    },
    {
     "name": "stdout",
     "output_type": "stream",
     "text": [
      "[5/200][35/43][Time 18.86]\n",
      "Unified LR across all optimizers: 0.00019770151423055492\n",
      "--------------------Training Metrics--------------------\n",
      "Trainer:  gpt\n",
      "Inf: 0.0321\tGen: 0.0969\tRec: 0.0922\tE: 0.0368\tR: 0.0274\tP: 0.1569\n",
      "--------------------Test Metrics------------------------\n",
      "accuracy: 0.5266\n",
      "precision: 0.5469\n",
      "recall: 0.5087\n",
      "f1_score: 0.4753\n",
      "\n"
     ]
    },
    {
     "data": {
      "application/vnd.jupyter.widget-view+json": {
       "model_id": "9966c394fcfd41d093f2a4beda8ef8c5",
       "version_major": 2,
       "version_minor": 0
      },
      "text/plain": [
       "Iterations:   0%|          | 0/43 [00:00<?, ?it/s]"
      ]
     },
     "metadata": {},
     "output_type": "display_data"
    },
    {
     "name": "stdout",
     "output_type": "stream",
     "text": [
      "[6/200][42/43][Time 18.74]\n",
      "Unified LR across all optimizers: 0.00019724681336564005\n",
      "--------------------Training Metrics--------------------\n",
      "Trainer:  gpt\n",
      "Inf: 0.0271\tGen: 0.0899\tRec: 0.0857\tE: 0.0313\tR: 0.0228\tP: 0.1486\n",
      "--------------------Test Metrics------------------------\n",
      "accuracy: 0.5382\n",
      "precision: 0.5096\n",
      "recall: 0.5731\n",
      "f1_score: 0.5057\n",
      "\n"
     ]
    },
    {
     "data": {
      "application/vnd.jupyter.widget-view+json": {
       "model_id": "a88b0bb1f88842d09f5ce0c0fc85f9b7",
       "version_major": 2,
       "version_minor": 0
      },
      "text/plain": [
       "Iterations:   0%|          | 0/43 [00:00<?, ?it/s]"
      ]
     },
     "metadata": {},
     "output_type": "display_data"
    },
    {
     "data": {
      "application/vnd.jupyter.widget-view+json": {
       "model_id": "38ce872ec873412780ef102fcb6ba95c",
       "version_major": 2,
       "version_minor": 0
      },
      "text/plain": [
       "Iterations:   0%|          | 0/43 [00:00<?, ?it/s]"
      ]
     },
     "metadata": {},
     "output_type": "display_data"
    },
    {
     "name": "stdout",
     "output_type": "stream",
     "text": [
      "[8/200][6/43][Time 18.30]\n",
      "Unified LR across all optimizers: 0.00019679315828369438\n",
      "--------------------Training Metrics--------------------\n",
      "Trainer:  gpt\n",
      "Inf: 0.0253\tGen: 0.0860\tRec: 0.0824\tE: 0.0289\tR: 0.0217\tP: 0.1432\n",
      "--------------------Test Metrics------------------------\n",
      "accuracy: 0.5232\n",
      "precision: 0.3841\n",
      "recall: 0.4090\n",
      "f1_score: 0.3877\n",
      "\n"
     ]
    },
    {
     "data": {
      "application/vnd.jupyter.widget-view+json": {
       "model_id": "3263f365931a4bc889e3eb43a4871691",
       "version_major": 2,
       "version_minor": 0
      },
      "text/plain": [
       "Iterations:   0%|          | 0/43 [00:00<?, ?it/s]"
      ]
     },
     "metadata": {},
     "output_type": "display_data"
    },
    {
     "name": "stdout",
     "output_type": "stream",
     "text": [
      "[9/200][13/43][Time 18.30]\n",
      "Unified LR across all optimizers: 0.00019634054657948372\n",
      "--------------------Training Metrics--------------------\n",
      "Trainer:  gpt\n",
      "Inf: 0.0236\tGen: 0.0819\tRec: 0.0787\tE: 0.0268\tR: 0.0204\tP: 0.1370\n",
      "--------------------Test Metrics------------------------\n",
      "accuracy: 0.5282\n",
      "precision: 0.5168\n",
      "recall: 0.5326\n",
      "f1_score: 0.4956\n",
      "\n"
     ]
    },
    {
     "data": {
      "application/vnd.jupyter.widget-view+json": {
       "model_id": "4fe634838c5043f387a038d4ab78162d",
       "version_major": 2,
       "version_minor": 0
      },
      "text/plain": [
       "Iterations:   0%|          | 0/43 [00:00<?, ?it/s]"
      ]
     },
     "metadata": {},
     "output_type": "display_data"
    },
    {
     "name": "stdout",
     "output_type": "stream",
     "text": [
      "[10/200][20/43][Time 18.32]\n",
      "Unified LR across all optimizers: 0.00019588897585330582\n",
      "--------------------Training Metrics--------------------\n",
      "Trainer:  gpt\n",
      "Inf: 0.0228\tGen: 0.0794\tRec: 0.0766\tE: 0.0255\tR: 0.0201\tP: 0.1332\n",
      "--------------------Test Metrics------------------------\n",
      "accuracy: 0.5303\n",
      "precision: 0.6201\n",
      "recall: 0.6069\n",
      "f1_score: 0.5243\n",
      "\n"
     ]
    },
    {
     "data": {
      "application/vnd.jupyter.widget-view+json": {
       "model_id": "b3e4d3c563c5493197a020c3fcb02429",
       "version_major": 2,
       "version_minor": 0
      },
      "text/plain": [
       "Iterations:   0%|          | 0/43 [00:00<?, ?it/s]"
      ]
     },
     "metadata": {},
     "output_type": "display_data"
    },
    {
     "name": "stdout",
     "output_type": "stream",
     "text": [
      "[11/200][27/43][Time 18.31]\n",
      "Unified LR across all optimizers: 0.00019543844371097777\n",
      "--------------------Training Metrics--------------------\n",
      "Trainer:  gpt\n",
      "Inf: 0.0226\tGen: 0.0770\tRec: 0.0742\tE: 0.0254\tR: 0.0198\tP: 0.1287\n",
      "--------------------Test Metrics------------------------\n",
      "accuracy: 0.5800\n",
      "precision: 0.5197\n",
      "recall: 0.5289\n",
      "f1_score: 0.4805\n",
      "\n"
     ]
    },
    {
     "data": {
      "application/vnd.jupyter.widget-view+json": {
       "model_id": "2030b065e4984b5fa6a2b118c5fda794",
       "version_major": 2,
       "version_minor": 0
      },
      "text/plain": [
       "Iterations:   0%|          | 0/43 [00:00<?, ?it/s]"
      ]
     },
     "metadata": {},
     "output_type": "display_data"
    },
    {
     "name": "stdout",
     "output_type": "stream",
     "text": [
      "[12/200][34/43][Time 18.33]\n",
      "Unified LR across all optimizers: 0.00019498894776382288\n",
      "--------------------Training Metrics--------------------\n",
      "Trainer:  gpt\n",
      "Inf: 0.0209\tGen: 0.0744\tRec: 0.0723\tE: 0.0230\tR: 0.0188\tP: 0.1258\n",
      "--------------------Test Metrics------------------------\n",
      "accuracy: 0.5988\n",
      "precision: 0.6395\n",
      "recall: 0.6057\n",
      "f1_score: 0.5672\n",
      "\n"
     ]
    },
    {
     "data": {
      "application/vnd.jupyter.widget-view+json": {
       "model_id": "b56914ed405140d3b0b254e16c7840de",
       "version_major": 2,
       "version_minor": 0
      },
      "text/plain": [
       "Iterations:   0%|          | 0/43 [00:00<?, ?it/s]"
      ]
     },
     "metadata": {},
     "output_type": "display_data"
    },
    {
     "name": "stdout",
     "output_type": "stream",
     "text": [
      "[13/200][41/43][Time 18.27]\n",
      "Unified LR across all optimizers: 0.00019454048562865856\n",
      "--------------------Training Metrics--------------------\n",
      "Trainer:  gpt\n",
      "Inf: 0.0207\tGen: 0.0722\tRec: 0.0703\tE: 0.0227\tR: 0.0188\tP: 0.1217\n",
      "--------------------Test Metrics------------------------\n",
      "accuracy: 0.4425\n",
      "precision: 0.4328\n",
      "recall: 0.4890\n",
      "f1_score: 0.4212\n",
      "\n"
     ]
    },
    {
     "data": {
      "application/vnd.jupyter.widget-view+json": {
       "model_id": "e38658fd8c784a6eacca4fdb13ff02ae",
       "version_major": 2,
       "version_minor": 0
      },
      "text/plain": [
       "Iterations:   0%|          | 0/43 [00:00<?, ?it/s]"
      ]
     },
     "metadata": {},
     "output_type": "display_data"
    },
    {
     "data": {
      "application/vnd.jupyter.widget-view+json": {
       "model_id": "d5842cfde4c046b2a765b4ec002950ac",
       "version_major": 2,
       "version_minor": 0
      },
      "text/plain": [
       "Iterations:   0%|          | 0/43 [00:00<?, ?it/s]"
      ]
     },
     "metadata": {},
     "output_type": "display_data"
    },
    {
     "name": "stdout",
     "output_type": "stream",
     "text": [
      "[15/200][5/43][Time 18.24]\n",
      "Unified LR across all optimizers: 0.00019409305492778308\n",
      "--------------------Training Metrics--------------------\n",
      "Trainer:  gpt\n",
      "Inf: 0.0196\tGen: 0.0702\tRec: 0.0686\tE: 0.0212\tR: 0.0180\tP: 0.1193\n",
      "--------------------Test Metrics------------------------\n",
      "accuracy: 0.5653\n",
      "precision: 0.5681\n",
      "recall: 0.5846\n",
      "f1_score: 0.5373\n",
      "\n"
     ]
    },
    {
     "data": {
      "application/vnd.jupyter.widget-view+json": {
       "model_id": "d98ac9d6615242c8ad82efdaabfeb2ee",
       "version_major": 2,
       "version_minor": 0
      },
      "text/plain": [
       "Iterations:   0%|          | 0/43 [00:00<?, ?it/s]"
      ]
     },
     "metadata": {},
     "output_type": "display_data"
    },
    {
     "name": "stdout",
     "output_type": "stream",
     "text": [
      "[16/200][12/43][Time 18.22]\n",
      "Unified LR across all optimizers: 0.00019364665328896346\n",
      "--------------------Training Metrics--------------------\n",
      "Trainer:  gpt\n",
      "Inf: 0.0190\tGen: 0.0695\tRec: 0.0679\tE: 0.0206\tR: 0.0174\tP: 0.1185\n",
      "--------------------Test Metrics------------------------\n",
      "accuracy: 0.6367\n",
      "precision: 0.6153\n",
      "recall: 0.5653\n",
      "f1_score: 0.5413\n",
      "\n"
     ]
    },
    {
     "data": {
      "application/vnd.jupyter.widget-view+json": {
       "model_id": "81e2bfaa1448477982597846f7c30e60",
       "version_major": 2,
       "version_minor": 0
      },
      "text/plain": [
       "Iterations:   0%|          | 0/43 [00:00<?, ?it/s]"
      ]
     },
     "metadata": {},
     "output_type": "display_data"
    },
    {
     "name": "stdout",
     "output_type": "stream",
     "text": [
      "[17/200][19/43][Time 18.26]\n",
      "Unified LR across all optimizers: 0.00019320127834542263\n",
      "--------------------Training Metrics--------------------\n",
      "Trainer:  gpt\n",
      "Inf: 0.0184\tGen: 0.0672\tRec: 0.0660\tE: 0.0197\tR: 0.0172\tP: 0.1147\n",
      "--------------------Test Metrics------------------------\n",
      "accuracy: 0.6176\n",
      "precision: 0.6451\n",
      "recall: 0.6224\n",
      "f1_score: 0.5883\n",
      "\n"
     ]
    },
    {
     "data": {
      "application/vnd.jupyter.widget-view+json": {
       "model_id": "65a7b40c06f24f66b73a27815700a04b",
       "version_major": 2,
       "version_minor": 0
      },
      "text/plain": [
       "Iterations:   0%|          | 0/43 [00:00<?, ?it/s]"
      ]
     },
     "metadata": {},
     "output_type": "display_data"
    },
    {
     "name": "stdout",
     "output_type": "stream",
     "text": [
      "[18/200][26/43][Time 18.23]\n",
      "Unified LR across all optimizers: 0.00019275692773582703\n",
      "--------------------Training Metrics--------------------\n",
      "Trainer:  gpt\n",
      "Inf: 0.0182\tGen: 0.0663\tRec: 0.0653\tE: 0.0192\tR: 0.0172\tP: 0.1134\n",
      "--------------------Test Metrics------------------------\n",
      "accuracy: 0.4867\n",
      "precision: 0.4443\n",
      "recall: 0.4837\n",
      "f1_score: 0.4327\n",
      "\n"
     ]
    },
    {
     "data": {
      "application/vnd.jupyter.widget-view+json": {
       "model_id": "77819960533b4d9da3e95347804a9b79",
       "version_major": 2,
       "version_minor": 0
      },
      "text/plain": [
       "Iterations:   0%|          | 0/43 [00:00<?, ?it/s]"
      ]
     },
     "metadata": {},
     "output_type": "display_data"
    },
    {
     "name": "stdout",
     "output_type": "stream",
     "text": [
      "[19/200][33/43][Time 18.25]\n",
      "Unified LR across all optimizers: 0.0001923135991042739\n",
      "--------------------Training Metrics--------------------\n",
      "Trainer:  gpt\n",
      "Inf: 0.0177\tGen: 0.0656\tRec: 0.0647\tE: 0.0186\tR: 0.0168\tP: 0.1127\n",
      "--------------------Test Metrics------------------------\n",
      "accuracy: 0.5579\n",
      "precision: 0.4198\n",
      "recall: 0.4963\n",
      "f1_score: 0.4332\n",
      "\n"
     ]
    },
    {
     "data": {
      "application/vnd.jupyter.widget-view+json": {
       "model_id": "5794fa9f8fb14cdfa34d4d1852426718",
       "version_major": 2,
       "version_minor": 0
      },
      "text/plain": [
       "Iterations:   0%|          | 0/43 [00:00<?, ?it/s]"
      ]
     },
     "metadata": {},
     "output_type": "display_data"
    },
    {
     "name": "stdout",
     "output_type": "stream",
     "text": [
      "[20/200][40/43][Time 18.23]\n",
      "Unified LR across all optimizers: 0.0001918712901002789\n",
      "--------------------Training Metrics--------------------\n",
      "Trainer:  gpt\n",
      "Inf: 0.0173\tGen: 0.0640\tRec: 0.0632\tE: 0.0181\tR: 0.0165\tP: 0.1099\n",
      "--------------------Test Metrics------------------------\n",
      "accuracy: 0.5592\n",
      "precision: 0.5407\n",
      "recall: 0.5352\n",
      "f1_score: 0.4961\n",
      "\n"
     ]
    },
    {
     "data": {
      "application/vnd.jupyter.widget-view+json": {
       "model_id": "b8774f08b5394e209e4a88e8edf59e18",
       "version_major": 2,
       "version_minor": 0
      },
      "text/plain": [
       "Iterations:   0%|          | 0/43 [00:00<?, ?it/s]"
      ]
     },
     "metadata": {},
     "output_type": "display_data"
    },
    {
     "data": {
      "application/vnd.jupyter.widget-view+json": {
       "model_id": "c9875ecd68e94ba6bb3483b5ef6d25e9",
       "version_major": 2,
       "version_minor": 0
      },
      "text/plain": [
       "Iterations:   0%|          | 0/43 [00:00<?, ?it/s]"
      ]
     },
     "metadata": {},
     "output_type": "display_data"
    },
    {
     "name": "stdout",
     "output_type": "stream",
     "text": [
      "[22/200][4/43][Time 18.30]\n",
      "Unified LR across all optimizers: 0.00019142999837876384\n",
      "--------------------Training Metrics--------------------\n",
      "Trainer:  gpt\n",
      "Inf: 0.0174\tGen: 0.0631\tRec: 0.0627\tE: 0.0178\tR: 0.0170\tP: 0.1084\n",
      "--------------------Test Metrics------------------------\n",
      "accuracy: 0.4843\n",
      "precision: 0.4543\n",
      "recall: 0.5527\n",
      "f1_score: 0.4412\n",
      "\n"
     ]
    },
    {
     "data": {
      "application/vnd.jupyter.widget-view+json": {
       "model_id": "075cf3458777403b8fa441d9d9671c5f",
       "version_major": 2,
       "version_minor": 0
      },
      "text/plain": [
       "Iterations:   0%|          | 0/43 [00:00<?, ?it/s]"
      ]
     },
     "metadata": {},
     "output_type": "display_data"
    },
    {
     "name": "stdout",
     "output_type": "stream",
     "text": [
      "[23/200][11/43][Time 18.27]\n",
      "Unified LR across all optimizers: 0.00019098972160004388\n",
      "--------------------Training Metrics--------------------\n",
      "Trainer:  gpt\n",
      "Inf: 0.0161\tGen: 0.0609\tRec: 0.0605\tE: 0.0165\tR: 0.0156\tP: 0.1053\n",
      "--------------------Test Metrics------------------------\n",
      "accuracy: 0.5803\n",
      "precision: 0.6401\n",
      "recall: 0.6513\n",
      "f1_score: 0.5797\n",
      "\n"
     ]
    },
    {
     "data": {
      "application/vnd.jupyter.widget-view+json": {
       "model_id": "fbf2069c133d457bb09a00ab9bcee64c",
       "version_major": 2,
       "version_minor": 0
      },
      "text/plain": [
       "Iterations:   0%|          | 0/43 [00:00<?, ?it/s]"
      ]
     },
     "metadata": {},
     "output_type": "display_data"
    },
    {
     "name": "stdout",
     "output_type": "stream",
     "text": [
      "[24/200][18/43][Time 18.28]\n",
      "Unified LR across all optimizers: 0.00019055045742981543\n",
      "--------------------Training Metrics--------------------\n",
      "Trainer:  gpt\n",
      "Inf: 0.0159\tGen: 0.0606\tRec: 0.0603\tE: 0.0162\tR: 0.0156\tP: 0.1051\n",
      "--------------------Test Metrics------------------------\n",
      "accuracy: 0.5962\n",
      "precision: 0.6614\n",
      "recall: 0.6711\n",
      "f1_score: 0.6093\n",
      "\n"
     ]
    },
    {
     "data": {
      "application/vnd.jupyter.widget-view+json": {
       "model_id": "c27b83d75d9b4a65844cc78bb75e539c",
       "version_major": 2,
       "version_minor": 0
      },
      "text/plain": [
       "Iterations:   0%|          | 0/43 [00:00<?, ?it/s]"
      ]
     },
     "metadata": {},
     "output_type": "display_data"
    },
    {
     "name": "stdout",
     "output_type": "stream",
     "text": [
      "[25/200][25/43][Time 18.30]\n",
      "Unified LR across all optimizers: 0.00019011220353914353\n",
      "--------------------Training Metrics--------------------\n",
      "Trainer:  gpt\n",
      "Inf: 0.0158\tGen: 0.0600\tRec: 0.0595\tE: 0.0163\tR: 0.0153\tP: 0.1038\n",
      "--------------------Test Metrics------------------------\n",
      "accuracy: 0.6050\n",
      "precision: 0.6486\n",
      "recall: 0.5812\n",
      "f1_score: 0.5636\n",
      "\n"
     ]
    },
    {
     "data": {
      "application/vnd.jupyter.widget-view+json": {
       "model_id": "dfa9c0ac52f64a1ebad53d84e4cca49b",
       "version_major": 2,
       "version_minor": 0
      },
      "text/plain": [
       "Iterations:   0%|          | 0/43 [00:00<?, ?it/s]"
      ]
     },
     "metadata": {},
     "output_type": "display_data"
    },
    {
     "name": "stdout",
     "output_type": "stream",
     "text": [
      "[26/200][32/43][Time 18.28]\n",
      "Unified LR across all optimizers: 0.00018967495760444968\n",
      "--------------------Training Metrics--------------------\n",
      "Trainer:  gpt\n",
      "Inf: 0.0149\tGen: 0.0577\tRec: 0.0576\tE: 0.0150\tR: 0.0147\tP: 0.1004\n",
      "--------------------Test Metrics------------------------\n",
      "accuracy: 0.5219\n",
      "precision: 0.5815\n",
      "recall: 0.6093\n",
      "f1_score: 0.5454\n",
      "\n"
     ]
    },
    {
     "data": {
      "application/vnd.jupyter.widget-view+json": {
       "model_id": "23ece8a261f642aebf6c00928b41a2b9",
       "version_major": 2,
       "version_minor": 0
      },
      "text/plain": [
       "Iterations:   0%|          | 0/43 [00:00<?, ?it/s]"
      ]
     },
     "metadata": {},
     "output_type": "display_data"
    },
    {
     "name": "stdout",
     "output_type": "stream",
     "text": [
      "[27/200][39/43][Time 18.29]\n",
      "Unified LR across all optimizers: 0.00018923871730749947\n",
      "--------------------Training Metrics--------------------\n",
      "Trainer:  gpt\n",
      "Inf: 0.0145\tGen: 0.0573\tRec: 0.0572\tE: 0.0147\tR: 0.0144\tP: 0.1000\n",
      "--------------------Test Metrics------------------------\n",
      "accuracy: 0.5270\n",
      "precision: 0.6158\n",
      "recall: 0.5671\n",
      "f1_score: 0.5328\n",
      "\n"
     ]
    },
    {
     "data": {
      "application/vnd.jupyter.widget-view+json": {
       "model_id": "0d3d7594ced344c3b7ed0d198be10ebd",
       "version_major": 2,
       "version_minor": 0
      },
      "text/plain": [
       "Iterations:   0%|          | 0/43 [00:00<?, ?it/s]"
      ]
     },
     "metadata": {},
     "output_type": "display_data"
    },
    {
     "data": {
      "application/vnd.jupyter.widget-view+json": {
       "model_id": "0fd657991f4c44df9972202f6906a078",
       "version_major": 2,
       "version_minor": 0
      },
      "text/plain": [
       "Iterations:   0%|          | 0/43 [00:00<?, ?it/s]"
      ]
     },
     "metadata": {},
     "output_type": "display_data"
    },
    {
     "name": "stdout",
     "output_type": "stream",
     "text": [
      "[29/200][3/43][Time 18.28]\n",
      "Unified LR across all optimizers: 0.00018880348033539028\n",
      "--------------------Training Metrics--------------------\n",
      "Trainer:  gpt\n",
      "Inf: 0.0142\tGen: 0.0556\tRec: 0.0556\tE: 0.0142\tR: 0.0141\tP: 0.0970\n",
      "--------------------Test Metrics------------------------\n",
      "accuracy: 0.5790\n",
      "precision: 0.4276\n",
      "recall: 0.5121\n",
      "f1_score: 0.4471\n",
      "\n"
     ]
    },
    {
     "data": {
      "application/vnd.jupyter.widget-view+json": {
       "model_id": "eef69189455c47ffb48cdfc814ed0135",
       "version_major": 2,
       "version_minor": 0
      },
      "text/plain": [
       "Iterations:   0%|          | 0/43 [00:00<?, ?it/s]"
      ]
     },
     "metadata": {},
     "output_type": "display_data"
    },
    {
     "name": "stdout",
     "output_type": "stream",
     "text": [
      "[30/200][10/43][Time 18.25]\n",
      "Unified LR across all optimizers: 0.00018836924438053897\n",
      "--------------------Training Metrics--------------------\n",
      "Trainer:  gpt\n",
      "Inf: 0.0140\tGen: 0.0551\tRec: 0.0550\tE: 0.0141\tR: 0.0139\tP: 0.0961\n",
      "--------------------Test Metrics------------------------\n",
      "accuracy: 0.6080\n",
      "precision: 0.5665\n",
      "recall: 0.5515\n",
      "f1_score: 0.5112\n",
      "\n"
     ]
    },
    {
     "data": {
      "application/vnd.jupyter.widget-view+json": {
       "model_id": "bffa484b7d5144eea316c2de2be1d7b3",
       "version_major": 2,
       "version_minor": 0
      },
      "text/plain": [
       "Iterations:   0%|          | 0/43 [00:00<?, ?it/s]"
      ]
     },
     "metadata": {},
     "output_type": "display_data"
    },
    {
     "name": "stdout",
     "output_type": "stream",
     "text": [
      "[31/200][17/43][Time 18.27]\n",
      "Unified LR across all optimizers: 0.0001879360071406698\n",
      "--------------------Training Metrics--------------------\n",
      "Trainer:  gpt\n",
      "Inf: 0.0136\tGen: 0.0550\tRec: 0.0550\tE: 0.0137\tR: 0.0136\tP: 0.0963\n",
      "--------------------Test Metrics------------------------\n",
      "accuracy: 0.5459\n",
      "precision: 0.6213\n",
      "recall: 0.6351\n",
      "f1_score: 0.5823\n",
      "\n"
     ]
    },
    {
     "data": {
      "application/vnd.jupyter.widget-view+json": {
       "model_id": "0c157b5db5964e2ebeaaa0af82cc6724",
       "version_major": 2,
       "version_minor": 0
      },
      "text/plain": [
       "Iterations:   0%|          | 0/43 [00:00<?, ?it/s]"
      ]
     },
     "metadata": {},
     "output_type": "display_data"
    },
    {
     "name": "stdout",
     "output_type": "stream",
     "text": [
      "[32/200][24/43][Time 18.24]\n",
      "Unified LR across all optimizers: 0.000187503766318802\n",
      "--------------------Training Metrics--------------------\n",
      "Trainer:  gpt\n",
      "Inf: 0.0133\tGen: 0.0529\tRec: 0.0530\tE: 0.0132\tR: 0.0135\tP: 0.0926\n",
      "--------------------Test Metrics------------------------\n",
      "accuracy: 0.5635\n",
      "precision: 0.6887\n",
      "recall: 0.5757\n",
      "f1_score: 0.5745\n",
      "\n"
     ]
    },
    {
     "data": {
      "application/vnd.jupyter.widget-view+json": {
       "model_id": "de868a82eee1495b81b0e271bbff711f",
       "version_major": 2,
       "version_minor": 0
      },
      "text/plain": [
       "Iterations:   0%|          | 0/43 [00:00<?, ?it/s]"
      ]
     },
     "metadata": {},
     "output_type": "display_data"
    },
    {
     "name": "stdout",
     "output_type": "stream",
     "text": [
      "[33/200][31/43][Time 18.27]\n",
      "Unified LR across all optimizers: 0.00018707251962323787\n",
      "--------------------Training Metrics--------------------\n",
      "Trainer:  gpt\n",
      "Inf: 0.0130\tGen: 0.0522\tRec: 0.0523\tE: 0.0128\tR: 0.0131\tP: 0.0915\n",
      "--------------------Test Metrics------------------------\n",
      "accuracy: 0.5905\n",
      "precision: 0.5848\n",
      "recall: 0.5793\n",
      "f1_score: 0.5544\n",
      "\n"
     ]
    },
    {
     "data": {
      "application/vnd.jupyter.widget-view+json": {
       "model_id": "1578a940afe6471f890976f1256a730a",
       "version_major": 2,
       "version_minor": 0
      },
      "text/plain": [
       "Iterations:   0%|          | 0/43 [00:00<?, ?it/s]"
      ]
     },
     "metadata": {},
     "output_type": "display_data"
    },
    {
     "name": "stdout",
     "output_type": "stream",
     "text": [
      "[34/200][38/43][Time 18.34]\n",
      "Unified LR across all optimizers: 0.0001866422647675502\n",
      "--------------------Training Metrics--------------------\n",
      "Trainer:  gpt\n",
      "Inf: 0.0129\tGen: 0.0523\tRec: 0.0524\tE: 0.0128\tR: 0.0130\tP: 0.0919\n",
      "--------------------Test Metrics------------------------\n",
      "accuracy: 0.5159\n",
      "precision: 0.5551\n",
      "recall: 0.5279\n",
      "f1_score: 0.5092\n",
      "\n"
     ]
    },
    {
     "data": {
      "application/vnd.jupyter.widget-view+json": {
       "model_id": "a71ad83bda924e01831f127d3f586042",
       "version_major": 2,
       "version_minor": 0
      },
      "text/plain": [
       "Iterations:   0%|          | 0/43 [00:00<?, ?it/s]"
      ]
     },
     "metadata": {},
     "output_type": "display_data"
    },
    {
     "data": {
      "application/vnd.jupyter.widget-view+json": {
       "model_id": "9745d78b578c4e97978b476b21ba6c5d",
       "version_major": 2,
       "version_minor": 0
      },
      "text/plain": [
       "Iterations:   0%|          | 0/43 [00:00<?, ?it/s]"
      ]
     },
     "metadata": {},
     "output_type": "display_data"
    },
    {
     "name": "stdout",
     "output_type": "stream",
     "text": [
      "[36/200][2/43][Time 18.32]\n",
      "Unified LR across all optimizers: 0.00018621299947057073\n",
      "--------------------Training Metrics--------------------\n",
      "Trainer:  gpt\n",
      "Inf: 0.0129\tGen: 0.0521\tRec: 0.0522\tE: 0.0128\tR: 0.0131\tP: 0.0914\n",
      "--------------------Test Metrics------------------------\n",
      "accuracy: 0.6501\n",
      "precision: 0.6562\n",
      "recall: 0.6538\n",
      "f1_score: 0.6270\n",
      "\n"
     ]
    },
    {
     "data": {
      "application/vnd.jupyter.widget-view+json": {
       "model_id": "74e47d0a1d704f079c7b73c8e92171b8",
       "version_major": 2,
       "version_minor": 0
      },
      "text/plain": [
       "Iterations:   0%|          | 0/43 [00:00<?, ?it/s]"
      ]
     },
     "metadata": {},
     "output_type": "display_data"
    },
    {
     "name": "stdout",
     "output_type": "stream",
     "text": [
      "[37/200][9/43][Time 18.33]\n",
      "Unified LR across all optimizers: 0.00018578472145637737\n",
      "--------------------Training Metrics--------------------\n",
      "Trainer:  gpt\n",
      "Inf: 0.0126\tGen: 0.0520\tRec: 0.0522\tE: 0.0125\tR: 0.0128\tP: 0.0915\n",
      "--------------------Test Metrics------------------------\n",
      "accuracy: 0.6389\n",
      "precision: 0.6471\n",
      "recall: 0.6360\n",
      "f1_score: 0.5962\n",
      "\n"
     ]
    },
    {
     "data": {
      "application/vnd.jupyter.widget-view+json": {
       "model_id": "2937c7eb63764a76bebc9996f1c36397",
       "version_major": 2,
       "version_minor": 0
      },
      "text/plain": [
       "Iterations:   0%|          | 0/43 [00:00<?, ?it/s]"
      ]
     },
     "metadata": {},
     "output_type": "display_data"
    },
    {
     "name": "stdout",
     "output_type": "stream",
     "text": [
      "[38/200][16/43][Time 18.35]\n",
      "Unified LR across all optimizers: 0.00018535742845428288\n",
      "--------------------Training Metrics--------------------\n",
      "Trainer:  gpt\n",
      "Inf: 0.0124\tGen: 0.0501\tRec: 0.0505\tE: 0.0121\tR: 0.0127\tP: 0.0882\n",
      "--------------------Test Metrics------------------------\n",
      "accuracy: 0.6348\n",
      "precision: 0.6722\n",
      "recall: 0.7270\n",
      "f1_score: 0.6501\n",
      "\n"
     ]
    },
    {
     "data": {
      "application/vnd.jupyter.widget-view+json": {
       "model_id": "202dd468684f4e26873c2b0042c25dde",
       "version_major": 2,
       "version_minor": 0
      },
      "text/plain": [
       "Iterations:   0%|          | 0/43 [00:00<?, ?it/s]"
      ]
     },
     "metadata": {},
     "output_type": "display_data"
    },
    {
     "name": "stdout",
     "output_type": "stream",
     "text": [
      "[39/200][23/43][Time 18.61]\n",
      "Unified LR across all optimizers: 0.00018493111819882223\n",
      "--------------------Training Metrics--------------------\n",
      "Trainer:  gpt\n",
      "Inf: 0.0122\tGen: 0.0494\tRec: 0.0497\tE: 0.0118\tR: 0.0126\tP: 0.0869\n",
      "--------------------Test Metrics------------------------\n",
      "accuracy: 0.5486\n",
      "precision: 0.6538\n",
      "recall: 0.5636\n",
      "f1_score: 0.5638\n",
      "\n"
     ]
    },
    {
     "data": {
      "application/vnd.jupyter.widget-view+json": {
       "model_id": "3139bb11be0a4203ad57c309e349dfb8",
       "version_major": 2,
       "version_minor": 0
      },
      "text/plain": [
       "Iterations:   0%|          | 0/43 [00:00<?, ?it/s]"
      ]
     },
     "metadata": {},
     "output_type": "display_data"
    },
    {
     "name": "stdout",
     "output_type": "stream",
     "text": [
      "[40/200][30/43][Time 18.32]\n",
      "Unified LR across all optimizers: 0.00018450578842974107\n",
      "--------------------Training Metrics--------------------\n",
      "Trainer:  gpt\n",
      "Inf: 0.0120\tGen: 0.0486\tRec: 0.0490\tE: 0.0117\tR: 0.0124\tP: 0.0855\n",
      "--------------------Test Metrics------------------------\n",
      "accuracy: 0.6135\n",
      "precision: 0.6458\n",
      "recall: 0.7065\n",
      "f1_score: 0.6276\n",
      "\n"
     ]
    },
    {
     "data": {
      "application/vnd.jupyter.widget-view+json": {
       "model_id": "013e12d3bb1c4526acca090daaeffceb",
       "version_major": 2,
       "version_minor": 0
      },
      "text/plain": [
       "Iterations:   0%|          | 0/43 [00:00<?, ?it/s]"
      ]
     },
     "metadata": {},
     "output_type": "display_data"
    },
    {
     "name": "stdout",
     "output_type": "stream",
     "text": [
      "[41/200][37/43][Time 18.36]\n",
      "Unified LR across all optimizers: 0.00018408143689198318\n",
      "--------------------Training Metrics--------------------\n",
      "Trainer:  gpt\n",
      "Inf: 0.0119\tGen: 0.0481\tRec: 0.0486\tE: 0.0115\tR: 0.0124\tP: 0.0847\n",
      "--------------------Test Metrics------------------------\n",
      "accuracy: 0.5938\n",
      "precision: 0.5916\n",
      "recall: 0.5861\n",
      "f1_score: 0.5546\n",
      "\n"
     ]
    },
    {
     "data": {
      "application/vnd.jupyter.widget-view+json": {
       "model_id": "6cfc14f47a4a474baf1999e2ec6ab696",
       "version_major": 2,
       "version_minor": 0
      },
      "text/plain": [
       "Iterations:   0%|          | 0/43 [00:00<?, ?it/s]"
      ]
     },
     "metadata": {},
     "output_type": "display_data"
    },
    {
     "data": {
      "application/vnd.jupyter.widget-view+json": {
       "model_id": "54f910a1b8c04293af7d7a9f428d7f12",
       "version_major": 2,
       "version_minor": 0
      },
      "text/plain": [
       "Iterations:   0%|          | 0/43 [00:00<?, ?it/s]"
      ]
     },
     "metadata": {},
     "output_type": "display_data"
    },
    {
     "name": "stdout",
     "output_type": "stream",
     "text": [
      "[43/200][1/43][Time 18.37]\n",
      "Unified LR across all optimizers: 0.0001836580613356789\n",
      "--------------------Training Metrics--------------------\n",
      "Trainer:  gpt\n",
      "Inf: 0.0119\tGen: 0.0480\tRec: 0.0485\tE: 0.0114\tR: 0.0124\tP: 0.0846\n",
      "--------------------Test Metrics------------------------\n",
      "accuracy: 0.5735\n",
      "precision: 0.5973\n",
      "recall: 0.5952\n",
      "f1_score: 0.5436\n",
      "\n"
     ]
    },
    {
     "data": {
      "application/vnd.jupyter.widget-view+json": {
       "model_id": "c7df77fd7e344119a893039df22e58d4",
       "version_major": 2,
       "version_minor": 0
      },
      "text/plain": [
       "Iterations:   0%|          | 0/43 [00:00<?, ?it/s]"
      ]
     },
     "metadata": {},
     "output_type": "display_data"
    },
    {
     "name": "stdout",
     "output_type": "stream",
     "text": [
      "[44/200][8/43][Time 18.34]\n",
      "Unified LR across all optimizers: 0.0001832356595161332\n",
      "--------------------Training Metrics--------------------\n",
      "Trainer:  gpt\n",
      "Inf: 0.0115\tGen: 0.0474\tRec: 0.0478\tE: 0.0111\tR: 0.0119\tP: 0.0837\n",
      "--------------------Test Metrics------------------------\n",
      "accuracy: 0.6268\n",
      "precision: 0.6077\n",
      "recall: 0.6325\n",
      "f1_score: 0.5981\n",
      "\n"
     ]
    },
    {
     "data": {
      "application/vnd.jupyter.widget-view+json": {
       "model_id": "ab4e23c1c1ca494ba69bf48eb3f37bcf",
       "version_major": 2,
       "version_minor": 0
      },
      "text/plain": [
       "Iterations:   0%|          | 0/43 [00:00<?, ?it/s]"
      ]
     },
     "metadata": {},
     "output_type": "display_data"
    },
    {
     "name": "stdout",
     "output_type": "stream",
     "text": [
      "[45/200][15/43][Time 18.31]\n",
      "Unified LR across all optimizers: 0.00018281422919381367\n",
      "--------------------Training Metrics--------------------\n",
      "Trainer:  gpt\n",
      "Inf: 0.0114\tGen: 0.0465\tRec: 0.0469\tE: 0.0110\tR: 0.0119\tP: 0.0820\n",
      "--------------------Test Metrics------------------------\n",
      "accuracy: 0.5531\n",
      "precision: 0.6060\n",
      "recall: 0.6250\n",
      "f1_score: 0.5620\n",
      "\n"
     ]
    },
    {
     "data": {
      "application/vnd.jupyter.widget-view+json": {
       "model_id": "61c81536114841aeb312a52b802004e0",
       "version_major": 2,
       "version_minor": 0
      },
      "text/plain": [
       "Iterations:   0%|          | 0/43 [00:00<?, ?it/s]"
      ]
     },
     "metadata": {},
     "output_type": "display_data"
    },
    {
     "name": "stdout",
     "output_type": "stream",
     "text": [
      "[46/200][22/43][Time 18.30]\n",
      "Unified LR across all optimizers: 0.00018239376813433867\n",
      "--------------------Training Metrics--------------------\n",
      "Trainer:  gpt\n",
      "Inf: 0.0114\tGen: 0.0456\tRec: 0.0462\tE: 0.0108\tR: 0.0120\tP: 0.0804\n",
      "--------------------Test Metrics------------------------\n",
      "accuracy: 0.5902\n",
      "precision: 0.4299\n",
      "recall: 0.5070\n",
      "f1_score: 0.4506\n",
      "\n"
     ]
    },
    {
     "data": {
      "application/vnd.jupyter.widget-view+json": {
       "model_id": "dea1b71a91be4e058084c86e33007eab",
       "version_major": 2,
       "version_minor": 0
      },
      "text/plain": [
       "Iterations:   0%|          | 0/43 [00:00<?, ?it/s]"
      ]
     },
     "metadata": {},
     "output_type": "display_data"
    },
    {
     "name": "stdout",
     "output_type": "stream",
     "text": [
      "[47/200][29/43][Time 18.30]\n",
      "Unified LR across all optimizers: 0.00018197427410846564\n",
      "--------------------Training Metrics--------------------\n",
      "Trainer:  gpt\n",
      "Inf: 0.0113\tGen: 0.0460\tRec: 0.0464\tE: 0.0108\tR: 0.0118\tP: 0.0811\n",
      "--------------------Test Metrics------------------------\n",
      "accuracy: 0.5452\n",
      "precision: 0.5843\n",
      "recall: 0.5668\n",
      "f1_score: 0.5334\n",
      "\n"
     ]
    },
    {
     "data": {
      "application/vnd.jupyter.widget-view+json": {
       "model_id": "5e314a971f174c66a7949df335e45971",
       "version_major": 2,
       "version_minor": 0
      },
      "text/plain": [
       "Iterations:   0%|          | 0/43 [00:00<?, ?it/s]"
      ]
     },
     "metadata": {},
     "output_type": "display_data"
    },
    {
     "name": "stdout",
     "output_type": "stream",
     "text": [
      "[48/200][36/43][Time 18.33]\n",
      "Unified LR across all optimizers: 0.00018155574489207887\n",
      "--------------------Training Metrics--------------------\n",
      "Trainer:  gpt\n",
      "Inf: 0.0113\tGen: 0.0446\tRec: 0.0452\tE: 0.0106\tR: 0.0119\tP: 0.0785\n",
      "--------------------Test Metrics------------------------\n",
      "accuracy: 0.6079\n",
      "precision: 0.6363\n",
      "recall: 0.5922\n",
      "f1_score: 0.5748\n",
      "\n"
     ]
    },
    {
     "data": {
      "application/vnd.jupyter.widget-view+json": {
       "model_id": "a9414b4efb274bf0ba9a07f4214a4c56",
       "version_major": 2,
       "version_minor": 0
      },
      "text/plain": [
       "Iterations:   0%|          | 0/43 [00:00<?, ?it/s]"
      ]
     },
     "metadata": {},
     "output_type": "display_data"
    },
    {
     "data": {
      "application/vnd.jupyter.widget-view+json": {
       "model_id": "e9d29ce969d34de6b26cca3587cc7bbd",
       "version_major": 2,
       "version_minor": 0
      },
      "text/plain": [
       "Iterations:   0%|          | 0/43 [00:00<?, ?it/s]"
      ]
     },
     "metadata": {},
     "output_type": "display_data"
    },
    {
     "name": "stdout",
     "output_type": "stream",
     "text": [
      "[50/200][0/43][Time 18.36]\n",
      "Unified LR across all optimizers: 0.00018113817826617823\n",
      "--------------------Training Metrics--------------------\n",
      "Trainer:  gpt\n",
      "Inf: 0.0108\tGen: 0.0437\tRec: 0.0443\tE: 0.0101\tR: 0.0114\tP: 0.0772\n",
      "--------------------Test Metrics------------------------\n",
      "accuracy: 0.5874\n",
      "precision: 0.4308\n",
      "recall: 0.5182\n",
      "f1_score: 0.4524\n",
      "\n"
     ]
    },
    {
     "data": {
      "application/vnd.jupyter.widget-view+json": {
       "model_id": "1ae62d233eef47f391bc98ad81b7d415",
       "version_major": 2,
       "version_minor": 0
      },
      "text/plain": [
       "Iterations:   0%|          | 0/43 [00:00<?, ?it/s]"
      ]
     },
     "metadata": {},
     "output_type": "display_data"
    },
    {
     "name": "stdout",
     "output_type": "stream",
     "text": [
      "[51/200][7/43][Time 18.35]\n",
      "Unified LR across all optimizers: 0.00018072157201686696\n",
      "--------------------Training Metrics--------------------\n",
      "Trainer:  gpt\n",
      "Inf: 0.0107\tGen: 0.0432\tRec: 0.0439\tE: 0.0100\tR: 0.0114\tP: 0.0765\n",
      "--------------------Test Metrics------------------------\n",
      "accuracy: 0.5941\n",
      "precision: 0.6520\n",
      "recall: 0.6496\n",
      "f1_score: 0.5891\n",
      "\n"
     ]
    },
    {
     "data": {
      "application/vnd.jupyter.widget-view+json": {
       "model_id": "5c0364caac1341d8b0c2dd3d8f68d5aa",
       "version_major": 2,
       "version_minor": 0
      },
      "text/plain": [
       "Iterations:   0%|          | 0/43 [00:00<?, ?it/s]"
      ]
     },
     "metadata": {},
     "output_type": "display_data"
    },
    {
     "name": "stdout",
     "output_type": "stream",
     "text": [
      "[52/200][14/43][Time 18.37]\n",
      "Unified LR across all optimizers: 0.00018030592393534033\n",
      "--------------------Training Metrics--------------------\n",
      "Trainer:  gpt\n",
      "Inf: 0.0106\tGen: 0.0453\tRec: 0.0458\tE: 0.0101\tR: 0.0111\tP: 0.0805\n",
      "--------------------Test Metrics------------------------\n",
      "accuracy: 0.6456\n",
      "precision: 0.6710\n",
      "recall: 0.7348\n",
      "f1_score: 0.6590\n",
      "\n"
     ]
    },
    {
     "data": {
      "application/vnd.jupyter.widget-view+json": {
       "model_id": "13a3539323424a49b4f117785c06b76f",
       "version_major": 2,
       "version_minor": 0
      },
      "text/plain": [
       "Iterations:   0%|          | 0/43 [00:00<?, ?it/s]"
      ]
     },
     "metadata": {},
     "output_type": "display_data"
    },
    {
     "name": "stdout",
     "output_type": "stream",
     "text": [
      "[53/200][21/43][Time 18.36]\n",
      "Unified LR across all optimizers: 0.0001798912318178735\n",
      "--------------------Training Metrics--------------------\n",
      "Trainer:  gpt\n",
      "Inf: 0.0104\tGen: 0.0443\tRec: 0.0449\tE: 0.0098\tR: 0.0110\tP: 0.0788\n",
      "--------------------Test Metrics------------------------\n",
      "accuracy: 0.6497\n",
      "precision: 0.6539\n",
      "recall: 0.5927\n",
      "f1_score: 0.5782\n",
      "\n"
     ]
    },
    {
     "data": {
      "application/vnd.jupyter.widget-view+json": {
       "model_id": "be7db78c8bfc4460b5a57de73e40c350",
       "version_major": 2,
       "version_minor": 0
      },
      "text/plain": [
       "Iterations:   0%|          | 0/43 [00:00<?, ?it/s]"
      ]
     },
     "metadata": {},
     "output_type": "display_data"
    },
    {
     "name": "stdout",
     "output_type": "stream",
     "text": [
      "[54/200][28/43][Time 18.39]\n",
      "Unified LR across all optimizers: 0.00017947749346581006\n",
      "--------------------Training Metrics--------------------\n",
      "Trainer:  gpt\n",
      "Inf: 0.0103\tGen: 0.0425\tRec: 0.0432\tE: 0.0096\tR: 0.0111\tP: 0.0753\n",
      "--------------------Test Metrics------------------------\n",
      "accuracy: 0.6249\n",
      "precision: 0.7499\n",
      "recall: 0.6439\n",
      "f1_score: 0.6422\n",
      "\n"
     ]
    },
    {
     "data": {
      "application/vnd.jupyter.widget-view+json": {
       "model_id": "39fe584a340b4cb290923ce37fdae86d",
       "version_major": 2,
       "version_minor": 0
      },
      "text/plain": [
       "Iterations:   0%|          | 0/43 [00:00<?, ?it/s]"
      ]
     },
     "metadata": {},
     "output_type": "display_data"
    },
    {
     "name": "stdout",
     "output_type": "stream",
     "text": [
      "[55/200][35/43][Time 18.36]\n",
      "Unified LR across all optimizers: 0.0001790647066855505\n",
      "--------------------Training Metrics--------------------\n",
      "Trainer:  gpt\n",
      "Inf: 0.0100\tGen: 0.0424\tRec: 0.0431\tE: 0.0093\tR: 0.0107\tP: 0.0755\n",
      "--------------------Test Metrics------------------------\n",
      "accuracy: 0.6224\n",
      "precision: 0.6564\n",
      "recall: 0.7114\n",
      "f1_score: 0.6253\n",
      "\n"
     ]
    },
    {
     "data": {
      "application/vnd.jupyter.widget-view+json": {
       "model_id": "21677138124d4d58b23e92e1ac6a3bdd",
       "version_major": 2,
       "version_minor": 0
      },
      "text/plain": [
       "Iterations:   0%|          | 0/43 [00:00<?, ?it/s]"
      ]
     },
     "metadata": {},
     "output_type": "display_data"
    },
    {
     "name": "stdout",
     "output_type": "stream",
     "text": [
      "[56/200][42/43][Time 18.38]\n",
      "Unified LR across all optimizers: 0.00017865286928854052\n",
      "--------------------Training Metrics--------------------\n",
      "Trainer:  gpt\n",
      "Inf: 0.0099\tGen: 0.0409\tRec: 0.0417\tE: 0.0092\tR: 0.0107\tP: 0.0726\n",
      "--------------------Test Metrics------------------------\n",
      "accuracy: 0.5471\n",
      "precision: 0.5970\n",
      "recall: 0.5730\n",
      "f1_score: 0.5431\n",
      "\n"
     ]
    },
    {
     "data": {
      "application/vnd.jupyter.widget-view+json": {
       "model_id": "66f95a3a0de247bdb1cd839020fc0c44",
       "version_major": 2,
       "version_minor": 0
      },
      "text/plain": [
       "Iterations:   0%|          | 0/43 [00:00<?, ?it/s]"
      ]
     },
     "metadata": {},
     "output_type": "display_data"
    },
    {
     "data": {
      "application/vnd.jupyter.widget-view+json": {
       "model_id": "d4c97bc4bf064414bd9be535199de610",
       "version_major": 2,
       "version_minor": 0
      },
      "text/plain": [
       "Iterations:   0%|          | 0/43 [00:00<?, ?it/s]"
      ]
     },
     "metadata": {},
     "output_type": "display_data"
    },
    {
     "name": "stdout",
     "output_type": "stream",
     "text": [
      "[58/200][6/43][Time 18.31]\n",
      "Unified LR across all optimizers: 0.00017824197909125899\n",
      "--------------------Training Metrics--------------------\n",
      "Trainer:  gpt\n",
      "Inf: 0.0100\tGen: 0.0411\tRec: 0.0418\tE: 0.0092\tR: 0.0107\tP: 0.0730\n",
      "--------------------Test Metrics------------------------\n",
      "accuracy: 0.6023\n",
      "precision: 0.6677\n",
      "recall: 0.6639\n",
      "f1_score: 0.6105\n",
      "\n"
     ]
    },
    {
     "data": {
      "application/vnd.jupyter.widget-view+json": {
       "model_id": "ab4009cc69194c718778d2b4cc810610",
       "version_major": 2,
       "version_minor": 0
      },
      "text/plain": [
       "Iterations:   0%|          | 0/43 [00:00<?, ?it/s]"
      ]
     },
     "metadata": {},
     "output_type": "display_data"
    },
    {
     "name": "stdout",
     "output_type": "stream",
     "text": [
      "[59/200][13/43][Time 18.32]\n",
      "Unified LR across all optimizers: 0.00017783203391520723\n",
      "--------------------Training Metrics--------------------\n",
      "Trainer:  gpt\n",
      "Inf: 0.0098\tGen: 0.0409\tRec: 0.0417\tE: 0.0090\tR: 0.0106\tP: 0.0728\n",
      "--------------------Test Metrics------------------------\n",
      "accuracy: 0.5935\n",
      "precision: 0.4328\n",
      "recall: 0.5224\n",
      "f1_score: 0.4559\n",
      "\n"
     ]
    },
    {
     "data": {
      "application/vnd.jupyter.widget-view+json": {
       "model_id": "6bebfade85324c8f94cf2eef9a5f0799",
       "version_major": 2,
       "version_minor": 0
      },
      "text/plain": [
       "Iterations:   0%|          | 0/43 [00:00<?, ?it/s]"
      ]
     },
     "metadata": {},
     "output_type": "display_data"
    },
    {
     "name": "stdout",
     "output_type": "stream",
     "text": [
      "[60/200][20/43][Time 18.31]\n",
      "Unified LR across all optimizers: 0.00017742303158689668\n",
      "--------------------Training Metrics--------------------\n",
      "Trainer:  gpt\n",
      "Inf: 0.0100\tGen: 0.0411\tRec: 0.0419\tE: 0.0092\tR: 0.0108\tP: 0.0730\n",
      "--------------------Test Metrics------------------------\n",
      "accuracy: 0.6206\n",
      "precision: 0.6645\n",
      "recall: 0.7154\n",
      "f1_score: 0.6345\n",
      "\n"
     ]
    },
    {
     "data": {
      "application/vnd.jupyter.widget-view+json": {
       "model_id": "64bed63f07504ff187a47e1e7f133096",
       "version_major": 2,
       "version_minor": 0
      },
      "text/plain": [
       "Iterations:   0%|          | 0/43 [00:00<?, ?it/s]"
      ]
     },
     "metadata": {},
     "output_type": "display_data"
    },
    {
     "name": "stdout",
     "output_type": "stream",
     "text": [
      "[61/200][27/43][Time 18.33]\n",
      "Unified LR across all optimizers: 0.00017701496993783762\n",
      "--------------------Training Metrics--------------------\n",
      "Trainer:  gpt\n",
      "Inf: 0.0101\tGen: 0.0412\tRec: 0.0421\tE: 0.0092\tR: 0.0110\tP: 0.0732\n",
      "--------------------Test Metrics------------------------\n",
      "accuracy: 0.5935\n",
      "precision: 0.4328\n",
      "recall: 0.5224\n",
      "f1_score: 0.4674\n",
      "\n"
     ]
    },
    {
     "data": {
      "application/vnd.jupyter.widget-view+json": {
       "model_id": "c3e3e32abd37401496f359b14a27bbb2",
       "version_major": 2,
       "version_minor": 0
      },
      "text/plain": [
       "Iterations:   0%|          | 0/43 [00:00<?, ?it/s]"
      ]
     },
     "metadata": {},
     "output_type": "display_data"
    },
    {
     "name": "stdout",
     "output_type": "stream",
     "text": [
      "[62/200][34/43][Time 18.31]\n",
      "Unified LR across all optimizers: 0.00017660784680452796\n",
      "--------------------Training Metrics--------------------\n",
      "Trainer:  gpt\n",
      "Inf: 0.0096\tGen: 0.0397\tRec: 0.0406\tE: 0.0087\tR: 0.0105\tP: 0.0708\n",
      "--------------------Test Metrics------------------------\n",
      "accuracy: 0.6155\n",
      "precision: 0.7407\n",
      "recall: 0.6375\n",
      "f1_score: 0.6334\n",
      "\n"
     ]
    },
    {
     "data": {
      "application/vnd.jupyter.widget-view+json": {
       "model_id": "05b4ca7fb7f949bab57b636422f5c29a",
       "version_major": 2,
       "version_minor": 0
      },
      "text/plain": [
       "Iterations:   0%|          | 0/43 [00:00<?, ?it/s]"
      ]
     },
     "metadata": {},
     "output_type": "display_data"
    },
    {
     "name": "stdout",
     "output_type": "stream",
     "text": [
      "[63/200][41/43][Time 18.36]\n",
      "Unified LR across all optimizers: 0.0001762016600284412\n",
      "--------------------Training Metrics--------------------\n",
      "Trainer:  gpt\n",
      "Inf: 0.0097\tGen: 0.0390\tRec: 0.0399\tE: 0.0087\tR: 0.0106\tP: 0.0693\n",
      "--------------------Test Metrics------------------------\n",
      "accuracy: 0.5951\n",
      "precision: 0.5957\n",
      "recall: 0.5878\n",
      "f1_score: 0.5568\n",
      "\n"
     ]
    },
    {
     "data": {
      "application/vnd.jupyter.widget-view+json": {
       "model_id": "f0dec51572b640c5bc9c52287a2ad053",
       "version_major": 2,
       "version_minor": 0
      },
      "text/plain": [
       "Iterations:   0%|          | 0/43 [00:00<?, ?it/s]"
      ]
     },
     "metadata": {},
     "output_type": "display_data"
    },
    {
     "data": {
      "application/vnd.jupyter.widget-view+json": {
       "model_id": "19dbc9c588da4d5bab802d18bbc78ab2",
       "version_major": 2,
       "version_minor": 0
      },
      "text/plain": [
       "Iterations:   0%|          | 0/43 [00:00<?, ?it/s]"
      ]
     },
     "metadata": {},
     "output_type": "display_data"
    },
    {
     "name": "stdout",
     "output_type": "stream",
     "text": [
      "[65/200][5/43][Time 18.33]\n",
      "Unified LR across all optimizers: 0.00017579640745601563\n",
      "--------------------Training Metrics--------------------\n",
      "Trainer:  gpt\n",
      "Inf: 0.0101\tGen: 0.0404\tRec: 0.0415\tE: 0.0090\tR: 0.0112\tP: 0.0718\n",
      "--------------------Test Metrics------------------------\n",
      "accuracy: 0.6094\n",
      "precision: 0.7270\n",
      "recall: 0.6183\n",
      "f1_score: 0.6178\n",
      "\n"
     ]
    },
    {
     "data": {
      "application/vnd.jupyter.widget-view+json": {
       "model_id": "3b18db9bf29445ab97ac6ffd62f89352",
       "version_major": 2,
       "version_minor": 0
      },
      "text/plain": [
       "Iterations:   0%|          | 0/43 [00:00<?, ?it/s]"
      ]
     },
     "metadata": {},
     "output_type": "display_data"
    },
    {
     "name": "stdout",
     "output_type": "stream",
     "text": [
      "[66/200][12/43][Time 18.33]\n",
      "Unified LR across all optimizers: 0.0001753920869386423\n",
      "--------------------Training Metrics--------------------\n",
      "Trainer:  gpt\n",
      "Inf: 0.0095\tGen: 0.0401\tRec: 0.0411\tE: 0.0086\tR: 0.0104\tP: 0.0717\n",
      "--------------------Test Metrics------------------------\n",
      "accuracy: 0.6188\n",
      "precision: 0.6383\n",
      "recall: 0.6107\n",
      "f1_score: 0.5894\n",
      "\n"
     ]
    },
    {
     "data": {
      "application/vnd.jupyter.widget-view+json": {
       "model_id": "ee5dcbc4353c43cb99d43354f2cf8198",
       "version_major": 2,
       "version_minor": 0
      },
      "text/plain": [
       "Iterations:   0%|          | 0/43 [00:00<?, ?it/s]"
      ]
     },
     "metadata": {},
     "output_type": "display_data"
    },
    {
     "name": "stdout",
     "output_type": "stream",
     "text": [
      "[67/200][19/43][Time 18.33]\n",
      "Unified LR across all optimizers: 0.0001749886963326542\n",
      "--------------------Training Metrics--------------------\n",
      "Trainer:  gpt\n",
      "Inf: 0.0095\tGen: 0.0391\tRec: 0.0400\tE: 0.0085\tR: 0.0104\tP: 0.0696\n",
      "--------------------Test Metrics------------------------\n",
      "accuracy: 0.5936\n",
      "precision: 0.5786\n",
      "recall: 0.5860\n",
      "f1_score: 0.5528\n",
      "\n"
     ]
    },
    {
     "data": {
      "application/vnd.jupyter.widget-view+json": {
       "model_id": "91923f3084084c21a05e310ba432f1c7",
       "version_major": 2,
       "version_minor": 0
      },
      "text/plain": [
       "Iterations:   0%|          | 0/43 [00:00<?, ?it/s]"
      ]
     },
     "metadata": {},
     "output_type": "display_data"
    },
    {
     "name": "stdout",
     "output_type": "stream",
     "text": [
      "[68/200][26/43][Time 18.36]\n",
      "Unified LR across all optimizers: 0.0001745862334993144\n",
      "--------------------Training Metrics--------------------\n",
      "Trainer:  gpt\n",
      "Inf: 0.0096\tGen: 0.0385\tRec: 0.0395\tE: 0.0086\tR: 0.0106\tP: 0.0685\n",
      "--------------------Test Metrics------------------------\n",
      "accuracy: 0.5328\n",
      "precision: 0.6283\n",
      "recall: 0.5643\n",
      "f1_score: 0.5074\n",
      "\n"
     ]
    },
    {
     "data": {
      "application/vnd.jupyter.widget-view+json": {
       "model_id": "92fe1018c3d1474bb4a3587eb85399af",
       "version_major": 2,
       "version_minor": 0
      },
      "text/plain": [
       "Iterations:   0%|          | 0/43 [00:00<?, ?it/s]"
      ]
     },
     "metadata": {},
     "output_type": "display_data"
    },
    {
     "name": "stdout",
     "output_type": "stream",
     "text": [
      "[69/200][33/43][Time 18.36]\n",
      "Unified LR across all optimizers: 0.00017418469630480507\n",
      "--------------------Training Metrics--------------------\n",
      "Trainer:  gpt\n",
      "Inf: 0.0092\tGen: 0.0379\tRec: 0.0389\tE: 0.0082\tR: 0.0101\tP: 0.0676\n",
      "--------------------Test Metrics------------------------\n",
      "accuracy: 0.6866\n",
      "precision: 0.7105\n",
      "recall: 0.6382\n",
      "f1_score: 0.6355\n",
      "\n"
     ]
    },
    {
     "data": {
      "application/vnd.jupyter.widget-view+json": {
       "model_id": "ad84373b6d634bfdafa4e7cc2572f7d3",
       "version_major": 2,
       "version_minor": 0
      },
      "text/plain": [
       "Iterations:   0%|          | 0/43 [00:00<?, ?it/s]"
      ]
     },
     "metadata": {},
     "output_type": "display_data"
    },
    {
     "name": "stdout",
     "output_type": "stream",
     "text": [
      "[70/200][40/43][Time 18.38]\n",
      "Unified LR across all optimizers: 0.00017378408262021616\n",
      "--------------------Training Metrics--------------------\n",
      "Trainer:  gpt\n",
      "Inf: 0.0098\tGen: 0.0389\tRec: 0.0400\tE: 0.0087\tR: 0.0110\tP: 0.0691\n",
      "--------------------Test Metrics------------------------\n",
      "accuracy: 0.6517\n",
      "precision: 0.6522\n",
      "recall: 0.6523\n",
      "f1_score: 0.6261\n",
      "\n"
     ]
    },
    {
     "data": {
      "application/vnd.jupyter.widget-view+json": {
       "model_id": "434ca7b437174a77b608e807f8c8dc09",
       "version_major": 2,
       "version_minor": 0
      },
      "text/plain": [
       "Iterations:   0%|          | 0/43 [00:00<?, ?it/s]"
      ]
     },
     "metadata": {},
     "output_type": "display_data"
    },
    {
     "data": {
      "application/vnd.jupyter.widget-view+json": {
       "model_id": "8e2629e880d94aaf8e69ba7d439de147",
       "version_major": 2,
       "version_minor": 0
      },
      "text/plain": [
       "Iterations:   0%|          | 0/43 [00:00<?, ?it/s]"
      ]
     },
     "metadata": {},
     "output_type": "display_data"
    },
    {
     "name": "stdout",
     "output_type": "stream",
     "text": [
      "[72/200][4/43][Time 18.36]\n",
      "Unified LR across all optimizers: 0.00017338439032153356\n",
      "--------------------Training Metrics--------------------\n",
      "Trainer:  gpt\n",
      "Inf: 0.0095\tGen: 0.0382\tRec: 0.0393\tE: 0.0084\tR: 0.0106\tP: 0.0680\n",
      "--------------------Test Metrics------------------------\n",
      "accuracy: 0.6094\n",
      "precision: 0.6212\n",
      "recall: 0.5469\n",
      "f1_score: 0.5038\n",
      "\n"
     ]
    },
    {
     "data": {
      "application/vnd.jupyter.widget-view+json": {
       "model_id": "d7cbfaef9b09497db1319a2346ce7422",
       "version_major": 2,
       "version_minor": 0
      },
      "text/plain": [
       "Iterations:   0%|          | 0/43 [00:00<?, ?it/s]"
      ]
     },
     "metadata": {},
     "output_type": "display_data"
    },
    {
     "name": "stdout",
     "output_type": "stream",
     "text": [
      "[73/200][11/43][Time 18.34]\n",
      "Unified LR across all optimizers: 0.00017298561728962847\n",
      "--------------------Training Metrics--------------------\n",
      "Trainer:  gpt\n",
      "Inf: 0.0089\tGen: 0.0375\tRec: 0.0385\tE: 0.0079\tR: 0.0099\tP: 0.0670\n",
      "--------------------Test Metrics------------------------\n",
      "accuracy: 0.6071\n",
      "precision: 0.6498\n",
      "recall: 0.7017\n",
      "f1_score: 0.6178\n",
      "\n"
     ]
    },
    {
     "data": {
      "application/vnd.jupyter.widget-view+json": {
       "model_id": "7bb0f5e134354820a9374f113843016a",
       "version_major": 2,
       "version_minor": 0
      },
      "text/plain": [
       "Iterations:   0%|          | 0/43 [00:00<?, ?it/s]"
      ]
     },
     "metadata": {},
     "output_type": "display_data"
    },
    {
     "name": "stdout",
     "output_type": "stream",
     "text": [
      "[74/200][18/43][Time 18.37]\n",
      "Unified LR across all optimizers: 0.00017258776141024598\n",
      "--------------------Training Metrics--------------------\n",
      "Trainer:  gpt\n",
      "Inf: 0.0090\tGen: 0.0370\tRec: 0.0380\tE: 0.0080\tR: 0.0100\tP: 0.0660\n",
      "--------------------Test Metrics------------------------\n",
      "accuracy: 0.5934\n",
      "precision: 0.4331\n",
      "recall: 0.5224\n",
      "f1_score: 0.4559\n",
      "\n"
     ]
    },
    {
     "data": {
      "application/vnd.jupyter.widget-view+json": {
       "model_id": "5f67d4806ad44fe095e4ca4709e9e9e9",
       "version_major": 2,
       "version_minor": 0
      },
      "text/plain": [
       "Iterations:   0%|          | 0/43 [00:00<?, ?it/s]"
      ]
     },
     "metadata": {},
     "output_type": "display_data"
    },
    {
     "name": "stdout",
     "output_type": "stream",
     "text": [
      "[75/200][25/43][Time 18.32]\n",
      "Unified LR across all optimizers: 0.00017219082057399394\n",
      "--------------------Training Metrics--------------------\n",
      "Trainer:  gpt\n",
      "Inf: 0.0089\tGen: 0.0360\tRec: 0.0370\tE: 0.0079\tR: 0.0100\tP: 0.0640\n",
      "--------------------Test Metrics------------------------\n",
      "accuracy: 0.6133\n",
      "precision: 0.6243\n",
      "recall: 0.5655\n",
      "f1_score: 0.5336\n",
      "\n"
     ]
    },
    {
     "data": {
      "application/vnd.jupyter.widget-view+json": {
       "model_id": "8bc68a87df9c463a884775e6b1504491",
       "version_major": 2,
       "version_minor": 0
      },
      "text/plain": [
       "Iterations:   0%|          | 0/43 [00:00<?, ?it/s]"
      ]
     },
     "metadata": {},
     "output_type": "display_data"
    },
    {
     "name": "stdout",
     "output_type": "stream",
     "text": [
      "[76/200][32/43][Time 18.30]\n",
      "Unified LR across all optimizers: 0.00017179479267633146\n",
      "--------------------Training Metrics--------------------\n",
      "Trainer:  gpt\n",
      "Inf: 0.0088\tGen: 0.0372\tRec: 0.0382\tE: 0.0078\tR: 0.0097\tP: 0.0667\n",
      "--------------------Test Metrics------------------------\n",
      "accuracy: 0.5613\n",
      "precision: 0.6393\n",
      "recall: 0.5950\n",
      "f1_score: 0.5630\n",
      "\n"
     ]
    },
    {
     "data": {
      "application/vnd.jupyter.widget-view+json": {
       "model_id": "d2ef5f8586b540c4b079e28d8176af93",
       "version_major": 2,
       "version_minor": 0
      },
      "text/plain": [
       "Iterations:   0%|          | 0/43 [00:00<?, ?it/s]"
      ]
     },
     "metadata": {},
     "output_type": "display_data"
    },
    {
     "name": "stdout",
     "output_type": "stream",
     "text": [
      "[77/200][39/43][Time 18.31]\n",
      "Unified LR across all optimizers: 0.00017139967561755819\n",
      "--------------------Training Metrics--------------------\n",
      "Trainer:  gpt\n",
      "Inf: 0.0088\tGen: 0.0365\tRec: 0.0376\tE: 0.0078\tR: 0.0099\tP: 0.0653\n",
      "--------------------Test Metrics------------------------\n",
      "accuracy: 0.6211\n",
      "precision: 0.7557\n",
      "recall: 0.6305\n",
      "f1_score: 0.6313\n",
      "\n"
     ]
    },
    {
     "data": {
      "application/vnd.jupyter.widget-view+json": {
       "model_id": "13e8c6756d814407a272ed2dceeb170e",
       "version_major": 2,
       "version_minor": 0
      },
      "text/plain": [
       "Iterations:   0%|          | 0/43 [00:00<?, ?it/s]"
      ]
     },
     "metadata": {},
     "output_type": "display_data"
    },
    {
     "data": {
      "application/vnd.jupyter.widget-view+json": {
       "model_id": "731b25098bd445ef9e2b793933121b92",
       "version_major": 2,
       "version_minor": 0
      },
      "text/plain": [
       "Iterations:   0%|          | 0/43 [00:00<?, ?it/s]"
      ]
     },
     "metadata": {},
     "output_type": "display_data"
    },
    {
     "name": "stdout",
     "output_type": "stream",
     "text": [
      "[79/200][3/43][Time 18.34]\n",
      "Unified LR across all optimizers: 0.00017100546730280274\n",
      "--------------------Training Metrics--------------------\n",
      "Trainer:  gpt\n",
      "Inf: 0.0087\tGen: 0.0367\tRec: 0.0378\tE: 0.0077\tR: 0.0098\tP: 0.0657\n",
      "--------------------Test Metrics------------------------\n",
      "accuracy: 0.6249\n",
      "precision: 0.6115\n",
      "recall: 0.6213\n",
      "f1_score: 0.5703\n",
      "\n"
     ]
    },
    {
     "data": {
      "application/vnd.jupyter.widget-view+json": {
       "model_id": "f6346dd1cf234421b857daa105286a4d",
       "version_major": 2,
       "version_minor": 0
      },
      "text/plain": [
       "Iterations:   0%|          | 0/43 [00:00<?, ?it/s]"
      ]
     },
     "metadata": {},
     "output_type": "display_data"
    },
    {
     "name": "stdout",
     "output_type": "stream",
     "text": [
      "[80/200][10/43][Time 18.30]\n",
      "Unified LR across all optimizers: 0.00017061216564201177\n",
      "--------------------Training Metrics--------------------\n",
      "Trainer:  gpt\n",
      "Inf: 0.0086\tGen: 0.0366\tRec: 0.0376\tE: 0.0076\tR: 0.0096\tP: 0.0656\n",
      "--------------------Test Metrics------------------------\n",
      "accuracy: 0.6306\n",
      "precision: 0.6683\n",
      "recall: 0.7234\n",
      "f1_score: 0.6448\n",
      "\n"
     ]
    },
    {
     "data": {
      "application/vnd.jupyter.widget-view+json": {
       "model_id": "3ae78d896da84b5db2a376acb1256549",
       "version_major": 2,
       "version_minor": 0
      },
      "text/plain": [
       "Iterations:   0%|          | 0/43 [00:00<?, ?it/s]"
      ]
     },
     "metadata": {},
     "output_type": "display_data"
    },
    {
     "name": "stdout",
     "output_type": "stream",
     "text": [
      "[81/200][17/43][Time 18.29]\n",
      "Unified LR across all optimizers: 0.0001702197685499392\n",
      "--------------------Training Metrics--------------------\n",
      "Trainer:  gpt\n",
      "Inf: 0.0086\tGen: 0.0362\tRec: 0.0372\tE: 0.0076\tR: 0.0097\tP: 0.0648\n",
      "--------------------Test Metrics------------------------\n",
      "accuracy: 0.5953\n",
      "precision: 0.6644\n",
      "recall: 0.6418\n",
      "f1_score: 0.6157\n",
      "\n"
     ]
    },
    {
     "data": {
      "application/vnd.jupyter.widget-view+json": {
       "model_id": "fbc14f873a0c45509fe675b49bed8585",
       "version_major": 2,
       "version_minor": 0
      },
      "text/plain": [
       "Iterations:   0%|          | 0/43 [00:00<?, ?it/s]"
      ]
     },
     "metadata": {},
     "output_type": "display_data"
    },
    {
     "name": "stdout",
     "output_type": "stream",
     "text": [
      "[82/200][24/43][Time 18.28]\n",
      "Unified LR across all optimizers: 0.0001698282739461345\n",
      "--------------------Training Metrics--------------------\n",
      "Trainer:  gpt\n",
      "Inf: 0.0086\tGen: 0.0354\tRec: 0.0365\tE: 0.0075\tR: 0.0097\tP: 0.0632\n",
      "--------------------Test Metrics------------------------\n",
      "accuracy: 0.6542\n",
      "precision: 0.6519\n",
      "recall: 0.5803\n",
      "f1_score: 0.5807\n",
      "\n"
     ]
    },
    {
     "data": {
      "application/vnd.jupyter.widget-view+json": {
       "model_id": "56a818eac4bb49a1a6c2128ff78bb213",
       "version_major": 2,
       "version_minor": 0
      },
      "text/plain": [
       "Iterations:   0%|          | 0/43 [00:00<?, ?it/s]"
      ]
     },
     "metadata": {},
     "output_type": "display_data"
    },
    {
     "name": "stdout",
     "output_type": "stream",
     "text": [
      "[83/200][31/43][Time 18.31]\n",
      "Unified LR across all optimizers: 0.00016943767975493242\n",
      "--------------------Training Metrics--------------------\n",
      "Trainer:  gpt\n",
      "Inf: 0.0084\tGen: 0.0347\tRec: 0.0358\tE: 0.0073\tR: 0.0095\tP: 0.0621\n",
      "--------------------Test Metrics------------------------\n",
      "accuracy: 0.6219\n",
      "precision: 0.6071\n",
      "recall: 0.6209\n",
      "f1_score: 0.5868\n",
      "\n"
     ]
    },
    {
     "data": {
      "application/vnd.jupyter.widget-view+json": {
       "model_id": "04fca616cf2e4264a695a9581ad4dc52",
       "version_major": 2,
       "version_minor": 0
      },
      "text/plain": [
       "Iterations:   0%|          | 0/43 [00:00<?, ?it/s]"
      ]
     },
     "metadata": {},
     "output_type": "display_data"
    },
    {
     "name": "stdout",
     "output_type": "stream",
     "text": [
      "[84/200][38/43][Time 18.35]\n",
      "Unified LR across all optimizers: 0.0001690479839054414\n",
      "--------------------Training Metrics--------------------\n",
      "Trainer:  gpt\n",
      "Inf: 0.0084\tGen: 0.0347\tRec: 0.0358\tE: 0.0073\tR: 0.0095\tP: 0.0621\n",
      "--------------------Test Metrics------------------------\n",
      "accuracy: 0.5916\n",
      "precision: 0.4660\n",
      "recall: 0.5276\n",
      "f1_score: 0.4754\n",
      "\n"
     ]
    },
    {
     "data": {
      "application/vnd.jupyter.widget-view+json": {
       "model_id": "1cd2dd7f667e49db88808b90fa544185",
       "version_major": 2,
       "version_minor": 0
      },
      "text/plain": [
       "Iterations:   0%|          | 0/43 [00:00<?, ?it/s]"
      ]
     },
     "metadata": {},
     "output_type": "display_data"
    },
    {
     "data": {
      "application/vnd.jupyter.widget-view+json": {
       "model_id": "c5cdd23ae6fd491aa376caefcd492469",
       "version_major": 2,
       "version_minor": 0
      },
      "text/plain": [
       "Iterations:   0%|          | 0/43 [00:00<?, ?it/s]"
      ]
     },
     "metadata": {},
     "output_type": "display_data"
    },
    {
     "name": "stdout",
     "output_type": "stream",
     "text": [
      "[86/200][2/43][Time 18.32]\n",
      "Unified LR across all optimizers: 0.00016865918433153277\n",
      "--------------------Training Metrics--------------------\n",
      "Trainer:  gpt\n",
      "Inf: 0.0083\tGen: 0.0337\tRec: 0.0348\tE: 0.0072\tR: 0.0094\tP: 0.0602\n",
      "--------------------Test Metrics------------------------\n",
      "accuracy: 0.5947\n",
      "precision: 0.6000\n",
      "recall: 0.5878\n",
      "f1_score: 0.5636\n",
      "\n"
     ]
    },
    {
     "data": {
      "application/vnd.jupyter.widget-view+json": {
       "model_id": "8eeef7ed6b864281b80049a292b90994",
       "version_major": 2,
       "version_minor": 0
      },
      "text/plain": [
       "Iterations:   0%|          | 0/43 [00:00<?, ?it/s]"
      ]
     },
     "metadata": {},
     "output_type": "display_data"
    },
    {
     "name": "stdout",
     "output_type": "stream",
     "text": [
      "[87/200][9/43][Time 18.32]\n",
      "Unified LR across all optimizers: 0.00016827127897182985\n",
      "--------------------Training Metrics--------------------\n",
      "Trainer:  gpt\n",
      "Inf: 0.0087\tGen: 0.0345\tRec: 0.0358\tE: 0.0074\tR: 0.0100\tP: 0.0616\n",
      "--------------------Test Metrics------------------------\n",
      "accuracy: 0.6931\n",
      "precision: 0.7090\n",
      "recall: 0.7270\n",
      "f1_score: 0.6934\n",
      "\n"
     ]
    },
    {
     "data": {
      "application/vnd.jupyter.widget-view+json": {
       "model_id": "94fcea3bd4bd4c4aa5954fa415514875",
       "version_major": 2,
       "version_minor": 0
      },
      "text/plain": [
       "Iterations:   0%|          | 0/43 [00:00<?, ?it/s]"
      ]
     },
     "metadata": {},
     "output_type": "display_data"
    },
    {
     "name": "stdout",
     "output_type": "stream",
     "text": [
      "[88/200][16/43][Time 18.32]\n",
      "Unified LR across all optimizers: 0.0001678842657696972\n",
      "--------------------Training Metrics--------------------\n",
      "Trainer:  gpt\n",
      "Inf: 0.0087\tGen: 0.0355\tRec: 0.0367\tE: 0.0074\tR: 0.0100\tP: 0.0635\n",
      "--------------------Test Metrics------------------------\n",
      "accuracy: 0.5732\n",
      "precision: 0.6508\n",
      "recall: 0.6098\n",
      "f1_score: 0.5783\n",
      "\n"
     ]
    },
    {
     "data": {
      "application/vnd.jupyter.widget-view+json": {
       "model_id": "01794d9d8c3e4a25a1f837460878e1a7",
       "version_major": 2,
       "version_minor": 0
      },
      "text/plain": [
       "Iterations:   0%|          | 0/43 [00:00<?, ?it/s]"
      ]
     },
     "metadata": {},
     "output_type": "display_data"
    },
    {
     "name": "stdout",
     "output_type": "stream",
     "text": [
      "[89/200][23/43][Time 18.29]\n",
      "Unified LR across all optimizers: 0.00016749814267322938\n",
      "--------------------Training Metrics--------------------\n",
      "Trainer:  gpt\n",
      "Inf: 0.0087\tGen: 0.0353\tRec: 0.0365\tE: 0.0075\tR: 0.0099\tP: 0.0631\n",
      "--------------------Test Metrics------------------------\n",
      "accuracy: 0.6503\n",
      "precision: 0.6862\n",
      "recall: 0.6365\n",
      "f1_score: 0.6238\n",
      "\n"
     ]
    },
    {
     "data": {
      "application/vnd.jupyter.widget-view+json": {
       "model_id": "1ec014f83514412caa3029291b8b2b96",
       "version_major": 2,
       "version_minor": 0
      },
      "text/plain": [
       "Iterations:   0%|          | 0/43 [00:00<?, ?it/s]"
      ]
     },
     "metadata": {},
     "output_type": "display_data"
    },
    {
     "name": "stdout",
     "output_type": "stream",
     "text": [
      "[90/200][30/43][Time 18.53]\n",
      "Unified LR across all optimizers: 0.00016711290763524007\n",
      "--------------------Training Metrics--------------------\n",
      "Trainer:  gpt\n",
      "Inf: 0.0083\tGen: 0.0346\tRec: 0.0357\tE: 0.0072\tR: 0.0094\tP: 0.0620\n",
      "--------------------Test Metrics------------------------\n",
      "accuracy: 0.5704\n",
      "precision: 0.6529\n",
      "recall: 0.6070\n",
      "f1_score: 0.5780\n",
      "\n"
     ]
    },
    {
     "data": {
      "application/vnd.jupyter.widget-view+json": {
       "model_id": "ce6da804afe14b95b69ae16cb097b550",
       "version_major": 2,
       "version_minor": 0
      },
      "text/plain": [
       "Iterations:   0%|          | 0/43 [00:00<?, ?it/s]"
      ]
     },
     "metadata": {},
     "output_type": "display_data"
    },
    {
     "name": "stdout",
     "output_type": "stream",
     "text": [
      "[91/200][37/43][Time 19.28]\n",
      "Unified LR across all optimizers: 0.00016672855861325146\n",
      "--------------------Training Metrics--------------------\n",
      "Trainer:  gpt\n",
      "Inf: 0.0080\tGen: 0.0334\tRec: 0.0346\tE: 0.0069\tR: 0.0092\tP: 0.0600\n",
      "--------------------Test Metrics------------------------\n",
      "accuracy: 0.6804\n",
      "precision: 0.6844\n",
      "recall: 0.7164\n",
      "f1_score: 0.6797\n",
      "\n"
     ]
    },
    {
     "data": {
      "application/vnd.jupyter.widget-view+json": {
       "model_id": "e0d05c9d216445c1a45d048605e4809f",
       "version_major": 2,
       "version_minor": 0
      },
      "text/plain": [
       "Iterations:   0%|          | 0/43 [00:00<?, ?it/s]"
      ]
     },
     "metadata": {},
     "output_type": "display_data"
    },
    {
     "data": {
      "application/vnd.jupyter.widget-view+json": {
       "model_id": "1e9e8da9487b409d98bf0c9dbc8638ab",
       "version_major": 2,
       "version_minor": 0
      },
      "text/plain": [
       "Iterations:   0%|          | 0/43 [00:00<?, ?it/s]"
      ]
     },
     "metadata": {},
     "output_type": "display_data"
    },
    {
     "name": "stdout",
     "output_type": "stream",
     "text": [
      "[93/200][1/43][Time 18.91]\n",
      "Unified LR across all optimizers: 0.00016634509356948314\n",
      "--------------------Training Metrics--------------------\n",
      "Trainer:  gpt\n",
      "Inf: 0.0079\tGen: 0.0331\tRec: 0.0342\tE: 0.0068\tR: 0.0090\tP: 0.0595\n",
      "--------------------Test Metrics------------------------\n",
      "accuracy: 0.5944\n",
      "precision: 0.6075\n",
      "recall: 0.5090\n",
      "f1_score: 0.4774\n",
      "\n"
     ]
    },
    {
     "data": {
      "application/vnd.jupyter.widget-view+json": {
       "model_id": "dbdb40f1ae30442484821e17221a608d",
       "version_major": 2,
       "version_minor": 0
      },
      "text/plain": [
       "Iterations:   0%|          | 0/43 [00:00<?, ?it/s]"
      ]
     },
     "metadata": {},
     "output_type": "display_data"
    },
    {
     "name": "stdout",
     "output_type": "stream",
     "text": [
      "[94/200][8/43][Time 19.00]\n",
      "Unified LR across all optimizers: 0.00016596251047084197\n",
      "--------------------Training Metrics--------------------\n",
      "Trainer:  gpt\n",
      "Inf: 0.0078\tGen: 0.0330\tRec: 0.0341\tE: 0.0067\tR: 0.0089\tP: 0.0594\n",
      "--------------------Test Metrics------------------------\n",
      "accuracy: 0.6830\n",
      "precision: 0.6815\n",
      "recall: 0.6934\n",
      "f1_score: 0.6652\n",
      "\n"
     ]
    },
    {
     "data": {
      "application/vnd.jupyter.widget-view+json": {
       "model_id": "2720f3860f9c444d85052896170ec547",
       "version_major": 2,
       "version_minor": 0
      },
      "text/plain": [
       "Iterations:   0%|          | 0/43 [00:00<?, ?it/s]"
      ]
     },
     "metadata": {},
     "output_type": "display_data"
    },
    {
     "name": "stdout",
     "output_type": "stream",
     "text": [
      "[95/200][15/43][Time 18.92]\n",
      "Unified LR across all optimizers: 0.00016558080728890993\n",
      "--------------------Training Metrics--------------------\n",
      "Trainer:  gpt\n",
      "Inf: 0.0077\tGen: 0.0326\tRec: 0.0337\tE: 0.0066\tR: 0.0088\tP: 0.0586\n",
      "--------------------Test Metrics------------------------\n",
      "accuracy: 0.6970\n",
      "precision: 0.7038\n",
      "recall: 0.7307\n",
      "f1_score: 0.6990\n",
      "\n"
     ]
    },
    {
     "data": {
      "application/vnd.jupyter.widget-view+json": {
       "model_id": "7017ae33552f475cac2c327f5d450a81",
       "version_major": 2,
       "version_minor": 0
      },
      "text/plain": [
       "Iterations:   0%|          | 0/43 [00:00<?, ?it/s]"
      ]
     },
     "metadata": {},
     "output_type": "display_data"
    },
    {
     "name": "stdout",
     "output_type": "stream",
     "text": [
      "[96/200][22/43][Time 18.93]\n",
      "Unified LR across all optimizers: 0.00016519998199993532\n",
      "--------------------Training Metrics--------------------\n",
      "Trainer:  gpt\n",
      "Inf: 0.0077\tGen: 0.0323\tRec: 0.0334\tE: 0.0066\tR: 0.0089\tP: 0.0580\n",
      "--------------------Test Metrics------------------------\n",
      "accuracy: 0.6561\n",
      "precision: 0.6945\n",
      "recall: 0.6414\n",
      "f1_score: 0.6310\n",
      "\n"
     ]
    },
    {
     "data": {
      "application/vnd.jupyter.widget-view+json": {
       "model_id": "9119aa80531b44048e57e72fd23a7d37",
       "version_major": 2,
       "version_minor": 0
      },
      "text/plain": [
       "Iterations:   0%|          | 0/43 [00:00<?, ?it/s]"
      ]
     },
     "metadata": {},
     "output_type": "display_data"
    },
    {
     "name": "stdout",
     "output_type": "stream",
     "text": [
      "[97/200][29/43][Time 18.92]\n",
      "Unified LR across all optimizers: 0.0001648200325848201\n",
      "--------------------Training Metrics--------------------\n",
      "Trainer:  gpt\n",
      "Inf: 0.0077\tGen: 0.0334\tRec: 0.0344\tE: 0.0066\tR: 0.0087\tP: 0.0601\n",
      "--------------------Test Metrics------------------------\n",
      "accuracy: 0.6356\n",
      "precision: 0.7767\n",
      "recall: 0.6574\n",
      "f1_score: 0.6523\n",
      "\n"
     ]
    },
    {
     "data": {
      "application/vnd.jupyter.widget-view+json": {
       "model_id": "5cc2cbdb4f924d3aac94d34601368d4e",
       "version_major": 2,
       "version_minor": 0
      },
      "text/plain": [
       "Iterations:   0%|          | 0/43 [00:00<?, ?it/s]"
      ]
     },
     "metadata": {},
     "output_type": "display_data"
    },
    {
     "name": "stdout",
     "output_type": "stream",
     "text": [
      "[98/200][36/43][Time 18.94]\n",
      "Unified LR across all optimizers: 0.00016444095702911038\n",
      "--------------------Training Metrics--------------------\n",
      "Trainer:  gpt\n",
      "Inf: 0.0077\tGen: 0.0343\tRec: 0.0352\tE: 0.0067\tR: 0.0086\tP: 0.0619\n",
      "--------------------Test Metrics------------------------\n",
      "accuracy: 0.6075\n",
      "precision: 0.4487\n",
      "recall: 0.5341\n",
      "f1_score: 0.4687\n",
      "\n"
     ]
    },
    {
     "data": {
      "application/vnd.jupyter.widget-view+json": {
       "model_id": "e5bbf067b8d044db854a185bdad2f9b1",
       "version_major": 2,
       "version_minor": 0
      },
      "text/plain": [
       "Iterations:   0%|          | 0/43 [00:00<?, ?it/s]"
      ]
     },
     "metadata": {},
     "output_type": "display_data"
    },
    {
     "data": {
      "application/vnd.jupyter.widget-view+json": {
       "model_id": "b1e031e621a7435ca4c9b9d05fd0122e",
       "version_major": 2,
       "version_minor": 0
      },
      "text/plain": [
       "Iterations:   0%|          | 0/43 [00:00<?, ?it/s]"
      ]
     },
     "metadata": {},
     "output_type": "display_data"
    },
    {
     "name": "stdout",
     "output_type": "stream",
     "text": [
      "[100/200][0/43][Time 18.98]\n",
      "Unified LR across all optimizers: 0.00016406275332298505\n",
      "--------------------Training Metrics--------------------\n",
      "Trainer:  gpt\n",
      "Inf: 0.0076\tGen: 0.0319\tRec: 0.0330\tE: 0.0064\tR: 0.0087\tP: 0.0573\n",
      "--------------------Test Metrics------------------------\n",
      "accuracy: 0.6549\n",
      "precision: 0.6930\n",
      "recall: 0.6383\n",
      "f1_score: 0.6291\n",
      "\n"
     ]
    },
    {
     "data": {
      "application/vnd.jupyter.widget-view+json": {
       "model_id": "c959f150f1b0479da5f3906b64fd111c",
       "version_major": 2,
       "version_minor": 0
      },
      "text/plain": [
       "Iterations:   0%|          | 0/43 [00:00<?, ?it/s]"
      ]
     },
     "metadata": {},
     "output_type": "display_data"
    },
    {
     "name": "stdout",
     "output_type": "stream",
     "text": [
      "[101/200][7/43][Time 18.95]\n",
      "Unified LR across all optimizers: 0.00016368541946124596\n",
      "--------------------Training Metrics--------------------\n",
      "Trainer:  gpt\n",
      "Inf: 0.0076\tGen: 0.0323\tRec: 0.0334\tE: 0.0065\tR: 0.0087\tP: 0.0581\n",
      "--------------------Test Metrics------------------------\n",
      "accuracy: 0.6407\n",
      "precision: 0.6728\n",
      "recall: 0.6033\n",
      "f1_score: 0.6033\n",
      "\n"
     ]
    },
    {
     "data": {
      "application/vnd.jupyter.widget-view+json": {
       "model_id": "330a6c1a4d6245289c5eae2719c2f916",
       "version_major": 2,
       "version_minor": 0
      },
      "text/plain": [
       "Iterations:   0%|          | 0/43 [00:00<?, ?it/s]"
      ]
     },
     "metadata": {},
     "output_type": "display_data"
    },
    {
     "name": "stdout",
     "output_type": "stream",
     "text": [
      "[102/200][14/43][Time 18.92]\n",
      "Unified LR across all optimizers: 0.00016330895344330638\n",
      "--------------------Training Metrics--------------------\n",
      "Trainer:  gpt\n",
      "Inf: 0.0075\tGen: 0.0317\tRec: 0.0328\tE: 0.0064\tR: 0.0086\tP: 0.0569\n",
      "--------------------Test Metrics------------------------\n",
      "accuracy: 0.6260\n",
      "precision: 0.7507\n",
      "recall: 0.6450\n",
      "f1_score: 0.6428\n",
      "\n"
     ]
    },
    {
     "data": {
      "application/vnd.jupyter.widget-view+json": {
       "model_id": "9ea986c6cd5f476db1d2cc9fadfc0210",
       "version_major": 2,
       "version_minor": 0
      },
      "text/plain": [
       "Iterations:   0%|          | 0/43 [00:00<?, ?it/s]"
      ]
     },
     "metadata": {},
     "output_type": "display_data"
    },
    {
     "name": "stdout",
     "output_type": "stream",
     "text": [
      "[103/200][21/43][Time 18.90]\n",
      "Unified LR across all optimizers: 0.00016293335327318117\n",
      "--------------------Training Metrics--------------------\n",
      "Trainer:  gpt\n",
      "Inf: 0.0075\tGen: 0.0311\tRec: 0.0322\tE: 0.0064\tR: 0.0086\tP: 0.0557\n",
      "--------------------Test Metrics------------------------\n",
      "accuracy: 0.6404\n",
      "precision: 0.6535\n",
      "recall: 0.6283\n",
      "f1_score: 0.6099\n",
      "\n"
     ]
    },
    {
     "data": {
      "application/vnd.jupyter.widget-view+json": {
       "model_id": "c8e5f77699c541e9a94d9b4cb62276ef",
       "version_major": 2,
       "version_minor": 0
      },
      "text/plain": [
       "Iterations:   0%|          | 0/43 [00:00<?, ?it/s]"
      ]
     },
     "metadata": {},
     "output_type": "display_data"
    },
    {
     "name": "stdout",
     "output_type": "stream",
     "text": [
      "[104/200][28/43][Time 18.92]\n",
      "Unified LR across all optimizers: 0.00016255861695947546\n",
      "--------------------Training Metrics--------------------\n",
      "Trainer:  gpt\n",
      "Inf: 0.0075\tGen: 0.0316\tRec: 0.0327\tE: 0.0064\tR: 0.0085\tP: 0.0569\n",
      "--------------------Test Metrics------------------------\n",
      "accuracy: 0.6057\n",
      "precision: 0.6497\n",
      "recall: 0.6530\n",
      "f1_score: 0.5912\n",
      "\n"
     ]
    },
    {
     "data": {
      "application/vnd.jupyter.widget-view+json": {
       "model_id": "520e6aab13bd419d87809480f406bb91",
       "version_major": 2,
       "version_minor": 0
      },
      "text/plain": [
       "Iterations:   0%|          | 0/43 [00:00<?, ?it/s]"
      ]
     },
     "metadata": {},
     "output_type": "display_data"
    },
    {
     "name": "stdout",
     "output_type": "stream",
     "text": [
      "[105/200][35/43][Time 18.93]\n",
      "Unified LR across all optimizers: 0.00016218474251537463\n",
      "--------------------Training Metrics--------------------\n",
      "Trainer:  gpt\n",
      "Inf: 0.0073\tGen: 0.0308\tRec: 0.0319\tE: 0.0062\tR: 0.0084\tP: 0.0555\n",
      "--------------------Test Metrics------------------------\n",
      "accuracy: 0.5797\n",
      "precision: 0.6328\n",
      "recall: 0.6126\n",
      "f1_score: 0.5863\n",
      "\n"
     ]
    },
    {
     "data": {
      "application/vnd.jupyter.widget-view+json": {
       "model_id": "30d85427188340cb82de8a6b855a035a",
       "version_major": 2,
       "version_minor": 0
      },
      "text/plain": [
       "Iterations:   0%|          | 0/43 [00:00<?, ?it/s]"
      ]
     },
     "metadata": {},
     "output_type": "display_data"
    },
    {
     "name": "stdout",
     "output_type": "stream",
     "text": [
      "[106/200][42/43][Time 18.93]\n",
      "Unified LR across all optimizers: 0.00016181172795863357\n",
      "--------------------Training Metrics--------------------\n",
      "Trainer:  gpt\n",
      "Inf: 0.0073\tGen: 0.0315\tRec: 0.0325\tE: 0.0062\tR: 0.0083\tP: 0.0568\n",
      "--------------------Test Metrics------------------------\n",
      "accuracy: 0.6246\n",
      "precision: 0.6926\n",
      "recall: 0.6837\n",
      "f1_score: 0.6371\n",
      "\n"
     ]
    },
    {
     "data": {
      "application/vnd.jupyter.widget-view+json": {
       "model_id": "f8c871ded76a47d2ab6b63695ff77052",
       "version_major": 2,
       "version_minor": 0
      },
      "text/plain": [
       "Iterations:   0%|          | 0/43 [00:00<?, ?it/s]"
      ]
     },
     "metadata": {},
     "output_type": "display_data"
    },
    {
     "data": {
      "application/vnd.jupyter.widget-view+json": {
       "model_id": "2f507fb92cf84464ac1b9e1ff2f3b223",
       "version_major": 2,
       "version_minor": 0
      },
      "text/plain": [
       "Iterations:   0%|          | 0/43 [00:00<?, ?it/s]"
      ]
     },
     "metadata": {},
     "output_type": "display_data"
    },
    {
     "name": "stdout",
     "output_type": "stream",
     "text": [
      "[108/200][6/43][Time 18.93]\n",
      "Unified LR across all optimizers: 0.0001614395713115662\n",
      "--------------------Training Metrics--------------------\n",
      "Trainer:  gpt\n",
      "Inf: 0.0074\tGen: 0.0329\tRec: 0.0339\tE: 0.0064\tR: 0.0084\tP: 0.0594\n",
      "--------------------Test Metrics------------------------\n",
      "accuracy: 0.6044\n",
      "precision: 0.6718\n",
      "recall: 0.6536\n",
      "f1_score: 0.6270\n",
      "\n"
     ]
    }
   ],
   "source": [
    "trainer_hub.train(trainset, testset)"
   ]
  },
  {
   "cell_type": "code",
   "execution_count": null,
   "metadata": {},
   "outputs": [],
   "source": [
    "trainer_hub.test(testset)"
   ]
  }
 ],
 "metadata": {
  "kernelspec": {
   "display_name": "ccnets",
   "language": "python",
   "name": "python3"
  },
  "language_info": {
   "codemirror_mode": {
    "name": "ipython",
    "version": 3
   },
   "file_extension": ".py",
   "mimetype": "text/x-python",
   "name": "python",
   "nbconvert_exporter": "python",
   "pygments_lexer": "ipython3",
   "version": "3.9.18"
  }
 },
 "nbformat": 4,
 "nbformat_minor": 2
}
