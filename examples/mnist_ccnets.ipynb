{
 "cells": [
  {
   "cell_type": "code",
   "execution_count": 1,
   "metadata": {},
   "outputs": [],
   "source": [
    "import sys\n",
    "\n",
    "path_append = \"../\" # Go up one directory from where you are.\n",
    "sys.path.append(path_append) \n",
    "\n",
    "import torch\n",
    "from tools.setting.ml_params import MLParameters\n",
    "from tools.setting.data_config import DataConfig\n",
    "from nn.utils.init import set_random_seed\n",
    "set_random_seed(0)"
   ]
  },
  {
   "cell_type": "code",
   "execution_count": 2,
   "metadata": {},
   "outputs": [],
   "source": [
    "from torchvision import datasets, transforms\n",
    "\n",
    "n_img_sz = 28  \n",
    "attribute_indices = torch.tensor([4, 9])\n",
    "\n",
    "transform_mnist = transforms.Compose([\n",
    "    transforms.Resize(n_img_sz),  \n",
    "    transforms.ToTensor(),  \n",
    "    # transforms.Normalize((0.5,), (0.5,)),  \n",
    "])\n",
    "\n",
    "trainset = datasets.MNIST(root='../data/mnist', train=True, transform=transform_mnist, download=True)\n",
    "testset = datasets.MNIST(root='../data/mnist', train=False, transform=transform_mnist, download=True)\n",
    "label_size = len(trainset.classes)\n"
   ]
  },
  {
   "cell_type": "code",
   "execution_count": 3,
   "metadata": {},
   "outputs": [
    {
     "name": "stdout",
     "output_type": "stream",
     "text": [
      "Input shape: torch.Size([1, 28, 28])\n",
      "Label shape: 10\n",
      "Total number of samples in trainset: 60000\n"
     ]
    }
   ],
   "source": [
    "\n",
    "\n",
    "from tools.setting.ml_params import ImageModelParams, STYLEGAN_COOPERATIVE_NETWORKS\n",
    "#  Set training configuration from the AlgorithmConfig class, returning them as a Namespace object.\n",
    "ml_params = MLParameters()\n",
    "ml_params.core_model_name = 'stylegan'\n",
    "ml_params.core_params = ImageModelParams()\n",
    "ml_params.core_networks = STYLEGAN_COOPERATIVE_NETWORKS\n",
    "\n",
    "ml_params.encoder_model_name = 'none'\n",
    "obs_shape = trainset[0][0].shape\n",
    "\n",
    "print(f\"Input shape: {obs_shape}\")\n",
    "print(f\"Label shape: {label_size}\")\n",
    "\n",
    "print(f\"Total number of samples in trainset: {len(trainset)}\")\n",
    "\n",
    "\n",
    "data_config = DataConfig(dataset_name = 'mnist', task_type='multi_class_classification', obs_shape=obs_shape, label_size= label_size,\n",
    "                         show_image_indices=[0, 1, 2, 3])"
   ]
  },
  {
   "cell_type": "code",
   "execution_count": 4,
   "metadata": {},
   "outputs": [],
   "source": [
    "# Custom dataset class for CelebA dataset\n",
    "class Mnist(torch.utils.data.Dataset):\n",
    "    def __init__(self, dataset):\n",
    "        self.dataset = dataset\n",
    "        self.attribute_indices = attribute_indices\n",
    "        \n",
    "    def __getitem__(self, index):\n",
    "        X, y = self.dataset[index]  # Get the image and label at the specified index\n",
    "\n",
    "        # Ensure y is an integer and within the expected range\n",
    "        y = torch.tensor(y, dtype=torch.long)\n",
    "        y_one_hot = torch.nn.functional.one_hot(y, num_classes=label_size)\n",
    "        return X, y_one_hot  # Return the image and the one-hot encoded label\n",
    "    \n",
    "    def __len__(self):\n",
    "        return len(self.dataset) # Return the size of the dataset\n",
    "        \n",
    "trainset = Mnist(trainset)\n",
    "testset = Mnist(testset)"
   ]
  },
  {
   "cell_type": "code",
   "execution_count": 5,
   "metadata": {},
   "outputs": [
    {
     "name": "stderr",
     "output_type": "stream",
     "text": [
      "c:\\Users\\ccn-team\\anaconda3\\lib\\site-packages\\scipy\\__init__.py:146: UserWarning: A NumPy version >=1.16.5 and <1.23.0 is required for this version of SciPy (detected version 1.24.3\n",
      "  warnings.warn(f\"A NumPy version >={np_minversion} and <{np_maxversion}\"\n"
     ]
    },
    {
     "name": "stdout",
     "output_type": "stream",
     "text": [
      "num_channels: 1, height: 28, width: 28\n"
     ]
    }
   ],
   "source": [
    "from trainer_hub import TrainerHub\n",
    "\n",
    "# Set the device to GPU if available, else CPU\n",
    "device = torch.device(\"cuda\" if torch.cuda.is_available() else \"cpu\") \n",
    "\n",
    "# Initialize the TrainerHub class with the training configuration, data configuration, device, and use_print and use_wandb flags\n",
    "trainer_hub = TrainerHub(ml_params, data_config, device, use_print=True, use_wandb=False)"
   ]
  },
  {
   "cell_type": "code",
   "execution_count": 6,
   "metadata": {},
   "outputs": [
    {
     "data": {
      "text/html": [
       "<img src=\"data:image/png;base64,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\" width=\"800\" />"
      ],
      "text/plain": [
       "<IPython.core.display.HTML object>"
      ]
     },
     "metadata": {},
     "output_type": "display_data"
    },
    {
     "name": "stdout",
     "output_type": "stream",
     "text": [
      "[6/100][728/937][Time 2.65]\n",
      "Unified LR across all optimizers: 0.0001653490030130995\n",
      "--------------------Training Metrics--------------------\n",
      "Trainer:  stylegan\n",
      "Inf: 0.0581\tGen: 0.0643\tRec: 0.0889\tE: 0.0335\tR: 0.0827\tP: 0.0951\n",
      "--------------------Test Metrics------------------------\n",
      "accuracy: 0.1406\n",
      "precision: 0.0141\n",
      "recall: 0.1000\n",
      "f1_score: 0.0247\n",
      "\n"
     ]
    }
   ],
   "source": [
    "trainer_hub.train(trainset, testset)"
   ]
  }
 ],
 "metadata": {
  "kernelspec": {
   "display_name": "ccnets",
   "language": "python",
   "name": "python3"
  },
  "language_info": {
   "codemirror_mode": {
    "name": "ipython",
    "version": 3
   },
   "file_extension": ".py",
   "mimetype": "text/x-python",
   "name": "python",
   "nbconvert_exporter": "python",
   "pygments_lexer": "ipython3",
   "version": "3.9.18"
  }
 },
 "nbformat": 4,
 "nbformat_minor": 2
}
