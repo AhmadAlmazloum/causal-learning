{
 "cells": [
  {
   "cell_type": "code",
   "execution_count": 1,
   "metadata": {},
   "outputs": [
    {
     "name": "stderr",
     "output_type": "stream",
     "text": [
      "c:\\Users\\junho\\anaconda3\\envs\\torch\\lib\\site-packages\\transformers\\utils\\generic.py:441: UserWarning: torch.utils._pytree._register_pytree_node is deprecated. Please use torch.utils._pytree.register_pytree_node instead.\n",
      "  _torch_pytree._register_pytree_node(\n",
      "c:\\Users\\junho\\anaconda3\\envs\\torch\\lib\\site-packages\\transformers\\utils\\generic.py:309: UserWarning: torch.utils._pytree._register_pytree_node is deprecated. Please use torch.utils._pytree.register_pytree_node instead.\n",
      "  _torch_pytree._register_pytree_node(\n"
     ]
    }
   ],
   "source": [
    "import sys\n",
    "\n",
    "path_append = \"../\" # Go up one directory from where you are.\n",
    "sys.path.append(path_append) \n",
    "\n",
    "import torch\n",
    "from tools.setting.ml_params import MLParameters\n",
    "from tools.setting.data_config import DataConfig\n",
    "from nn.utils.init import set_random_seed\n",
    "set_random_seed(0)"
   ]
  },
  {
   "cell_type": "code",
   "execution_count": 2,
   "metadata": {},
   "outputs": [],
   "source": [
    "from torchvision import datasets, transforms\n",
    "\n",
    "n_img_sz = 28  \n",
    "attribute_indices = torch.tensor([4, 9])\n",
    "\n",
    "transform_mnist = transforms.Compose([\n",
    "    transforms.Resize(n_img_sz),  \n",
    "    transforms.ToTensor(),  \n",
    "    transforms.Normalize((0.5,), (0.5,)),  \n",
    "])\n",
    "\n",
    "trainset = datasets.MNIST(root='../data/mnist', train=True, transform=transform_mnist, download=True)\n",
    "testset = datasets.MNIST(root='../data/mnist', train=False, transform=transform_mnist, download=True)\n",
    "label_size = len(trainset.classes)\n"
   ]
  },
  {
   "cell_type": "code",
   "execution_count": 3,
   "metadata": {},
   "outputs": [
    {
     "name": "stdout",
     "output_type": "stream",
     "text": [
      "Input shape: torch.Size([1, 28, 28])\n",
      "Label shape: 10\n",
      "Total number of samples in trainset: 60000\n"
     ]
    }
   ],
   "source": [
    "\n",
    "\n",
    "from tools.setting.ml_params import ImageModelParams, STYLEGAN_COOPERATIVE_NETWORKS\n",
    "#  Set training configuration from the AlgorithmConfig class, returning them as a Namespace object.\n",
    "ml_params = MLParameters()\n",
    "ml_params.core_model_name = 'stylegan'\n",
    "ml_params.core_params = ImageModelParams()\n",
    "ml_params.core_networks = STYLEGAN_COOPERATIVE_NETWORKS\n",
    "\n",
    "ml_params.encoder_model_name = 'none'\n",
    "obs_shape = trainset[0][0].shape\n",
    "\n",
    "print(f\"Input shape: {obs_shape}\")\n",
    "print(f\"Label shape: {label_size}\")\n",
    "\n",
    "print(f\"Total number of samples in trainset: {len(trainset)}\")\n",
    "\n",
    "\n",
    "data_config = DataConfig(dataset_name = 'mnist', task_type='multi_class_classification', obs_shape=obs_shape, label_size= label_size,\n",
    "                         show_image_indices=[0, 1, 2, 3])"
   ]
  },
  {
   "cell_type": "code",
   "execution_count": 4,
   "metadata": {},
   "outputs": [],
   "source": [
    "# Custom dataset class for CelebA dataset\n",
    "class Mnist(torch.utils.data.Dataset):\n",
    "    def __init__(self, dataset):\n",
    "        self.dataset = dataset\n",
    "        self.attribute_indices = attribute_indices\n",
    "        \n",
    "    def __getitem__(self, index):\n",
    "        X, y = self.dataset[index]  # Get the image and label at the specified index\n",
    "\n",
    "        # Ensure y is an integer and within the expected range\n",
    "        y = torch.tensor(y, dtype=torch.long)\n",
    "        y_one_hot = torch.nn.functional.one_hot(y, num_classes=label_size)\n",
    "        return X, y_one_hot  # Return the image and the one-hot encoded label\n",
    "    \n",
    "    def __len__(self):\n",
    "        return len(self.dataset) # Return the size of the dataset\n",
    "        \n",
    "trainset = Mnist(trainset)\n",
    "testset = Mnist(testset)"
   ]
  },
  {
   "cell_type": "code",
   "execution_count": 5,
   "metadata": {},
   "outputs": [
    {
     "name": "stdout",
     "output_type": "stream",
     "text": [
      "num_channels: 1, height: 28, width: 28\n"
     ]
    }
   ],
   "source": [
    "from trainer_hub import TrainerHub\n",
    "\n",
    "# Set the device to GPU if available, else CPU\n",
    "device = torch.device(\"cuda\" if torch.cuda.is_available() else \"cpu\") \n",
    "\n",
    "# Initialize the TrainerHub class with the training configuration, data configuration, device, and use_print and use_wandb flags\n",
    "trainer_hub = TrainerHub(ml_params, data_config, device, use_print=True, use_wandb=False)"
   ]
  },
  {
   "cell_type": "code",
   "execution_count": 6,
   "metadata": {},
   "outputs": [
    {
     "data": {
      "text/html": [
       "<img src=\"data:image/png;base64,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\" width=\"800\" />"
      ],
      "text/plain": [
       "<IPython.core.display.HTML object>"
      ]
     },
     "metadata": {},
     "output_type": "display_data"
    },
    {
     "name": "stdout",
     "output_type": "stream",
     "text": [
      "[0/100][100/937][Time 3.19]\n",
      "Unified LR across all optimizers: 0.0001993957766378747\n",
      "--------------------Training Metrics--------------------\n",
      "Trainer:  stylegan\n",
      "Inf: 0.0000\tGen: 0.2702\tRec: 0.2702\tE: 0.0000\tR: 0.0000\tP: 0.5404\n",
      "--------------------Test Metrics------------------------\n",
      "accuracy: 0.0938\n",
      "precision: 0.0094\n",
      "recall: 0.1000\n",
      "f1_score: 0.0171\n",
      "\n"
     ]
    }
   ],
   "source": [
    "trainer_hub.train(trainset, testset)"
   ]
  }
 ],
 "metadata": {
  "kernelspec": {
   "display_name": "ccnets",
   "language": "python",
   "name": "python3"
  },
  "language_info": {
   "codemirror_mode": {
    "name": "ipython",
    "version": 3
   },
   "file_extension": ".py",
   "mimetype": "text/x-python",
   "name": "python",
   "nbconvert_exporter": "python",
   "pygments_lexer": "ipython3",
   "version": "3.9.19"
  }
 },
 "nbformat": 4,
 "nbformat_minor": 2
}
