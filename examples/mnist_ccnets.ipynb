{
 "cells": [
  {
   "cell_type": "code",
   "execution_count": 1,
   "metadata": {},
   "outputs": [],
   "source": [
    "import sys\n",
    "\n",
    "path_append = \"../\" # Go up one directory from where you are.\n",
    "sys.path.append(path_append) \n",
    "\n",
    "import torch\n",
    "from tools.setting.ml_params import MLParameters\n",
    "from tools.setting.data_config import DataConfig\n",
    "from nn.utils.init import set_random_seed\n",
    "set_random_seed(0)"
   ]
  },
  {
   "cell_type": "code",
   "execution_count": 2,
   "metadata": {},
   "outputs": [],
   "source": [
    "from torchvision import datasets, transforms\n",
    "\n",
    "n_img_sz = 28  \n",
    "attribute_indices = torch.tensor([4, 9])\n",
    "\n",
    "transform_mnist = transforms.Compose([\n",
    "    transforms.Resize(n_img_sz),  \n",
    "    transforms.ToTensor(),  \n",
    "    transforms.Normalize((0.5,), (0.5,)),  \n",
    "])\n",
    "\n",
    "trainset = datasets.MNIST(root='../data/mnist', train=True, transform=transform_mnist, download=True)\n",
    "testset = datasets.MNIST(root='../data/mnist', train=False, transform=transform_mnist, download=True)\n",
    "label_size = len(trainset.classes)\n"
   ]
  },
  {
   "cell_type": "code",
   "execution_count": 3,
   "metadata": {},
   "outputs": [
    {
     "name": "stdout",
     "output_type": "stream",
     "text": [
      "Input shape: torch.Size([1, 28, 28])\n",
      "Label shape: 10\n",
      "Total number of samples in trainset: 60000\n"
     ]
    }
   ],
   "source": [
    "from tools.setting.ml_params import ImageModelParams, RESNET_COOPERATIVE_NETWORKS\n",
    "#  Set training configuration from the AlgorithmConfig class, returning them as a Namespace object.\n",
    "ml_params = MLParameters()\n",
    "ml_params.core_model_name = 'resnet'\n",
    "ml_params.core_params = ImageModelParams(d_model=64, num_layers=4)\n",
    "ml_params.core_networks = RESNET_COOPERATIVE_NETWORKS\n",
    "\n",
    "ml_params.encoder_model_name = 'none'\n",
    "obs_shape = trainset[0][0].shape\n",
    "\n",
    "print(f\"Input shape: {obs_shape}\")\n",
    "print(f\"Label shape: {label_size}\")\n",
    "\n",
    "print(f\"Total number of samples in trainset: {len(trainset)}\")\n",
    "\n",
    "\n",
    "data_config = DataConfig(dataset_name = 'mnist', task_type='multi_class_classification', obs_shape=obs_shape, label_size= label_size,\n",
    "                         show_image_indices=[0, 1, 2, 3])"
   ]
  },
  {
   "cell_type": "code",
   "execution_count": 4,
   "metadata": {},
   "outputs": [],
   "source": [
    "# Custom dataset class for CelebA dataset\n",
    "class Mnist(torch.utils.data.Dataset):\n",
    "    def __init__(self, dataset):\n",
    "        self.dataset = dataset\n",
    "        self.attribute_indices = attribute_indices\n",
    "        \n",
    "    def __getitem__(self, index):\n",
    "        X, y = self.dataset[index]  # Get the image and label at the specified index\n",
    "\n",
    "        # Ensure y is an integer and within the expected range\n",
    "        y = torch.tensor(y, dtype=torch.long)\n",
    "        y_one_hot = torch.nn.functional.one_hot(y, num_classes=label_size)\n",
    "        return X, y_one_hot  # Return the image and the one-hot encoded label\n",
    "    \n",
    "    def __len__(self):\n",
    "        return len(self.dataset) # Return the size of the dataset\n",
    "        \n",
    "trainset = Mnist(trainset)\n",
    "testset = Mnist(testset)"
   ]
  },
  {
   "cell_type": "code",
   "execution_count": 5,
   "metadata": {},
   "outputs": [],
   "source": [
    "from trainer_hub import TrainerHub\n",
    "\n",
    "# Set the device to GPU if available, else CPU\n",
    "device = torch.device(\"cuda\" if torch.cuda.is_available() else \"cpu\") \n",
    "\n",
    "# Initialize the TrainerHub class with the training configuration, data configuration, device, and use_print and use_wandb flags\n",
    "trainer_hub = TrainerHub(ml_params, data_config, device, use_print=True, use_wandb=False)"
   ]
  },
  {
   "cell_type": "code",
   "execution_count": 6,
   "metadata": {},
   "outputs": [
    {
     "data": {
      "text/html": [
       "<img src=\"data:image/png;base64,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\" width=\"800\" />"
      ],
      "text/plain": [
       "<IPython.core.display.HTML object>"
      ]
     },
     "metadata": {},
     "output_type": "display_data"
    },
    {
     "name": "stdout",
     "output_type": "stream",
     "text": [
      "[1/100][513/937][Time 2.13]\n",
      "Unified LR across all optimizers: 0.00019149262406724683\n",
      "--------------------Training Metrics--------------------\n",
      "Trainer:  resnet\n",
      "Inf: 0.0311\tGen: 0.1242\tRec: 0.1243\tE: 0.0310\tR: 0.0311\tP: 0.2175\n",
      "--------------------Test Metrics------------------------\n",
      "accuracy: 0.7656\n",
      "precision: 0.6708\n",
      "recall: 0.8000\n",
      "f1_score: 0.7176\n",
      "\n"
     ]
    }
   ],
   "source": [
    "trainer_hub.train(trainset, testset)"
   ]
  }
 ],
 "metadata": {
  "kernelspec": {
   "display_name": "ccnets",
   "language": "python",
   "name": "python3"
  },
  "language_info": {
   "codemirror_mode": {
    "name": "ipython",
    "version": 3
   },
   "file_extension": ".py",
   "mimetype": "text/x-python",
   "name": "python",
   "nbconvert_exporter": "python",
   "pygments_lexer": "ipython3",
   "version": "3.9.16"
  }
 },
 "nbformat": 4,
 "nbformat_minor": 2
}
