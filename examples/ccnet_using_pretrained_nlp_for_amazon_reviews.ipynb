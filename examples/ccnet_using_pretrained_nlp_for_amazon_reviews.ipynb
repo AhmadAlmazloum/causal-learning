{
 "cells": [
  {
   "cell_type": "markdown",
   "metadata": {},
   "source": [
    "'''\n",
    "Author:\n",
    "        \n",
    "        PARK, JunHo, junho@ccnets.org\n",
    "\n",
    "        \n",
    "        KIM, JoengYoong, jeongyoong@ccnets.org\n",
    "        \n",
    "    COPYRIGHT (c) 2024. CCNets. All Rights reserved.\n",
    "'''"
   ]
  },
  {
   "cell_type": "code",
   "execution_count": 1,
   "metadata": {},
   "outputs": [],
   "source": [
    "import sys\n",
    "path_append = \"../\"\n",
    "sys.path.append(path_append)  # Go up one directory from where you are.\n",
    "\n",
    "from nn.utils.init import set_random_seed\n",
    "set_random_seed(0)"
   ]
  },
  {
   "cell_type": "code",
   "execution_count": 2,
   "metadata": {},
   "outputs": [
    {
     "data": {
      "text/html": [
       "<div>\n",
       "<style scoped>\n",
       "    .dataframe tbody tr th:only-of-type {\n",
       "        vertical-align: middle;\n",
       "    }\n",
       "\n",
       "    .dataframe tbody tr th {\n",
       "        vertical-align: top;\n",
       "    }\n",
       "\n",
       "    .dataframe thead th {\n",
       "        text-align: right;\n",
       "    }\n",
       "</style>\n",
       "<table border=\"1\" class=\"dataframe\">\n",
       "  <thead>\n",
       "    <tr style=\"text-align: right;\">\n",
       "      <th></th>\n",
       "      <th>Unnamed: 0</th>\n",
       "      <th>reviewerName</th>\n",
       "      <th>overall</th>\n",
       "      <th>reviewText</th>\n",
       "      <th>reviewTime</th>\n",
       "      <th>day_diff</th>\n",
       "      <th>helpful_yes</th>\n",
       "      <th>helpful_no</th>\n",
       "      <th>total_vote</th>\n",
       "      <th>score_pos_neg_diff</th>\n",
       "      <th>score_average_rating</th>\n",
       "      <th>wilson_lower_bound</th>\n",
       "    </tr>\n",
       "  </thead>\n",
       "  <tbody>\n",
       "    <tr>\n",
       "      <th>0</th>\n",
       "      <td>0</td>\n",
       "      <td>NaN</td>\n",
       "      <td>4.0</td>\n",
       "      <td>No issues.</td>\n",
       "      <td>2014-07-23</td>\n",
       "      <td>138</td>\n",
       "      <td>0</td>\n",
       "      <td>0</td>\n",
       "      <td>0</td>\n",
       "      <td>0</td>\n",
       "      <td>0.0</td>\n",
       "      <td>0.0</td>\n",
       "    </tr>\n",
       "    <tr>\n",
       "      <th>1</th>\n",
       "      <td>1</td>\n",
       "      <td>0mie</td>\n",
       "      <td>5.0</td>\n",
       "      <td>Purchased this for my device, it worked as adv...</td>\n",
       "      <td>2013-10-25</td>\n",
       "      <td>409</td>\n",
       "      <td>0</td>\n",
       "      <td>0</td>\n",
       "      <td>0</td>\n",
       "      <td>0</td>\n",
       "      <td>0.0</td>\n",
       "      <td>0.0</td>\n",
       "    </tr>\n",
       "    <tr>\n",
       "      <th>2</th>\n",
       "      <td>2</td>\n",
       "      <td>1K3</td>\n",
       "      <td>4.0</td>\n",
       "      <td>it works as expected. I should have sprung for...</td>\n",
       "      <td>2012-12-23</td>\n",
       "      <td>715</td>\n",
       "      <td>0</td>\n",
       "      <td>0</td>\n",
       "      <td>0</td>\n",
       "      <td>0</td>\n",
       "      <td>0.0</td>\n",
       "      <td>0.0</td>\n",
       "    </tr>\n",
       "    <tr>\n",
       "      <th>3</th>\n",
       "      <td>3</td>\n",
       "      <td>1m2</td>\n",
       "      <td>5.0</td>\n",
       "      <td>This think has worked out great.Had a diff. br...</td>\n",
       "      <td>2013-11-21</td>\n",
       "      <td>382</td>\n",
       "      <td>0</td>\n",
       "      <td>0</td>\n",
       "      <td>0</td>\n",
       "      <td>0</td>\n",
       "      <td>0.0</td>\n",
       "      <td>0.0</td>\n",
       "    </tr>\n",
       "    <tr>\n",
       "      <th>4</th>\n",
       "      <td>4</td>\n",
       "      <td>2&amp;amp;1/2Men</td>\n",
       "      <td>5.0</td>\n",
       "      <td>Bought it with Retail Packaging, arrived legit...</td>\n",
       "      <td>2013-07-13</td>\n",
       "      <td>513</td>\n",
       "      <td>0</td>\n",
       "      <td>0</td>\n",
       "      <td>0</td>\n",
       "      <td>0</td>\n",
       "      <td>0.0</td>\n",
       "      <td>0.0</td>\n",
       "    </tr>\n",
       "  </tbody>\n",
       "</table>\n",
       "</div>"
      ],
      "text/plain": [
       "   Unnamed: 0  reviewerName  overall  \\\n",
       "0           0           NaN      4.0   \n",
       "1           1          0mie      5.0   \n",
       "2           2           1K3      4.0   \n",
       "3           3           1m2      5.0   \n",
       "4           4  2&amp;1/2Men      5.0   \n",
       "\n",
       "                                          reviewText  reviewTime  day_diff  \\\n",
       "0                                         No issues.  2014-07-23       138   \n",
       "1  Purchased this for my device, it worked as adv...  2013-10-25       409   \n",
       "2  it works as expected. I should have sprung for...  2012-12-23       715   \n",
       "3  This think has worked out great.Had a diff. br...  2013-11-21       382   \n",
       "4  Bought it with Retail Packaging, arrived legit...  2013-07-13       513   \n",
       "\n",
       "   helpful_yes  helpful_no  total_vote  score_pos_neg_diff  \\\n",
       "0            0           0           0                   0   \n",
       "1            0           0           0                   0   \n",
       "2            0           0           0                   0   \n",
       "3            0           0           0                   0   \n",
       "4            0           0           0                   0   \n",
       "\n",
       "   score_average_rating  wilson_lower_bound  \n",
       "0                   0.0                 0.0  \n",
       "1                   0.0                 0.0  \n",
       "2                   0.0                 0.0  \n",
       "3                   0.0                 0.0  \n",
       "4                   0.0                 0.0  "
      ]
     },
     "execution_count": 2,
     "metadata": {},
     "output_type": "execute_result"
    }
   ],
   "source": [
    "# https://www.kaggle.com/datasets/tarkkaanko/amazon/\n",
    "\n",
    "import pandas as pd\n",
    "df = pd.read_csv(path_append + '../data/Amazon reviews/amazon_reviews.csv')\n",
    "df.head()"
   ]
  },
  {
   "cell_type": "code",
   "execution_count": 3,
   "metadata": {},
   "outputs": [],
   "source": [
    "import torch\n",
    "from torch.utils.data import Dataset\n",
    "from transformers import AutoTokenizer, AutoModel\n",
    "\n",
    "class PretrainedModelDataset(Dataset):\n",
    "    def __init__(self, df, tokenizer, model, num_classes, device, max_length=512, precompute_batches=64, **kwargs):\n",
    "        self.df = df.copy()\n",
    "        self.model = model\n",
    "        self.tokenizer = tokenizer\n",
    "        self.max_length = max_length\n",
    "        self.num_classes = num_classes\n",
    "        self.device = device\n",
    "        self.precompute_batches = precompute_batches\n",
    "        self.X_cache = None\n",
    "        self.y_cache = None\n",
    "        self.total_iters = 0\n",
    "        self.dataset_length = len(self.df)\n",
    "        # Efficiently select a random subset of indices\n",
    "        self.batch_indices = torch.randperm(len(self.df))\n",
    "        self._precompute_batches(0)\n",
    "        \n",
    "    def _precompute_batches(self, start_idx):\n",
    "        end_idx = min(start_idx + self.precompute_batches, self.dataset_length)\n",
    "        batch_indices = self.batch_indices[start_idx:end_idx].tolist()\n",
    "\n",
    "        # Gather batch data\n",
    "        X_batch = [self.df.iloc[i][\"reviewText\"] for i in batch_indices]\n",
    "        y_batch = [self.df.iloc[i][\"overall\"] for i in batch_indices]\n",
    "\n",
    "        # Ensure all elements in X_batch are strings\n",
    "        X_batch = [str(x) for x in X_batch]\n",
    "\n",
    "        # Ensure y_batch contains valid numeric values\n",
    "        y_batch = [float(y) for y in y_batch]\n",
    "        \n",
    "        # Tokenize the batch\n",
    "        X = self.tokenizer(X_batch, truncation=True, max_length=self.max_length, padding='max_length', return_tensors='pt')\n",
    "        \n",
    "        # Move inputs to the correct device\n",
    "        input_ids = X['input_ids'].to(self.device)\n",
    "        attention_mask = X['attention_mask'].to(self.device)\n",
    "\n",
    "        # Get the last hidden state from the RoBERTa model\n",
    "        with torch.no_grad():\n",
    "            outputs = self.model(input_ids=input_ids, attention_mask=attention_mask)\n",
    "            last_hidden_state = outputs.last_hidden_state\n",
    "\n",
    "        # Reshape the labels for the entire batch\n",
    "        y_tensor = torch.tensor(y_batch, dtype=torch.float).unsqueeze(1)  # Shape: (batch_size, 1)\n",
    "        y_tensor = y_tensor.unsqueeze(1).repeat(1, last_hidden_state.size(1), 1)  # Shape: (batch_size, sequence_length, num_classes)\n",
    "        # Store precomputed batch in cache\n",
    "        self.X_cache = last_hidden_state\n",
    "        self.y_cache = y_tensor\n",
    "\n",
    "    def __len__(self):\n",
    "        return self.dataset_length\n",
    "    \n",
    "    def __getitem__(self, idx):\n",
    "        batch_idx = idx // self.precompute_batches\n",
    "        batch_start_idx = batch_idx * self.precompute_batches\n",
    "        cur_idx = idx % self.precompute_batches\n",
    "        if self.total_iters % self.precompute_batches == 0:\n",
    "            self._precompute_batches(batch_start_idx)\n",
    "        self.total_iters += 1\n",
    "\n",
    "        if cur_idx >= len(self.X_cache):\n",
    "            cur_idx = idx % len(self.X_cache)\n",
    "\n",
    "        X = self.X_cache[cur_idx]\n",
    "        y = self.y_cache[cur_idx]\n",
    "        return X, y"
   ]
  },
  {
   "cell_type": "code",
   "execution_count": 4,
   "metadata": {},
   "outputs": [
    {
     "name": "stderr",
     "output_type": "stream",
     "text": [
      "Some weights of the model checkpoint at cardiffnlp/twitter-roberta-base-irony were not used when initializing RobertaModel: ['classifier.out_proj.bias', 'classifier.dense.bias', 'classifier.dense.weight', 'classifier.out_proj.weight']\n",
      "- This IS expected if you are initializing RobertaModel from the checkpoint of a model trained on another task or with another architecture (e.g. initializing a BertForSequenceClassification model from a BertForPreTraining model).\n",
      "- This IS NOT expected if you are initializing RobertaModel from the checkpoint of a model that you expect to be exactly identical (initializing a BertForSequenceClassification model from a BertForSequenceClassification model).\n",
      "Some weights of RobertaModel were not initialized from the model checkpoint at cardiffnlp/twitter-roberta-base-irony and are newly initialized: ['roberta.pooler.dense.bias', 'roberta.pooler.dense.weight']\n",
      "You should probably TRAIN this model on a down-stream task to be able to use it for predictions and inference.\n"
     ]
    }
   ],
   "source": [
    "from sklearn.model_selection import train_test_split\n",
    "\n",
    "# Initialize tokenizer and model\n",
    "TARGET_MODEL = \"cardiffnlp/twitter-roberta-base-irony\"\n",
    "device = torch.device('cuda' if torch.cuda.is_available() else 'cpu')\n",
    "\n",
    "tokenizer = AutoTokenizer.from_pretrained(TARGET_MODEL, use_fast=True)\n",
    "tokenizer.pad_token = tokenizer.eos_token\n",
    "pretrained_model = AutoModel.from_pretrained(TARGET_MODEL).to(device)\n",
    "pretrained_model.eval()\n",
    "\n",
    "# Assuming df is your DataFrame\n",
    "train_df, test_df = train_test_split(df, stratify=df[\"overall\"], test_size=0.2)\n",
    "num_classes = 1\n",
    "# Create datasets\n",
    "trainset = PretrainedModelDataset(train_df, tokenizer, pretrained_model, num_classes, device, max_length=128)\n",
    "testset = PretrainedModelDataset(test_df, tokenizer, pretrained_model, num_classes, device, max_length=128)"
   ]
  },
  {
   "cell_type": "code",
   "execution_count": 5,
   "metadata": {},
   "outputs": [],
   "source": [
    "from tools.setting.data_config import DataConfig\n",
    "from tools.setting.ml_params import MLParameters\n",
    "from trainer_hub import TrainerHub\n",
    "import torch\n",
    "\n",
    "data_config = DataConfig(dataset_name = 'amazon_reviews', task_type='ordinal_regression', obs_shape=[pretrained_model.config.hidden_size], label_size=num_classes)\n",
    "\n",
    "#  Set training configuration from the AlgorithmConfig class, returning them as a Namespace object.\n",
    "ml_params = MLParameters(core_model = 'gpt', encoder_model = 'none')\n",
    "\n",
    "# Set the device to GPU if available, else CPU\n",
    "device = torch.device(\"cuda\" if torch.cuda.is_available() else \"cpu\") \n",
    "\n",
    "# Initialize the TrainerHub class with the training configuration, data configuration, device, and use_print and use_wandb flags\n",
    "trainer_hub = TrainerHub(ml_params, data_config, device, use_print=True, use_wandb=False) "
   ]
  },
  {
   "cell_type": "code",
   "execution_count": 6,
   "metadata": {},
   "outputs": [
    {
     "data": {
      "application/vnd.jupyter.widget-view+json": {
       "model_id": "cc3a282979e84674bccc017e847ec3d1",
       "version_major": 2,
       "version_minor": 0
      },
      "text/plain": [
       "Epochs:   0%|          | 0/100 [00:00<?, ?it/s]"
      ]
     },
     "metadata": {},
     "output_type": "display_data"
    },
    {
     "data": {
      "application/vnd.jupyter.widget-view+json": {
       "model_id": "274da2f982a5452bad4abaf52c65c3e5",
       "version_major": 2,
       "version_minor": 0
      },
      "text/plain": [
       "Iterations:   0%|          | 0/61 [00:00<?, ?it/s]"
      ]
     },
     "metadata": {},
     "output_type": "display_data"
    },
    {
     "name": "stdout",
     "output_type": "stream",
     "text": [
      "[0/100][50/61][Time 24.83]\n",
      "Unified LR across all optimizers: 0.0001995308238189185\n",
      "--------------------Training Metrics--------------------\n",
      "Trainer:  gpt\n",
      "Inf: 0.0044\tGen: 0.3810\tRec: 0.3811\tE: 0.0044\tR: 0.0045\tP: 0.7576\n",
      "--------------------Test Metrics------------------------\n",
      "mse: 1.1372\n",
      "mae: 0.5272\n",
      "r2: -0.1733\n",
      "\n"
     ]
    },
    {
     "data": {
      "application/vnd.jupyter.widget-view+json": {
       "model_id": "090eaad5f3c34d8bbd45a26bed68bdac",
       "version_major": 2,
       "version_minor": 0
      },
      "text/plain": [
       "Iterations:   0%|          | 0/61 [00:00<?, ?it/s]"
      ]
     },
     "metadata": {},
     "output_type": "display_data"
    },
    {
     "name": "stdout",
     "output_type": "stream",
     "text": [
      "[1/100][39/61][Time 24.35]\n",
      "Unified LR across all optimizers: 0.00019907191565870155\n",
      "--------------------Training Metrics--------------------\n",
      "Trainer:  gpt\n",
      "Inf: 0.0000\tGen: 0.2999\tRec: 0.2999\tE: 0.0000\tR: 0.0000\tP: 0.5998\n",
      "--------------------Test Metrics------------------------\n",
      "mse: 1.1066\n",
      "mae: 0.5122\n",
      "r2: -0.1416\n",
      "\n"
     ]
    },
    {
     "data": {
      "application/vnd.jupyter.widget-view+json": {
       "model_id": "89d020c5cb5b4abd8325b02401ea5a82",
       "version_major": 2,
       "version_minor": 0
      },
      "text/plain": [
       "Iterations:   0%|          | 0/61 [00:00<?, ?it/s]"
      ]
     },
     "metadata": {},
     "output_type": "display_data"
    },
    {
     "name": "stdout",
     "output_type": "stream",
     "text": [
      "[2/100][28/61][Time 24.27]\n",
      "Unified LR across all optimizers: 0.00019861406295796434\n",
      "--------------------Training Metrics--------------------\n",
      "Trainer:  gpt\n",
      "Inf: 0.0000\tGen: 0.2760\tRec: 0.2760\tE: 0.0000\tR: 0.0000\tP: 0.5520\n",
      "--------------------Test Metrics------------------------\n",
      "mse: 0.9779\n",
      "mae: 0.4589\n",
      "r2: -0.0089\n",
      "\n"
     ]
    },
    {
     "data": {
      "application/vnd.jupyter.widget-view+json": {
       "model_id": "fdf83801b19647f9b6bbb004fef87cba",
       "version_major": 2,
       "version_minor": 0
      },
      "text/plain": [
       "Iterations:   0%|          | 0/61 [00:00<?, ?it/s]"
      ]
     },
     "metadata": {},
     "output_type": "display_data"
    },
    {
     "name": "stdout",
     "output_type": "stream",
     "text": [
      "[3/100][17/61][Time 24.23]\n",
      "Unified LR across all optimizers: 0.00019815726328921765\n",
      "--------------------Training Metrics--------------------\n",
      "Trainer:  gpt\n",
      "Inf: 0.0000\tGen: 0.2628\tRec: 0.2628\tE: 0.0000\tR: 0.0000\tP: 0.5255\n",
      "--------------------Test Metrics------------------------\n",
      "mse: 1.0061\n",
      "mae: 0.4354\n",
      "r2: -0.0380\n",
      "\n"
     ]
    },
    {
     "data": {
      "application/vnd.jupyter.widget-view+json": {
       "model_id": "aa8b03abe1c84f7e975e4aba2dcb6bae",
       "version_major": 2,
       "version_minor": 0
      },
      "text/plain": [
       "Iterations:   0%|          | 0/61 [00:00<?, ?it/s]"
      ]
     },
     "metadata": {},
     "output_type": "display_data"
    },
    {
     "name": "stdout",
     "output_type": "stream",
     "text": [
      "[4/100][6/61][Time 23.49]\n",
      "Unified LR across all optimizers: 0.00019770151423055492\n",
      "--------------------Training Metrics--------------------\n",
      "Trainer:  gpt\n",
      "Inf: 0.0000\tGen: 0.2541\tRec: 0.2541\tE: 0.0000\tR: 0.0000\tP: 0.5081\n",
      "--------------------Test Metrics------------------------\n",
      "mse: 1.0294\n",
      "mae: 0.4245\n",
      "r2: -0.0621\n",
      "\n",
      "[4/100][56/61][Time 23.17]\n",
      "Unified LR across all optimizers: 0.00019724681336564005\n",
      "--------------------Training Metrics--------------------\n",
      "Trainer:  gpt\n",
      "Inf: 0.0000\tGen: 0.2463\tRec: 0.2463\tE: 0.0000\tR: 0.0000\tP: 0.4925\n",
      "--------------------Test Metrics------------------------\n",
      "mse: 1.0728\n",
      "mae: 0.4295\n",
      "r2: -0.1068\n",
      "\n"
     ]
    },
    {
     "data": {
      "application/vnd.jupyter.widget-view+json": {
       "model_id": "8c3d6d1be12340cfa276bbe556a023b7",
       "version_major": 2,
       "version_minor": 0
      },
      "text/plain": [
       "Iterations:   0%|          | 0/61 [00:00<?, ?it/s]"
      ]
     },
     "metadata": {},
     "output_type": "display_data"
    },
    {
     "name": "stdout",
     "output_type": "stream",
     "text": [
      "[5/100][45/61][Time 24.10]\n",
      "Unified LR across all optimizers: 0.00019679315828369438\n",
      "--------------------Training Metrics--------------------\n",
      "Trainer:  gpt\n",
      "Inf: 0.0000\tGen: 0.2409\tRec: 0.2409\tE: 0.0000\tR: 0.0000\tP: 0.4817\n",
      "--------------------Test Metrics------------------------\n",
      "mse: 1.1139\n",
      "mae: 0.4584\n",
      "r2: -0.1492\n",
      "\n"
     ]
    },
    {
     "data": {
      "application/vnd.jupyter.widget-view+json": {
       "model_id": "19ed450c5eb74f76bf64225cc7fb0210",
       "version_major": 2,
       "version_minor": 0
      },
      "text/plain": [
       "Iterations:   0%|          | 0/61 [00:00<?, ?it/s]"
      ]
     },
     "metadata": {},
     "output_type": "display_data"
    },
    {
     "name": "stdout",
     "output_type": "stream",
     "text": [
      "[6/100][34/61][Time 24.76]\n",
      "Unified LR across all optimizers: 0.00019634054657948372\n",
      "--------------------Training Metrics--------------------\n",
      "Trainer:  gpt\n",
      "Inf: 0.0000\tGen: 0.2347\tRec: 0.2347\tE: 0.0000\tR: 0.0000\tP: 0.4693\n",
      "--------------------Test Metrics------------------------\n",
      "mse: 1.1052\n",
      "mae: 0.4421\n",
      "r2: -0.1402\n",
      "\n"
     ]
    },
    {
     "data": {
      "application/vnd.jupyter.widget-view+json": {
       "model_id": "8e73e8d0a1874f0abf99161c63a15a0a",
       "version_major": 2,
       "version_minor": 0
      },
      "text/plain": [
       "Iterations:   0%|          | 0/61 [00:00<?, ?it/s]"
      ]
     },
     "metadata": {},
     "output_type": "display_data"
    },
    {
     "name": "stdout",
     "output_type": "stream",
     "text": [
      "[7/100][23/61][Time 24.35]\n",
      "Unified LR across all optimizers: 0.00019588897585330582\n",
      "--------------------Training Metrics--------------------\n",
      "Trainer:  gpt\n",
      "Inf: 0.0000\tGen: 0.2299\tRec: 0.2299\tE: 0.0000\tR: 0.0000\tP: 0.4598\n",
      "--------------------Test Metrics------------------------\n",
      "mse: 1.0825\n",
      "mae: 0.4257\n",
      "r2: -0.1168\n",
      "\n"
     ]
    },
    {
     "data": {
      "application/vnd.jupyter.widget-view+json": {
       "model_id": "f83f1470549344908ddaf114c27231da",
       "version_major": 2,
       "version_minor": 0
      },
      "text/plain": [
       "Iterations:   0%|          | 0/61 [00:00<?, ?it/s]"
      ]
     },
     "metadata": {},
     "output_type": "display_data"
    },
    {
     "name": "stdout",
     "output_type": "stream",
     "text": [
      "[8/100][12/61][Time 24.41]\n",
      "Unified LR across all optimizers: 0.00019543844371097777\n",
      "--------------------Training Metrics--------------------\n",
      "Trainer:  gpt\n",
      "Inf: 0.0000\tGen: 0.2269\tRec: 0.2269\tE: 0.0000\tR: 0.0000\tP: 0.4537\n",
      "--------------------Test Metrics------------------------\n",
      "mse: 1.0276\n",
      "mae: 0.4077\n",
      "r2: -0.0602\n",
      "\n"
     ]
    },
    {
     "data": {
      "application/vnd.jupyter.widget-view+json": {
       "model_id": "a23429faffee4cad8a31b8dc4c2bcb39",
       "version_major": 2,
       "version_minor": 0
      },
      "text/plain": [
       "Iterations:   0%|          | 0/61 [00:00<?, ?it/s]"
      ]
     },
     "metadata": {},
     "output_type": "display_data"
    },
    {
     "name": "stdout",
     "output_type": "stream",
     "text": [
      "[9/100][1/61][Time 24.10]\n",
      "Unified LR across all optimizers: 0.00019498894776382288\n",
      "--------------------Training Metrics--------------------\n",
      "Trainer:  gpt\n",
      "Inf: 0.0001\tGen: 0.2215\tRec: 0.2215\tE: 0.0001\tR: 0.0001\tP: 0.4430\n",
      "--------------------Test Metrics------------------------\n",
      "mse: 1.0087\n",
      "mae: 0.4233\n",
      "r2: -0.0406\n",
      "\n",
      "[9/100][51/61][Time 24.19]\n",
      "Unified LR across all optimizers: 0.00019454048562865856\n",
      "--------------------Training Metrics--------------------\n",
      "Trainer:  gpt\n",
      "Inf: 0.0001\tGen: 0.2188\tRec: 0.2188\tE: 0.0001\tR: 0.0001\tP: 0.4375\n",
      "--------------------Test Metrics------------------------\n",
      "mse: 1.0234\n",
      "mae: 0.4057\n",
      "r2: -0.0558\n",
      "\n"
     ]
    },
    {
     "data": {
      "application/vnd.jupyter.widget-view+json": {
       "model_id": "35a9956633384019a189817dafbe4edf",
       "version_major": 2,
       "version_minor": 0
      },
      "text/plain": [
       "Iterations:   0%|          | 0/61 [00:00<?, ?it/s]"
      ]
     },
     "metadata": {},
     "output_type": "display_data"
    },
    {
     "name": "stdout",
     "output_type": "stream",
     "text": [
      "[10/100][40/61][Time 24.30]\n",
      "Unified LR across all optimizers: 0.00019409305492778308\n",
      "--------------------Training Metrics--------------------\n",
      "Trainer:  gpt\n",
      "Inf: 0.0001\tGen: 0.2134\tRec: 0.2134\tE: 0.0001\tR: 0.0001\tP: 0.4268\n",
      "--------------------Test Metrics------------------------\n",
      "mse: 0.9843\n",
      "mae: 0.4083\n",
      "r2: -0.0155\n",
      "\n"
     ]
    },
    {
     "data": {
      "application/vnd.jupyter.widget-view+json": {
       "model_id": "e659f9cb4e734a82811a66aee9b329b6",
       "version_major": 2,
       "version_minor": 0
      },
      "text/plain": [
       "Iterations:   0%|          | 0/61 [00:00<?, ?it/s]"
      ]
     },
     "metadata": {},
     "output_type": "display_data"
    },
    {
     "name": "stdout",
     "output_type": "stream",
     "text": [
      "[11/100][29/61][Time 24.40]\n",
      "Unified LR across all optimizers: 0.00019364665328896346\n",
      "--------------------Training Metrics--------------------\n",
      "Trainer:  gpt\n",
      "Inf: 0.0001\tGen: 0.2124\tRec: 0.2124\tE: 0.0001\tR: 0.0001\tP: 0.4248\n",
      "--------------------Test Metrics------------------------\n",
      "mse: 0.9459\n",
      "mae: 0.4230\n",
      "r2: 0.0241\n",
      "\n"
     ]
    },
    {
     "data": {
      "application/vnd.jupyter.widget-view+json": {
       "model_id": "94d3198606a649589fad5417a64f220d",
       "version_major": 2,
       "version_minor": 0
      },
      "text/plain": [
       "Iterations:   0%|          | 0/61 [00:00<?, ?it/s]"
      ]
     },
     "metadata": {},
     "output_type": "display_data"
    },
    {
     "name": "stdout",
     "output_type": "stream",
     "text": [
      "[12/100][18/61][Time 23.27]\n",
      "Unified LR across all optimizers: 0.00019320127834542263\n",
      "--------------------Training Metrics--------------------\n",
      "Trainer:  gpt\n",
      "Inf: 0.0001\tGen: 0.2099\tRec: 0.2099\tE: 0.0001\tR: 0.0001\tP: 0.4197\n",
      "--------------------Test Metrics------------------------\n",
      "mse: 0.9796\n",
      "mae: 0.4250\n",
      "r2: -0.0106\n",
      "\n"
     ]
    },
    {
     "data": {
      "application/vnd.jupyter.widget-view+json": {
       "model_id": "c4efa5b842e345e9b0cc03a4ac7144fe",
       "version_major": 2,
       "version_minor": 0
      },
      "text/plain": [
       "Iterations:   0%|          | 0/61 [00:00<?, ?it/s]"
      ]
     },
     "metadata": {},
     "output_type": "display_data"
    },
    {
     "name": "stdout",
     "output_type": "stream",
     "text": [
      "[13/100][7/61][Time 24.01]\n",
      "Unified LR across all optimizers: 0.00019275692773582703\n",
      "--------------------Training Metrics--------------------\n",
      "Trainer:  gpt\n",
      "Inf: 0.0001\tGen: 0.2061\tRec: 0.2061\tE: 0.0001\tR: 0.0001\tP: 0.4121\n",
      "--------------------Test Metrics------------------------\n",
      "mse: 0.9776\n",
      "mae: 0.4381\n",
      "r2: -0.0085\n",
      "\n",
      "[13/100][57/61][Time 24.30]\n",
      "Unified LR across all optimizers: 0.0001923135991042739\n",
      "--------------------Training Metrics--------------------\n",
      "Trainer:  gpt\n",
      "Inf: 0.0002\tGen: 0.2053\tRec: 0.2054\tE: 0.0001\tR: 0.0002\tP: 0.4106\n",
      "--------------------Test Metrics------------------------\n",
      "mse: 1.1368\n",
      "mae: 0.4359\n",
      "r2: -0.1728\n",
      "\n"
     ]
    },
    {
     "data": {
      "application/vnd.jupyter.widget-view+json": {
       "model_id": "b599220bcefc4a178556ee9f0216efdc",
       "version_major": 2,
       "version_minor": 0
      },
      "text/plain": [
       "Iterations:   0%|          | 0/61 [00:00<?, ?it/s]"
      ]
     },
     "metadata": {},
     "output_type": "display_data"
    },
    {
     "name": "stdout",
     "output_type": "stream",
     "text": [
      "[14/100][46/61][Time 23.35]\n",
      "Unified LR across all optimizers: 0.0001918712901002789\n",
      "--------------------Training Metrics--------------------\n",
      "Trainer:  gpt\n",
      "Inf: 0.0001\tGen: 0.2024\tRec: 0.2024\tE: 0.0001\tR: 0.0001\tP: 0.4048\n",
      "--------------------Test Metrics------------------------\n",
      "mse: 1.0990\n",
      "mae: 0.4072\n",
      "r2: -0.1338\n",
      "\n"
     ]
    },
    {
     "data": {
      "application/vnd.jupyter.widget-view+json": {
       "model_id": "db397bf3adb641bdaff327b1182f65c1",
       "version_major": 2,
       "version_minor": 0
      },
      "text/plain": [
       "Iterations:   0%|          | 0/61 [00:00<?, ?it/s]"
      ]
     },
     "metadata": {},
     "output_type": "display_data"
    },
    {
     "name": "stdout",
     "output_type": "stream",
     "text": [
      "[15/100][35/61][Time 23.63]\n",
      "Unified LR across all optimizers: 0.00019142999837876384\n",
      "--------------------Training Metrics--------------------\n",
      "Trainer:  gpt\n",
      "Inf: 0.0001\tGen: 0.1989\tRec: 0.1989\tE: 0.0001\tR: 0.0001\tP: 0.3977\n",
      "--------------------Test Metrics------------------------\n",
      "mse: 1.0783\n",
      "mae: 0.3985\n",
      "r2: -0.1125\n",
      "\n"
     ]
    },
    {
     "data": {
      "application/vnd.jupyter.widget-view+json": {
       "model_id": "42aa7be1d9444eb295c4cd8a326ef710",
       "version_major": 2,
       "version_minor": 0
      },
      "text/plain": [
       "Iterations:   0%|          | 0/61 [00:00<?, ?it/s]"
      ]
     },
     "metadata": {},
     "output_type": "display_data"
    },
    {
     "name": "stdout",
     "output_type": "stream",
     "text": [
      "[16/100][24/61][Time 24.70]\n",
      "Unified LR across all optimizers: 0.00019098972160004388\n",
      "--------------------Training Metrics--------------------\n",
      "Trainer:  gpt\n",
      "Inf: 0.0001\tGen: 0.1991\tRec: 0.1991\tE: 0.0001\tR: 0.0001\tP: 0.3980\n",
      "--------------------Test Metrics------------------------\n",
      "mse: 1.0931\n",
      "mae: 0.4032\n",
      "r2: -0.1277\n",
      "\n"
     ]
    },
    {
     "data": {
      "application/vnd.jupyter.widget-view+json": {
       "model_id": "aa109fdd22f54a87acea65337d8a7c52",
       "version_major": 2,
       "version_minor": 0
      },
      "text/plain": [
       "Iterations:   0%|          | 0/61 [00:00<?, ?it/s]"
      ]
     },
     "metadata": {},
     "output_type": "display_data"
    },
    {
     "name": "stdout",
     "output_type": "stream",
     "text": [
      "[17/100][13/61][Time 24.48]\n",
      "Unified LR across all optimizers: 0.00019055045742981543\n",
      "--------------------Training Metrics--------------------\n",
      "Trainer:  gpt\n",
      "Inf: 0.0001\tGen: 0.1965\tRec: 0.1965\tE: 0.0001\tR: 0.0001\tP: 0.3929\n",
      "--------------------Test Metrics------------------------\n",
      "mse: 1.0711\n",
      "mae: 0.3986\n",
      "r2: -0.1050\n",
      "\n"
     ]
    },
    {
     "data": {
      "application/vnd.jupyter.widget-view+json": {
       "model_id": "92c580f7ac58483f8c64917bdf2d826b",
       "version_major": 2,
       "version_minor": 0
      },
      "text/plain": [
       "Iterations:   0%|          | 0/61 [00:00<?, ?it/s]"
      ]
     },
     "metadata": {},
     "output_type": "display_data"
    },
    {
     "name": "stdout",
     "output_type": "stream",
     "text": [
      "[18/100][2/61][Time 24.39]\n",
      "Unified LR across all optimizers: 0.00019011220353914353\n",
      "--------------------Training Metrics--------------------\n",
      "Trainer:  gpt\n",
      "Inf: 0.0001\tGen: 0.1942\tRec: 0.1942\tE: 0.0001\tR: 0.0001\tP: 0.3883\n",
      "--------------------Test Metrics------------------------\n",
      "mse: 1.1054\n",
      "mae: 0.4110\n",
      "r2: -0.1404\n",
      "\n",
      "[18/100][52/61][Time 24.32]\n",
      "Unified LR across all optimizers: 0.00018967495760444968\n",
      "--------------------Training Metrics--------------------\n",
      "Trainer:  gpt\n",
      "Inf: 0.0001\tGen: 0.1944\tRec: 0.1944\tE: 0.0001\tR: 0.0001\tP: 0.3886\n",
      "--------------------Test Metrics------------------------\n",
      "mse: 1.0502\n",
      "mae: 0.4175\n",
      "r2: -0.0835\n",
      "\n"
     ]
    },
    {
     "data": {
      "application/vnd.jupyter.widget-view+json": {
       "model_id": "0b4584dabddf4ac7be21ab19bc6e058a",
       "version_major": 2,
       "version_minor": 0
      },
      "text/plain": [
       "Iterations:   0%|          | 0/61 [00:00<?, ?it/s]"
      ]
     },
     "metadata": {},
     "output_type": "display_data"
    },
    {
     "name": "stdout",
     "output_type": "stream",
     "text": [
      "[19/100][41/61][Time 24.43]\n",
      "Unified LR across all optimizers: 0.00018923871730749947\n",
      "--------------------Training Metrics--------------------\n",
      "Trainer:  gpt\n",
      "Inf: 0.0001\tGen: 0.1928\tRec: 0.1928\tE: 0.0001\tR: 0.0001\tP: 0.3855\n",
      "--------------------Test Metrics------------------------\n",
      "mse: 1.0946\n",
      "mae: 0.4015\n",
      "r2: -0.1293\n",
      "\n"
     ]
    },
    {
     "data": {
      "application/vnd.jupyter.widget-view+json": {
       "model_id": "01489b93894646c7be8ae6e3507a7988",
       "version_major": 2,
       "version_minor": 0
      },
      "text/plain": [
       "Iterations:   0%|          | 0/61 [00:00<?, ?it/s]"
      ]
     },
     "metadata": {},
     "output_type": "display_data"
    },
    {
     "name": "stdout",
     "output_type": "stream",
     "text": [
      "[20/100][30/61][Time 24.38]\n",
      "Unified LR across all optimizers: 0.00018880348033539028\n",
      "--------------------Training Metrics--------------------\n",
      "Trainer:  gpt\n",
      "Inf: 0.0001\tGen: 0.1899\tRec: 0.1899\tE: 0.0001\tR: 0.0001\tP: 0.3796\n",
      "--------------------Test Metrics------------------------\n",
      "mse: 1.0959\n",
      "mae: 0.4019\n",
      "r2: -0.1306\n",
      "\n"
     ]
    },
    {
     "data": {
      "application/vnd.jupyter.widget-view+json": {
       "model_id": "5a9abc8e81294e9b9a42298ff53413a8",
       "version_major": 2,
       "version_minor": 0
      },
      "text/plain": [
       "Iterations:   0%|          | 0/61 [00:00<?, ?it/s]"
      ]
     },
     "metadata": {},
     "output_type": "display_data"
    },
    {
     "name": "stdout",
     "output_type": "stream",
     "text": [
      "[21/100][19/61][Time 24.23]\n",
      "Unified LR across all optimizers: 0.00018836924438053897\n",
      "--------------------Training Metrics--------------------\n",
      "Trainer:  gpt\n",
      "Inf: 0.0001\tGen: 0.1884\tRec: 0.1884\tE: 0.0001\tR: 0.0001\tP: 0.3767\n",
      "--------------------Test Metrics------------------------\n",
      "mse: 1.1316\n",
      "mae: 0.4421\n",
      "r2: -0.1675\n",
      "\n"
     ]
    },
    {
     "data": {
      "application/vnd.jupyter.widget-view+json": {
       "model_id": "2d37dad363e04fb9be294d5148d68a5f",
       "version_major": 2,
       "version_minor": 0
      },
      "text/plain": [
       "Iterations:   0%|          | 0/61 [00:00<?, ?it/s]"
      ]
     },
     "metadata": {},
     "output_type": "display_data"
    },
    {
     "name": "stdout",
     "output_type": "stream",
     "text": [
      "[22/100][8/61][Time 24.27]\n",
      "Unified LR across all optimizers: 0.0001879360071406698\n",
      "--------------------Training Metrics--------------------\n",
      "Trainer:  gpt\n",
      "Inf: 0.0001\tGen: 0.1875\tRec: 0.1875\tE: 0.0001\tR: 0.0001\tP: 0.3749\n",
      "--------------------Test Metrics------------------------\n",
      "mse: 1.0849\n",
      "mae: 0.3963\n",
      "r2: -0.1193\n",
      "\n",
      "[22/100][58/61][Time 23.45]\n",
      "Unified LR across all optimizers: 0.000187503766318802\n",
      "--------------------Training Metrics--------------------\n",
      "Trainer:  gpt\n",
      "Inf: 0.0001\tGen: 0.1859\tRec: 0.1859\tE: 0.0001\tR: 0.0001\tP: 0.3717\n",
      "--------------------Test Metrics------------------------\n",
      "mse: 1.1028\n",
      "mae: 0.4100\n",
      "r2: -0.1377\n",
      "\n"
     ]
    },
    {
     "data": {
      "application/vnd.jupyter.widget-view+json": {
       "model_id": "3d46e6e9405e4e7380d6511d3ef9d9a0",
       "version_major": 2,
       "version_minor": 0
      },
      "text/plain": [
       "Iterations:   0%|          | 0/61 [00:00<?, ?it/s]"
      ]
     },
     "metadata": {},
     "output_type": "display_data"
    },
    {
     "name": "stdout",
     "output_type": "stream",
     "text": [
      "[23/100][47/61][Time 23.26]\n",
      "Unified LR across all optimizers: 0.00018707251962323787\n",
      "--------------------Training Metrics--------------------\n",
      "Trainer:  gpt\n",
      "Inf: 0.0002\tGen: 0.1844\tRec: 0.1844\tE: 0.0002\tR: 0.0002\tP: 0.3687\n",
      "--------------------Test Metrics------------------------\n",
      "mse: 1.0866\n",
      "mae: 0.3990\n",
      "r2: -0.1210\n",
      "\n"
     ]
    },
    {
     "data": {
      "application/vnd.jupyter.widget-view+json": {
       "model_id": "1c5e1ba12ab4441488c66822fb8f6a89",
       "version_major": 2,
       "version_minor": 0
      },
      "text/plain": [
       "Iterations:   0%|          | 0/61 [00:00<?, ?it/s]"
      ]
     },
     "metadata": {},
     "output_type": "display_data"
    },
    {
     "name": "stdout",
     "output_type": "stream",
     "text": [
      "[24/100][36/61][Time 23.22]\n",
      "Unified LR across all optimizers: 0.0001866422647675502\n",
      "--------------------Training Metrics--------------------\n",
      "Trainer:  gpt\n",
      "Inf: 0.0002\tGen: 0.1842\tRec: 0.1842\tE: 0.0002\tR: 0.0002\tP: 0.3683\n",
      "--------------------Test Metrics------------------------\n",
      "mse: 1.0403\n",
      "mae: 0.4153\n",
      "r2: -0.0733\n",
      "\n"
     ]
    },
    {
     "data": {
      "application/vnd.jupyter.widget-view+json": {
       "model_id": "cf1d4141264540418400d88509f3e53b",
       "version_major": 2,
       "version_minor": 0
      },
      "text/plain": [
       "Iterations:   0%|          | 0/61 [00:00<?, ?it/s]"
      ]
     },
     "metadata": {},
     "output_type": "display_data"
    },
    {
     "name": "stdout",
     "output_type": "stream",
     "text": [
      "[25/100][25/61][Time 23.23]\n",
      "Unified LR across all optimizers: 0.00018621299947057073\n",
      "--------------------Training Metrics--------------------\n",
      "Trainer:  gpt\n",
      "Inf: 0.0002\tGen: 0.1849\tRec: 0.1849\tE: 0.0002\tR: 0.0002\tP: 0.3696\n",
      "--------------------Test Metrics------------------------\n",
      "mse: 1.0755\n",
      "mae: 0.3984\n",
      "r2: -0.1096\n",
      "\n"
     ]
    },
    {
     "data": {
      "application/vnd.jupyter.widget-view+json": {
       "model_id": "74b8bcb0fd604183aab21ea86785b862",
       "version_major": 2,
       "version_minor": 0
      },
      "text/plain": [
       "Iterations:   0%|          | 0/61 [00:00<?, ?it/s]"
      ]
     },
     "metadata": {},
     "output_type": "display_data"
    },
    {
     "name": "stdout",
     "output_type": "stream",
     "text": [
      "[26/100][14/61][Time 23.22]\n",
      "Unified LR across all optimizers: 0.00018578472145637737\n",
      "--------------------Training Metrics--------------------\n",
      "Trainer:  gpt\n",
      "Inf: 0.0002\tGen: 0.1821\tRec: 0.1821\tE: 0.0002\tR: 0.0002\tP: 0.3641\n",
      "--------------------Test Metrics------------------------\n",
      "mse: 1.0153\n",
      "mae: 0.4341\n",
      "r2: -0.0474\n",
      "\n"
     ]
    },
    {
     "data": {
      "application/vnd.jupyter.widget-view+json": {
       "model_id": "be90459fe60b4ca9836fc475175f73d4",
       "version_major": 2,
       "version_minor": 0
      },
      "text/plain": [
       "Iterations:   0%|          | 0/61 [00:00<?, ?it/s]"
      ]
     },
     "metadata": {},
     "output_type": "display_data"
    },
    {
     "name": "stdout",
     "output_type": "stream",
     "text": [
      "[27/100][3/61][Time 24.87]\n",
      "Unified LR across all optimizers: 0.00018535742845428288\n",
      "--------------------Training Metrics--------------------\n",
      "Trainer:  gpt\n",
      "Inf: 0.0002\tGen: 0.1813\tRec: 0.1813\tE: 0.0002\tR: 0.0002\tP: 0.3625\n",
      "--------------------Test Metrics------------------------\n",
      "mse: 1.0745\n",
      "mae: 0.4027\n",
      "r2: -0.1085\n",
      "\n",
      "[27/100][53/61][Time 24.27]\n",
      "Unified LR across all optimizers: 0.00018493111819882223\n",
      "--------------------Training Metrics--------------------\n",
      "Trainer:  gpt\n",
      "Inf: 0.0002\tGen: 0.1803\tRec: 0.1803\tE: 0.0002\tR: 0.0002\tP: 0.3604\n",
      "--------------------Test Metrics------------------------\n",
      "mse: 1.0939\n",
      "mae: 0.4224\n",
      "r2: -0.1286\n",
      "\n"
     ]
    },
    {
     "data": {
      "application/vnd.jupyter.widget-view+json": {
       "model_id": "e121fd4cd48e4998be9e78bcd68b2ecf",
       "version_major": 2,
       "version_minor": 0
      },
      "text/plain": [
       "Iterations:   0%|          | 0/61 [00:00<?, ?it/s]"
      ]
     },
     "metadata": {},
     "output_type": "display_data"
    },
    {
     "name": "stdout",
     "output_type": "stream",
     "text": [
      "[28/100][42/61][Time 24.36]\n",
      "Unified LR across all optimizers: 0.00018450578842974107\n",
      "--------------------Training Metrics--------------------\n",
      "Trainer:  gpt\n",
      "Inf: 0.0002\tGen: 0.1791\tRec: 0.1791\tE: 0.0002\tR: 0.0002\tP: 0.3580\n",
      "--------------------Test Metrics------------------------\n",
      "mse: 1.0679\n",
      "mae: 0.3958\n",
      "r2: -0.1017\n",
      "\n"
     ]
    },
    {
     "data": {
      "application/vnd.jupyter.widget-view+json": {
       "model_id": "3bc2e8a497d6413da30020456a3f97a3",
       "version_major": 2,
       "version_minor": 0
      },
      "text/plain": [
       "Iterations:   0%|          | 0/61 [00:00<?, ?it/s]"
      ]
     },
     "metadata": {},
     "output_type": "display_data"
    },
    {
     "name": "stdout",
     "output_type": "stream",
     "text": [
      "[29/100][31/61][Time 24.44]\n",
      "Unified LR across all optimizers: 0.00018408143689198318\n",
      "--------------------Training Metrics--------------------\n",
      "Trainer:  gpt\n",
      "Inf: 0.0002\tGen: 0.1792\tRec: 0.1792\tE: 0.0002\tR: 0.0002\tP: 0.3582\n",
      "--------------------Test Metrics------------------------\n",
      "mse: 0.9499\n",
      "mae: 0.3990\n",
      "r2: 0.0200\n",
      "\n"
     ]
    },
    {
     "data": {
      "application/vnd.jupyter.widget-view+json": {
       "model_id": "e169676e0b63446eab6a137e1088204d",
       "version_major": 2,
       "version_minor": 0
      },
      "text/plain": [
       "Iterations:   0%|          | 0/61 [00:00<?, ?it/s]"
      ]
     },
     "metadata": {},
     "output_type": "display_data"
    },
    {
     "name": "stdout",
     "output_type": "stream",
     "text": [
      "[30/100][20/61][Time 24.43]\n",
      "Unified LR across all optimizers: 0.0001836580613356789\n",
      "--------------------Training Metrics--------------------\n",
      "Trainer:  gpt\n",
      "Inf: 0.0002\tGen: 0.1783\tRec: 0.1783\tE: 0.0002\tR: 0.0002\tP: 0.3563\n",
      "--------------------Test Metrics------------------------\n",
      "mse: 0.5849\n",
      "mae: 0.3493\n",
      "r2: 0.3966\n",
      "\n"
     ]
    },
    {
     "data": {
      "application/vnd.jupyter.widget-view+json": {
       "model_id": "b08a3da3f5c34181a82aa2fcc84352ca",
       "version_major": 2,
       "version_minor": 0
      },
      "text/plain": [
       "Iterations:   0%|          | 0/61 [00:00<?, ?it/s]"
      ]
     },
     "metadata": {},
     "output_type": "display_data"
    },
    {
     "name": "stdout",
     "output_type": "stream",
     "text": [
      "[31/100][9/61][Time 24.52]\n",
      "Unified LR across all optimizers: 0.0001832356595161332\n",
      "--------------------Training Metrics--------------------\n",
      "Trainer:  gpt\n",
      "Inf: 0.0002\tGen: 0.1771\tRec: 0.1771\tE: 0.0002\tR: 0.0002\tP: 0.3540\n",
      "--------------------Test Metrics------------------------\n",
      "mse: 0.9309\n",
      "mae: 0.4390\n",
      "r2: 0.0396\n",
      "\n",
      "[31/100][59/61][Time 24.54]\n",
      "Unified LR across all optimizers: 0.00018281422919381367\n",
      "--------------------Training Metrics--------------------\n",
      "Trainer:  gpt\n",
      "Inf: 0.0002\tGen: 0.1756\tRec: 0.1756\tE: 0.0002\tR: 0.0002\tP: 0.3510\n",
      "--------------------Test Metrics------------------------\n",
      "mse: 0.5770\n",
      "mae: 0.3259\n",
      "r2: 0.4047\n",
      "\n"
     ]
    },
    {
     "data": {
      "application/vnd.jupyter.widget-view+json": {
       "model_id": "17526fbbb5cb4ee78cc4d2bc25377860",
       "version_major": 2,
       "version_minor": 0
      },
      "text/plain": [
       "Iterations:   0%|          | 0/61 [00:00<?, ?it/s]"
      ]
     },
     "metadata": {},
     "output_type": "display_data"
    },
    {
     "name": "stdout",
     "output_type": "stream",
     "text": [
      "[32/100][48/61][Time 23.96]\n",
      "Unified LR across all optimizers: 0.00018239376813433867\n",
      "--------------------Training Metrics--------------------\n",
      "Trainer:  gpt\n",
      "Inf: 0.0002\tGen: 0.1743\tRec: 0.1743\tE: 0.0002\tR: 0.0002\tP: 0.3485\n",
      "--------------------Test Metrics------------------------\n",
      "mse: 0.5437\n",
      "mae: 0.3384\n",
      "r2: 0.4391\n",
      "\n"
     ]
    },
    {
     "data": {
      "application/vnd.jupyter.widget-view+json": {
       "model_id": "8ee0d5f08df64d62a3ca3e0639319503",
       "version_major": 2,
       "version_minor": 0
      },
      "text/plain": [
       "Iterations:   0%|          | 0/61 [00:00<?, ?it/s]"
      ]
     },
     "metadata": {},
     "output_type": "display_data"
    },
    {
     "name": "stdout",
     "output_type": "stream",
     "text": [
      "[33/100][37/61][Time 24.58]\n",
      "Unified LR across all optimizers: 0.00018197427410846564\n",
      "--------------------Training Metrics--------------------\n",
      "Trainer:  gpt\n",
      "Inf: 0.0002\tGen: 0.1739\tRec: 0.1739\tE: 0.0002\tR: 0.0002\tP: 0.3476\n",
      "--------------------Test Metrics------------------------\n",
      "mse: 0.9875\n",
      "mae: 0.3755\n",
      "r2: -0.0188\n",
      "\n"
     ]
    },
    {
     "data": {
      "application/vnd.jupyter.widget-view+json": {
       "model_id": "0495a25001f34b0d9640dff7c660e66c",
       "version_major": 2,
       "version_minor": 0
      },
      "text/plain": [
       "Iterations:   0%|          | 0/61 [00:00<?, ?it/s]"
      ]
     },
     "metadata": {},
     "output_type": "display_data"
    },
    {
     "name": "stdout",
     "output_type": "stream",
     "text": [
      "[34/100][26/61][Time 23.40]\n",
      "Unified LR across all optimizers: 0.00018155574489207887\n",
      "--------------------Training Metrics--------------------\n",
      "Trainer:  gpt\n",
      "Inf: 0.0002\tGen: 0.1738\tRec: 0.1738\tE: 0.0002\tR: 0.0002\tP: 0.3474\n",
      "--------------------Test Metrics------------------------\n",
      "mse: 0.7121\n",
      "mae: 0.3568\n",
      "r2: 0.2654\n",
      "\n"
     ]
    },
    {
     "data": {
      "application/vnd.jupyter.widget-view+json": {
       "model_id": "aae6757e171844b0bf626b538cfef079",
       "version_major": 2,
       "version_minor": 0
      },
      "text/plain": [
       "Iterations:   0%|          | 0/61 [00:00<?, ?it/s]"
      ]
     },
     "metadata": {},
     "output_type": "display_data"
    },
    {
     "name": "stdout",
     "output_type": "stream",
     "text": [
      "[35/100][15/61][Time 23.27]\n",
      "Unified LR across all optimizers: 0.00018113817826617823\n",
      "--------------------Training Metrics--------------------\n",
      "Trainer:  gpt\n",
      "Inf: 0.0002\tGen: 0.1731\tRec: 0.1731\tE: 0.0002\tR: 0.0002\tP: 0.3461\n",
      "--------------------Test Metrics------------------------\n",
      "mse: 0.5233\n",
      "mae: 0.3460\n",
      "r2: 0.4601\n",
      "\n"
     ]
    },
    {
     "data": {
      "application/vnd.jupyter.widget-view+json": {
       "model_id": "ff933dd2f3a147278cb4395d3c4eece5",
       "version_major": 2,
       "version_minor": 0
      },
      "text/plain": [
       "Iterations:   0%|          | 0/61 [00:00<?, ?it/s]"
      ]
     },
     "metadata": {},
     "output_type": "display_data"
    },
    {
     "name": "stdout",
     "output_type": "stream",
     "text": [
      "[36/100][4/61][Time 23.28]\n",
      "Unified LR across all optimizers: 0.00018072157201686696\n",
      "--------------------Training Metrics--------------------\n",
      "Trainer:  gpt\n",
      "Inf: 0.0002\tGen: 0.1717\tRec: 0.1717\tE: 0.0002\tR: 0.0002\tP: 0.3432\n",
      "--------------------Test Metrics------------------------\n",
      "mse: 0.7507\n",
      "mae: 0.3251\n",
      "r2: 0.2255\n",
      "\n",
      "[36/100][54/61][Time 23.27]\n",
      "Unified LR across all optimizers: 0.00018030592393534033\n",
      "--------------------Training Metrics--------------------\n",
      "Trainer:  gpt\n",
      "Inf: 0.0002\tGen: 0.1714\tRec: 0.1714\tE: 0.0002\tR: 0.0002\tP: 0.3426\n",
      "--------------------Test Metrics------------------------\n",
      "mse: 0.6427\n",
      "mae: 0.3126\n",
      "r2: 0.3370\n",
      "\n"
     ]
    },
    {
     "data": {
      "application/vnd.jupyter.widget-view+json": {
       "model_id": "7b6b20292db64cec8ea69ba5475edb72",
       "version_major": 2,
       "version_minor": 0
      },
      "text/plain": [
       "Iterations:   0%|          | 0/61 [00:00<?, ?it/s]"
      ]
     },
     "metadata": {},
     "output_type": "display_data"
    },
    {
     "name": "stdout",
     "output_type": "stream",
     "text": [
      "[37/100][43/61][Time 23.27]\n",
      "Unified LR across all optimizers: 0.0001798912318178735\n",
      "--------------------Training Metrics--------------------\n",
      "Trainer:  gpt\n",
      "Inf: 0.0001\tGen: 0.1697\tRec: 0.1697\tE: 0.0001\tR: 0.0001\tP: 0.3393\n",
      "--------------------Test Metrics------------------------\n",
      "mse: 0.6016\n",
      "mae: 0.2990\n",
      "r2: 0.3793\n",
      "\n"
     ]
    },
    {
     "data": {
      "application/vnd.jupyter.widget-view+json": {
       "model_id": "bbcf3c7780404feca7bd0c1ea23581da",
       "version_major": 2,
       "version_minor": 0
      },
      "text/plain": [
       "Iterations:   0%|          | 0/61 [00:00<?, ?it/s]"
      ]
     },
     "metadata": {},
     "output_type": "display_data"
    },
    {
     "name": "stdout",
     "output_type": "stream",
     "text": [
      "[38/100][32/61][Time 23.28]\n",
      "Unified LR across all optimizers: 0.00017947749346581006\n",
      "--------------------Training Metrics--------------------\n",
      "Trainer:  gpt\n",
      "Inf: 0.0002\tGen: 0.1700\tRec: 0.1700\tE: 0.0002\tR: 0.0002\tP: 0.3398\n",
      "--------------------Test Metrics------------------------\n",
      "mse: 0.6419\n",
      "mae: 0.2949\n",
      "r2: 0.3378\n",
      "\n"
     ]
    },
    {
     "data": {
      "application/vnd.jupyter.widget-view+json": {
       "model_id": "7a1db9f7d2a245b8b9c4ce427d8265e0",
       "version_major": 2,
       "version_minor": 0
      },
      "text/plain": [
       "Iterations:   0%|          | 0/61 [00:00<?, ?it/s]"
      ]
     },
     "metadata": {},
     "output_type": "display_data"
    },
    {
     "name": "stdout",
     "output_type": "stream",
     "text": [
      "[39/100][21/61][Time 23.23]\n",
      "Unified LR across all optimizers: 0.0001790647066855505\n",
      "--------------------Training Metrics--------------------\n",
      "Trainer:  gpt\n",
      "Inf: 0.0002\tGen: 0.1678\tRec: 0.1678\tE: 0.0002\tR: 0.0002\tP: 0.3355\n",
      "--------------------Test Metrics------------------------\n",
      "mse: 0.6860\n",
      "mae: 0.3131\n",
      "r2: 0.2923\n",
      "\n"
     ]
    },
    {
     "data": {
      "application/vnd.jupyter.widget-view+json": {
       "model_id": "8d8be5d035e9455c8bbd8eec85f0302b",
       "version_major": 2,
       "version_minor": 0
      },
      "text/plain": [
       "Iterations:   0%|          | 0/61 [00:00<?, ?it/s]"
      ]
     },
     "metadata": {},
     "output_type": "display_data"
    },
    {
     "name": "stdout",
     "output_type": "stream",
     "text": [
      "[40/100][10/61][Time 23.30]\n",
      "Unified LR across all optimizers: 0.00017865286928854052\n",
      "--------------------Training Metrics--------------------\n",
      "Trainer:  gpt\n",
      "Inf: 0.0002\tGen: 0.1684\tRec: 0.1684\tE: 0.0002\tR: 0.0002\tP: 0.3366\n",
      "--------------------Test Metrics------------------------\n",
      "mse: 0.5873\n",
      "mae: 0.2999\n",
      "r2: 0.3941\n",
      "\n",
      "[40/100][60/61][Time 23.22]\n",
      "Unified LR across all optimizers: 0.00017824197909125899\n",
      "--------------------Training Metrics--------------------\n",
      "Trainer:  gpt\n",
      "Inf: 0.0002\tGen: 0.1701\tRec: 0.1701\tE: 0.0002\tR: 0.0002\tP: 0.3400\n",
      "--------------------Test Metrics------------------------\n",
      "mse: 0.7069\n",
      "mae: 0.3099\n",
      "r2: 0.2707\n",
      "\n"
     ]
    },
    {
     "data": {
      "application/vnd.jupyter.widget-view+json": {
       "model_id": "ed2c88a920f54eeea05969be293ec0d7",
       "version_major": 2,
       "version_minor": 0
      },
      "text/plain": [
       "Iterations:   0%|          | 0/61 [00:00<?, ?it/s]"
      ]
     },
     "metadata": {},
     "output_type": "display_data"
    },
    {
     "name": "stdout",
     "output_type": "stream",
     "text": [
      "[41/100][49/61][Time 23.20]\n",
      "Unified LR across all optimizers: 0.00017783203391520723\n",
      "--------------------Training Metrics--------------------\n",
      "Trainer:  gpt\n",
      "Inf: 0.0002\tGen: 0.1660\tRec: 0.1660\tE: 0.0002\tR: 0.0002\tP: 0.3319\n",
      "--------------------Test Metrics------------------------\n",
      "mse: 0.6593\n",
      "mae: 0.3017\n",
      "r2: 0.3198\n",
      "\n"
     ]
    },
    {
     "data": {
      "application/vnd.jupyter.widget-view+json": {
       "model_id": "1e25249b705741789e0600321c972877",
       "version_major": 2,
       "version_minor": 0
      },
      "text/plain": [
       "Iterations:   0%|          | 0/61 [00:00<?, ?it/s]"
      ]
     },
     "metadata": {},
     "output_type": "display_data"
    },
    {
     "name": "stdout",
     "output_type": "stream",
     "text": [
      "[42/100][38/61][Time 23.28]\n",
      "Unified LR across all optimizers: 0.00017742303158689668\n",
      "--------------------Training Metrics--------------------\n",
      "Trainer:  gpt\n",
      "Inf: 0.0001\tGen: 0.1669\tRec: 0.1669\tE: 0.0001\tR: 0.0001\tP: 0.3336\n",
      "--------------------Test Metrics------------------------\n",
      "mse: 0.6093\n",
      "mae: 0.2927\n",
      "r2: 0.3714\n",
      "\n"
     ]
    },
    {
     "data": {
      "application/vnd.jupyter.widget-view+json": {
       "model_id": "14591b0f1c184586a634c18169773767",
       "version_major": 2,
       "version_minor": 0
      },
      "text/plain": [
       "Iterations:   0%|          | 0/61 [00:00<?, ?it/s]"
      ]
     },
     "metadata": {},
     "output_type": "display_data"
    },
    {
     "name": "stdout",
     "output_type": "stream",
     "text": [
      "[43/100][27/61][Time 23.25]\n",
      "Unified LR across all optimizers: 0.00017701496993783762\n",
      "--------------------Training Metrics--------------------\n",
      "Trainer:  gpt\n",
      "Inf: 0.0001\tGen: 0.1653\tRec: 0.1653\tE: 0.0001\tR: 0.0001\tP: 0.3305\n",
      "--------------------Test Metrics------------------------\n",
      "mse: 0.6543\n",
      "mae: 0.3006\n",
      "r2: 0.3250\n",
      "\n"
     ]
    },
    {
     "data": {
      "application/vnd.jupyter.widget-view+json": {
       "model_id": "2f1202b294294fa09dbe227d5374d3e1",
       "version_major": 2,
       "version_minor": 0
      },
      "text/plain": [
       "Iterations:   0%|          | 0/61 [00:00<?, ?it/s]"
      ]
     },
     "metadata": {},
     "output_type": "display_data"
    },
    {
     "name": "stdout",
     "output_type": "stream",
     "text": [
      "[44/100][16/61][Time 23.29]\n",
      "Unified LR across all optimizers: 0.00017660784680452796\n",
      "--------------------Training Metrics--------------------\n",
      "Trainer:  gpt\n",
      "Inf: 0.0001\tGen: 0.1657\tRec: 0.1657\tE: 0.0001\tR: 0.0001\tP: 0.3312\n",
      "--------------------Test Metrics------------------------\n",
      "mse: 0.5841\n",
      "mae: 0.2916\n",
      "r2: 0.3974\n",
      "\n"
     ]
    },
    {
     "data": {
      "application/vnd.jupyter.widget-view+json": {
       "model_id": "cc4bd76f6a274e1590cb7f0212ef8d41",
       "version_major": 2,
       "version_minor": 0
      },
      "text/plain": [
       "Iterations:   0%|          | 0/61 [00:00<?, ?it/s]"
      ]
     },
     "metadata": {},
     "output_type": "display_data"
    },
    {
     "name": "stdout",
     "output_type": "stream",
     "text": [
      "[45/100][5/61][Time 23.28]\n",
      "Unified LR across all optimizers: 0.0001762016600284412\n",
      "--------------------Training Metrics--------------------\n",
      "Trainer:  gpt\n",
      "Inf: 0.0001\tGen: 0.1653\tRec: 0.1653\tE: 0.0001\tR: 0.0001\tP: 0.3305\n",
      "--------------------Test Metrics------------------------\n",
      "mse: 0.6241\n",
      "mae: 0.3253\n",
      "r2: 0.3561\n",
      "\n",
      "[45/100][55/61][Time 23.20]\n",
      "Unified LR across all optimizers: 0.00017579640745601563\n",
      "--------------------Training Metrics--------------------\n",
      "Trainer:  gpt\n",
      "Inf: 0.0001\tGen: 0.1644\tRec: 0.1644\tE: 0.0001\tR: 0.0001\tP: 0.3287\n",
      "--------------------Test Metrics------------------------\n",
      "mse: 0.6629\n",
      "mae: 0.3179\n",
      "r2: 0.3161\n",
      "\n"
     ]
    },
    {
     "data": {
      "application/vnd.jupyter.widget-view+json": {
       "model_id": "24196e96b5c747069ddf0e5e2d1a8fb2",
       "version_major": 2,
       "version_minor": 0
      },
      "text/plain": [
       "Iterations:   0%|          | 0/61 [00:00<?, ?it/s]"
      ]
     },
     "metadata": {},
     "output_type": "display_data"
    },
    {
     "name": "stdout",
     "output_type": "stream",
     "text": [
      "[46/100][44/61][Time 23.22]\n",
      "Unified LR across all optimizers: 0.0001753920869386423\n",
      "--------------------Training Metrics--------------------\n",
      "Trainer:  gpt\n",
      "Inf: 0.0001\tGen: 0.1634\tRec: 0.1634\tE: 0.0001\tR: 0.0001\tP: 0.3267\n",
      "--------------------Test Metrics------------------------\n",
      "mse: 0.6832\n",
      "mae: 0.3211\n",
      "r2: 0.2951\n",
      "\n"
     ]
    },
    {
     "data": {
      "application/vnd.jupyter.widget-view+json": {
       "model_id": "e443534284e044f4848c643e5d97a36f",
       "version_major": 2,
       "version_minor": 0
      },
      "text/plain": [
       "Iterations:   0%|          | 0/61 [00:00<?, ?it/s]"
      ]
     },
     "metadata": {},
     "output_type": "display_data"
    },
    {
     "name": "stdout",
     "output_type": "stream",
     "text": [
      "[47/100][33/61][Time 23.27]\n",
      "Unified LR across all optimizers: 0.0001749886963326542\n",
      "--------------------Training Metrics--------------------\n",
      "Trainer:  gpt\n",
      "Inf: 0.0001\tGen: 0.1628\tRec: 0.1628\tE: 0.0001\tR: 0.0001\tP: 0.3255\n",
      "--------------------Test Metrics------------------------\n",
      "mse: 0.7026\n",
      "mae: 0.3285\n",
      "r2: 0.2752\n",
      "\n"
     ]
    },
    {
     "data": {
      "application/vnd.jupyter.widget-view+json": {
       "model_id": "bb51d6864da44d7e93081b616ce009bc",
       "version_major": 2,
       "version_minor": 0
      },
      "text/plain": [
       "Iterations:   0%|          | 0/61 [00:00<?, ?it/s]"
      ]
     },
     "metadata": {},
     "output_type": "display_data"
    },
    {
     "name": "stdout",
     "output_type": "stream",
     "text": [
      "[48/100][22/61][Time 23.21]\n",
      "Unified LR across all optimizers: 0.0001745862334993144\n",
      "--------------------Training Metrics--------------------\n",
      "Trainer:  gpt\n",
      "Inf: 0.0001\tGen: 0.1642\tRec: 0.1642\tE: 0.0001\tR: 0.0001\tP: 0.3283\n",
      "--------------------Test Metrics------------------------\n",
      "mse: 0.6243\n",
      "mae: 0.2991\n",
      "r2: 0.3559\n",
      "\n"
     ]
    },
    {
     "data": {
      "application/vnd.jupyter.widget-view+json": {
       "model_id": "0e8722888dd1448cbde945c3c9d08f79",
       "version_major": 2,
       "version_minor": 0
      },
      "text/plain": [
       "Iterations:   0%|          | 0/61 [00:00<?, ?it/s]"
      ]
     },
     "metadata": {},
     "output_type": "display_data"
    },
    {
     "name": "stdout",
     "output_type": "stream",
     "text": [
      "[49/100][11/61][Time 23.28]\n",
      "Unified LR across all optimizers: 0.00017418469630480507\n",
      "--------------------Training Metrics--------------------\n",
      "Trainer:  gpt\n",
      "Inf: 0.0001\tGen: 0.1635\tRec: 0.1635\tE: 0.0001\tR: 0.0001\tP: 0.3269\n",
      "--------------------Test Metrics------------------------\n",
      "mse: 0.5544\n",
      "mae: 0.2776\n",
      "r2: 0.4280\n",
      "\n"
     ]
    },
    {
     "data": {
      "application/vnd.jupyter.widget-view+json": {
       "model_id": "dffe45abe9a846f992c88816b8d037e9",
       "version_major": 2,
       "version_minor": 0
      },
      "text/plain": [
       "Iterations:   0%|          | 0/61 [00:00<?, ?it/s]"
      ]
     },
     "metadata": {},
     "output_type": "display_data"
    },
    {
     "name": "stdout",
     "output_type": "stream",
     "text": [
      "[50/100][0/61][Time 23.28]\n",
      "Unified LR across all optimizers: 0.00017378408262021616\n",
      "--------------------Training Metrics--------------------\n",
      "Trainer:  gpt\n",
      "Inf: 0.0001\tGen: 0.1626\tRec: 0.1626\tE: 0.0001\tR: 0.0001\tP: 0.3251\n",
      "--------------------Test Metrics------------------------\n",
      "mse: 0.6168\n",
      "mae: 0.3055\n",
      "r2: 0.3636\n",
      "\n",
      "[50/100][50/61][Time 23.26]\n",
      "Unified LR across all optimizers: 0.00017338439032153356\n",
      "--------------------Training Metrics--------------------\n",
      "Trainer:  gpt\n",
      "Inf: 0.0001\tGen: 0.1609\tRec: 0.1609\tE: 0.0001\tR: 0.0001\tP: 0.3216\n",
      "--------------------Test Metrics------------------------\n",
      "mse: 0.5564\n",
      "mae: 0.3117\n",
      "r2: 0.4260\n",
      "\n"
     ]
    },
    {
     "data": {
      "application/vnd.jupyter.widget-view+json": {
       "model_id": "db5148eddb334c0e903204259125c889",
       "version_major": 2,
       "version_minor": 0
      },
      "text/plain": [
       "Iterations:   0%|          | 0/61 [00:00<?, ?it/s]"
      ]
     },
     "metadata": {},
     "output_type": "display_data"
    },
    {
     "name": "stdout",
     "output_type": "stream",
     "text": [
      "[51/100][39/61][Time 23.30]\n",
      "Unified LR across all optimizers: 0.00017298561728962847\n",
      "--------------------Training Metrics--------------------\n",
      "Trainer:  gpt\n",
      "Inf: 0.0001\tGen: 0.1613\tRec: 0.1613\tE: 0.0001\tR: 0.0001\tP: 0.3225\n",
      "--------------------Test Metrics------------------------\n",
      "mse: 0.5384\n",
      "mae: 0.2858\n",
      "r2: 0.4446\n",
      "\n"
     ]
    },
    {
     "data": {
      "application/vnd.jupyter.widget-view+json": {
       "model_id": "63f04af13a9b4bfc9ce18e399dde1003",
       "version_major": 2,
       "version_minor": 0
      },
      "text/plain": [
       "Iterations:   0%|          | 0/61 [00:00<?, ?it/s]"
      ]
     },
     "metadata": {},
     "output_type": "display_data"
    },
    {
     "name": "stdout",
     "output_type": "stream",
     "text": [
      "[52/100][28/61][Time 23.29]\n",
      "Unified LR across all optimizers: 0.00017258776141024598\n",
      "--------------------Training Metrics--------------------\n",
      "Trainer:  gpt\n",
      "Inf: 0.0001\tGen: 0.1602\tRec: 0.1602\tE: 0.0001\tR: 0.0001\tP: 0.3202\n",
      "--------------------Test Metrics------------------------\n",
      "mse: 0.5983\n",
      "mae: 0.2893\n",
      "r2: 0.3827\n",
      "\n"
     ]
    },
    {
     "data": {
      "application/vnd.jupyter.widget-view+json": {
       "model_id": "0c3fc47819bc459983632f704df1ca68",
       "version_major": 2,
       "version_minor": 0
      },
      "text/plain": [
       "Iterations:   0%|          | 0/61 [00:00<?, ?it/s]"
      ]
     },
     "metadata": {},
     "output_type": "display_data"
    },
    {
     "name": "stdout",
     "output_type": "stream",
     "text": [
      "[53/100][17/61][Time 23.22]\n",
      "Unified LR across all optimizers: 0.00017219082057399394\n",
      "--------------------Training Metrics--------------------\n",
      "Trainer:  gpt\n",
      "Inf: 0.0001\tGen: 0.1609\tRec: 0.1609\tE: 0.0001\tR: 0.0001\tP: 0.3216\n",
      "--------------------Test Metrics------------------------\n",
      "mse: 0.5632\n",
      "mae: 0.2839\n",
      "r2: 0.4190\n",
      "\n"
     ]
    },
    {
     "data": {
      "application/vnd.jupyter.widget-view+json": {
       "model_id": "95f49df70c7845e39e4a841d8a19245a",
       "version_major": 2,
       "version_minor": 0
      },
      "text/plain": [
       "Iterations:   0%|          | 0/61 [00:00<?, ?it/s]"
      ]
     },
     "metadata": {},
     "output_type": "display_data"
    },
    {
     "name": "stdout",
     "output_type": "stream",
     "text": [
      "[54/100][6/61][Time 23.22]\n",
      "Unified LR across all optimizers: 0.00017179479267633146\n",
      "--------------------Training Metrics--------------------\n",
      "Trainer:  gpt\n",
      "Inf: 0.0001\tGen: 0.1601\tRec: 0.1601\tE: 0.0001\tR: 0.0001\tP: 0.3201\n",
      "--------------------Test Metrics------------------------\n",
      "mse: 0.6047\n",
      "mae: 0.3277\n",
      "r2: 0.3761\n",
      "\n",
      "[54/100][56/61][Time 23.22]\n",
      "Unified LR across all optimizers: 0.00017139967561755819\n",
      "--------------------Training Metrics--------------------\n",
      "Trainer:  gpt\n",
      "Inf: 0.0001\tGen: 0.1588\tRec: 0.1588\tE: 0.0001\tR: 0.0001\tP: 0.3175\n",
      "--------------------Test Metrics------------------------\n",
      "mse: 0.5299\n",
      "mae: 0.2855\n",
      "r2: 0.4534\n",
      "\n"
     ]
    },
    {
     "data": {
      "application/vnd.jupyter.widget-view+json": {
       "model_id": "0544a7cc386b4f1291c4576d62e17972",
       "version_major": 2,
       "version_minor": 0
      },
      "text/plain": [
       "Iterations:   0%|          | 0/61 [00:00<?, ?it/s]"
      ]
     },
     "metadata": {},
     "output_type": "display_data"
    },
    {
     "name": "stdout",
     "output_type": "stream",
     "text": [
      "[55/100][45/61][Time 23.28]\n",
      "Unified LR across all optimizers: 0.00017100546730280274\n",
      "--------------------Training Metrics--------------------\n",
      "Trainer:  gpt\n",
      "Inf: 0.0001\tGen: 0.1586\tRec: 0.1586\tE: 0.0001\tR: 0.0001\tP: 0.3171\n",
      "--------------------Test Metrics------------------------\n",
      "mse: 0.5849\n",
      "mae: 0.3040\n",
      "r2: 0.3966\n",
      "\n"
     ]
    },
    {
     "data": {
      "application/vnd.jupyter.widget-view+json": {
       "model_id": "5a58c7f3b27d4bcfaf301cc512cd9163",
       "version_major": 2,
       "version_minor": 0
      },
      "text/plain": [
       "Iterations:   0%|          | 0/61 [00:00<?, ?it/s]"
      ]
     },
     "metadata": {},
     "output_type": "display_data"
    },
    {
     "name": "stdout",
     "output_type": "stream",
     "text": [
      "[56/100][34/61][Time 23.24]\n",
      "Unified LR across all optimizers: 0.00017061216564201177\n",
      "--------------------Training Metrics--------------------\n",
      "Trainer:  gpt\n",
      "Inf: 0.0001\tGen: 0.1592\tRec: 0.1592\tE: 0.0001\tR: 0.0001\tP: 0.3184\n",
      "--------------------Test Metrics------------------------\n",
      "mse: 0.5012\n",
      "mae: 0.2851\n",
      "r2: 0.4829\n",
      "\n"
     ]
    },
    {
     "data": {
      "application/vnd.jupyter.widget-view+json": {
       "model_id": "82f6819719c04b0e9a1a36e6c752ce03",
       "version_major": 2,
       "version_minor": 0
      },
      "text/plain": [
       "Iterations:   0%|          | 0/61 [00:00<?, ?it/s]"
      ]
     },
     "metadata": {},
     "output_type": "display_data"
    },
    {
     "name": "stdout",
     "output_type": "stream",
     "text": [
      "[57/100][23/61][Time 23.22]\n",
      "Unified LR across all optimizers: 0.0001702197685499392\n",
      "--------------------Training Metrics--------------------\n",
      "Trainer:  gpt\n",
      "Inf: 0.0001\tGen: 0.1572\tRec: 0.1572\tE: 0.0001\tR: 0.0001\tP: 0.3142\n",
      "--------------------Test Metrics------------------------\n",
      "mse: 0.5783\n",
      "mae: 0.3137\n",
      "r2: 0.4034\n",
      "\n"
     ]
    },
    {
     "data": {
      "application/vnd.jupyter.widget-view+json": {
       "model_id": "4c251622abca482db2411c83a3960a44",
       "version_major": 2,
       "version_minor": 0
      },
      "text/plain": [
       "Iterations:   0%|          | 0/61 [00:00<?, ?it/s]"
      ]
     },
     "metadata": {},
     "output_type": "display_data"
    },
    {
     "name": "stdout",
     "output_type": "stream",
     "text": [
      "[58/100][12/61][Time 23.22]\n",
      "Unified LR across all optimizers: 0.0001698282739461345\n",
      "--------------------Training Metrics--------------------\n",
      "Trainer:  gpt\n",
      "Inf: 0.0001\tGen: 0.1595\tRec: 0.1595\tE: 0.0001\tR: 0.0001\tP: 0.3189\n",
      "--------------------Test Metrics------------------------\n",
      "mse: 0.5236\n",
      "mae: 0.2796\n",
      "r2: 0.4598\n",
      "\n"
     ]
    },
    {
     "data": {
      "application/vnd.jupyter.widget-view+json": {
       "model_id": "0eaa500d2e594829af18519c62dc45fa",
       "version_major": 2,
       "version_minor": 0
      },
      "text/plain": [
       "Iterations:   0%|          | 0/61 [00:00<?, ?it/s]"
      ]
     },
     "metadata": {},
     "output_type": "display_data"
    },
    {
     "name": "stdout",
     "output_type": "stream",
     "text": [
      "[59/100][1/61][Time 23.27]\n",
      "Unified LR across all optimizers: 0.00016943767975493242\n",
      "--------------------Training Metrics--------------------\n",
      "Trainer:  gpt\n",
      "Inf: 0.0001\tGen: 0.1579\tRec: 0.1579\tE: 0.0001\tR: 0.0001\tP: 0.3156\n",
      "--------------------Test Metrics------------------------\n",
      "mse: 0.5780\n",
      "mae: 0.2961\n",
      "r2: 0.4037\n",
      "\n",
      "[59/100][51/61][Time 23.10]\n",
      "Unified LR across all optimizers: 0.0001690479839054414\n",
      "--------------------Training Metrics--------------------\n",
      "Trainer:  gpt\n",
      "Inf: 0.0001\tGen: 0.1565\tRec: 0.1565\tE: 0.0001\tR: 0.0001\tP: 0.3128\n",
      "--------------------Test Metrics------------------------\n",
      "mse: 0.5313\n",
      "mae: 0.2841\n",
      "r2: 0.4519\n",
      "\n"
     ]
    },
    {
     "data": {
      "application/vnd.jupyter.widget-view+json": {
       "model_id": "830454ad3c1a40b08d51a274a45a5e07",
       "version_major": 2,
       "version_minor": 0
      },
      "text/plain": [
       "Iterations:   0%|          | 0/61 [00:00<?, ?it/s]"
      ]
     },
     "metadata": {},
     "output_type": "display_data"
    },
    {
     "name": "stdout",
     "output_type": "stream",
     "text": [
      "[60/100][40/61][Time 23.28]\n",
      "Unified LR across all optimizers: 0.00016865918433153277\n",
      "--------------------Training Metrics--------------------\n",
      "Trainer:  gpt\n",
      "Inf: 0.0001\tGen: 0.1557\tRec: 0.1557\tE: 0.0001\tR: 0.0001\tP: 0.3113\n",
      "--------------------Test Metrics------------------------\n",
      "mse: 0.6210\n",
      "mae: 0.3018\n",
      "r2: 0.3593\n",
      "\n"
     ]
    },
    {
     "data": {
      "application/vnd.jupyter.widget-view+json": {
       "model_id": "b3646e516eb14648b908e260c1d1c212",
       "version_major": 2,
       "version_minor": 0
      },
      "text/plain": [
       "Iterations:   0%|          | 0/61 [00:00<?, ?it/s]"
      ]
     },
     "metadata": {},
     "output_type": "display_data"
    },
    {
     "name": "stdout",
     "output_type": "stream",
     "text": [
      "[61/100][29/61][Time 23.28]\n",
      "Unified LR across all optimizers: 0.00016827127897182985\n",
      "--------------------Training Metrics--------------------\n",
      "Trainer:  gpt\n",
      "Inf: 0.0001\tGen: 0.1571\tRec: 0.1571\tE: 0.0001\tR: 0.0001\tP: 0.3140\n",
      "--------------------Test Metrics------------------------\n",
      "mse: 0.5409\n",
      "mae: 0.2915\n",
      "r2: 0.4419\n",
      "\n"
     ]
    },
    {
     "data": {
      "application/vnd.jupyter.widget-view+json": {
       "model_id": "8b64f179ca08417f8f49618daceb3517",
       "version_major": 2,
       "version_minor": 0
      },
      "text/plain": [
       "Iterations:   0%|          | 0/61 [00:00<?, ?it/s]"
      ]
     },
     "metadata": {},
     "output_type": "display_data"
    },
    {
     "name": "stdout",
     "output_type": "stream",
     "text": [
      "[62/100][18/61][Time 23.27]\n",
      "Unified LR across all optimizers: 0.0001678842657696972\n",
      "--------------------Training Metrics--------------------\n",
      "Trainer:  gpt\n",
      "Inf: 0.0001\tGen: 0.1562\tRec: 0.1562\tE: 0.0001\tR: 0.0001\tP: 0.3123\n",
      "--------------------Test Metrics------------------------\n",
      "mse: 0.5474\n",
      "mae: 0.2872\n",
      "r2: 0.4352\n",
      "\n"
     ]
    },
    {
     "data": {
      "application/vnd.jupyter.widget-view+json": {
       "model_id": "7cbfbeff409f4d60ba9a47a335ef9963",
       "version_major": 2,
       "version_minor": 0
      },
      "text/plain": [
       "Iterations:   0%|          | 0/61 [00:00<?, ?it/s]"
      ]
     },
     "metadata": {},
     "output_type": "display_data"
    },
    {
     "name": "stdout",
     "output_type": "stream",
     "text": [
      "[63/100][7/61][Time 23.29]\n",
      "Unified LR across all optimizers: 0.00016749814267322938\n",
      "--------------------Training Metrics--------------------\n",
      "Trainer:  gpt\n",
      "Inf: 0.0001\tGen: 0.1548\tRec: 0.1548\tE: 0.0001\tR: 0.0001\tP: 0.3096\n",
      "--------------------Test Metrics------------------------\n",
      "mse: 0.5793\n",
      "mae: 0.2970\n",
      "r2: 0.4023\n",
      "\n",
      "[63/100][57/61][Time 23.19]\n",
      "Unified LR across all optimizers: 0.00016711290763524007\n",
      "--------------------Training Metrics--------------------\n",
      "Trainer:  gpt\n",
      "Inf: 0.0001\tGen: 0.1548\tRec: 0.1548\tE: 0.0001\tR: 0.0001\tP: 0.3096\n",
      "--------------------Test Metrics------------------------\n",
      "mse: 0.5658\n",
      "mae: 0.2920\n",
      "r2: 0.4163\n",
      "\n"
     ]
    },
    {
     "data": {
      "application/vnd.jupyter.widget-view+json": {
       "model_id": "d6c8b4262740408f9c6579de77ee51ea",
       "version_major": 2,
       "version_minor": 0
      },
      "text/plain": [
       "Iterations:   0%|          | 0/61 [00:00<?, ?it/s]"
      ]
     },
     "metadata": {},
     "output_type": "display_data"
    },
    {
     "name": "stdout",
     "output_type": "stream",
     "text": [
      "[64/100][46/61][Time 23.23]\n",
      "Unified LR across all optimizers: 0.00016672855861325146\n",
      "--------------------Training Metrics--------------------\n",
      "Trainer:  gpt\n",
      "Inf: 0.0001\tGen: 0.1554\tRec: 0.1554\tE: 0.0001\tR: 0.0001\tP: 0.3108\n",
      "--------------------Test Metrics------------------------\n",
      "mse: 0.5401\n",
      "mae: 0.2931\n",
      "r2: 0.4428\n",
      "\n"
     ]
    },
    {
     "data": {
      "application/vnd.jupyter.widget-view+json": {
       "model_id": "9a5bc06f0e4c44739c3b5d9a78f26b63",
       "version_major": 2,
       "version_minor": 0
      },
      "text/plain": [
       "Iterations:   0%|          | 0/61 [00:00<?, ?it/s]"
      ]
     },
     "metadata": {},
     "output_type": "display_data"
    },
    {
     "name": "stdout",
     "output_type": "stream",
     "text": [
      "[65/100][35/61][Time 23.23]\n",
      "Unified LR across all optimizers: 0.00016634509356948314\n",
      "--------------------Training Metrics--------------------\n",
      "Trainer:  gpt\n",
      "Inf: 0.0003\tGen: 0.1542\tRec: 0.1543\tE: 0.0002\tR: 0.0004\tP: 0.3082\n",
      "--------------------Test Metrics------------------------\n",
      "mse: 0.6178\n",
      "mae: 0.2953\n",
      "r2: 0.3627\n",
      "\n"
     ]
    },
    {
     "data": {
      "application/vnd.jupyter.widget-view+json": {
       "model_id": "dd9e21d65d164d05b17fdcdfc628b617",
       "version_major": 2,
       "version_minor": 0
      },
      "text/plain": [
       "Iterations:   0%|          | 0/61 [00:00<?, ?it/s]"
      ]
     },
     "metadata": {},
     "output_type": "display_data"
    },
    {
     "name": "stdout",
     "output_type": "stream",
     "text": [
      "[66/100][24/61][Time 23.30]\n",
      "Unified LR across all optimizers: 0.00016596251047084197\n",
      "--------------------Training Metrics--------------------\n",
      "Trainer:  gpt\n",
      "Inf: 0.0001\tGen: 0.1538\tRec: 0.1538\tE: 0.0001\tR: 0.0001\tP: 0.3075\n",
      "--------------------Test Metrics------------------------\n",
      "mse: 0.5547\n",
      "mae: 0.2722\n",
      "r2: 0.4277\n",
      "\n"
     ]
    },
    {
     "data": {
      "application/vnd.jupyter.widget-view+json": {
       "model_id": "34b6238870ce4ccd8e8cb9728d00c97e",
       "version_major": 2,
       "version_minor": 0
      },
      "text/plain": [
       "Iterations:   0%|          | 0/61 [00:00<?, ?it/s]"
      ]
     },
     "metadata": {},
     "output_type": "display_data"
    },
    {
     "name": "stdout",
     "output_type": "stream",
     "text": [
      "[67/100][13/61][Time 23.26]\n",
      "Unified LR across all optimizers: 0.00016558080728890993\n",
      "--------------------Training Metrics--------------------\n",
      "Trainer:  gpt\n",
      "Inf: 0.0001\tGen: 0.1543\tRec: 0.1543\tE: 0.0001\tR: 0.0001\tP: 0.3084\n",
      "--------------------Test Metrics------------------------\n",
      "mse: 0.5775\n",
      "mae: 0.2959\n",
      "r2: 0.4042\n",
      "\n"
     ]
    },
    {
     "data": {
      "application/vnd.jupyter.widget-view+json": {
       "model_id": "4b38ba1f502b48bab0008976a009f0b9",
       "version_major": 2,
       "version_minor": 0
      },
      "text/plain": [
       "Iterations:   0%|          | 0/61 [00:00<?, ?it/s]"
      ]
     },
     "metadata": {},
     "output_type": "display_data"
    },
    {
     "name": "stdout",
     "output_type": "stream",
     "text": [
      "[68/100][2/61][Time 23.28]\n",
      "Unified LR across all optimizers: 0.00016519998199993532\n",
      "--------------------Training Metrics--------------------\n",
      "Trainer:  gpt\n",
      "Inf: 0.0001\tGen: 0.1521\tRec: 0.1521\tE: 0.0001\tR: 0.0001\tP: 0.3042\n",
      "--------------------Test Metrics------------------------\n",
      "mse: 0.5422\n",
      "mae: 0.3001\n",
      "r2: 0.4406\n",
      "\n",
      "[68/100][52/61][Time 23.26]\n",
      "Unified LR across all optimizers: 0.0001648200325848201\n",
      "--------------------Training Metrics--------------------\n",
      "Trainer:  gpt\n",
      "Inf: 0.0001\tGen: 0.1532\tRec: 0.1532\tE: 0.0001\tR: 0.0001\tP: 0.3063\n",
      "--------------------Test Metrics------------------------\n",
      "mse: 0.5785\n",
      "mae: 0.2920\n",
      "r2: 0.4031\n",
      "\n"
     ]
    },
    {
     "data": {
      "application/vnd.jupyter.widget-view+json": {
       "model_id": "c8baa2990e3242d69ff71742062acd82",
       "version_major": 2,
       "version_minor": 0
      },
      "text/plain": [
       "Iterations:   0%|          | 0/61 [00:00<?, ?it/s]"
      ]
     },
     "metadata": {},
     "output_type": "display_data"
    },
    {
     "name": "stdout",
     "output_type": "stream",
     "text": [
      "[69/100][41/61][Time 23.30]\n",
      "Unified LR across all optimizers: 0.00016444095702911038\n",
      "--------------------Training Metrics--------------------\n",
      "Trainer:  gpt\n",
      "Inf: 0.0001\tGen: 0.1525\tRec: 0.1525\tE: 0.0001\tR: 0.0001\tP: 0.3049\n",
      "--------------------Test Metrics------------------------\n",
      "mse: 0.5400\n",
      "mae: 0.2944\n",
      "r2: 0.4429\n",
      "\n"
     ]
    },
    {
     "data": {
      "application/vnd.jupyter.widget-view+json": {
       "model_id": "4c43c5ab39214d358575922e06b84d4e",
       "version_major": 2,
       "version_minor": 0
      },
      "text/plain": [
       "Iterations:   0%|          | 0/61 [00:00<?, ?it/s]"
      ]
     },
     "metadata": {},
     "output_type": "display_data"
    },
    {
     "name": "stdout",
     "output_type": "stream",
     "text": [
      "[70/100][30/61][Time 23.23]\n",
      "Unified LR across all optimizers: 0.00016406275332298505\n",
      "--------------------Training Metrics--------------------\n",
      "Trainer:  gpt\n",
      "Inf: 0.0001\tGen: 0.1522\tRec: 0.1522\tE: 0.0001\tR: 0.0001\tP: 0.3043\n",
      "--------------------Test Metrics------------------------\n",
      "mse: 0.5202\n",
      "mae: 0.2899\n",
      "r2: 0.4634\n",
      "\n"
     ]
    },
    {
     "data": {
      "application/vnd.jupyter.widget-view+json": {
       "model_id": "5a461026516347008c242457f2628cef",
       "version_major": 2,
       "version_minor": 0
      },
      "text/plain": [
       "Iterations:   0%|          | 0/61 [00:00<?, ?it/s]"
      ]
     },
     "metadata": {},
     "output_type": "display_data"
    },
    {
     "name": "stdout",
     "output_type": "stream",
     "text": [
      "[71/100][19/61][Time 23.28]\n",
      "Unified LR across all optimizers: 0.00016368541946124596\n",
      "--------------------Training Metrics--------------------\n",
      "Trainer:  gpt\n",
      "Inf: 0.0001\tGen: 0.1536\tRec: 0.1536\tE: 0.0001\tR: 0.0001\tP: 0.3071\n",
      "--------------------Test Metrics------------------------\n",
      "mse: 0.5250\n",
      "mae: 0.2799\n",
      "r2: 0.4583\n",
      "\n"
     ]
    },
    {
     "data": {
      "application/vnd.jupyter.widget-view+json": {
       "model_id": "e554a6c76bdb47ff871346c275156fe7",
       "version_major": 2,
       "version_minor": 0
      },
      "text/plain": [
       "Iterations:   0%|          | 0/61 [00:00<?, ?it/s]"
      ]
     },
     "metadata": {},
     "output_type": "display_data"
    },
    {
     "name": "stdout",
     "output_type": "stream",
     "text": [
      "[72/100][8/61][Time 23.29]\n",
      "Unified LR across all optimizers: 0.00016330895344330638\n",
      "--------------------Training Metrics--------------------\n",
      "Trainer:  gpt\n",
      "Inf: 0.0001\tGen: 0.1520\tRec: 0.1520\tE: 0.0001\tR: 0.0001\tP: 0.3039\n",
      "--------------------Test Metrics------------------------\n",
      "mse: 0.5712\n",
      "mae: 0.3141\n",
      "r2: 0.4107\n",
      "\n",
      "[72/100][58/61][Time 23.25]\n",
      "Unified LR across all optimizers: 0.00016293335327318117\n",
      "--------------------Training Metrics--------------------\n",
      "Trainer:  gpt\n",
      "Inf: 0.0001\tGen: 0.1508\tRec: 0.1508\tE: 0.0001\tR: 0.0001\tP: 0.3014\n",
      "--------------------Test Metrics------------------------\n",
      "mse: 0.6173\n",
      "mae: 0.2890\n",
      "r2: 0.3631\n",
      "\n"
     ]
    },
    {
     "data": {
      "application/vnd.jupyter.widget-view+json": {
       "model_id": "588370e99cf043199120ef4e2c781841",
       "version_major": 2,
       "version_minor": 0
      },
      "text/plain": [
       "Iterations:   0%|          | 0/61 [00:00<?, ?it/s]"
      ]
     },
     "metadata": {},
     "output_type": "display_data"
    },
    {
     "name": "stdout",
     "output_type": "stream",
     "text": [
      "[73/100][47/61][Time 23.21]\n",
      "Unified LR across all optimizers: 0.00016255861695947546\n",
      "--------------------Training Metrics--------------------\n",
      "Trainer:  gpt\n",
      "Inf: 0.0001\tGen: 0.1517\tRec: 0.1517\tE: 0.0001\tR: 0.0001\tP: 0.3032\n",
      "--------------------Test Metrics------------------------\n",
      "mse: 0.5701\n",
      "mae: 0.2972\n",
      "r2: 0.4118\n",
      "\n"
     ]
    },
    {
     "data": {
      "application/vnd.jupyter.widget-view+json": {
       "model_id": "8e1e33e021ec49e5a245a4d8fef4f391",
       "version_major": 2,
       "version_minor": 0
      },
      "text/plain": [
       "Iterations:   0%|          | 0/61 [00:00<?, ?it/s]"
      ]
     },
     "metadata": {},
     "output_type": "display_data"
    },
    {
     "name": "stdout",
     "output_type": "stream",
     "text": [
      "[74/100][36/61][Time 23.29]\n",
      "Unified LR across all optimizers: 0.00016218474251537463\n",
      "--------------------Training Metrics--------------------\n",
      "Trainer:  gpt\n",
      "Inf: 0.0001\tGen: 0.1506\tRec: 0.1506\tE: 0.0001\tR: 0.0001\tP: 0.3011\n",
      "--------------------Test Metrics------------------------\n",
      "mse: 0.5291\n",
      "mae: 0.2885\n",
      "r2: 0.4541\n",
      "\n"
     ]
    },
    {
     "data": {
      "application/vnd.jupyter.widget-view+json": {
       "model_id": "5dd69f0a8bfc48eab5d56132605ec403",
       "version_major": 2,
       "version_minor": 0
      },
      "text/plain": [
       "Iterations:   0%|          | 0/61 [00:00<?, ?it/s]"
      ]
     },
     "metadata": {},
     "output_type": "display_data"
    },
    {
     "name": "stdout",
     "output_type": "stream",
     "text": [
      "[75/100][25/61][Time 23.24]\n",
      "Unified LR across all optimizers: 0.00016181172795863357\n",
      "--------------------Training Metrics--------------------\n",
      "Trainer:  gpt\n",
      "Inf: 0.0001\tGen: 0.1508\tRec: 0.1508\tE: 0.0001\tR: 0.0001\tP: 0.3014\n",
      "--------------------Test Metrics------------------------\n",
      "mse: 0.5895\n",
      "mae: 0.3046\n",
      "r2: 0.3918\n",
      "\n"
     ]
    },
    {
     "data": {
      "application/vnd.jupyter.widget-view+json": {
       "model_id": "09ec2acb5fb5473491eddce2aeb2a50d",
       "version_major": 2,
       "version_minor": 0
      },
      "text/plain": [
       "Iterations:   0%|          | 0/61 [00:00<?, ?it/s]"
      ]
     },
     "metadata": {},
     "output_type": "display_data"
    },
    {
     "name": "stdout",
     "output_type": "stream",
     "text": [
      "[76/100][14/61][Time 23.24]\n",
      "Unified LR across all optimizers: 0.0001614395713115662\n",
      "--------------------Training Metrics--------------------\n",
      "Trainer:  gpt\n",
      "Inf: 0.0001\tGen: 0.1522\tRec: 0.1522\tE: 0.0001\tR: 0.0001\tP: 0.3042\n",
      "--------------------Test Metrics------------------------\n",
      "mse: 0.5561\n",
      "mae: 0.2884\n",
      "r2: 0.4263\n",
      "\n"
     ]
    },
    {
     "data": {
      "application/vnd.jupyter.widget-view+json": {
       "model_id": "6152d4eaf3834ec08058830c3bc8fba5",
       "version_major": 2,
       "version_minor": 0
      },
      "text/plain": [
       "Iterations:   0%|          | 0/61 [00:00<?, ?it/s]"
      ]
     },
     "metadata": {},
     "output_type": "display_data"
    },
    {
     "name": "stdout",
     "output_type": "stream",
     "text": [
      "[77/100][3/61][Time 23.30]\n",
      "Unified LR across all optimizers: 0.00016106827060103523\n",
      "--------------------Training Metrics--------------------\n",
      "Trainer:  gpt\n",
      "Inf: 0.0001\tGen: 0.1497\tRec: 0.1497\tE: 0.0001\tR: 0.0001\tP: 0.2993\n",
      "--------------------Test Metrics------------------------\n",
      "mse: 0.5691\n",
      "mae: 0.2804\n",
      "r2: 0.4129\n",
      "\n",
      "[77/100][53/61][Time 23.28]\n",
      "Unified LR across all optimizers: 0.00016069782385844109\n",
      "--------------------Training Metrics--------------------\n",
      "Trainer:  gpt\n",
      "Inf: 0.0001\tGen: 0.1505\tRec: 0.1505\tE: 0.0001\tR: 0.0001\tP: 0.3009\n",
      "--------------------Test Metrics------------------------\n",
      "mse: 0.5403\n",
      "mae: 0.2896\n",
      "r2: 0.4426\n",
      "\n"
     ]
    },
    {
     "data": {
      "application/vnd.jupyter.widget-view+json": {
       "model_id": "18f4f1b0d6e84e208da096e8013f261d",
       "version_major": 2,
       "version_minor": 0
      },
      "text/plain": [
       "Iterations:   0%|          | 0/61 [00:00<?, ?it/s]"
      ]
     },
     "metadata": {},
     "output_type": "display_data"
    },
    {
     "name": "stdout",
     "output_type": "stream",
     "text": [
      "[78/100][42/61][Time 23.29]\n",
      "Unified LR across all optimizers: 0.00016032822911971208\n",
      "--------------------Training Metrics--------------------\n",
      "Trainer:  gpt\n",
      "Inf: 0.0001\tGen: 0.1493\tRec: 0.1493\tE: 0.0001\tR: 0.0001\tP: 0.2986\n",
      "--------------------Test Metrics------------------------\n",
      "mse: 0.5879\n",
      "mae: 0.2999\n",
      "r2: 0.3935\n",
      "\n"
     ]
    },
    {
     "data": {
      "application/vnd.jupyter.widget-view+json": {
       "model_id": "ebde9ecf6f614aa2894f9e5d9dbe1b36",
       "version_major": 2,
       "version_minor": 0
      },
      "text/plain": [
       "Iterations:   0%|          | 0/61 [00:00<?, ?it/s]"
      ]
     },
     "metadata": {},
     "output_type": "display_data"
    },
    {
     "name": "stdout",
     "output_type": "stream",
     "text": [
      "[79/100][31/61][Time 23.26]\n",
      "Unified LR across all optimizers: 0.0001599594844252937\n",
      "--------------------Training Metrics--------------------\n",
      "Trainer:  gpt\n",
      "Inf: 0.0001\tGen: 0.1485\tRec: 0.1485\tE: 0.0001\tR: 0.0001\tP: 0.2970\n",
      "--------------------Test Metrics------------------------\n",
      "mse: 0.5382\n",
      "mae: 0.2824\n",
      "r2: 0.4447\n",
      "\n"
     ]
    },
    {
     "data": {
      "application/vnd.jupyter.widget-view+json": {
       "model_id": "b995e4df9cbc4bbc952aee987ba315ba",
       "version_major": 2,
       "version_minor": 0
      },
      "text/plain": [
       "Iterations:   0%|          | 0/61 [00:00<?, ?it/s]"
      ]
     },
     "metadata": {},
     "output_type": "display_data"
    },
    {
     "name": "stdout",
     "output_type": "stream",
     "text": [
      "[80/100][20/61][Time 23.29]\n",
      "Unified LR across all optimizers: 0.00015959158782013816\n",
      "--------------------Training Metrics--------------------\n",
      "Trainer:  gpt\n",
      "Inf: 0.0001\tGen: 0.1477\tRec: 0.1477\tE: 0.0001\tR: 0.0001\tP: 0.2952\n",
      "--------------------Test Metrics------------------------\n",
      "mse: 0.4903\n",
      "mae: 0.2804\n",
      "r2: 0.4942\n",
      "\n"
     ]
    },
    {
     "data": {
      "application/vnd.jupyter.widget-view+json": {
       "model_id": "d1593f2db80446949b63144e30ffa806",
       "version_major": 2,
       "version_minor": 0
      },
      "text/plain": [
       "Iterations:   0%|          | 0/61 [00:00<?, ?it/s]"
      ]
     },
     "metadata": {},
     "output_type": "display_data"
    },
    {
     "name": "stdout",
     "output_type": "stream",
     "text": [
      "[81/100][9/61][Time 23.29]\n",
      "Unified LR across all optimizers: 0.00015922453735369438\n",
      "--------------------Training Metrics--------------------\n",
      "Trainer:  gpt\n",
      "Inf: 0.0001\tGen: 0.1492\tRec: 0.1492\tE: 0.0001\tR: 0.0001\tP: 0.2984\n",
      "--------------------Test Metrics------------------------\n",
      "mse: 0.5756\n",
      "mae: 0.3095\n",
      "r2: 0.4062\n",
      "\n",
      "[81/100][59/61][Time 23.30]\n",
      "Unified LR across all optimizers: 0.00015885833107989733\n",
      "--------------------Training Metrics--------------------\n",
      "Trainer:  gpt\n",
      "Inf: 0.0001\tGen: 0.1495\tRec: 0.1495\tE: 0.0001\tR: 0.0001\tP: 0.2989\n",
      "--------------------Test Metrics------------------------\n",
      "mse: 0.5519\n",
      "mae: 0.2999\n",
      "r2: 0.4306\n",
      "\n"
     ]
    },
    {
     "data": {
      "application/vnd.jupyter.widget-view+json": {
       "model_id": "a587a27f5ae84eeaa5767d7b38381094",
       "version_major": 2,
       "version_minor": 0
      },
      "text/plain": [
       "Iterations:   0%|          | 0/61 [00:00<?, ?it/s]"
      ]
     },
     "metadata": {},
     "output_type": "display_data"
    },
    {
     "name": "stdout",
     "output_type": "stream",
     "text": [
      "[82/100][48/61][Time 23.23]\n",
      "Unified LR across all optimizers: 0.00015849296705715778\n",
      "--------------------Training Metrics--------------------\n",
      "Trainer:  gpt\n",
      "Inf: 0.0001\tGen: 0.1489\tRec: 0.1489\tE: 0.0001\tR: 0.0001\tP: 0.2978\n",
      "--------------------Test Metrics------------------------\n",
      "mse: 0.5656\n",
      "mae: 0.2875\n",
      "r2: 0.4165\n",
      "\n"
     ]
    },
    {
     "data": {
      "application/vnd.jupyter.widget-view+json": {
       "model_id": "f9908733032a4b6dafa94925de92e30e",
       "version_major": 2,
       "version_minor": 0
      },
      "text/plain": [
       "Iterations:   0%|          | 0/61 [00:00<?, ?it/s]"
      ]
     },
     "metadata": {},
     "output_type": "display_data"
    },
    {
     "name": "stdout",
     "output_type": "stream",
     "text": [
      "[83/100][37/61][Time 23.28]\n",
      "Unified LR across all optimizers: 0.0001581284433483521\n",
      "--------------------Training Metrics--------------------\n",
      "Trainer:  gpt\n",
      "Inf: 0.0001\tGen: 0.1480\tRec: 0.1480\tE: 0.0001\tR: 0.0001\tP: 0.2958\n",
      "--------------------Test Metrics------------------------\n",
      "mse: 0.5024\n",
      "mae: 0.2960\n",
      "r2: 0.4816\n",
      "\n"
     ]
    },
    {
     "data": {
      "application/vnd.jupyter.widget-view+json": {
       "model_id": "0905f5d84730445c93b8026f8fd215d9",
       "version_major": 2,
       "version_minor": 0
      },
      "text/plain": [
       "Iterations:   0%|          | 0/61 [00:00<?, ?it/s]"
      ]
     },
     "metadata": {},
     "output_type": "display_data"
    },
    {
     "name": "stdout",
     "output_type": "stream",
     "text": [
      "[84/100][26/61][Time 23.29]\n",
      "Unified LR across all optimizers: 0.00015776475802081183\n",
      "--------------------Training Metrics--------------------\n",
      "Trainer:  gpt\n",
      "Inf: 0.0001\tGen: 0.1474\tRec: 0.1474\tE: 0.0001\tR: 0.0001\tP: 0.2947\n",
      "--------------------Test Metrics------------------------\n",
      "mse: 0.4823\n",
      "mae: 0.2727\n",
      "r2: 0.5024\n",
      "\n"
     ]
    },
    {
     "data": {
      "application/vnd.jupyter.widget-view+json": {
       "model_id": "1b92fc86d1984ac6bb920fa061b896d8",
       "version_major": 2,
       "version_minor": 0
      },
      "text/plain": [
       "Iterations:   0%|          | 0/61 [00:00<?, ?it/s]"
      ]
     },
     "metadata": {},
     "output_type": "display_data"
    },
    {
     "name": "stdout",
     "output_type": "stream",
     "text": [
      "[85/100][15/61][Time 23.27]\n",
      "Unified LR across all optimizers: 0.00015740190914631356\n",
      "--------------------Training Metrics--------------------\n",
      "Trainer:  gpt\n",
      "Inf: 0.0001\tGen: 0.1474\tRec: 0.1474\tE: 0.0001\tR: 0.0001\tP: 0.2946\n",
      "--------------------Test Metrics------------------------\n",
      "mse: 0.5485\n",
      "mae: 0.2978\n",
      "r2: 0.4341\n",
      "\n"
     ]
    },
    {
     "data": {
      "application/vnd.jupyter.widget-view+json": {
       "model_id": "07ffb1bd12ee479185544adb24a7576a",
       "version_major": 2,
       "version_minor": 0
      },
      "text/plain": [
       "Iterations:   0%|          | 0/61 [00:00<?, ?it/s]"
      ]
     },
     "metadata": {},
     "output_type": "display_data"
    },
    {
     "name": "stdout",
     "output_type": "stream",
     "text": [
      "[86/100][4/61][Time 23.22]\n",
      "Unified LR across all optimizers: 0.0001570398948010687\n",
      "--------------------Training Metrics--------------------\n",
      "Trainer:  gpt\n",
      "Inf: 0.0001\tGen: 0.1470\tRec: 0.1470\tE: 0.0001\tR: 0.0001\tP: 0.2940\n",
      "--------------------Test Metrics------------------------\n",
      "mse: 0.5382\n",
      "mae: 0.2941\n",
      "r2: 0.4447\n",
      "\n",
      "[86/100][54/61][Time 23.21]\n",
      "Unified LR across all optimizers: 0.00015667871306571324\n",
      "--------------------Training Metrics--------------------\n",
      "Trainer:  gpt\n",
      "Inf: 0.0001\tGen: 0.1475\tRec: 0.1475\tE: 0.0001\tR: 0.0001\tP: 0.2949\n",
      "--------------------Test Metrics------------------------\n",
      "mse: 0.5097\n",
      "mae: 0.2861\n",
      "r2: 0.4742\n",
      "\n"
     ]
    },
    {
     "data": {
      "application/vnd.jupyter.widget-view+json": {
       "model_id": "fdfcebafc4184fb98e8dd95ae0f8080f",
       "version_major": 2,
       "version_minor": 0
      },
      "text/plain": [
       "Iterations:   0%|          | 0/61 [00:00<?, ?it/s]"
      ]
     },
     "metadata": {},
     "output_type": "display_data"
    },
    {
     "name": "stdout",
     "output_type": "stream",
     "text": [
      "[87/100][43/61][Time 23.29]\n",
      "Unified LR across all optimizers: 0.00015631836202529756\n",
      "--------------------Training Metrics--------------------\n",
      "Trainer:  gpt\n",
      "Inf: 0.0001\tGen: 0.1471\tRec: 0.1471\tE: 0.0001\tR: 0.0001\tP: 0.2940\n",
      "--------------------Test Metrics------------------------\n",
      "mse: 0.5502\n",
      "mae: 0.2944\n",
      "r2: 0.4324\n",
      "\n"
     ]
    },
    {
     "data": {
      "application/vnd.jupyter.widget-view+json": {
       "model_id": "500b64e71d474970bca3379829d70c1e",
       "version_major": 2,
       "version_minor": 0
      },
      "text/plain": [
       "Iterations:   0%|          | 0/61 [00:00<?, ?it/s]"
      ]
     },
     "metadata": {},
     "output_type": "display_data"
    },
    {
     "name": "stdout",
     "output_type": "stream",
     "text": [
      "[88/100][32/61][Time 23.29]\n",
      "Unified LR across all optimizers: 0.00015595883976927632\n",
      "--------------------Training Metrics--------------------\n",
      "Trainer:  gpt\n",
      "Inf: 0.0001\tGen: 0.1468\tRec: 0.1468\tE: 0.0001\tR: 0.0001\tP: 0.2935\n",
      "--------------------Test Metrics------------------------\n",
      "mse: 0.5395\n",
      "mae: 0.2760\n",
      "r2: 0.4434\n",
      "\n"
     ]
    },
    {
     "data": {
      "application/vnd.jupyter.widget-view+json": {
       "model_id": "ea8baba07a3c4098b8b23ce5b4e3d897",
       "version_major": 2,
       "version_minor": 0
      },
      "text/plain": [
       "Iterations:   0%|          | 0/61 [00:00<?, ?it/s]"
      ]
     },
     "metadata": {},
     "output_type": "display_data"
    },
    {
     "name": "stdout",
     "output_type": "stream",
     "text": [
      "[89/100][21/61][Time 23.22]\n",
      "Unified LR across all optimizers: 0.0001556001443914984\n",
      "--------------------Training Metrics--------------------\n",
      "Trainer:  gpt\n",
      "Inf: 0.0001\tGen: 0.1468\tRec: 0.1468\tE: 0.0001\tR: 0.0001\tP: 0.2936\n",
      "--------------------Test Metrics------------------------\n",
      "mse: 0.5259\n",
      "mae: 0.2979\n",
      "r2: 0.4574\n",
      "\n"
     ]
    },
    {
     "data": {
      "application/vnd.jupyter.widget-view+json": {
       "model_id": "36aabbe7551b4ef29078f4de2373cdfb",
       "version_major": 2,
       "version_minor": 0
      },
      "text/plain": [
       "Iterations:   0%|          | 0/61 [00:00<?, ?it/s]"
      ]
     },
     "metadata": {},
     "output_type": "display_data"
    },
    {
     "name": "stdout",
     "output_type": "stream",
     "text": [
      "[90/100][10/61][Time 23.28]\n",
      "Unified LR across all optimizers: 0.0001552422739901963\n",
      "--------------------Training Metrics--------------------\n",
      "Trainer:  gpt\n",
      "Inf: 0.0001\tGen: 0.1467\tRec: 0.1467\tE: 0.0001\tR: 0.0001\tP: 0.2934\n",
      "--------------------Test Metrics------------------------\n",
      "mse: 0.5486\n",
      "mae: 0.2800\n",
      "r2: 0.4340\n",
      "\n",
      "[90/100][60/61][Time 23.17]\n",
      "Unified LR across all optimizers: 0.00015488522666797712\n",
      "--------------------Training Metrics--------------------\n",
      "Trainer:  gpt\n",
      "Inf: 0.0001\tGen: 0.1458\tRec: 0.1458\tE: 0.0001\tR: 0.0001\tP: 0.2915\n",
      "--------------------Test Metrics------------------------\n",
      "mse: 0.5468\n",
      "mae: 0.2792\n",
      "r2: 0.4359\n",
      "\n"
     ]
    },
    {
     "data": {
      "application/vnd.jupyter.widget-view+json": {
       "model_id": "c874e129e5ba4cc4b542ad6a1126e43e",
       "version_major": 2,
       "version_minor": 0
      },
      "text/plain": [
       "Iterations:   0%|          | 0/61 [00:00<?, ?it/s]"
      ]
     },
     "metadata": {},
     "output_type": "display_data"
    },
    {
     "name": "stdout",
     "output_type": "stream",
     "text": [
      "[91/100][49/61][Time 23.26]\n",
      "Unified LR across all optimizers: 0.00015452900053181137\n",
      "--------------------Training Metrics--------------------\n",
      "Trainer:  gpt\n",
      "Inf: 0.0001\tGen: 0.1467\tRec: 0.1467\tE: 0.0001\tR: 0.0001\tP: 0.2933\n",
      "--------------------Test Metrics------------------------\n",
      "mse: 0.5453\n",
      "mae: 0.2779\n",
      "r2: 0.4374\n",
      "\n"
     ]
    },
    {
     "data": {
      "application/vnd.jupyter.widget-view+json": {
       "model_id": "c601f5f7662a4c81979c5b6916af9d5c",
       "version_major": 2,
       "version_minor": 0
      },
      "text/plain": [
       "Iterations:   0%|          | 0/61 [00:00<?, ?it/s]"
      ]
     },
     "metadata": {},
     "output_type": "display_data"
    },
    {
     "name": "stdout",
     "output_type": "stream",
     "text": [
      "[92/100][38/61][Time 23.29]\n",
      "Unified LR across all optimizers: 0.00015417359369302347\n",
      "--------------------Training Metrics--------------------\n",
      "Trainer:  gpt\n",
      "Inf: 0.0001\tGen: 0.1460\tRec: 0.1460\tE: 0.0001\tR: 0.0001\tP: 0.2920\n",
      "--------------------Test Metrics------------------------\n",
      "mse: 0.5439\n",
      "mae: 0.2950\n",
      "r2: 0.4389\n",
      "\n"
     ]
    },
    {
     "data": {
      "application/vnd.jupyter.widget-view+json": {
       "model_id": "79c39fcf44644bf28f59dd6e8b4ee252",
       "version_major": 2,
       "version_minor": 0
      },
      "text/plain": [
       "Iterations:   0%|          | 0/61 [00:00<?, ?it/s]"
      ]
     },
     "metadata": {},
     "output_type": "display_data"
    },
    {
     "name": "stdout",
     "output_type": "stream",
     "text": [
      "[93/100][27/61][Time 23.30]\n",
      "Unified LR across all optimizers: 0.00015381900426728195\n",
      "--------------------Training Metrics--------------------\n",
      "Trainer:  gpt\n",
      "Inf: 0.0001\tGen: 0.1453\tRec: 0.1453\tE: 0.0001\tR: 0.0001\tP: 0.2906\n",
      "--------------------Test Metrics------------------------\n",
      "mse: 0.5435\n",
      "mae: 0.2880\n",
      "r2: 0.4393\n",
      "\n"
     ]
    },
    {
     "data": {
      "application/vnd.jupyter.widget-view+json": {
       "model_id": "0118e51fbd514d1c9e34e45e1cbcfd4c",
       "version_major": 2,
       "version_minor": 0
      },
      "text/plain": [
       "Iterations:   0%|          | 0/61 [00:00<?, ?it/s]"
      ]
     },
     "metadata": {},
     "output_type": "display_data"
    },
    {
     "name": "stdout",
     "output_type": "stream",
     "text": [
      "[94/100][16/61][Time 23.31]\n",
      "Unified LR across all optimizers: 0.00015346523037458877\n",
      "--------------------Training Metrics--------------------\n",
      "Trainer:  gpt\n",
      "Inf: 0.0001\tGen: 0.1447\tRec: 0.1447\tE: 0.0001\tR: 0.0001\tP: 0.2892\n",
      "--------------------Test Metrics------------------------\n",
      "mse: 0.5805\n",
      "mae: 0.2808\n",
      "r2: 0.4011\n",
      "\n"
     ]
    },
    {
     "data": {
      "application/vnd.jupyter.widget-view+json": {
       "model_id": "7c6047e5ea204f459f70e859a0584d39",
       "version_major": 2,
       "version_minor": 0
      },
      "text/plain": [
       "Iterations:   0%|          | 0/61 [00:00<?, ?it/s]"
      ]
     },
     "metadata": {},
     "output_type": "display_data"
    },
    {
     "name": "stdout",
     "output_type": "stream",
     "text": [
      "[95/100][5/61][Time 23.24]\n",
      "Unified LR across all optimizers: 0.00015311227013926996\n",
      "--------------------Training Metrics--------------------\n",
      "Trainer:  gpt\n",
      "Inf: 0.0001\tGen: 0.1461\tRec: 0.1461\tE: 0.0001\tR: 0.0001\tP: 0.2922\n",
      "--------------------Test Metrics------------------------\n",
      "mse: 0.5124\n",
      "mae: 0.2765\n",
      "r2: 0.4714\n",
      "\n",
      "[95/100][55/61][Time 23.28]\n",
      "Unified LR across all optimizers: 0.00015276012168996563\n",
      "--------------------Training Metrics--------------------\n",
      "Trainer:  gpt\n",
      "Inf: 0.0001\tGen: 0.1443\tRec: 0.1443\tE: 0.0001\tR: 0.0001\tP: 0.2886\n",
      "--------------------Test Metrics------------------------\n",
      "mse: 0.5202\n",
      "mae: 0.2876\n",
      "r2: 0.4633\n",
      "\n"
     ]
    },
    {
     "data": {
      "application/vnd.jupyter.widget-view+json": {
       "model_id": "bdba61e267c24814858743ac895f58fd",
       "version_major": 2,
       "version_minor": 0
      },
      "text/plain": [
       "Iterations:   0%|          | 0/61 [00:00<?, ?it/s]"
      ]
     },
     "metadata": {},
     "output_type": "display_data"
    },
    {
     "name": "stdout",
     "output_type": "stream",
     "text": [
      "[96/100][44/61][Time 23.29]\n",
      "Unified LR across all optimizers: 0.00015240878315961963\n",
      "--------------------Training Metrics--------------------\n",
      "Trainer:  gpt\n",
      "Inf: 0.0001\tGen: 0.1446\tRec: 0.1446\tE: 0.0001\tR: 0.0001\tP: 0.2891\n",
      "--------------------Test Metrics------------------------\n",
      "mse: 0.5663\n",
      "mae: 0.2858\n",
      "r2: 0.4158\n",
      "\n"
     ]
    },
    {
     "data": {
      "application/vnd.jupyter.widget-view+json": {
       "model_id": "d1bd400470614e6c8626f4ee4dfdf428",
       "version_major": 2,
       "version_minor": 0
      },
      "text/plain": [
       "Iterations:   0%|          | 0/61 [00:00<?, ?it/s]"
      ]
     },
     "metadata": {},
     "output_type": "display_data"
    },
    {
     "name": "stdout",
     "output_type": "stream",
     "text": [
      "[97/100][33/61][Time 23.30]\n",
      "Unified LR across all optimizers: 0.00015205825268547007\n",
      "--------------------Training Metrics--------------------\n",
      "Trainer:  gpt\n",
      "Inf: 0.0001\tGen: 0.1435\tRec: 0.1435\tE: 0.0001\tR: 0.0001\tP: 0.2869\n",
      "--------------------Test Metrics------------------------\n",
      "mse: 0.5219\n",
      "mae: 0.2874\n",
      "r2: 0.4616\n",
      "\n"
     ]
    },
    {
     "data": {
      "application/vnd.jupyter.widget-view+json": {
       "model_id": "d9e582f812054d3b8e6ac082b0f19ec9",
       "version_major": 2,
       "version_minor": 0
      },
      "text/plain": [
       "Iterations:   0%|          | 0/61 [00:00<?, ?it/s]"
      ]
     },
     "metadata": {},
     "output_type": "display_data"
    },
    {
     "name": "stdout",
     "output_type": "stream",
     "text": [
      "[98/100][22/61][Time 23.27]\n",
      "Unified LR across all optimizers: 0.0001517085284090394\n",
      "--------------------Training Metrics--------------------\n",
      "Trainer:  gpt\n",
      "Inf: 0.0001\tGen: 0.1436\tRec: 0.1436\tE: 0.0001\tR: 0.0001\tP: 0.2872\n",
      "--------------------Test Metrics------------------------\n",
      "mse: 0.5813\n",
      "mae: 0.2967\n",
      "r2: 0.4003\n",
      "\n"
     ]
    },
    {
     "data": {
      "application/vnd.jupyter.widget-view+json": {
       "model_id": "312d99d7c037479f925f3f26148e1d5d",
       "version_major": 2,
       "version_minor": 0
      },
      "text/plain": [
       "Iterations:   0%|          | 0/61 [00:00<?, ?it/s]"
      ]
     },
     "metadata": {},
     "output_type": "display_data"
    },
    {
     "name": "stdout",
     "output_type": "stream",
     "text": [
      "[99/100][11/61][Time 23.28]\n",
      "Unified LR across all optimizers: 0.00015135960847612417\n",
      "--------------------Training Metrics--------------------\n",
      "Trainer:  gpt\n",
      "Inf: 0.0001\tGen: 0.1433\tRec: 0.1433\tE: 0.0001\tR: 0.0001\tP: 0.2865\n",
      "--------------------Test Metrics------------------------\n",
      "mse: 0.5374\n",
      "mae: 0.2923\n",
      "r2: 0.4456\n",
      "\n"
     ]
    }
   ],
   "source": [
    "trainer_hub.train(trainset, testset)"
   ]
  }
 ],
 "metadata": {
  "kernelspec": {
   "display_name": "ccnets",
   "language": "python",
   "name": "python3"
  },
  "language_info": {
   "codemirror_mode": {
    "name": "ipython",
    "version": 3
   },
   "file_extension": ".py",
   "mimetype": "text/x-python",
   "name": "python",
   "nbconvert_exporter": "python",
   "pygments_lexer": "ipython3",
   "version": "3.10.9"
  }
 },
 "nbformat": 4,
 "nbformat_minor": 2
}
