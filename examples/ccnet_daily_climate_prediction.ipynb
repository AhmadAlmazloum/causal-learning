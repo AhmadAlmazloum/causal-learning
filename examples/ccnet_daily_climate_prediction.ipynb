{
 "cells": [
  {
   "cell_type": "markdown",
   "id": "ace33ea6",
   "metadata": {},
   "source": [
    "Authors : Jinsu Kim, JunHo Park\n",
    "\n",
    "ⓒ 2022 CCNets, Inc. All Rights Reserved."
   ]
  },
  {
   "attachments": {},
   "cell_type": "markdown",
   "id": "86e99e77",
   "metadata": {
    "papermill": {
     "duration": 0.011182,
     "end_time": "2023-06-06T07:48:39.422820",
     "exception": false,
     "start_time": "2023-06-06T07:48:39.411638",
     "status": "completed"
    },
    "tags": []
   },
   "source": [
    "![](https://storage.googleapis.com/kaggle-datasets-images/312121/636393/a5097396fc07cf882d3e0d631b100a36/dataset-cover.jpg?t=2019-08-23-15-00-53)"
   ]
  },
  {
   "attachments": {},
   "cell_type": "markdown",
   "id": "190c2467",
   "metadata": {
    "papermill": {
     "duration": 0.011099,
     "end_time": "2023-06-06T07:48:39.445154",
     "exception": false,
     "start_time": "2023-06-06T07:48:39.434055",
     "status": "completed"
    },
    "tags": []
   },
   "source": [
    "***"
   ]
  },
  {
   "attachments": {},
   "cell_type": "markdown",
   "id": "2633cc40",
   "metadata": {
    "papermill": {
     "duration": 0.010898,
     "end_time": "2023-06-06T07:48:39.467494",
     "exception": false,
     "start_time": "2023-06-06T07:48:39.456596",
     "status": "completed"
    },
    "tags": []
   },
   "source": [
    "<h1 style = 'font-family: Times New Roman'> <b>|</b><i> 1. Content</i></h1>\n",
    "\n",
    "<br>\n",
    "\n",
    "> <h4 style = 'font-family: Times New Roman'>\n",
    "The Dataset is fully dedicated for the developers who want to train the model on Weather Forecasting for Indian climate.<br><br> This dataset provides data from 1st January 2013 to 24th April 2017 in the city of Delhi, India. <br><br>The 4 parameters here are\n",
    "meantemp, humidity, wind_speed, meanpressure.\n",
    "    \n",
    "  \n",
    "<h1 style = 'font-family: Times New Roman'> <b>|</b><i> 2. About Dataset</i></h1>\n",
    "\n",
    "<br> \n",
    "    \n",
    "5 columns in the dataset, below is <u>description of features</u>:\n",
    "\n",
    "*  (1) <b>meantemp</b>: Mean temperature averaged out from multiple 3 hour intervals in a day. \n",
    "    \n",
    "*  (2) <b>humidity</b>: Humidity value for the day (units are grams of water vapor per cubic meter volume of air).\n",
    "    \n",
    "    \n",
    "*  (3) <b>wind_speed</b>: Wind speed measured in kmph.\n",
    "    \n",
    "    \n",
    "*  (4) <b>meanpressure</b>: Pressure reading of weather (measure in atm)\n",
    "    \n",
    "    \n",
    "<h1 style = 'font-family: Times New Roman'> <b>|</b><i> 3. Goal of the Notebook</i></h1>\n",
    "    \n",
    "> <h4 style = 'font-family: Times New Roman'>\n",
    "Goal is to train and test model using GPT, Pytorch. <br><br>\n",
    "    The Target Column used here is <b>meantemp</b>\n",
    "</h4>\n",
    "\n",
    " "
   ]
  },
  {
   "cell_type": "markdown",
   "id": "02a794e7",
   "metadata": {},
   "source": [
    "https://www.kaggle.com/datasets/sumanthvrao/daily-climate-time-series-data"
   ]
  },
  {
   "attachments": {},
   "cell_type": "markdown",
   "id": "c651489d",
   "metadata": {
    "papermill": {
     "duration": 0.010985,
     "end_time": "2023-06-06T07:48:39.512835",
     "exception": false,
     "start_time": "2023-06-06T07:48:39.501850",
     "status": "completed"
    },
    "tags": []
   },
   "source": [
    "***"
   ]
  },
  {
   "attachments": {},
   "cell_type": "markdown",
   "id": "7ee258dd",
   "metadata": {
    "papermill": {
     "duration": 0.011662,
     "end_time": "2023-06-06T07:48:39.535835",
     "exception": false,
     "start_time": "2023-06-06T07:48:39.524173",
     "status": "completed"
    },
    "tags": []
   },
   "source": [
    "<a id=\"1\"></a>\n",
    "> <h1 style = 'font-family: Times New Roman'><b> <b style = 'color: #42c2f5'>1.</b> Import Necessary Libraries </b></h1>"
   ]
  },
  {
   "cell_type": "code",
   "execution_count": 1,
   "id": "795ae437",
   "metadata": {},
   "outputs": [],
   "source": [
    "import os\n",
    "import sys\n",
    "path_append = \"../\"\n",
    "sys.path.append(path_append)  # Go up one directory from where you are."
   ]
  },
  {
   "cell_type": "code",
   "execution_count": 2,
   "id": "5301b228",
   "metadata": {
    "execution": {
     "iopub.execute_input": "2023-06-06T07:48:45.607892Z",
     "iopub.status.busy": "2023-06-06T07:48:45.607512Z",
     "iopub.status.idle": "2023-06-06T07:48:45.631478Z",
     "shell.execute_reply": "2023-06-06T07:48:45.630508Z"
    },
    "papermill": {
     "duration": 0.038975,
     "end_time": "2023-06-06T07:48:45.633894",
     "exception": false,
     "start_time": "2023-06-06T07:48:45.594919",
     "status": "completed"
    },
    "tags": []
   },
   "outputs": [
    {
     "data": {
      "text/html": [
       "<div>\n",
       "<style scoped>\n",
       "    .dataframe tbody tr th:only-of-type {\n",
       "        vertical-align: middle;\n",
       "    }\n",
       "\n",
       "    .dataframe tbody tr th {\n",
       "        vertical-align: top;\n",
       "    }\n",
       "\n",
       "    .dataframe thead th {\n",
       "        text-align: right;\n",
       "    }\n",
       "</style>\n",
       "<table border=\"1\" class=\"dataframe\">\n",
       "  <thead>\n",
       "    <tr style=\"text-align: right;\">\n",
       "      <th></th>\n",
       "      <th>date</th>\n",
       "      <th>meantemp</th>\n",
       "      <th>humidity</th>\n",
       "      <th>wind_speed</th>\n",
       "      <th>meanpressure</th>\n",
       "    </tr>\n",
       "  </thead>\n",
       "  <tbody>\n",
       "    <tr>\n",
       "      <th>0</th>\n",
       "      <td>2013-01-01</td>\n",
       "      <td>10.000000</td>\n",
       "      <td>84.500000</td>\n",
       "      <td>0.000000</td>\n",
       "      <td>1015.666667</td>\n",
       "    </tr>\n",
       "    <tr>\n",
       "      <th>1</th>\n",
       "      <td>2013-01-02</td>\n",
       "      <td>7.400000</td>\n",
       "      <td>92.000000</td>\n",
       "      <td>2.980000</td>\n",
       "      <td>1017.800000</td>\n",
       "    </tr>\n",
       "    <tr>\n",
       "      <th>2</th>\n",
       "      <td>2013-01-03</td>\n",
       "      <td>7.166667</td>\n",
       "      <td>87.000000</td>\n",
       "      <td>4.633333</td>\n",
       "      <td>1018.666667</td>\n",
       "    </tr>\n",
       "    <tr>\n",
       "      <th>3</th>\n",
       "      <td>2013-01-04</td>\n",
       "      <td>8.666667</td>\n",
       "      <td>71.333333</td>\n",
       "      <td>1.233333</td>\n",
       "      <td>1017.166667</td>\n",
       "    </tr>\n",
       "    <tr>\n",
       "      <th>4</th>\n",
       "      <td>2013-01-05</td>\n",
       "      <td>6.000000</td>\n",
       "      <td>86.833333</td>\n",
       "      <td>3.700000</td>\n",
       "      <td>1016.500000</td>\n",
       "    </tr>\n",
       "  </tbody>\n",
       "</table>\n",
       "</div>"
      ],
      "text/plain": [
       "         date   meantemp   humidity  wind_speed  meanpressure\n",
       "0  2013-01-01  10.000000  84.500000    0.000000   1015.666667\n",
       "1  2013-01-02   7.400000  92.000000    2.980000   1017.800000\n",
       "2  2013-01-03   7.166667  87.000000    4.633333   1018.666667\n",
       "3  2013-01-04   8.666667  71.333333    1.233333   1017.166667\n",
       "4  2013-01-05   6.000000  86.833333    3.700000   1016.500000"
      ]
     },
     "execution_count": 2,
     "metadata": {},
     "output_type": "execute_result"
    }
   ],
   "source": [
    "import pandas  as pd\n",
    "train_df = pd.read_csv(path_append + '../data/Daily Climate/DailyDelhiClimateTrain.csv')\n",
    "test_df = pd.read_csv(path_append + '../data/Daily Climate/DailyDelhiClimateTest.csv')\n",
    "train_df.head()"
   ]
  },
  {
   "attachments": {},
   "cell_type": "markdown",
   "id": "e96bc665",
   "metadata": {
    "papermill": {
     "duration": 0.013688,
     "end_time": "2023-06-06T07:48:47.482824",
     "exception": false,
     "start_time": "2023-06-06T07:48:47.469136",
     "status": "completed"
    },
    "tags": []
   },
   "source": [
    "<a id=\"2\"></a>\n",
    "> <h1 style = 'font-family: Times New Roman'><b> <b style = 'color: #4290f5'>2.</b> Modeling: Preprocess </b></h1>"
   ]
  },
  {
   "cell_type": "code",
   "execution_count": 3,
   "id": "98f3898b",
   "metadata": {
    "execution": {
     "iopub.execute_input": "2023-06-06T07:48:47.430173Z",
     "iopub.status.busy": "2023-06-06T07:48:47.429869Z",
     "iopub.status.idle": "2023-06-06T07:48:47.452861Z",
     "shell.execute_reply": "2023-06-06T07:48:47.451873Z"
    },
    "papermill": {
     "duration": 0.040115,
     "end_time": "2023-06-06T07:48:47.455226",
     "exception": false,
     "start_time": "2023-06-06T07:48:47.415111",
     "status": "completed"
    },
    "tags": []
   },
   "outputs": [
    {
     "name": "stdout",
     "output_type": "stream",
     "text": [
      "Train set \n",
      "\n",
      "\n"
     ]
    },
    {
     "data": {
      "text/html": [
       "<div>\n",
       "<style scoped>\n",
       "    .dataframe tbody tr th:only-of-type {\n",
       "        vertical-align: middle;\n",
       "    }\n",
       "\n",
       "    .dataframe tbody tr th {\n",
       "        vertical-align: top;\n",
       "    }\n",
       "\n",
       "    .dataframe thead th {\n",
       "        text-align: right;\n",
       "    }\n",
       "</style>\n",
       "<table border=\"1\" class=\"dataframe\">\n",
       "  <thead>\n",
       "    <tr style=\"text-align: right;\">\n",
       "      <th></th>\n",
       "      <th>date</th>\n",
       "      <th>meantemp</th>\n",
       "      <th>humidity</th>\n",
       "      <th>wind_speed</th>\n",
       "      <th>meanpressure</th>\n",
       "    </tr>\n",
       "  </thead>\n",
       "  <tbody>\n",
       "    <tr>\n",
       "      <th>0</th>\n",
       "      <td>2013-01-01</td>\n",
       "      <td>10.000000</td>\n",
       "      <td>84.500000</td>\n",
       "      <td>0.000000</td>\n",
       "      <td>1015.666667</td>\n",
       "    </tr>\n",
       "    <tr>\n",
       "      <th>1</th>\n",
       "      <td>2013-01-02</td>\n",
       "      <td>7.400000</td>\n",
       "      <td>92.000000</td>\n",
       "      <td>2.980000</td>\n",
       "      <td>1017.800000</td>\n",
       "    </tr>\n",
       "    <tr>\n",
       "      <th>2</th>\n",
       "      <td>2013-01-03</td>\n",
       "      <td>7.166667</td>\n",
       "      <td>87.000000</td>\n",
       "      <td>4.633333</td>\n",
       "      <td>1018.666667</td>\n",
       "    </tr>\n",
       "    <tr>\n",
       "      <th>3</th>\n",
       "      <td>2013-01-04</td>\n",
       "      <td>8.666667</td>\n",
       "      <td>71.333333</td>\n",
       "      <td>1.233333</td>\n",
       "      <td>1017.166667</td>\n",
       "    </tr>\n",
       "    <tr>\n",
       "      <th>4</th>\n",
       "      <td>2013-01-05</td>\n",
       "      <td>6.000000</td>\n",
       "      <td>86.833333</td>\n",
       "      <td>3.700000</td>\n",
       "      <td>1016.500000</td>\n",
       "    </tr>\n",
       "  </tbody>\n",
       "</table>\n",
       "</div>"
      ],
      "text/plain": [
       "         date   meantemp   humidity  wind_speed  meanpressure\n",
       "0  2013-01-01  10.000000  84.500000    0.000000   1015.666667\n",
       "1  2013-01-02   7.400000  92.000000    2.980000   1017.800000\n",
       "2  2013-01-03   7.166667  87.000000    4.633333   1018.666667\n",
       "3  2013-01-04   8.666667  71.333333    1.233333   1017.166667\n",
       "4  2013-01-05   6.000000  86.833333    3.700000   1016.500000"
      ]
     },
     "execution_count": 3,
     "metadata": {},
     "output_type": "execute_result"
    }
   ],
   "source": [
    "print('Train set \\n\\n')\n",
    "train_df.head()"
   ]
  },
  {
   "cell_type": "code",
   "execution_count": 4,
   "id": "7acbfacc",
   "metadata": {},
   "outputs": [
    {
     "name": "stdout",
     "output_type": "stream",
     "text": [
      "    meantemp   humidity  wind_speed  meanpressure  year  month  day\n",
      "0  10.000000  84.500000    0.000000   1015.666667     0      1    1\n",
      "1   7.400000  92.000000    2.980000   1017.800000     0      1    2\n",
      "2   7.166667  87.000000    4.633333   1018.666667     0      1    3\n",
      "3   8.666667  71.333333    1.233333   1017.166667     0      1    4\n",
      "4   6.000000  86.833333    3.700000   1016.500000     0      1    5\n",
      "    meantemp   humidity  wind_speed  meanpressure  year  month  day\n",
      "0  15.913043  85.869565    2.743478     59.000000     0      1    1\n",
      "1  18.500000  77.222222    2.894444   1018.277778     0      1    2\n",
      "2  17.111111  81.888889    4.016667   1018.333333     0      1    3\n",
      "3  18.700000  70.050000    4.545000   1015.700000     0      1    4\n",
      "4  18.388889  74.944444    3.300000   1014.333333     0      1    5\n"
     ]
    }
   ],
   "source": [
    "from datetime import datetime\n",
    "import pandas as pd\n",
    "\n",
    "# extract the year, month and day from the date column and drop the date column\n",
    "def extract_date_parts(date):\n",
    "    date_obj = datetime.strptime(date, '%Y-%m-%d')\n",
    "    return date_obj.year, date_obj.month, date_obj.day\n",
    "\n",
    "train_df[['year', 'month', 'day']] = train_df['date'].apply(\n",
    "    lambda x: pd.Series(extract_date_parts(x))\n",
    ")\n",
    "test_df[['year', 'month', 'day']] = test_df['date'].apply(\n",
    "    lambda x: pd.Series(extract_date_parts(x))\n",
    ")\n",
    "\n",
    "train_df.drop('date', axis=1, inplace=True)\n",
    "test_df.drop('date', axis=1, inplace=True)\n",
    "\n",
    "# Convert the year column to categorical\n",
    "train_df['year'] = train_df['year'].astype('category').cat.codes\n",
    "test_df['year'] = test_df['year'].astype('category').cat.codes\n",
    "\n",
    "print(train_df.head())\n",
    "print(test_df.head())"
   ]
  },
  {
   "cell_type": "code",
   "execution_count": 5,
   "id": "959070da",
   "metadata": {
    "execution": {
     "iopub.execute_input": "2023-06-06T07:48:47.512131Z",
     "iopub.status.busy": "2023-06-06T07:48:47.511830Z",
     "iopub.status.idle": "2023-06-06T07:48:47.529581Z",
     "shell.execute_reply": "2023-06-06T07:48:47.528569Z"
    },
    "papermill": {
     "duration": 0.035184,
     "end_time": "2023-06-06T07:48:47.531950",
     "exception": false,
     "start_time": "2023-06-06T07:48:47.496766",
     "status": "completed"
    },
    "tags": []
   },
   "outputs": [
    {
     "name": "stderr",
     "output_type": "stream",
     "text": [
      "C:\\Users\\CCN-team\\AppData\\Local\\Temp\\ipykernel_29700\\671890747.py:15: FutureWarning: Setting an item of incompatible dtype is deprecated and will raise in a future error of pandas. Value '0       0.0\n",
      "1       0.0\n",
      "2       0.0\n",
      "3       0.0\n",
      "4       0.0\n",
      "       ... \n",
      "1457    3.0\n",
      "1458    3.0\n",
      "1459    3.0\n",
      "1460    3.0\n",
      "1461    4.0\n",
      "Name: year, Length: 1462, dtype: float64' has dtype incompatible with int8, please explicitly cast to a compatible dtype first.\n",
      "  train_df.iloc[:, -3] = train_df.iloc[:, -3].astype(float)\n",
      "C:\\Users\\CCN-team\\AppData\\Local\\Temp\\ipykernel_29700\\671890747.py:16: FutureWarning: Setting an item of incompatible dtype is deprecated and will raise in a future error of pandas. Value '0      0.0\n",
      "1      0.0\n",
      "2      0.0\n",
      "3      0.0\n",
      "4      0.0\n",
      "      ... \n",
      "109    0.0\n",
      "110    0.0\n",
      "111    0.0\n",
      "112    0.0\n",
      "113    0.0\n",
      "Name: year, Length: 114, dtype: float64' has dtype incompatible with int8, please explicitly cast to a compatible dtype first.\n",
      "  test_df.iloc[:, -3] = test_df.iloc[:, -3].astype(float)\n"
     ]
    }
   ],
   "source": [
    "import pandas as pd\n",
    "from sklearn.preprocessing import MinMaxScaler, RobustScaler\n",
    "\n",
    "# Assuming train_df and test_df are pandas DataFrames\n",
    "\n",
    "# Initialize scalers\n",
    "robust_scaler = RobustScaler()\n",
    "min_max_scaler = MinMaxScaler(feature_range = (0, 1))\n",
    "\n",
    "# Apply StandardScaler to all but the last column\n",
    "train_df.iloc[:, 1:-3] = robust_scaler.fit_transform(train_df.iloc[:, 1:-3].astype(float))\n",
    "test_df.iloc[:, 1:-3] = robust_scaler.transform(test_df.iloc[:, 1:-3].astype(float))\n",
    "\n",
    "# Ensure the last three columns are converted to float\n",
    "train_df.iloc[:, -3] = train_df.iloc[:, -3].astype(float)\n",
    "test_df.iloc[:, -3] = test_df.iloc[:, -3].astype(float)\n",
    "\n",
    "# Apply MinMaxScaler to the last column\n",
    "train_df.iloc[:, :1] =  min_max_scaler.fit_transform(train_df.iloc[:, :1].values.reshape(-1, 1))\n",
    "test_df.iloc[:, :1] = min_max_scaler.transform(test_df.iloc[:, :1].values.reshape(-1, 1))\n",
    "\n",
    "# Verification of the number of features\n",
    "num_features = train_df.shape[1]\n"
   ]
  },
  {
   "cell_type": "code",
   "execution_count": 6,
   "id": "4ce90a1a",
   "metadata": {},
   "outputs": [
    {
     "data": {
      "text/html": [
       "<div>\n",
       "<style scoped>\n",
       "    .dataframe tbody tr th:only-of-type {\n",
       "        vertical-align: middle;\n",
       "    }\n",
       "\n",
       "    .dataframe tbody tr th {\n",
       "        vertical-align: top;\n",
       "    }\n",
       "\n",
       "    .dataframe thead th {\n",
       "        text-align: right;\n",
       "    }\n",
       "</style>\n",
       "<table border=\"1\" class=\"dataframe\">\n",
       "  <thead>\n",
       "    <tr style=\"text-align: right;\">\n",
       "      <th></th>\n",
       "      <th>meantemp</th>\n",
       "      <th>humidity</th>\n",
       "      <th>wind_speed</th>\n",
       "      <th>meanpressure</th>\n",
       "      <th>year</th>\n",
       "      <th>month</th>\n",
       "      <th>day</th>\n",
       "    </tr>\n",
       "  </thead>\n",
       "  <tbody>\n",
       "    <tr>\n",
       "      <th>0</th>\n",
       "      <td>0.122271</td>\n",
       "      <td>1.001431</td>\n",
       "      <td>-1.079544</td>\n",
       "      <td>0.531494</td>\n",
       "      <td>0.0</td>\n",
       "      <td>1</td>\n",
       "      <td>1</td>\n",
       "    </tr>\n",
       "    <tr>\n",
       "      <th>1</th>\n",
       "      <td>0.042795</td>\n",
       "      <td>1.344778</td>\n",
       "      <td>-0.562473</td>\n",
       "      <td>0.691120</td>\n",
       "      <td>0.0</td>\n",
       "      <td>1</td>\n",
       "      <td>2</td>\n",
       "    </tr>\n",
       "    <tr>\n",
       "      <th>2</th>\n",
       "      <td>0.035662</td>\n",
       "      <td>1.115880</td>\n",
       "      <td>-0.275598</td>\n",
       "      <td>0.755969</td>\n",
       "      <td>0.0</td>\n",
       "      <td>1</td>\n",
       "      <td>3</td>\n",
       "    </tr>\n",
       "    <tr>\n",
       "      <th>3</th>\n",
       "      <td>0.081514</td>\n",
       "      <td>0.398665</td>\n",
       "      <td>-0.865544</td>\n",
       "      <td>0.643731</td>\n",
       "      <td>0.0</td>\n",
       "      <td>1</td>\n",
       "      <td>4</td>\n",
       "    </tr>\n",
       "    <tr>\n",
       "      <th>4</th>\n",
       "      <td>0.000000</td>\n",
       "      <td>1.108250</td>\n",
       "      <td>-0.437544</td>\n",
       "      <td>0.593848</td>\n",
       "      <td>0.0</td>\n",
       "      <td>1</td>\n",
       "      <td>5</td>\n",
       "    </tr>\n",
       "    <tr>\n",
       "      <th>...</th>\n",
       "      <td>...</td>\n",
       "      <td>...</td>\n",
       "      <td>...</td>\n",
       "      <td>...</td>\n",
       "      <td>...</td>\n",
       "      <td>...</td>\n",
       "      <td>...</td>\n",
       "    </tr>\n",
       "    <tr>\n",
       "      <th>1457</th>\n",
       "      <td>0.342890</td>\n",
       "      <td>0.248056</td>\n",
       "      <td>-0.463948</td>\n",
       "      <td>0.523903</td>\n",
       "      <td>3.0</td>\n",
       "      <td>12</td>\n",
       "      <td>28</td>\n",
       "    </tr>\n",
       "    <tr>\n",
       "      <th>1458</th>\n",
       "      <td>0.282387</td>\n",
       "      <td>1.155120</td>\n",
       "      <td>-0.038462</td>\n",
       "      <td>0.624134</td>\n",
       "      <td>3.0</td>\n",
       "      <td>12</td>\n",
       "      <td>29</td>\n",
       "    </tr>\n",
       "    <tr>\n",
       "      <th>1459</th>\n",
       "      <td>0.247453</td>\n",
       "      <td>1.237959</td>\n",
       "      <td>0.007808</td>\n",
       "      <td>0.698959</td>\n",
       "      <td>3.0</td>\n",
       "      <td>12</td>\n",
       "      <td>30</td>\n",
       "    </tr>\n",
       "    <tr>\n",
       "      <th>1460</th>\n",
       "      <td>0.276718</td>\n",
       "      <td>1.115880</td>\n",
       "      <td>0.191443</td>\n",
       "      <td>0.563918</td>\n",
       "      <td>3.0</td>\n",
       "      <td>12</td>\n",
       "      <td>31</td>\n",
       "    </tr>\n",
       "    <tr>\n",
       "      <th>1461</th>\n",
       "      <td>0.122271</td>\n",
       "      <td>1.711016</td>\n",
       "      <td>-1.079544</td>\n",
       "      <td>0.556436</td>\n",
       "      <td>4.0</td>\n",
       "      <td>1</td>\n",
       "      <td>1</td>\n",
       "    </tr>\n",
       "  </tbody>\n",
       "</table>\n",
       "<p>1462 rows × 7 columns</p>\n",
       "</div>"
      ],
      "text/plain": [
       "      meantemp  humidity  wind_speed  meanpressure  year  month  day\n",
       "0     0.122271  1.001431   -1.079544      0.531494   0.0      1    1\n",
       "1     0.042795  1.344778   -0.562473      0.691120   0.0      1    2\n",
       "2     0.035662  1.115880   -0.275598      0.755969   0.0      1    3\n",
       "3     0.081514  0.398665   -0.865544      0.643731   0.0      1    4\n",
       "4     0.000000  1.108250   -0.437544      0.593848   0.0      1    5\n",
       "...        ...       ...         ...           ...   ...    ...  ...\n",
       "1457  0.342890  0.248056   -0.463948      0.523903   3.0     12   28\n",
       "1458  0.282387  1.155120   -0.038462      0.624134   3.0     12   29\n",
       "1459  0.247453  1.237959    0.007808      0.698959   3.0     12   30\n",
       "1460  0.276718  1.115880    0.191443      0.563918   3.0     12   31\n",
       "1461  0.122271  1.711016   -1.079544      0.556436   4.0      1    1\n",
       "\n",
       "[1462 rows x 7 columns]"
      ]
     },
     "execution_count": 6,
     "metadata": {},
     "output_type": "execute_result"
    }
   ],
   "source": [
    "train_df"
   ]
  },
  {
   "cell_type": "code",
   "execution_count": 7,
   "id": "fe1d6169",
   "metadata": {
    "execution": {
     "iopub.execute_input": "2023-06-06T07:48:47.561153Z",
     "iopub.status.busy": "2023-06-06T07:48:47.560859Z",
     "iopub.status.idle": "2023-06-06T07:48:47.614267Z",
     "shell.execute_reply": "2023-06-06T07:48:47.613108Z"
    },
    "papermill": {
     "duration": 0.07063,
     "end_time": "2023-06-06T07:48:47.616557",
     "exception": false,
     "start_time": "2023-06-06T07:48:47.545927",
     "status": "completed"
    },
    "tags": []
   },
   "outputs": [],
   "source": [
    "import torch\n",
    "from torch.utils.data import Dataset\n",
    "import random\n",
    "\n",
    "class SequentialDataset(Dataset):\n",
    "    def __init__(self, df, indices, max_window_size):\n",
    "        self.df = df\n",
    "        self.indices = indices\n",
    "        self.max_window_size = max_window_size\n",
    "        self.min_window_size = max_window_size // 2\n",
    "\n",
    "    def __len__(self):\n",
    "        return len(self.indices)\n",
    "\n",
    "    def __getitem__(self, idx):\n",
    "        start_idx = self.indices[idx]\n",
    "        # window_size = random.randint(self.min_window_size, self.max_window_size)\n",
    "        window_size = self.max_window_size\n",
    "        end_idx = min(start_idx + window_size, len(self.df))\n",
    "\n",
    "        seq = self.df.iloc[start_idx:end_idx]\n",
    "        X, y = seq.values[:-1, :], seq.values[1:, :1] # mean temperature is the last column\n",
    "\n",
    "        X = torch.tensor(X, dtype=torch.float32)\n",
    "        y = torch.tensor(y, dtype=torch.float32)\n",
    "        return X, y"
   ]
  },
  {
   "cell_type": "code",
   "execution_count": 8,
   "id": "5bfef904",
   "metadata": {
    "execution": {
     "iopub.execute_input": "2023-06-06T07:48:47.646918Z",
     "iopub.status.busy": "2023-06-06T07:48:47.646590Z",
     "iopub.status.idle": "2023-06-06T07:48:47.653608Z",
     "shell.execute_reply": "2023-06-06T07:48:47.652474Z"
    },
    "papermill": {
     "duration": 0.024645,
     "end_time": "2023-06-06T07:48:47.655918",
     "exception": false,
     "start_time": "2023-06-06T07:48:47.631273",
     "status": "completed"
    },
    "tags": []
   },
   "outputs": [
    {
     "name": "stdout",
     "output_type": "stream",
     "text": [
      "train df shape:  (1462, 7)\n",
      "test df shape:  (114, 7)\n",
      "Train indices:  1456\n",
      "Test indices:  108\n"
     ]
    }
   ],
   "source": [
    "from random import shuffle\n",
    "\n",
    "# Assume 'df' is your DataFrame and 'event' is the column containing labels\n",
    "\n",
    "def generate_indices(df, max_window_size):\n",
    "    indices = []\n",
    "    max_index = len(df) - max_window_size + 1  # Calculate the maximum starting index\n",
    "    \n",
    "    for i in range(max_index):\n",
    "        # Check if all labels in the window are the same\n",
    "        indices.append(i)\n",
    "    \n",
    "    return indices\n",
    "\n",
    "# Assuming 'df' and 'num_classes' are defined\n",
    "max_window_size = 7\n",
    "train_indices = generate_indices(train_df, max_window_size)\n",
    "test_indices = generate_indices(test_df, max_window_size)\n",
    "\n",
    "print('train df shape: ', train_df.shape)\n",
    "print('test df shape: ', test_df.shape)\n",
    "print('Train indices: ', len(train_indices))\n",
    "print('Test indices: ', len(test_indices))\n",
    "\n",
    "trainset = SequentialDataset(df=train_df, indices=train_indices, max_window_size=max_window_size)\n",
    "testset = SequentialDataset(df=test_df, indices=test_indices, max_window_size=max_window_size)"
   ]
  },
  {
   "cell_type": "code",
   "execution_count": 9,
   "id": "ecea8703",
   "metadata": {},
   "outputs": [
    {
     "data": {
      "text/html": [
       "<div>\n",
       "<style scoped>\n",
       "    .dataframe tbody tr th:only-of-type {\n",
       "        vertical-align: middle;\n",
       "    }\n",
       "\n",
       "    .dataframe tbody tr th {\n",
       "        vertical-align: top;\n",
       "    }\n",
       "\n",
       "    .dataframe thead th {\n",
       "        text-align: right;\n",
       "    }\n",
       "</style>\n",
       "<table border=\"1\" class=\"dataframe\">\n",
       "  <thead>\n",
       "    <tr style=\"text-align: right;\">\n",
       "      <th></th>\n",
       "      <th>meantemp</th>\n",
       "      <th>humidity</th>\n",
       "      <th>wind_speed</th>\n",
       "      <th>meanpressure</th>\n",
       "      <th>year</th>\n",
       "      <th>month</th>\n",
       "      <th>day</th>\n",
       "    </tr>\n",
       "  </thead>\n",
       "  <tbody>\n",
       "    <tr>\n",
       "      <th>0</th>\n",
       "      <td>0.122271</td>\n",
       "      <td>1.001431</td>\n",
       "      <td>-1.079544</td>\n",
       "      <td>0.531494</td>\n",
       "      <td>0.0</td>\n",
       "      <td>1</td>\n",
       "      <td>1</td>\n",
       "    </tr>\n",
       "    <tr>\n",
       "      <th>1</th>\n",
       "      <td>0.042795</td>\n",
       "      <td>1.344778</td>\n",
       "      <td>-0.562473</td>\n",
       "      <td>0.691120</td>\n",
       "      <td>0.0</td>\n",
       "      <td>1</td>\n",
       "      <td>2</td>\n",
       "    </tr>\n",
       "    <tr>\n",
       "      <th>2</th>\n",
       "      <td>0.035662</td>\n",
       "      <td>1.115880</td>\n",
       "      <td>-0.275598</td>\n",
       "      <td>0.755969</td>\n",
       "      <td>0.0</td>\n",
       "      <td>1</td>\n",
       "      <td>3</td>\n",
       "    </tr>\n",
       "    <tr>\n",
       "      <th>3</th>\n",
       "      <td>0.081514</td>\n",
       "      <td>0.398665</td>\n",
       "      <td>-0.865544</td>\n",
       "      <td>0.643731</td>\n",
       "      <td>0.0</td>\n",
       "      <td>1</td>\n",
       "      <td>4</td>\n",
       "    </tr>\n",
       "    <tr>\n",
       "      <th>4</th>\n",
       "      <td>0.000000</td>\n",
       "      <td>1.108250</td>\n",
       "      <td>-0.437544</td>\n",
       "      <td>0.593848</td>\n",
       "      <td>0.0</td>\n",
       "      <td>1</td>\n",
       "      <td>5</td>\n",
       "    </tr>\n",
       "    <tr>\n",
       "      <th>...</th>\n",
       "      <td>...</td>\n",
       "      <td>...</td>\n",
       "      <td>...</td>\n",
       "      <td>...</td>\n",
       "      <td>...</td>\n",
       "      <td>...</td>\n",
       "      <td>...</td>\n",
       "    </tr>\n",
       "    <tr>\n",
       "      <th>1457</th>\n",
       "      <td>0.342890</td>\n",
       "      <td>0.248056</td>\n",
       "      <td>-0.463948</td>\n",
       "      <td>0.523903</td>\n",
       "      <td>3.0</td>\n",
       "      <td>12</td>\n",
       "      <td>28</td>\n",
       "    </tr>\n",
       "    <tr>\n",
       "      <th>1458</th>\n",
       "      <td>0.282387</td>\n",
       "      <td>1.155120</td>\n",
       "      <td>-0.038462</td>\n",
       "      <td>0.624134</td>\n",
       "      <td>3.0</td>\n",
       "      <td>12</td>\n",
       "      <td>29</td>\n",
       "    </tr>\n",
       "    <tr>\n",
       "      <th>1459</th>\n",
       "      <td>0.247453</td>\n",
       "      <td>1.237959</td>\n",
       "      <td>0.007808</td>\n",
       "      <td>0.698959</td>\n",
       "      <td>3.0</td>\n",
       "      <td>12</td>\n",
       "      <td>30</td>\n",
       "    </tr>\n",
       "    <tr>\n",
       "      <th>1460</th>\n",
       "      <td>0.276718</td>\n",
       "      <td>1.115880</td>\n",
       "      <td>0.191443</td>\n",
       "      <td>0.563918</td>\n",
       "      <td>3.0</td>\n",
       "      <td>12</td>\n",
       "      <td>31</td>\n",
       "    </tr>\n",
       "    <tr>\n",
       "      <th>1461</th>\n",
       "      <td>0.122271</td>\n",
       "      <td>1.711016</td>\n",
       "      <td>-1.079544</td>\n",
       "      <td>0.556436</td>\n",
       "      <td>4.0</td>\n",
       "      <td>1</td>\n",
       "      <td>1</td>\n",
       "    </tr>\n",
       "  </tbody>\n",
       "</table>\n",
       "<p>1462 rows × 7 columns</p>\n",
       "</div>"
      ],
      "text/plain": [
       "      meantemp  humidity  wind_speed  meanpressure  year  month  day\n",
       "0     0.122271  1.001431   -1.079544      0.531494   0.0      1    1\n",
       "1     0.042795  1.344778   -0.562473      0.691120   0.0      1    2\n",
       "2     0.035662  1.115880   -0.275598      0.755969   0.0      1    3\n",
       "3     0.081514  0.398665   -0.865544      0.643731   0.0      1    4\n",
       "4     0.000000  1.108250   -0.437544      0.593848   0.0      1    5\n",
       "...        ...       ...         ...           ...   ...    ...  ...\n",
       "1457  0.342890  0.248056   -0.463948      0.523903   3.0     12   28\n",
       "1458  0.282387  1.155120   -0.038462      0.624134   3.0     12   29\n",
       "1459  0.247453  1.237959    0.007808      0.698959   3.0     12   30\n",
       "1460  0.276718  1.115880    0.191443      0.563918   3.0     12   31\n",
       "1461  0.122271  1.711016   -1.079544      0.556436   4.0      1    1\n",
       "\n",
       "[1462 rows x 7 columns]"
      ]
     },
     "execution_count": 9,
     "metadata": {},
     "output_type": "execute_result"
    }
   ],
   "source": [
    "train_df"
   ]
  },
  {
   "attachments": {},
   "cell_type": "markdown",
   "id": "0afd0de6",
   "metadata": {
    "papermill": {
     "duration": 0.013979,
     "end_time": "2023-06-06T07:48:47.684234",
     "exception": false,
     "start_time": "2023-06-06T07:48:47.670255",
     "status": "completed"
    },
    "tags": []
   },
   "source": [
    "<a id=\"3\"></a>\n",
    "> <h1 style = 'font-family: Times New Roman'><b> <b style = 'color: #427bf5'>3.</b> Modeling</b></h1>"
   ]
  },
  {
   "cell_type": "code",
   "execution_count": 10,
   "id": "e30c7982",
   "metadata": {
    "execution": {
     "iopub.execute_input": "2023-06-06T07:48:47.810201Z",
     "iopub.status.busy": "2023-06-06T07:48:47.809899Z",
     "iopub.status.idle": "2023-06-06T07:48:47.838881Z",
     "shell.execute_reply": "2023-06-06T07:48:47.837946Z"
    },
    "papermill": {
     "duration": 0.046557,
     "end_time": "2023-06-06T07:48:47.841396",
     "exception": false,
     "start_time": "2023-06-06T07:48:47.794839",
     "status": "completed"
    },
    "tags": []
   },
   "outputs": [
    {
     "name": "stderr",
     "output_type": "stream",
     "text": [
      "Failed to detect the name of this notebook, you can set it manually with the WANDB_NOTEBOOK_NAME environment variable to enable code saving.\n",
      "\u001b[34m\u001b[1mwandb\u001b[0m: Currently logged in as: \u001b[33mjeongyoong\u001b[0m. Use \u001b[1m`wandb login --relogin`\u001b[0m to force relogin\n"
     ]
    },
    {
     "data": {
      "text/html": [
       "wandb version 0.17.0 is available!  To upgrade, please run:\n",
       " $ pip install wandb --upgrade"
      ],
      "text/plain": [
       "<IPython.core.display.HTML object>"
      ]
     },
     "metadata": {},
     "output_type": "display_data"
    },
    {
     "data": {
      "text/html": [
       "Tracking run with wandb version 0.16.3"
      ],
      "text/plain": [
       "<IPython.core.display.HTML object>"
      ]
     },
     "metadata": {},
     "output_type": "display_data"
    },
    {
     "data": {
      "text/html": [
       "Run data is saved locally in <code>c:\\Users\\CCN-team\\Projects\\causal-learning\\examples\\wandb\\run-20240514_161837-mkrg2n91</code>"
      ],
      "text/plain": [
       "<IPython.core.display.HTML object>"
      ]
     },
     "metadata": {},
     "output_type": "display_data"
    },
    {
     "data": {
      "text/html": [
       "Syncing run <strong><a href='https://wandb.ai/jeongyoong/causal-learning/runs/mkrg2n91' target=\"_blank\">causal_learning-daily-delhi-climate : 24-05-14 16:18:33</a></strong> to <a href='https://wandb.ai/jeongyoong/causal-learning' target=\"_blank\">Weights & Biases</a> (<a href='https://wandb.me/run' target=\"_blank\">docs</a>)<br/>"
      ],
      "text/plain": [
       "<IPython.core.display.HTML object>"
      ]
     },
     "metadata": {},
     "output_type": "display_data"
    },
    {
     "data": {
      "text/html": [
       " View project at <a href='https://wandb.ai/jeongyoong/causal-learning' target=\"_blank\">https://wandb.ai/jeongyoong/causal-learning</a>"
      ],
      "text/plain": [
       "<IPython.core.display.HTML object>"
      ]
     },
     "metadata": {},
     "output_type": "display_data"
    },
    {
     "data": {
      "text/html": [
       " View run at <a href='https://wandb.ai/jeongyoong/causal-learning/runs/mkrg2n91' target=\"_blank\">https://wandb.ai/jeongyoong/causal-learning/runs/mkrg2n91</a>"
      ],
      "text/plain": [
       "<IPython.core.display.HTML object>"
      ]
     },
     "metadata": {},
     "output_type": "display_data"
    },
    {
     "name": "stderr",
     "output_type": "stream",
     "text": [
      "\u001b[34m\u001b[1mwandb\u001b[0m: Adding directory to artifact (.\\..\\saved\\daily-delhi-climate\\causal_learning)... Done. 0.0s\n"
     ]
    }
   ],
   "source": [
    "from tools.setting.data_config import DataConfig\n",
    "from tools.setting.ml_params import MLParameters\n",
    "from trainer_hub import TrainerHub\n",
    "\n",
    "data_config = DataConfig(dataset_name = 'daily-delhi-climate', task_type='regression', obs_shape=[num_features], label_size=1)\n",
    "\n",
    "#  Set training configuration from the AlgorithmConfig class, returning them as a Namespace object.\n",
    "ml_params = MLParameters(core_model = 'gpt', encoder_model = 'none')\n",
    "\n",
    "ml_params.num_epoch = 100\n",
    "ml_params.model.core_config.dropout = 0.1\n",
    "ml_params.optimization.decay_rate_100k = 0.001\n",
    "\n",
    "# Set the device to GPU if available, else CPU\n",
    "device = torch.device(\"cuda\" if torch.cuda.is_available() else \"cpu\") \n",
    "\n",
    "# Initialize the TrainerHub class with the training configuration, data configuration, device, and use_print and use_wandb flags\n",
    "trainer_hub = TrainerHub(ml_params, data_config, device, use_print=True, use_wandb=True) "
   ]
  },
  {
   "cell_type": "code",
   "execution_count": 11,
   "id": "097ad7b1",
   "metadata": {},
   "outputs": [
    {
     "data": {
      "application/vnd.jupyter.widget-view+json": {
       "model_id": "c7029a7e8f96427bb2ec51d4968e7f65",
       "version_major": 2,
       "version_minor": 0
      },
      "text/plain": [
       "Epochs:   0%|          | 0/100 [00:00<?, ?it/s]"
      ]
     },
     "metadata": {},
     "output_type": "display_data"
    },
    {
     "data": {
      "application/vnd.jupyter.widget-view+json": {
       "model_id": "faf39570c6e1486482e9580da5045320",
       "version_major": 2,
       "version_minor": 0
      },
      "text/plain": [
       "Iterations:   0%|          | 0/22 [00:00<?, ?it/s]"
      ]
     },
     "metadata": {},
     "output_type": "display_data"
    },
    {
     "data": {
      "application/vnd.jupyter.widget-view+json": {
       "model_id": "2e5c5979b39b4b3d81bd19088ecae49b",
       "version_major": 2,
       "version_minor": 0
      },
      "text/plain": [
       "Iterations:   0%|          | 0/22 [00:00<?, ?it/s]"
      ]
     },
     "metadata": {},
     "output_type": "display_data"
    },
    {
     "data": {
      "application/vnd.jupyter.widget-view+json": {
       "model_id": "14193ef247d3440aaa917f8b9dc62252",
       "version_major": 2,
       "version_minor": 0
      },
      "text/plain": [
       "Iterations:   0%|          | 0/22 [00:00<?, ?it/s]"
      ]
     },
     "metadata": {},
     "output_type": "display_data"
    },
    {
     "name": "stdout",
     "output_type": "stream",
     "text": [
      "[2/100][6/22][Time 5.59]\n",
      "Unified LR across all optimizers: 0.0001992966486266836\n",
      "--------------------Training Metrics--------------------\n",
      "Trainer:  gpt\n",
      "Inf: 0.0186\tGen: 2.0039\tRec: 2.0041\tE: 0.0184\tR: 0.0187\tP: 3.9894\n",
      "--------------------Test Metrics------------------------\n",
      "mse: 15.6113\n",
      "mae: 3.8997\n",
      "r2: -402.1982\n",
      "\n"
     ]
    },
    {
     "data": {
      "application/vnd.jupyter.widget-view+json": {
       "model_id": "9d7213fa62fe473f9af1a11dc6d1ec96",
       "version_major": 2,
       "version_minor": 0
      },
      "text/plain": [
       "Iterations:   0%|          | 0/22 [00:00<?, ?it/s]"
      ]
     },
     "metadata": {},
     "output_type": "display_data"
    },
    {
     "data": {
      "application/vnd.jupyter.widget-view+json": {
       "model_id": "18664d8b9755498dbfd5e6f16783e53b",
       "version_major": 2,
       "version_minor": 0
      },
      "text/plain": [
       "Iterations:   0%|          | 0/22 [00:00<?, ?it/s]"
      ]
     },
     "metadata": {},
     "output_type": "display_data"
    },
    {
     "name": "stdout",
     "output_type": "stream",
     "text": [
      "[4/100][12/22][Time 5.11]\n",
      "Unified LR across all optimizers: 0.00019860948975280947\n",
      "--------------------Training Metrics--------------------\n",
      "Trainer:  gpt\n",
      "Inf: 0.0230\tGen: 1.3529\tRec: 1.3618\tE: 0.0141\tR: 0.0318\tP: 2.6917\n",
      "--------------------Test Metrics------------------------\n",
      "mse: 21.8074\n",
      "mae: 4.6597\n",
      "r2: -562.2260\n",
      "\n"
     ]
    },
    {
     "data": {
      "application/vnd.jupyter.widget-view+json": {
       "model_id": "694f48e6eeb144b0b63ad8aca5dae097",
       "version_major": 2,
       "version_minor": 0
      },
      "text/plain": [
       "Iterations:   0%|          | 0/22 [00:00<?, ?it/s]"
      ]
     },
     "metadata": {},
     "output_type": "display_data"
    },
    {
     "data": {
      "application/vnd.jupyter.widget-view+json": {
       "model_id": "89815fa739ba41929a6b5ea6cf003c03",
       "version_major": 2,
       "version_minor": 0
      },
      "text/plain": [
       "Iterations:   0%|          | 0/22 [00:00<?, ?it/s]"
      ]
     },
     "metadata": {},
     "output_type": "display_data"
    },
    {
     "name": "stdout",
     "output_type": "stream",
     "text": [
      "[6/100][18/22][Time 4.81]\n",
      "Unified LR across all optimizers: 0.00019792470014766712\n",
      "--------------------Training Metrics--------------------\n",
      "Trainer:  gpt\n",
      "Inf: 0.0068\tGen: 1.1295\tRec: 1.1311\tE: 0.0053\tR: 0.0084\tP: 2.2538\n",
      "--------------------Test Metrics------------------------\n",
      "mse: 0.3403\n",
      "mae: 0.4810\n",
      "r2: -7.7902\n",
      "\n"
     ]
    },
    {
     "data": {
      "application/vnd.jupyter.widget-view+json": {
       "model_id": "51af45c4eafb421e832393180710b76c",
       "version_major": 2,
       "version_minor": 0
      },
      "text/plain": [
       "Iterations:   0%|          | 0/22 [00:00<?, ?it/s]"
      ]
     },
     "metadata": {},
     "output_type": "display_data"
    },
    {
     "data": {
      "application/vnd.jupyter.widget-view+json": {
       "model_id": "4ff569da30ef4321a2d360f168a285ed",
       "version_major": 2,
       "version_minor": 0
      },
      "text/plain": [
       "Iterations:   0%|          | 0/22 [00:00<?, ?it/s]"
      ]
     },
     "metadata": {},
     "output_type": "display_data"
    },
    {
     "data": {
      "application/vnd.jupyter.widget-view+json": {
       "model_id": "36c840ef560c4bbb9adfd6ab70d398e4",
       "version_major": 2,
       "version_minor": 0
      },
      "text/plain": [
       "Iterations:   0%|          | 0/22 [00:00<?, ?it/s]"
      ]
     },
     "metadata": {},
     "output_type": "display_data"
    },
    {
     "name": "stdout",
     "output_type": "stream",
     "text": [
      "[9/100][2/22][Time 5.02]\n",
      "Unified LR across all optimizers: 0.00019724227164220792\n",
      "--------------------Training Metrics--------------------\n",
      "Trainer:  gpt\n",
      "Inf: 0.0047\tGen: 0.9767\tRec: 0.9775\tE: 0.0039\tR: 0.0056\tP: 1.9494\n",
      "--------------------Test Metrics------------------------\n",
      "mse: 0.0302\n",
      "mae: 0.1498\n",
      "r2: 0.2204\n",
      "\n"
     ]
    },
    {
     "data": {
      "application/vnd.jupyter.widget-view+json": {
       "model_id": "4fe429283ae34aa880bdc5798db5aef5",
       "version_major": 2,
       "version_minor": 0
      },
      "text/plain": [
       "Iterations:   0%|          | 0/22 [00:00<?, ?it/s]"
      ]
     },
     "metadata": {},
     "output_type": "display_data"
    },
    {
     "data": {
      "application/vnd.jupyter.widget-view+json": {
       "model_id": "03fcb25720ae4a33a3df9c2f111db2c6",
       "version_major": 2,
       "version_minor": 0
      },
      "text/plain": [
       "Iterations:   0%|          | 0/22 [00:00<?, ?it/s]"
      ]
     },
     "metadata": {},
     "output_type": "display_data"
    },
    {
     "name": "stdout",
     "output_type": "stream",
     "text": [
      "[11/100][8/22][Time 6.67]\n",
      "Unified LR across all optimizers: 0.00019656219609554926\n",
      "--------------------Training Metrics--------------------\n",
      "Trainer:  gpt\n",
      "Inf: 0.0035\tGen: 0.8687\tRec: 0.8697\tE: 0.0026\tR: 0.0044\tP: 1.7349\n",
      "--------------------Test Metrics------------------------\n",
      "mse: 0.0774\n",
      "mae: 0.2488\n",
      "r2: -0.9985\n",
      "\n"
     ]
    },
    {
     "data": {
      "application/vnd.jupyter.widget-view+json": {
       "model_id": "681c29ca7e9c4554b5a17ad7c3a6c3a0",
       "version_major": 2,
       "version_minor": 0
      },
      "text/plain": [
       "Iterations:   0%|          | 0/22 [00:00<?, ?it/s]"
      ]
     },
     "metadata": {},
     "output_type": "display_data"
    },
    {
     "data": {
      "application/vnd.jupyter.widget-view+json": {
       "model_id": "97ccbd80378445efab0c4db60439623f",
       "version_major": 2,
       "version_minor": 0
      },
      "text/plain": [
       "Iterations:   0%|          | 0/22 [00:00<?, ?it/s]"
      ]
     },
     "metadata": {},
     "output_type": "display_data"
    },
    {
     "name": "stdout",
     "output_type": "stream",
     "text": [
      "[13/100][14/22][Time 11.65]\n",
      "Unified LR across all optimizers: 0.00019588446539487778\n",
      "--------------------Training Metrics--------------------\n",
      "Trainer:  gpt\n",
      "Inf: 0.0032\tGen: 0.7739\tRec: 0.7747\tE: 0.0023\tR: 0.0041\tP: 1.5454\n",
      "--------------------Test Metrics------------------------\n",
      "mse: 0.0136\n",
      "mae: 0.0956\n",
      "r2: 0.6475\n",
      "\n"
     ]
    },
    {
     "data": {
      "application/vnd.jupyter.widget-view+json": {
       "model_id": "a730faace8fd45b0b89998d8b73a9ed8",
       "version_major": 2,
       "version_minor": 0
      },
      "text/plain": [
       "Iterations:   0%|          | 0/22 [00:00<?, ?it/s]"
      ]
     },
     "metadata": {},
     "output_type": "display_data"
    },
    {
     "data": {
      "application/vnd.jupyter.widget-view+json": {
       "model_id": "55303cb90719422dadd3bb9b2c0e1d79",
       "version_major": 2,
       "version_minor": 0
      },
      "text/plain": [
       "Iterations:   0%|          | 0/22 [00:00<?, ?it/s]"
      ]
     },
     "metadata": {},
     "output_type": "display_data"
    },
    {
     "name": "stdout",
     "output_type": "stream",
     "text": [
      "[15/100][20/22][Time 11.51]\n",
      "Unified LR across all optimizers: 0.00019520907145535233\n",
      "--------------------Training Metrics--------------------\n",
      "Trainer:  gpt\n",
      "Inf: 0.0032\tGen: 0.6598\tRec: 0.6608\tE: 0.0023\tR: 0.0042\tP: 1.3173\n",
      "--------------------Test Metrics------------------------\n",
      "mse: 0.0178\n",
      "mae: 0.1106\n",
      "r2: 0.5397\n",
      "\n"
     ]
    },
    {
     "data": {
      "application/vnd.jupyter.widget-view+json": {
       "model_id": "1efbfd3106e142a4b1754881216fcc26",
       "version_major": 2,
       "version_minor": 0
      },
      "text/plain": [
       "Iterations:   0%|          | 0/22 [00:00<?, ?it/s]"
      ]
     },
     "metadata": {},
     "output_type": "display_data"
    },
    {
     "data": {
      "application/vnd.jupyter.widget-view+json": {
       "model_id": "61e8b27dae994789ad8c1c610d96d9b4",
       "version_major": 2,
       "version_minor": 0
      },
      "text/plain": [
       "Iterations:   0%|          | 0/22 [00:00<?, ?it/s]"
      ]
     },
     "metadata": {},
     "output_type": "display_data"
    },
    {
     "data": {
      "application/vnd.jupyter.widget-view+json": {
       "model_id": "9c7c71983ab941d58bc273d8dec21aec",
       "version_major": 2,
       "version_minor": 0
      },
      "text/plain": [
       "Iterations:   0%|          | 0/22 [00:00<?, ?it/s]"
      ]
     },
     "metadata": {},
     "output_type": "display_data"
    },
    {
     "name": "stdout",
     "output_type": "stream",
     "text": [
      "[18/100][4/22][Time 11.63]\n",
      "Unified LR across all optimizers: 0.0001945360062200079\n",
      "--------------------Training Metrics--------------------\n",
      "Trainer:  gpt\n",
      "Inf: 0.0037\tGen: 0.6139\tRec: 0.6149\tE: 0.0026\tR: 0.0047\tP: 1.2251\n",
      "--------------------Test Metrics------------------------\n",
      "mse: 0.0455\n",
      "mae: 0.1910\n",
      "r2: -0.1750\n",
      "\n"
     ]
    },
    {
     "data": {
      "application/vnd.jupyter.widget-view+json": {
       "model_id": "4f3bc10a9a8049f7ae97543ee7b6b0ba",
       "version_major": 2,
       "version_minor": 0
      },
      "text/plain": [
       "Iterations:   0%|          | 0/22 [00:00<?, ?it/s]"
      ]
     },
     "metadata": {},
     "output_type": "display_data"
    },
    {
     "data": {
      "application/vnd.jupyter.widget-view+json": {
       "model_id": "1b52d0b1901e40318b7f24acd71028c6",
       "version_major": 2,
       "version_minor": 0
      },
      "text/plain": [
       "Iterations:   0%|          | 0/22 [00:00<?, ?it/s]"
      ]
     },
     "metadata": {},
     "output_type": "display_data"
    },
    {
     "name": "stdout",
     "output_type": "stream",
     "text": [
      "[20/100][10/22][Time 11.59]\n",
      "Unified LR across all optimizers: 0.00019386526165965896\n",
      "--------------------Training Metrics--------------------\n",
      "Trainer:  gpt\n",
      "Inf: 0.0037\tGen: 0.5555\tRec: 0.5566\tE: 0.0026\tR: 0.0048\tP: 1.1083\n",
      "--------------------Test Metrics------------------------\n",
      "mse: 0.0191\n",
      "mae: 0.1126\n",
      "r2: 0.5078\n",
      "\n"
     ]
    },
    {
     "data": {
      "application/vnd.jupyter.widget-view+json": {
       "model_id": "b17f9e98bf4b4b868ae3a6cd82b431b3",
       "version_major": 2,
       "version_minor": 0
      },
      "text/plain": [
       "Iterations:   0%|          | 0/22 [00:00<?, ?it/s]"
      ]
     },
     "metadata": {},
     "output_type": "display_data"
    },
    {
     "data": {
      "application/vnd.jupyter.widget-view+json": {
       "model_id": "c96c41c3d73746b4adf5d30413d60ace",
       "version_major": 2,
       "version_minor": 0
      },
      "text/plain": [
       "Iterations:   0%|          | 0/22 [00:00<?, ?it/s]"
      ]
     },
     "metadata": {},
     "output_type": "display_data"
    },
    {
     "name": "stdout",
     "output_type": "stream",
     "text": [
      "[22/100][16/22][Time 11.50]\n",
      "Unified LR across all optimizers: 0.00019319682977280412\n",
      "--------------------Training Metrics--------------------\n",
      "Trainer:  gpt\n",
      "Inf: 0.0067\tGen: 0.4968\tRec: 0.4995\tE: 0.0040\tR: 0.0094\tP: 0.9897\n",
      "--------------------Test Metrics------------------------\n",
      "mse: 0.0296\n",
      "mae: 0.1467\n",
      "r2: 0.2346\n",
      "\n"
     ]
    },
    {
     "data": {
      "application/vnd.jupyter.widget-view+json": {
       "model_id": "2d2dc91aa17043aaa46716741144a7d8",
       "version_major": 2,
       "version_minor": 0
      },
      "text/plain": [
       "Iterations:   0%|          | 0/22 [00:00<?, ?it/s]"
      ]
     },
     "metadata": {},
     "output_type": "display_data"
    },
    {
     "data": {
      "application/vnd.jupyter.widget-view+json": {
       "model_id": "c69976f4528447888d05fe1ea52126ae",
       "version_major": 2,
       "version_minor": 0
      },
      "text/plain": [
       "Iterations:   0%|          | 0/22 [00:00<?, ?it/s]"
      ]
     },
     "metadata": {},
     "output_type": "display_data"
    },
    {
     "data": {
      "application/vnd.jupyter.widget-view+json": {
       "model_id": "639f477fef7e421bb4ce5188867112c5",
       "version_major": 2,
       "version_minor": 0
      },
      "text/plain": [
       "Iterations:   0%|          | 0/22 [00:00<?, ?it/s]"
      ]
     },
     "metadata": {},
     "output_type": "display_data"
    },
    {
     "name": "stdout",
     "output_type": "stream",
     "text": [
      "[25/100][0/22][Time 11.69]\n",
      "Unified LR across all optimizers: 0.0001925307025855305\n",
      "--------------------Training Metrics--------------------\n",
      "Trainer:  gpt\n",
      "Inf: 0.0042\tGen: 0.4580\tRec: 0.4590\tE: 0.0032\tR: 0.0052\tP: 0.9128\n",
      "--------------------Test Metrics------------------------\n",
      "mse: 0.0228\n",
      "mae: 0.1153\n",
      "r2: 0.4101\n",
      "\n"
     ]
    },
    {
     "data": {
      "application/vnd.jupyter.widget-view+json": {
       "model_id": "aeefbd22bd954310b1b9a12c4cf4dbad",
       "version_major": 2,
       "version_minor": 0
      },
      "text/plain": [
       "Iterations:   0%|          | 0/22 [00:00<?, ?it/s]"
      ]
     },
     "metadata": {},
     "output_type": "display_data"
    },
    {
     "data": {
      "application/vnd.jupyter.widget-view+json": {
       "model_id": "42762a8d9b7345de915bbfb82cff2193",
       "version_major": 2,
       "version_minor": 0
      },
      "text/plain": [
       "Iterations:   0%|          | 0/22 [00:00<?, ?it/s]"
      ]
     },
     "metadata": {},
     "output_type": "display_data"
    },
    {
     "name": "stdout",
     "output_type": "stream",
     "text": [
      "[27/100][6/22][Time 11.62]\n",
      "Unified LR across all optimizers: 0.00019186687215141878\n",
      "--------------------Training Metrics--------------------\n",
      "Trainer:  gpt\n",
      "Inf: 0.0043\tGen: 0.4321\tRec: 0.4333\tE: 0.0031\tR: 0.0055\tP: 0.8611\n",
      "--------------------Test Metrics------------------------\n",
      "mse: 0.0188\n",
      "mae: 0.1007\n",
      "r2: 0.5137\n",
      "\n"
     ]
    },
    {
     "data": {
      "application/vnd.jupyter.widget-view+json": {
       "model_id": "9a8319466908463f9804b12cda5d7ba5",
       "version_major": 2,
       "version_minor": 0
      },
      "text/plain": [
       "Iterations:   0%|          | 0/22 [00:00<?, ?it/s]"
      ]
     },
     "metadata": {},
     "output_type": "display_data"
    },
    {
     "data": {
      "application/vnd.jupyter.widget-view+json": {
       "model_id": "fbcf4a73d0a54d1f98770a2af9ae94e5",
       "version_major": 2,
       "version_minor": 0
      },
      "text/plain": [
       "Iterations:   0%|          | 0/22 [00:00<?, ?it/s]"
      ]
     },
     "metadata": {},
     "output_type": "display_data"
    },
    {
     "name": "stdout",
     "output_type": "stream",
     "text": [
      "[29/100][12/22][Time 11.62]\n",
      "Unified LR across all optimizers: 0.00019120533055144799\n",
      "--------------------Training Metrics--------------------\n",
      "Trainer:  gpt\n",
      "Inf: 0.0060\tGen: 0.3892\tRec: 0.3905\tE: 0.0048\tR: 0.0073\tP: 0.7736\n",
      "--------------------Test Metrics------------------------\n",
      "mse: 0.0210\n",
      "mae: 0.1068\n",
      "r2: 0.4583\n",
      "\n"
     ]
    },
    {
     "data": {
      "application/vnd.jupyter.widget-view+json": {
       "model_id": "a06aa80cd070455791d3117a7f15555f",
       "version_major": 2,
       "version_minor": 0
      },
      "text/plain": [
       "Iterations:   0%|          | 0/22 [00:00<?, ?it/s]"
      ]
     },
     "metadata": {},
     "output_type": "display_data"
    },
    {
     "data": {
      "application/vnd.jupyter.widget-view+json": {
       "model_id": "5010a706cb9f4982812d2209632040a8",
       "version_major": 2,
       "version_minor": 0
      },
      "text/plain": [
       "Iterations:   0%|          | 0/22 [00:00<?, ?it/s]"
      ]
     },
     "metadata": {},
     "output_type": "display_data"
    },
    {
     "name": "stdout",
     "output_type": "stream",
     "text": [
      "[31/100][18/22][Time 11.78]\n",
      "Unified LR across all optimizers: 0.0001905460698939014\n",
      "--------------------Training Metrics--------------------\n",
      "Trainer:  gpt\n",
      "Inf: 0.0043\tGen: 0.3855\tRec: 0.3866\tE: 0.0033\tR: 0.0054\tP: 0.7678\n",
      "--------------------Test Metrics------------------------\n",
      "mse: 0.0209\n",
      "mae: 0.1213\n",
      "r2: 0.4600\n",
      "\n"
     ]
    },
    {
     "data": {
      "application/vnd.jupyter.widget-view+json": {
       "model_id": "8d02f874ceb24d95802ba0ef2f8d204b",
       "version_major": 2,
       "version_minor": 0
      },
      "text/plain": [
       "Iterations:   0%|          | 0/22 [00:00<?, ?it/s]"
      ]
     },
     "metadata": {},
     "output_type": "display_data"
    },
    {
     "data": {
      "application/vnd.jupyter.widget-view+json": {
       "model_id": "0449f7e86ec74127bfbb43446a65f0c0",
       "version_major": 2,
       "version_minor": 0
      },
      "text/plain": [
       "Iterations:   0%|          | 0/22 [00:00<?, ?it/s]"
      ]
     },
     "metadata": {},
     "output_type": "display_data"
    },
    {
     "data": {
      "application/vnd.jupyter.widget-view+json": {
       "model_id": "625e7918d8a647d280fbe7fe509fcd32",
       "version_major": 2,
       "version_minor": 0
      },
      "text/plain": [
       "Iterations:   0%|          | 0/22 [00:00<?, ?it/s]"
      ]
     },
     "metadata": {},
     "output_type": "display_data"
    },
    {
     "name": "stdout",
     "output_type": "stream",
     "text": [
      "[34/100][2/22][Time 11.89]\n",
      "Unified LR across all optimizers: 0.00018988908231427226\n",
      "--------------------Training Metrics--------------------\n",
      "Trainer:  gpt\n",
      "Inf: 0.0050\tGen: 0.3717\tRec: 0.3731\tE: 0.0035\tR: 0.0064\tP: 0.7398\n",
      "--------------------Test Metrics------------------------\n",
      "mse: 0.0154\n",
      "mae: 0.0891\n",
      "r2: 0.6035\n",
      "\n"
     ]
    },
    {
     "data": {
      "application/vnd.jupyter.widget-view+json": {
       "model_id": "d6b128b8c8374875879ab09dd956fd29",
       "version_major": 2,
       "version_minor": 0
      },
      "text/plain": [
       "Iterations:   0%|          | 0/22 [00:00<?, ?it/s]"
      ]
     },
     "metadata": {},
     "output_type": "display_data"
    },
    {
     "data": {
      "application/vnd.jupyter.widget-view+json": {
       "model_id": "6a95e0a20e8c47c99895cd6be222a608",
       "version_major": 2,
       "version_minor": 0
      },
      "text/plain": [
       "Iterations:   0%|          | 0/22 [00:00<?, ?it/s]"
      ]
     },
     "metadata": {},
     "output_type": "display_data"
    },
    {
     "name": "stdout",
     "output_type": "stream",
     "text": [
      "[36/100][8/22][Time 12.28]\n",
      "Unified LR across all optimizers: 0.00018923435997517015\n",
      "--------------------Training Metrics--------------------\n",
      "Trainer:  gpt\n",
      "Inf: 0.0042\tGen: 0.3522\tRec: 0.3533\tE: 0.0031\tR: 0.0053\tP: 0.7013\n",
      "--------------------Test Metrics------------------------\n",
      "mse: 0.0204\n",
      "mae: 0.1075\n",
      "r2: 0.4735\n",
      "\n"
     ]
    },
    {
     "data": {
      "application/vnd.jupyter.widget-view+json": {
       "model_id": "d1f330b85e134a038605f135935b25ce",
       "version_major": 2,
       "version_minor": 0
      },
      "text/plain": [
       "Iterations:   0%|          | 0/22 [00:00<?, ?it/s]"
      ]
     },
     "metadata": {},
     "output_type": "display_data"
    },
    {
     "data": {
      "application/vnd.jupyter.widget-view+json": {
       "model_id": "5f32459429c24fe3af7e81196d2cf965",
       "version_major": 2,
       "version_minor": 0
      },
      "text/plain": [
       "Iterations:   0%|          | 0/22 [00:00<?, ?it/s]"
      ]
     },
     "metadata": {},
     "output_type": "display_data"
    },
    {
     "name": "stdout",
     "output_type": "stream",
     "text": [
      "[38/100][14/22][Time 6.69]\n",
      "Unified LR across all optimizers: 0.00018858189506622733\n",
      "--------------------Training Metrics--------------------\n",
      "Trainer:  gpt\n",
      "Inf: 0.0042\tGen: 0.3438\tRec: 0.3448\tE: 0.0033\tR: 0.0052\tP: 0.6844\n",
      "--------------------Test Metrics------------------------\n",
      "mse: 0.0151\n",
      "mae: 0.0878\n",
      "r2: 0.6097\n",
      "\n"
     ]
    },
    {
     "data": {
      "application/vnd.jupyter.widget-view+json": {
       "model_id": "bdda649b827c4b67b69e178d5dfbcdf8",
       "version_major": 2,
       "version_minor": 0
      },
      "text/plain": [
       "Iterations:   0%|          | 0/22 [00:00<?, ?it/s]"
      ]
     },
     "metadata": {},
     "output_type": "display_data"
    },
    {
     "data": {
      "application/vnd.jupyter.widget-view+json": {
       "model_id": "150dafc6bb0546e9aa6a1b8564d47fec",
       "version_major": 2,
       "version_minor": 0
      },
      "text/plain": [
       "Iterations:   0%|          | 0/22 [00:00<?, ?it/s]"
      ]
     },
     "metadata": {},
     "output_type": "display_data"
    },
    {
     "name": "stdout",
     "output_type": "stream",
     "text": [
      "[40/100][20/22][Time 5.59]\n",
      "Unified LR across all optimizers: 0.00018793167980400528\n",
      "--------------------Training Metrics--------------------\n",
      "Trainer:  gpt\n",
      "Inf: 0.0051\tGen: 0.3201\tRec: 0.3215\tE: 0.0037\tR: 0.0066\tP: 0.6365\n",
      "--------------------Test Metrics------------------------\n",
      "mse: 0.0152\n",
      "mae: 0.0922\n",
      "r2: 0.6065\n",
      "\n"
     ]
    },
    {
     "data": {
      "application/vnd.jupyter.widget-view+json": {
       "model_id": "27e40b4b4c6f439cadb4a3354f0fd896",
       "version_major": 2,
       "version_minor": 0
      },
      "text/plain": [
       "Iterations:   0%|          | 0/22 [00:00<?, ?it/s]"
      ]
     },
     "metadata": {},
     "output_type": "display_data"
    },
    {
     "data": {
      "application/vnd.jupyter.widget-view+json": {
       "model_id": "a7570ea2fb9b4be7a6c01057d8d19d82",
       "version_major": 2,
       "version_minor": 0
      },
      "text/plain": [
       "Iterations:   0%|          | 0/22 [00:00<?, ?it/s]"
      ]
     },
     "metadata": {},
     "output_type": "display_data"
    },
    {
     "data": {
      "application/vnd.jupyter.widget-view+json": {
       "model_id": "cdf4b507aed24e37a9734fe2bea856e6",
       "version_major": 2,
       "version_minor": 0
      },
      "text/plain": [
       "Iterations:   0%|          | 0/22 [00:00<?, ?it/s]"
      ]
     },
     "metadata": {},
     "output_type": "display_data"
    },
    {
     "name": "stdout",
     "output_type": "stream",
     "text": [
      "[43/100][4/22][Time 9.11]\n",
      "Unified LR across all optimizers: 0.00018728370643190262\n",
      "--------------------Training Metrics--------------------\n",
      "Trainer:  gpt\n",
      "Inf: 0.0051\tGen: 0.3287\tRec: 0.3298\tE: 0.0041\tR: 0.0062\tP: 0.6533\n",
      "--------------------Test Metrics------------------------\n",
      "mse: 0.0154\n",
      "mae: 0.1071\n",
      "r2: 0.6018\n",
      "\n"
     ]
    },
    {
     "data": {
      "application/vnd.jupyter.widget-view+json": {
       "model_id": "262533b066da461799e6c6ade19bba62",
       "version_major": 2,
       "version_minor": 0
      },
      "text/plain": [
       "Iterations:   0%|          | 0/22 [00:00<?, ?it/s]"
      ]
     },
     "metadata": {},
     "output_type": "display_data"
    },
    {
     "data": {
      "application/vnd.jupyter.widget-view+json": {
       "model_id": "f83eb2c8f5a94966aac9899faf13bdfc",
       "version_major": 2,
       "version_minor": 0
      },
      "text/plain": [
       "Iterations:   0%|          | 0/22 [00:00<?, ?it/s]"
      ]
     },
     "metadata": {},
     "output_type": "display_data"
    },
    {
     "name": "stdout",
     "output_type": "stream",
     "text": [
      "[45/100][10/22][Time 14.57]\n",
      "Unified LR across all optimizers: 0.0001866379672200617\n",
      "--------------------Training Metrics--------------------\n",
      "Trainer:  gpt\n",
      "Inf: 0.0047\tGen: 0.3193\tRec: 0.3205\tE: 0.0036\tR: 0.0058\tP: 0.6351\n",
      "--------------------Test Metrics------------------------\n",
      "mse: 0.0119\n",
      "mae: 0.0864\n",
      "r2: 0.6924\n",
      "\n"
     ]
    },
    {
     "data": {
      "application/vnd.jupyter.widget-view+json": {
       "model_id": "fec22271a23949cbb4fbbd66bf81c9c6",
       "version_major": 2,
       "version_minor": 0
      },
      "text/plain": [
       "Iterations:   0%|          | 0/22 [00:00<?, ?it/s]"
      ]
     },
     "metadata": {},
     "output_type": "display_data"
    },
    {
     "data": {
      "application/vnd.jupyter.widget-view+json": {
       "model_id": "aa8030f0e3a4419e9b0210c43f373d2f",
       "version_major": 2,
       "version_minor": 0
      },
      "text/plain": [
       "Iterations:   0%|          | 0/22 [00:00<?, ?it/s]"
      ]
     },
     "metadata": {},
     "output_type": "display_data"
    },
    {
     "name": "stdout",
     "output_type": "stream",
     "text": [
      "[47/100][16/22][Time 12.56]\n",
      "Unified LR across all optimizers: 0.00018599445446527716\n",
      "--------------------Training Metrics--------------------\n",
      "Trainer:  gpt\n",
      "Inf: 0.0057\tGen: 0.3169\tRec: 0.3181\tE: 0.0045\tR: 0.0069\tP: 0.6293\n",
      "--------------------Test Metrics------------------------\n",
      "mse: 0.0146\n",
      "mae: 0.1003\n",
      "r2: 0.6238\n",
      "\n"
     ]
    },
    {
     "data": {
      "application/vnd.jupyter.widget-view+json": {
       "model_id": "addf2f98d45c4198b3bbe3709aaf484c",
       "version_major": 2,
       "version_minor": 0
      },
      "text/plain": [
       "Iterations:   0%|          | 0/22 [00:00<?, ?it/s]"
      ]
     },
     "metadata": {},
     "output_type": "display_data"
    },
    {
     "data": {
      "application/vnd.jupyter.widget-view+json": {
       "model_id": "190ce58d52744d419cc37f953127fd0a",
       "version_major": 2,
       "version_minor": 0
      },
      "text/plain": [
       "Iterations:   0%|          | 0/22 [00:00<?, ?it/s]"
      ]
     },
     "metadata": {},
     "output_type": "display_data"
    },
    {
     "data": {
      "application/vnd.jupyter.widget-view+json": {
       "model_id": "314bf142f76542c8837546bfdfcfb679",
       "version_major": 2,
       "version_minor": 0
      },
      "text/plain": [
       "Iterations:   0%|          | 0/22 [00:00<?, ?it/s]"
      ]
     },
     "metadata": {},
     "output_type": "display_data"
    },
    {
     "name": "stdout",
     "output_type": "stream",
     "text": [
      "[50/100][0/22][Time 6.85]\n",
      "Unified LR across all optimizers: 0.0001853531604909033\n",
      "--------------------Training Metrics--------------------\n",
      "Trainer:  gpt\n",
      "Inf: 0.0061\tGen: 0.3046\tRec: 0.3058\tE: 0.0048\tR: 0.0073\tP: 0.6043\n",
      "--------------------Test Metrics------------------------\n",
      "mse: 0.0123\n",
      "mae: 0.0835\n",
      "r2: 0.6822\n",
      "\n"
     ]
    },
    {
     "data": {
      "application/vnd.jupyter.widget-view+json": {
       "model_id": "df404e44309c4451adb5949f3a0c3152",
       "version_major": 2,
       "version_minor": 0
      },
      "text/plain": [
       "Iterations:   0%|          | 0/22 [00:00<?, ?it/s]"
      ]
     },
     "metadata": {},
     "output_type": "display_data"
    },
    {
     "data": {
      "application/vnd.jupyter.widget-view+json": {
       "model_id": "0c18c62467204e0b845f5a6dc38b7ced",
       "version_major": 2,
       "version_minor": 0
      },
      "text/plain": [
       "Iterations:   0%|          | 0/22 [00:00<?, ?it/s]"
      ]
     },
     "metadata": {},
     "output_type": "display_data"
    },
    {
     "name": "stdout",
     "output_type": "stream",
     "text": [
      "[52/100][6/22][Time 10.01]\n",
      "Unified LR across all optimizers: 0.00018471407764676314\n",
      "--------------------Training Metrics--------------------\n",
      "Trainer:  gpt\n",
      "Inf: 0.0062\tGen: 0.3032\tRec: 0.3046\tE: 0.0049\tR: 0.0076\tP: 0.6016\n",
      "--------------------Test Metrics------------------------\n",
      "mse: 0.0140\n",
      "mae: 0.0946\n",
      "r2: 0.6384\n",
      "\n"
     ]
    },
    {
     "data": {
      "application/vnd.jupyter.widget-view+json": {
       "model_id": "fe3e43cb94ce41ec9132eda226997fa3",
       "version_major": 2,
       "version_minor": 0
      },
      "text/plain": [
       "Iterations:   0%|          | 0/22 [00:00<?, ?it/s]"
      ]
     },
     "metadata": {},
     "output_type": "display_data"
    },
    {
     "data": {
      "application/vnd.jupyter.widget-view+json": {
       "model_id": "1b39d3180bc64254a709acbfa6ba894d",
       "version_major": 2,
       "version_minor": 0
      },
      "text/plain": [
       "Iterations:   0%|          | 0/22 [00:00<?, ?it/s]"
      ]
     },
     "metadata": {},
     "output_type": "display_data"
    },
    {
     "name": "stdout",
     "output_type": "stream",
     "text": [
      "[54/100][12/22][Time 12.07]\n",
      "Unified LR across all optimizers: 0.0001840771983090567\n",
      "--------------------Training Metrics--------------------\n",
      "Trainer:  gpt\n",
      "Inf: 0.0046\tGen: 0.2927\tRec: 0.2939\tE: 0.0035\tR: 0.0058\tP: 0.5820\n",
      "--------------------Test Metrics------------------------\n",
      "mse: 0.0150\n",
      "mae: 0.0977\n",
      "r2: 0.6117\n",
      "\n"
     ]
    },
    {
     "data": {
      "application/vnd.jupyter.widget-view+json": {
       "model_id": "080726e3ce634087ac7de9d7e31d4ab1",
       "version_major": 2,
       "version_minor": 0
      },
      "text/plain": [
       "Iterations:   0%|          | 0/22 [00:00<?, ?it/s]"
      ]
     },
     "metadata": {},
     "output_type": "display_data"
    },
    {
     "data": {
      "application/vnd.jupyter.widget-view+json": {
       "model_id": "47b708acdc36423aaf0ed9ce7e6506a7",
       "version_major": 2,
       "version_minor": 0
      },
      "text/plain": [
       "Iterations:   0%|          | 0/22 [00:00<?, ?it/s]"
      ]
     },
     "metadata": {},
     "output_type": "display_data"
    },
    {
     "name": "stdout",
     "output_type": "stream",
     "text": [
      "[56/100][18/22][Time 5.50]\n",
      "Unified LR across all optimizers: 0.00018344251488027063\n",
      "--------------------Training Metrics--------------------\n",
      "Trainer:  gpt\n",
      "Inf: 0.0049\tGen: 0.2945\tRec: 0.2955\tE: 0.0038\tR: 0.0059\tP: 0.5852\n",
      "--------------------Test Metrics------------------------\n",
      "mse: 0.0137\n",
      "mae: 0.0974\n",
      "r2: 0.6467\n",
      "\n"
     ]
    },
    {
     "data": {
      "application/vnd.jupyter.widget-view+json": {
       "model_id": "30fef2ebc6f444b991e220c6f5bd78b6",
       "version_major": 2,
       "version_minor": 0
      },
      "text/plain": [
       "Iterations:   0%|          | 0/22 [00:00<?, ?it/s]"
      ]
     },
     "metadata": {},
     "output_type": "display_data"
    },
    {
     "data": {
      "application/vnd.jupyter.widget-view+json": {
       "model_id": "1afa80f2838a428ca62b04d6b48e620b",
       "version_major": 2,
       "version_minor": 0
      },
      "text/plain": [
       "Iterations:   0%|          | 0/22 [00:00<?, ?it/s]"
      ]
     },
     "metadata": {},
     "output_type": "display_data"
    },
    {
     "data": {
      "application/vnd.jupyter.widget-view+json": {
       "model_id": "d98cef8ce728439e81b7b8b64a0b676b",
       "version_major": 2,
       "version_minor": 0
      },
      "text/plain": [
       "Iterations:   0%|          | 0/22 [00:00<?, ?it/s]"
      ]
     },
     "metadata": {},
     "output_type": "display_data"
    },
    {
     "name": "stdout",
     "output_type": "stream",
     "text": [
      "[59/100][2/22][Time 5.31]\n",
      "Unified LR across all optimizers: 0.0001828100197890869\n",
      "--------------------Training Metrics--------------------\n",
      "Trainer:  gpt\n",
      "Inf: 0.0051\tGen: 0.2887\tRec: 0.2895\tE: 0.0043\tR: 0.0060\tP: 0.5731\n",
      "--------------------Test Metrics------------------------\n",
      "mse: 0.0171\n",
      "mae: 0.1020\n",
      "r2: 0.5578\n",
      "\n"
     ]
    },
    {
     "data": {
      "application/vnd.jupyter.widget-view+json": {
       "model_id": "8752b995f3bc4236b09cdad3e36521d0",
       "version_major": 2,
       "version_minor": 0
      },
      "text/plain": [
       "Iterations:   0%|          | 0/22 [00:00<?, ?it/s]"
      ]
     },
     "metadata": {},
     "output_type": "display_data"
    },
    {
     "data": {
      "application/vnd.jupyter.widget-view+json": {
       "model_id": "a0b419fa60c84bedbc7e526440ed2571",
       "version_major": 2,
       "version_minor": 0
      },
      "text/plain": [
       "Iterations:   0%|          | 0/22 [00:00<?, ?it/s]"
      ]
     },
     "metadata": {},
     "output_type": "display_data"
    },
    {
     "name": "stdout",
     "output_type": "stream",
     "text": [
      "[61/100][8/22][Time 5.57]\n",
      "Unified LR across all optimizers: 0.00018217970549029257\n",
      "--------------------Training Metrics--------------------\n",
      "Trainer:  gpt\n",
      "Inf: 0.0049\tGen: 0.2848\tRec: 0.2859\tE: 0.0038\tR: 0.0060\tP: 0.5659\n",
      "--------------------Test Metrics------------------------\n",
      "mse: 0.0154\n",
      "mae: 0.1020\n",
      "r2: 0.6030\n",
      "\n"
     ]
    },
    {
     "data": {
      "application/vnd.jupyter.widget-view+json": {
       "model_id": "67f9da70caf04000b82d3e412e35b579",
       "version_major": 2,
       "version_minor": 0
      },
      "text/plain": [
       "Iterations:   0%|          | 0/22 [00:00<?, ?it/s]"
      ]
     },
     "metadata": {},
     "output_type": "display_data"
    },
    {
     "data": {
      "application/vnd.jupyter.widget-view+json": {
       "model_id": "9eab66e9944f4226b2bef6f4557fab56",
       "version_major": 2,
       "version_minor": 0
      },
      "text/plain": [
       "Iterations:   0%|          | 0/22 [00:00<?, ?it/s]"
      ]
     },
     "metadata": {},
     "output_type": "display_data"
    },
    {
     "name": "stdout",
     "output_type": "stream",
     "text": [
      "[63/100][14/22][Time 6.78]\n",
      "Unified LR across all optimizers: 0.00018155156446469055\n",
      "--------------------Training Metrics--------------------\n",
      "Trainer:  gpt\n",
      "Inf: 0.0052\tGen: 0.2714\tRec: 0.2727\tE: 0.0039\tR: 0.0064\tP: 0.5389\n",
      "--------------------Test Metrics------------------------\n",
      "mse: 0.0137\n",
      "mae: 0.0907\n",
      "r2: 0.6452\n",
      "\n"
     ]
    },
    {
     "data": {
      "application/vnd.jupyter.widget-view+json": {
       "model_id": "907585da77e5407c8025d6c1bd93f1df",
       "version_major": 2,
       "version_minor": 0
      },
      "text/plain": [
       "Iterations:   0%|          | 0/22 [00:00<?, ?it/s]"
      ]
     },
     "metadata": {},
     "output_type": "display_data"
    },
    {
     "data": {
      "application/vnd.jupyter.widget-view+json": {
       "model_id": "349683b0d532443f91307c2fb3497871",
       "version_major": 2,
       "version_minor": 0
      },
      "text/plain": [
       "Iterations:   0%|          | 0/22 [00:00<?, ?it/s]"
      ]
     },
     "metadata": {},
     "output_type": "display_data"
    },
    {
     "name": "stdout",
     "output_type": "stream",
     "text": [
      "[65/100][20/22][Time 11.71]\n",
      "Unified LR across all optimizers: 0.00018092558921900873\n",
      "--------------------Training Metrics--------------------\n",
      "Trainer:  gpt\n",
      "Inf: 0.0052\tGen: 0.3054\tRec: 0.3066\tE: 0.0040\tR: 0.0064\tP: 0.6068\n",
      "--------------------Test Metrics------------------------\n",
      "mse: 0.0125\n",
      "mae: 0.0908\n",
      "r2: 0.6759\n",
      "\n"
     ]
    },
    {
     "data": {
      "application/vnd.jupyter.widget-view+json": {
       "model_id": "99e10cc97d5c4286bc0dbb27faae3fd9",
       "version_major": 2,
       "version_minor": 0
      },
      "text/plain": [
       "Iterations:   0%|          | 0/22 [00:00<?, ?it/s]"
      ]
     },
     "metadata": {},
     "output_type": "display_data"
    },
    {
     "data": {
      "application/vnd.jupyter.widget-view+json": {
       "model_id": "368e0ddc968a4fbea0bcc7b3efdfcf5e",
       "version_major": 2,
       "version_minor": 0
      },
      "text/plain": [
       "Iterations:   0%|          | 0/22 [00:00<?, ?it/s]"
      ]
     },
     "metadata": {},
     "output_type": "display_data"
    },
    {
     "data": {
      "application/vnd.jupyter.widget-view+json": {
       "model_id": "b710229659bf46019d38f6ea860e978c",
       "version_major": 2,
       "version_minor": 0
      },
      "text/plain": [
       "Iterations:   0%|          | 0/22 [00:00<?, ?it/s]"
      ]
     },
     "metadata": {},
     "output_type": "display_data"
    },
    {
     "name": "stdout",
     "output_type": "stream",
     "text": [
      "[68/100][4/22][Time 11.86]\n",
      "Unified LR across all optimizers: 0.00018030177228581167\n",
      "--------------------Training Metrics--------------------\n",
      "Trainer:  gpt\n",
      "Inf: 0.0048\tGen: 0.2740\tRec: 0.2749\tE: 0.0039\tR: 0.0057\tP: 0.5442\n",
      "--------------------Test Metrics------------------------\n",
      "mse: 0.0132\n",
      "mae: 0.0871\n",
      "r2: 0.6603\n",
      "\n"
     ]
    },
    {
     "data": {
      "application/vnd.jupyter.widget-view+json": {
       "model_id": "4fac11f94db7408880d14b75eabb32f1",
       "version_major": 2,
       "version_minor": 0
      },
      "text/plain": [
       "Iterations:   0%|          | 0/22 [00:00<?, ?it/s]"
      ]
     },
     "metadata": {},
     "output_type": "display_data"
    },
    {
     "data": {
      "application/vnd.jupyter.widget-view+json": {
       "model_id": "3eef747c3d3d48a3970fe7a504130c40",
       "version_major": 2,
       "version_minor": 0
      },
      "text/plain": [
       "Iterations:   0%|          | 0/22 [00:00<?, ?it/s]"
      ]
     },
     "metadata": {},
     "output_type": "display_data"
    },
    {
     "name": "stdout",
     "output_type": "stream",
     "text": [
      "[70/100][10/22][Time 11.61]\n",
      "Unified LR across all optimizers: 0.00017968010622341094\n",
      "--------------------Training Metrics--------------------\n",
      "Trainer:  gpt\n",
      "Inf: 0.0055\tGen: 0.2628\tRec: 0.2639\tE: 0.0045\tR: 0.0065\tP: 0.5212\n",
      "--------------------Test Metrics------------------------\n",
      "mse: 0.0182\n",
      "mae: 0.1144\n",
      "r2: 0.5298\n",
      "\n"
     ]
    },
    {
     "data": {
      "application/vnd.jupyter.widget-view+json": {
       "model_id": "f426ca110f8244afadb7c1c52aed54f1",
       "version_major": 2,
       "version_minor": 0
      },
      "text/plain": [
       "Iterations:   0%|          | 0/22 [00:00<?, ?it/s]"
      ]
     },
     "metadata": {},
     "output_type": "display_data"
    },
    {
     "data": {
      "application/vnd.jupyter.widget-view+json": {
       "model_id": "85ad3f723f734c3abef30fcf807e3920",
       "version_major": 2,
       "version_minor": 0
      },
      "text/plain": [
       "Iterations:   0%|          | 0/22 [00:00<?, ?it/s]"
      ]
     },
     "metadata": {},
     "output_type": "display_data"
    },
    {
     "name": "stdout",
     "output_type": "stream",
     "text": [
      "[72/100][16/22][Time 11.70]\n",
      "Unified LR across all optimizers: 0.0001790605836157762\n",
      "--------------------Training Metrics--------------------\n",
      "Trainer:  gpt\n",
      "Inf: 0.0054\tGen: 0.2759\tRec: 0.2771\tE: 0.0042\tR: 0.0066\tP: 0.5475\n",
      "--------------------Test Metrics------------------------\n",
      "mse: 0.0100\n",
      "mae: 0.0810\n",
      "r2: 0.7416\n",
      "\n"
     ]
    },
    {
     "data": {
      "application/vnd.jupyter.widget-view+json": {
       "model_id": "b62281a56ca84a649c886bf8a7d1291c",
       "version_major": 2,
       "version_minor": 0
      },
      "text/plain": [
       "Iterations:   0%|          | 0/22 [00:00<?, ?it/s]"
      ]
     },
     "metadata": {},
     "output_type": "display_data"
    },
    {
     "data": {
      "application/vnd.jupyter.widget-view+json": {
       "model_id": "508556b2be6f4643b0ecd6386b542246",
       "version_major": 2,
       "version_minor": 0
      },
      "text/plain": [
       "Iterations:   0%|          | 0/22 [00:00<?, ?it/s]"
      ]
     },
     "metadata": {},
     "output_type": "display_data"
    },
    {
     "data": {
      "application/vnd.jupyter.widget-view+json": {
       "model_id": "2f850254efdf4509a5c8dbe90e2da47f",
       "version_major": 2,
       "version_minor": 0
      },
      "text/plain": [
       "Iterations:   0%|          | 0/22 [00:00<?, ?it/s]"
      ]
     },
     "metadata": {},
     "output_type": "display_data"
    },
    {
     "name": "stdout",
     "output_type": "stream",
     "text": [
      "[75/100][0/22][Time 11.51]\n",
      "Unified LR across all optimizers: 0.00017844319707244736\n",
      "--------------------Training Metrics--------------------\n",
      "Trainer:  gpt\n",
      "Inf: 0.0057\tGen: 0.2640\tRec: 0.2653\tE: 0.0044\tR: 0.0070\tP: 0.5236\n",
      "--------------------Test Metrics------------------------\n",
      "mse: 0.0169\n",
      "mae: 0.0988\n",
      "r2: 0.5633\n",
      "\n"
     ]
    },
    {
     "data": {
      "application/vnd.jupyter.widget-view+json": {
       "model_id": "51b7104ec707483a898598f1733af39f",
       "version_major": 2,
       "version_minor": 0
      },
      "text/plain": [
       "Iterations:   0%|          | 0/22 [00:00<?, ?it/s]"
      ]
     },
     "metadata": {},
     "output_type": "display_data"
    },
    {
     "data": {
      "application/vnd.jupyter.widget-view+json": {
       "model_id": "e8053a70771943839a7ae6bd65bb7318",
       "version_major": 2,
       "version_minor": 0
      },
      "text/plain": [
       "Iterations:   0%|          | 0/22 [00:00<?, ?it/s]"
      ]
     },
     "metadata": {},
     "output_type": "display_data"
    },
    {
     "name": "stdout",
     "output_type": "stream",
     "text": [
      "[77/100][6/22][Time 9.08]\n",
      "Unified LR across all optimizers: 0.00017782793922844578\n",
      "--------------------Training Metrics--------------------\n",
      "Trainer:  gpt\n",
      "Inf: 0.0057\tGen: 0.2735\tRec: 0.2746\tE: 0.0047\tR: 0.0068\tP: 0.5424\n",
      "--------------------Test Metrics------------------------\n",
      "mse: 0.0144\n",
      "mae: 0.0941\n",
      "r2: 0.6273\n",
      "\n"
     ]
    },
    {
     "data": {
      "application/vnd.jupyter.widget-view+json": {
       "model_id": "e8b4b341e4ed4ca2b1b6ed89ebe62b0a",
       "version_major": 2,
       "version_minor": 0
      },
      "text/plain": [
       "Iterations:   0%|          | 0/22 [00:00<?, ?it/s]"
      ]
     },
     "metadata": {},
     "output_type": "display_data"
    },
    {
     "data": {
      "application/vnd.jupyter.widget-view+json": {
       "model_id": "fbc667fff2f046b2a8246c2973228fa5",
       "version_major": 2,
       "version_minor": 0
      },
      "text/plain": [
       "Iterations:   0%|          | 0/22 [00:00<?, ?it/s]"
      ]
     },
     "metadata": {},
     "output_type": "display_data"
    },
    {
     "name": "stdout",
     "output_type": "stream",
     "text": [
      "[79/100][12/22][Time 5.12]\n",
      "Unified LR across all optimizers: 0.00017721480274418683\n",
      "--------------------Training Metrics--------------------\n",
      "Trainer:  gpt\n",
      "Inf: 0.0051\tGen: 0.2628\tRec: 0.2637\tE: 0.0042\tR: 0.0059\tP: 0.5214\n",
      "--------------------Test Metrics------------------------\n",
      "mse: 0.0108\n",
      "mae: 0.0853\n",
      "r2: 0.7205\n",
      "\n"
     ]
    },
    {
     "data": {
      "application/vnd.jupyter.widget-view+json": {
       "model_id": "ab28ab8d6ae64ba2af64b71f5e2688d2",
       "version_major": 2,
       "version_minor": 0
      },
      "text/plain": [
       "Iterations:   0%|          | 0/22 [00:00<?, ?it/s]"
      ]
     },
     "metadata": {},
     "output_type": "display_data"
    },
    {
     "data": {
      "application/vnd.jupyter.widget-view+json": {
       "model_id": "ff71b2184dcb4bd1a7f9e488d15fa5c8",
       "version_major": 2,
       "version_minor": 0
      },
      "text/plain": [
       "Iterations:   0%|          | 0/22 [00:00<?, ?it/s]"
      ]
     },
     "metadata": {},
     "output_type": "display_data"
    },
    {
     "name": "stdout",
     "output_type": "stream",
     "text": [
      "[81/100][18/22][Time 5.08]\n",
      "Unified LR across all optimizers: 0.000176603780305392\n",
      "--------------------Training Metrics--------------------\n",
      "Trainer:  gpt\n",
      "Inf: 0.0052\tGen: 0.2689\tRec: 0.2700\tE: 0.0042\tR: 0.0063\tP: 0.5336\n",
      "--------------------Test Metrics------------------------\n",
      "mse: 0.0111\n",
      "mae: 0.0858\n",
      "r2: 0.7126\n",
      "\n"
     ]
    },
    {
     "data": {
      "application/vnd.jupyter.widget-view+json": {
       "model_id": "005f2bed6b2744d5886da37d3b777e64",
       "version_major": 2,
       "version_minor": 0
      },
      "text/plain": [
       "Iterations:   0%|          | 0/22 [00:00<?, ?it/s]"
      ]
     },
     "metadata": {},
     "output_type": "display_data"
    },
    {
     "data": {
      "application/vnd.jupyter.widget-view+json": {
       "model_id": "47dc3be7f42e41b6ae6d5528ac7c70e9",
       "version_major": 2,
       "version_minor": 0
      },
      "text/plain": [
       "Iterations:   0%|          | 0/22 [00:00<?, ?it/s]"
      ]
     },
     "metadata": {},
     "output_type": "display_data"
    },
    {
     "data": {
      "application/vnd.jupyter.widget-view+json": {
       "model_id": "c7aea6b33e35492189045f1da913aa82",
       "version_major": 2,
       "version_minor": 0
      },
      "text/plain": [
       "Iterations:   0%|          | 0/22 [00:00<?, ?it/s]"
      ]
     },
     "metadata": {},
     "output_type": "display_data"
    },
    {
     "name": "stdout",
     "output_type": "stream",
     "text": [
      "[84/100][2/22][Time 5.12]\n",
      "Unified LR across all optimizers: 0.00017599486462300197\n",
      "--------------------Training Metrics--------------------\n",
      "Trainer:  gpt\n",
      "Inf: 0.0053\tGen: 0.2681\tRec: 0.2690\tE: 0.0044\tR: 0.0062\tP: 0.5318\n",
      "--------------------Test Metrics------------------------\n",
      "mse: 0.0090\n",
      "mae: 0.0753\n",
      "r2: 0.7682\n",
      "\n"
     ]
    },
    {
     "data": {
      "application/vnd.jupyter.widget-view+json": {
       "model_id": "99f22835a6b94d8d813e5c5a58f6aeb6",
       "version_major": 2,
       "version_minor": 0
      },
      "text/plain": [
       "Iterations:   0%|          | 0/22 [00:00<?, ?it/s]"
      ]
     },
     "metadata": {},
     "output_type": "display_data"
    },
    {
     "data": {
      "application/vnd.jupyter.widget-view+json": {
       "model_id": "b728ff5c4ec5434ca76a998b4cfef17d",
       "version_major": 2,
       "version_minor": 0
      },
      "text/plain": [
       "Iterations:   0%|          | 0/22 [00:00<?, ?it/s]"
      ]
     },
     "metadata": {},
     "output_type": "display_data"
    },
    {
     "name": "stdout",
     "output_type": "stream",
     "text": [
      "[86/100][8/22][Time 5.16]\n",
      "Unified LR across all optimizers: 0.00017538804843308947\n",
      "--------------------Training Metrics--------------------\n",
      "Trainer:  gpt\n",
      "Inf: 0.0054\tGen: 0.2547\tRec: 0.2555\tE: 0.0046\tR: 0.0063\tP: 0.5048\n",
      "--------------------Test Metrics------------------------\n",
      "mse: 0.0124\n",
      "mae: 0.0872\n",
      "r2: 0.6804\n",
      "\n"
     ]
    },
    {
     "data": {
      "application/vnd.jupyter.widget-view+json": {
       "model_id": "a6e99db56ae64a0695b0847cc49e29e5",
       "version_major": 2,
       "version_minor": 0
      },
      "text/plain": [
       "Iterations:   0%|          | 0/22 [00:00<?, ?it/s]"
      ]
     },
     "metadata": {},
     "output_type": "display_data"
    },
    {
     "data": {
      "application/vnd.jupyter.widget-view+json": {
       "model_id": "c0ffd5d9895546188743efaa9c8c4726",
       "version_major": 2,
       "version_minor": 0
      },
      "text/plain": [
       "Iterations:   0%|          | 0/22 [00:00<?, ?it/s]"
      ]
     },
     "metadata": {},
     "output_type": "display_data"
    },
    {
     "name": "stdout",
     "output_type": "stream",
     "text": [
      "[88/100][14/22][Time 4.97]\n",
      "Unified LR across all optimizers: 0.0001747833244967727\n",
      "--------------------Training Metrics--------------------\n",
      "Trainer:  gpt\n",
      "Inf: 0.0057\tGen: 0.2576\tRec: 0.2584\tE: 0.0049\tR: 0.0066\tP: 0.5103\n",
      "--------------------Test Metrics------------------------\n",
      "mse: 0.0106\n",
      "mae: 0.0882\n",
      "r2: 0.7260\n",
      "\n"
     ]
    },
    {
     "data": {
      "application/vnd.jupyter.widget-view+json": {
       "model_id": "53985a0ed31147d88deab81d3b0edb48",
       "version_major": 2,
       "version_minor": 0
      },
      "text/plain": [
       "Iterations:   0%|          | 0/22 [00:00<?, ?it/s]"
      ]
     },
     "metadata": {},
     "output_type": "display_data"
    },
    {
     "data": {
      "application/vnd.jupyter.widget-view+json": {
       "model_id": "622b1688847d471794f50deacfaad173",
       "version_major": 2,
       "version_minor": 0
      },
      "text/plain": [
       "Iterations:   0%|          | 0/22 [00:00<?, ?it/s]"
      ]
     },
     "metadata": {},
     "output_type": "display_data"
    },
    {
     "name": "stdout",
     "output_type": "stream",
     "text": [
      "[90/100][20/22][Time 4.96]\n",
      "Unified LR across all optimizers: 0.00017418068560012899\n",
      "--------------------Training Metrics--------------------\n",
      "Trainer:  gpt\n",
      "Inf: 0.0051\tGen: 0.2542\tRec: 0.2551\tE: 0.0042\tR: 0.0060\tP: 0.5043\n",
      "--------------------Test Metrics------------------------\n",
      "mse: 0.0115\n",
      "mae: 0.0832\n",
      "r2: 0.7030\n",
      "\n"
     ]
    },
    {
     "data": {
      "application/vnd.jupyter.widget-view+json": {
       "model_id": "f8bcda0691fe4bdd97e77b653415679b",
       "version_major": 2,
       "version_minor": 0
      },
      "text/plain": [
       "Iterations:   0%|          | 0/22 [00:00<?, ?it/s]"
      ]
     },
     "metadata": {},
     "output_type": "display_data"
    },
    {
     "data": {
      "application/vnd.jupyter.widget-view+json": {
       "model_id": "66ecbd6d7bcf476cbe7d562b446f645c",
       "version_major": 2,
       "version_minor": 0
      },
      "text/plain": [
       "Iterations:   0%|          | 0/22 [00:00<?, ?it/s]"
      ]
     },
     "metadata": {},
     "output_type": "display_data"
    },
    {
     "data": {
      "application/vnd.jupyter.widget-view+json": {
       "model_id": "61ec58af4f73477cba89704c0fc74da7",
       "version_major": 2,
       "version_minor": 0
      },
      "text/plain": [
       "Iterations:   0%|          | 0/22 [00:00<?, ?it/s]"
      ]
     },
     "metadata": {},
     "output_type": "display_data"
    },
    {
     "name": "stdout",
     "output_type": "stream",
     "text": [
      "[93/100][4/22][Time 5.14]\n",
      "Unified LR across all optimizers: 0.00017358012455410848\n",
      "--------------------Training Metrics--------------------\n",
      "Trainer:  gpt\n",
      "Inf: 0.0065\tGen: 0.2491\tRec: 0.2502\tE: 0.0054\tR: 0.0076\tP: 0.4928\n",
      "--------------------Test Metrics------------------------\n",
      "mse: 0.0103\n",
      "mae: 0.0820\n",
      "r2: 0.7328\n",
      "\n"
     ]
    },
    {
     "data": {
      "application/vnd.jupyter.widget-view+json": {
       "model_id": "ee3662a2ea8f4e59af6eebc37d22c76c",
       "version_major": 2,
       "version_minor": 0
      },
      "text/plain": [
       "Iterations:   0%|          | 0/22 [00:00<?, ?it/s]"
      ]
     },
     "metadata": {},
     "output_type": "display_data"
    },
    {
     "data": {
      "application/vnd.jupyter.widget-view+json": {
       "model_id": "dcbea5e32d384251987045a3a5ebe5ad",
       "version_major": 2,
       "version_minor": 0
      },
      "text/plain": [
       "Iterations:   0%|          | 0/22 [00:00<?, ?it/s]"
      ]
     },
     "metadata": {},
     "output_type": "display_data"
    },
    {
     "name": "stdout",
     "output_type": "stream",
     "text": [
      "[95/100][10/22][Time 5.01]\n",
      "Unified LR across all optimizers: 0.0001729816341944489\n",
      "--------------------Training Metrics--------------------\n",
      "Trainer:  gpt\n",
      "Inf: 0.0055\tGen: 0.2724\tRec: 0.2737\tE: 0.0043\tR: 0.0068\tP: 0.5406\n",
      "--------------------Test Metrics------------------------\n",
      "mse: 0.0146\n",
      "mae: 0.0949\n",
      "r2: 0.6217\n",
      "\n"
     ]
    },
    {
     "data": {
      "application/vnd.jupyter.widget-view+json": {
       "model_id": "1c5f981a978849e59b4fdb9decd7212f",
       "version_major": 2,
       "version_minor": 0
      },
      "text/plain": [
       "Iterations:   0%|          | 0/22 [00:00<?, ?it/s]"
      ]
     },
     "metadata": {},
     "output_type": "display_data"
    },
    {
     "data": {
      "application/vnd.jupyter.widget-view+json": {
       "model_id": "92e70dbd3bb04a07a1a43872436fde82",
       "version_major": 2,
       "version_minor": 0
      },
      "text/plain": [
       "Iterations:   0%|          | 0/22 [00:00<?, ?it/s]"
      ]
     },
     "metadata": {},
     "output_type": "display_data"
    },
    {
     "name": "stdout",
     "output_type": "stream",
     "text": [
      "[97/100][16/22][Time 4.91]\n",
      "Unified LR across all optimizers: 0.0001723852073815896\n",
      "--------------------Training Metrics--------------------\n",
      "Trainer:  gpt\n",
      "Inf: 0.0054\tGen: 0.2514\tRec: 0.2522\tE: 0.0046\tR: 0.0062\tP: 0.4982\n",
      "--------------------Test Metrics------------------------\n",
      "mse: 0.0122\n",
      "mae: 0.0849\n",
      "r2: 0.6845\n",
      "\n"
     ]
    },
    {
     "data": {
      "application/vnd.jupyter.widget-view+json": {
       "model_id": "23538e5fce00402986591d8177ed277b",
       "version_major": 2,
       "version_minor": 0
      },
      "text/plain": [
       "Iterations:   0%|          | 0/22 [00:00<?, ?it/s]"
      ]
     },
     "metadata": {},
     "output_type": "display_data"
    },
    {
     "data": {
      "application/vnd.jupyter.widget-view+json": {
       "model_id": "2adbed5f604141b9b2ea6f754139ac46",
       "version_major": 2,
       "version_minor": 0
      },
      "text/plain": [
       "Iterations:   0%|          | 0/22 [00:00<?, ?it/s]"
      ]
     },
     "metadata": {},
     "output_type": "display_data"
    }
   ],
   "source": [
    "trainer_hub.train(trainset, testset)"
   ]
  }
 ],
 "metadata": {
  "kernelspec": {
   "display_name": "Python 3",
   "language": "python",
   "name": "python3"
  },
  "language_info": {
   "codemirror_mode": {
    "name": "ipython",
    "version": 3
   },
   "file_extension": ".py",
   "mimetype": "text/x-python",
   "name": "python",
   "nbconvert_exporter": "python",
   "pygments_lexer": "ipython3",
   "version": "3.9.18"
  },
  "papermill": {
   "default_parameters": {},
   "duration": 83.906344,
   "end_time": "2023-06-06T07:49:52.571607",
   "environment_variables": {},
   "exception": null,
   "input_path": "__notebook__.ipynb",
   "output_path": "__notebook__.ipynb",
   "parameters": {},
   "start_time": "2023-06-06T07:48:28.665263",
   "version": "2.4.0"
  }
 },
 "nbformat": 4,
 "nbformat_minor": 5
}
