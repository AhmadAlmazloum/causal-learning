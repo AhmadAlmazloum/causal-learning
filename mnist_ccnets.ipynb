{
 "cells": [
  {
   "cell_type": "code",
   "execution_count": null,
   "metadata": {},
   "outputs": [],
   "source": [
    "import sys\n",
    "\n",
    "path_append = \"../\" # Go up one directory from where you are.\n",
    "sys.path.append(path_append) \n",
    "\n",
    "import torch\n",
    "from tools.setting.ml_params import MLParameters\n",
    "from tools.setting.data_config import DataConfig\n",
    "from nn.utils.init import set_random_seed\n",
    "set_random_seed(0)"
   ]
  },
  {
   "cell_type": "code",
   "execution_count": null,
   "metadata": {},
   "outputs": [],
   "source": [
    "from torchvision import datasets, transforms\n",
    "\n",
    "n_img_sz = 28  \n",
    "attribute_indices = torch.tensor([4, 9])\n",
    "\n",
    "transform_mnist = transforms.Compose([\n",
    "    transforms.Resize(n_img_sz),  \n",
    "    transforms.ToTensor(),  \n",
    "    transforms.Normalize((0.5,), (0.5,)),  \n",
    "])\n",
    "\n",
    "trainset = datasets.MNIST(root='../data/mnist', train=True, transform=transform_mnist, download=False)\n",
    "testset = datasets.MNIST(root='../data/mnist', train=False, transform=transform_mnist, download=False)\n"
   ]
  },
  {
   "cell_type": "code",
   "execution_count": null,
   "metadata": {},
   "outputs": [],
   "source": [
    "data_config = DataConfig(dataset_name = 'mnist', task_type='multi_label_classification', obs_shape=[1, 28, 28], label_size= 5,\n",
    "                         show_image_indices=[0, 1, 2, 3])\n",
    "\n",
    "#  Set training configuration from the AlgorithmConfig class, returning them as a Namespace object.\n",
    "ml_params = MLParameters()\n",
    "ml_params.core_model_name = 'gpt' \n",
    "ml_params.encoder_model_name = 'stylegan'\n",
    "\n",
    "first_data = trainset[0]\n",
    "X, y = first_data\n",
    "\n",
    "print(f\"Input shape: {X.shape}\")\n",
    "print(f\"Label shape: {y}\")\n",
    "\n",
    "print(f\"Total number of samples in trainset: {len(trainset)}\")"
   ]
  },
  {
   "cell_type": "code",
   "execution_count": null,
   "metadata": {},
   "outputs": [],
   "source": [
    "# Custom dataset class for CelebA dataset\n",
    "class Mnist(torch.utils.data.Dataset):\n",
    "    def __init__(self, dataset):\n",
    "        self.dataset = dataset\n",
    "        self.attribute_indices = attribute_indices\n",
    "        \n",
    "    def __getitem__(self, index):\n",
    "        X, y = self.dataset[index] # Get the image and label at the specified index\n",
    "        y_one_hot = torch.zeros(10)  # Assuming MNIST labels (0-9)\n",
    "        y_one_hot[y] = 1  # Convert scalar label to one-hot encoding\n",
    "        # Select attributes using index_select, simulate attributes selection using one-hot\n",
    "        y = torch.index_select(y_one_hot.unsqueeze(0), 1, self.attribute_indices).squeeze(0)\n",
    "        return X, y # Return the image and the selected attri   butes\n",
    "    \n",
    "    def __len__(self):\n",
    "        return len(self.dataset) # Return the size of the dataset\n",
    "        \n",
    "trainset = Mnist(trainset)\n",
    "testset = Mnist(testset)"
   ]
  },
  {
   "cell_type": "code",
   "execution_count": null,
   "metadata": {},
   "outputs": [],
   "source": [
    "from trainer_hub import TrainerHub\n",
    "\n",
    "# Set the device to GPU if available, else CPU\n",
    "device = torch.device(\"cuda\" if torch.cuda.is_available() else \"cpu\") \n",
    "\n",
    "# Initialize the TrainerHub class with the training configuration, data configuration, device, and use_print and use_wandb flags\n",
    "trainer_hub = TrainerHub(ml_params, data_config, device, use_print=True, use_wandb=False)"
   ]
  },
  {
   "cell_type": "code",
   "execution_count": null,
   "metadata": {},
   "outputs": [],
   "source": [
    "trainer_hub.train(trainset, testset)"
   ]
  }
 ],
 "metadata": {
  "kernelspec": {
   "display_name": "ccnets",
   "language": "python",
   "name": "python3"
  },
  "language_info": {
   "codemirror_mode": {
    "name": "ipython",
    "version": 3
   },
   "file_extension": ".py",
   "mimetype": "text/x-python",
   "name": "python",
   "nbconvert_exporter": "python",
   "pygments_lexer": "ipython3",
   "version": "3.9.18"
  }
 },
 "nbformat": 4,
 "nbformat_minor": 2
}
